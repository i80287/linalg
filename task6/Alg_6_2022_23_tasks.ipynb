{
  "nbformat": 4,
  "nbformat_minor": 0,
  "metadata": {
    "kernelspec": {
      "display_name": "Python 3",
      "language": "python",
      "name": "python3"
    },
    "language_info": {
      "codemirror_mode": {
        "name": "ipython",
        "version": 3
      },
      "file_extension": ".py",
      "mimetype": "text/x-python",
      "name": "python",
      "nbconvert_exporter": "python",
      "pygments_lexer": "ipython3",
      "version": "3.7.3"
    },
    "colab": {
      "provenance": []
    }
  },
  "cells": [
    {
      "cell_type": "code",
      "metadata": {
        "id": "9bApoFTy2tRy"
      },
      "source": [
        "import sympy\n",
        "from sympy import  Symbol, symbols, S, Point, Line, Plane, Point3D, Matrix, latex\n",
        "from IPython.display import Latex"
      ],
      "execution_count": null,
      "outputs": []
    },
    {
      "cell_type": "markdown",
      "metadata": {
        "id": "5ZqL6UH72tR0"
      },
      "source": [
        "# Занятие 6\n",
        "# Алгебра\n",
        "\n",
        "##  Прямые и плоскости в пространстве. Geometry.\n",
        "### Задание 1.\n",
        "Найти угол между плоскостями $ABC$ и  $ABD$, где \n",
        "$A(-1, 2, -4)$,\n",
        "$B(2, -2, 1)$,\n",
        "$C(5, 3, -6)$,\n",
        "$D(0, 3, -6)$."
      ]
    },
    {
      "cell_type": "code",
      "metadata": {
        "id": "wgUA2izF2tR2",
        "colab": {
          "base_uri": "https://localhost:8080/",
          "height": 68
        },
        "outputId": "0b9ba1e4-16b2-49c2-ce03-67b454d2e93f"
      },
      "source": [
        "def main():\n",
        "    a_point = Point(-1, 2, -4)\n",
        "    b_point = Point(2, -2, 1)\n",
        "    c_point = Point(5, 3, -6)\n",
        "    d_point = Point(0, 3, -6)\n",
        "\n",
        "    plane_abc = Plane(a_point, b_point, c_point)\n",
        "    plane_abd = Plane(a_point, b_point, d_point)\n",
        "    phi_angle = plane_abc.angle_between(plane_abd)\n",
        "\n",
        "    angle_report = Latex(rf\"\\text{{Angle between plane ABC and plane ABD:}} {latex(phi_angle)};\")\n",
        "    approx_report = Latex(rf\"\\text{{Approximate}}: {round(phi_angle, 4)}\\text{{ radian}};\")\n",
        "    display(angle_report)\n",
        "    display(approx_report)\n",
        "\n",
        "\n",
        "if __name__ == \"__main__\":\n",
        "   main()"
      ],
      "execution_count": null,
      "outputs": [
        {
          "output_type": "display_data",
          "data": {
            "text/plain": [
              "<IPython.core.display.Latex object>"
            ],
            "text/latex": "\\text{Angle between plane ABC and plane ABD:} \\operatorname{acos}{\\left(\\frac{99 \\sqrt{40454}}{20227} \\right)};"
          },
          "metadata": {}
        },
        {
          "output_type": "display_data",
          "data": {
            "text/plain": [
              "<IPython.core.display.Latex object>"
            ],
            "text/latex": "\\text{Approximate}: 0.1767\\text{ radian};"
          },
          "metadata": {}
        }
      ]
    },
    {
      "cell_type": "markdown",
      "metadata": {
        "id": "3Cr8SC_p2tR2"
      },
      "source": [
        "### Задание 2.\n",
        "Найти угол между прямой, проходящей через точки $A(-3,5,1)$ и $B(5,2,-3)$ и плоскостью, в которой лежат точки \n",
        "$K(4,3,0)$, $M(2,4,-2)$ и $N(-2,2,-1)$."
      ]
    },
    {
      "cell_type": "code",
      "metadata": {
        "id": "L_BT23AN2tR2",
        "colab": {
          "base_uri": "https://localhost:8080/",
          "height": 68
        },
        "outputId": "d1d9c773-2130-421a-8038-5ef61b8d1c22"
      },
      "source": [
        "def main():\n",
        "    a_point = Point(-3, 5, 1)\n",
        "    b_point = Point(5, 2, -3)\n",
        "    k_point = Point(4, 3, 0)\n",
        "    m_point = Point(2, 4, -2)\n",
        "    n_point = Point(-2, 2, -1)\n",
        "\n",
        "    ab_line = Line(a_point, b_point)\n",
        "    kmn_plane = Plane(k_point, m_point, n_point)\n",
        "    phi_angle = kmn_plane.angle_between(ab_line)\n",
        "\n",
        "    angle_report = Latex(rf\"\\text{{Angle between line AB and plane KMN:}} {latex(phi_angle)};\")\n",
        "    approx_report = Latex(rf\"\\text{{Approximate}}: {round(phi_angle, 4)}\\text{{ radian}};\")\n",
        "    display(angle_report)\n",
        "    display(approx_report)\n",
        "\n",
        "  \n",
        "if __name__ == \"__main__\":\n",
        "    main()"
      ],
      "execution_count": null,
      "outputs": [
        {
          "output_type": "display_data",
          "data": {
            "text/plain": [
              "<IPython.core.display.Latex object>"
            ],
            "text/latex": "\\text{Angle between line AB and plane KMN:} - \\operatorname{asin}{\\left(\\frac{86 \\sqrt{15397}}{15397} \\right)};"
          },
          "metadata": {}
        },
        {
          "output_type": "display_data",
          "data": {
            "text/plain": [
              "<IPython.core.display.Latex object>"
            ],
            "text/latex": "\\text{Approximate}: -0.7657\\text{ radian};"
          },
          "metadata": {}
        }
      ]
    },
    {
      "cell_type": "markdown",
      "metadata": {
        "id": "Frcu2NPw2tR3"
      },
      "source": [
        "### Задание 3.\n",
        "Проверить, лежат ли точки в одной плоскости\n",
        "\n",
        "а) $A(3, 2, -1)$, $B(2, -1, 0)$, $C(5, 2, -6)$, $D(6, 5, -7)$\n",
        "\n",
        "b) $A(-1, 5, -4)$, $B(7, -2, 1)$, $C(6, 3, -8)$, $D(0, 3, 0)$\n",
        "\n",
        "Вывести на экран сообщение \"Точки лежат в одной плоскости\" или \"Точки не лежат в одной плоскости\"."
      ]
    },
    {
      "cell_type": "code",
      "metadata": {
        "id": "vG9cg7R-2tR3",
        "colab": {
          "base_uri": "https://localhost:8080/",
          "height": 58
        },
        "outputId": "3ea6e450-1ce3-4e47-e691-0b30291449ba"
      },
      "source": [
        "from typing import Union, List, Tuple\n",
        "\n",
        "\n",
        "def check_points(points: Union[List[Point3D], Tuple[Point3D]]) -> Latex:\n",
        "    are_copl = Point3D.are_coplanar(*points)\n",
        "    return Latex(rf\"\"\"\\text{{Точки {\"не \" * (not are_copl)} лежат в одной плоскости}}\"\"\")\n",
        "\n",
        "\n",
        "def main():\n",
        "    a_points = (Point3D(3, 2, -1), Point3D(2, -1, 0), Point3D(5, 2, -6), Point3D(6, 5, -7))\n",
        "    b_points = (Point3D(-1, 5, -4), Point3D(7, -2, 1), Point3D(6, 3, -8), Point3D(0, 3, 0))\n",
        "    \n",
        "    a_report = check_points(a_points)\n",
        "    b_report = check_points(b_points)\n",
        "    display(a_report)\n",
        "    display(b_report)\n",
        "\n",
        "  \n",
        "if __name__ == \"__main__\":\n",
        "    main()    "
      ],
      "execution_count": 87,
      "outputs": [
        {
          "output_type": "display_data",
          "data": {
            "text/plain": [
              "<IPython.core.display.Latex object>"
            ],
            "text/latex": "\\text{Точки  лежат в одной плоскости}"
          },
          "metadata": {}
        },
        {
          "output_type": "display_data",
          "data": {
            "text/plain": [
              "<IPython.core.display.Latex object>"
            ],
            "text/latex": "\\text{Точки не  лежат в одной плоскости}"
          },
          "metadata": {}
        }
      ]
    },
    {
      "cell_type": "markdown",
      "source": [
        "###  Задание 4.\n",
        "Для плоскостей Задания 1 найти векторы нормали (воспользоваться свойством normal_vector), преобразовать их в матрицы-столбцы и вычислить угол между плоскостями с помощью скалярного произведения. Сравнить с результатом Задания 1."
      ],
      "metadata": {
        "id": "F8_2pF5ZhKb8"
      }
    },
    {
      "cell_type": "code",
      "source": [
        "def main():\n",
        "    a_point = Point(-1, 2, -4)\n",
        "    b_point = Point(2, -2, 1)\n",
        "    c_point = Point(5, 3, -6)\n",
        "    d_point = Point(0, 3, -6)\n",
        "\n",
        "    plane_abc = Plane(a_point, b_point, c_point)\n",
        "    plane_abd = Plane(a_point, b_point, d_point)\n",
        "    \n",
        "    n_vec_abc = Matrix(plane_abc.normal_vector)\n",
        "    n_vec_abd = Matrix(plane_abd.normal_vector)\n",
        "    display(Latex(fr\"\\text{{Normal vector of the ABC plane: }} {latex(n_vec_abc)}\"))\n",
        "    display(Latex(fr\"\\text{{Normal vector of the ABD plane: }} {latex(n_vec_abd)}\"))\n",
        "\n",
        "    vec_product = n_vec_abc.dot(n_vec_abd)\n",
        "    abc_n_length = sympy.sqrt(n_vec_abc.dot(n_vec_abc))\n",
        "    abd_n_length = sympy.sqrt(n_vec_abd.dot(n_vec_abd))\n",
        "    \n",
        "    cos_phi = vec_product / (abc_n_length * abd_n_length)\n",
        "    phi_angle = sympy.acos(cos_phi)\n",
        "\n",
        "    angle_report = Latex(rf\"\\text{{Angle between plane ABC and plane ABD:}} {latex(phi_angle)};\")\n",
        "    approx_report = Latex(rf\"\\text{{Approximate}}: {round(phi_angle, 4)}\\text{{ radian}};\")\n",
        "    display(angle_report)\n",
        "    display(approx_report)\n",
        "\n",
        "if __name__ == \"__main__\":\n",
        "    main()\n"
      ],
      "metadata": {
        "id": "W3WTaq8WhOEL",
        "colab": {
          "base_uri": "https://localhost:8080/",
          "height": 190
        },
        "outputId": "446b4998-ca64-42b0-b188-4e5a4cb51255"
      },
      "execution_count": 104,
      "outputs": [
        {
          "output_type": "display_data",
          "data": {
            "text/plain": [
              "<IPython.core.display.Latex object>"
            ],
            "text/latex": "\\text{Normal vector of the ABC plane: } \\left[\\begin{matrix}3\\\\36\\\\27\\end{matrix}\\right]"
          },
          "metadata": {}
        },
        {
          "output_type": "display_data",
          "data": {
            "text/plain": [
              "<IPython.core.display.Latex object>"
            ],
            "text/latex": "\\text{Normal vector of the ABD plane: } \\left[\\begin{matrix}3\\\\11\\\\7\\end{matrix}\\right]"
          },
          "metadata": {}
        },
        {
          "output_type": "display_data",
          "data": {
            "text/plain": [
              "<IPython.core.display.Latex object>"
            ],
            "text/latex": "\\text{Angle between plane ABC and plane ABD:} \\operatorname{acos}{\\left(\\frac{99 \\sqrt{40454}}{20227} \\right)};"
          },
          "metadata": {}
        },
        {
          "output_type": "display_data",
          "data": {
            "text/plain": [
              "<IPython.core.display.Latex object>"
            ],
            "text/latex": "\\text{Approximate}: 0.1767\\text{ radian};"
          },
          "metadata": {}
        }
      ]
    },
    {
      "cell_type": "markdown",
      "metadata": {
        "id": "QZ_bFRbf2tR3"
      },
      "source": [
        "###  Задание 5.\n",
        "Прямая задана параметрическими уравнениями:\n",
        "$$\n",
        "\\left\\{\\begin{matrix}\n",
        "x=2+5t\\\\\n",
        "y=-1-2t\\\\\n",
        "z=4-3t\n",
        "\\end{matrix}\\right..\n",
        "$$\n",
        "Представить прямую в виде линии пересечения двух плоскостей (вывести на экран уравнения плоскостей), \n",
        "одна из которых проходит через начало координат, а вторая плоскость перпендикулярна первой плоскости.\n",
        "\n",
        "Указание: сначала составить список правых частей параметрических уравнений, затем составить две различные точки на прямой и далее решить средствами для работы с прямыми и плоскостями из модуля Geometry."
      ]
    },
    {
      "cell_type": "code",
      "metadata": {
        "id": "deDKiQhH2tR3",
        "colab": {
          "base_uri": "https://localhost:8080/",
          "height": 60
        },
        "outputId": "0b206b6c-d0fa-4b28-a1e4-46889ffe719e"
      },
      "source": [
        "def main():\n",
        "    x, y, z, t = symbols(\"x y z t\")\n",
        "    line_points = Point(2 + 5 * t, -1 - 2*t, 4 - 3*t)\n",
        "    a_point = line_points.subs(t, 0)\n",
        "    b_point = line_points.subs(t, 1)\n",
        "    o_point = Point(0, 0, 0)\n",
        "\n",
        "    first_plane = Plane(a_point, b_point, o_point)\n",
        "    second_plane = first_plane.perpendicular_plane(a_point, b_point)\n",
        "\n",
        "    display(Latex(rf\"\\text{{First plane equation: }}{latex(first_plane.equation())}\"))\n",
        "    display(Latex(rf\"\\text{{Second plane equation: }}{latex(second_plane.equation())}\"))\n",
        "\n",
        "  \n",
        "if __name__ == \"__main__\":\n",
        "    main()"
      ],
      "execution_count": 110,
      "outputs": [
        {
          "output_type": "display_data",
          "data": {
            "text/plain": [
              "<IPython.core.display.Latex object>"
            ],
            "text/latex": "\\text{First plane equation: }11 x + 26 y + z"
          },
          "metadata": {}
        },
        {
          "output_type": "display_data",
          "data": {
            "text/plain": [
              "<IPython.core.display.Latex object>"
            ],
            "text/latex": "\\text{Second plane equation: }76 x - 38 y + 152 z - 798"
          },
          "metadata": {}
        }
      ]
    },
    {
      "cell_type": "markdown",
      "metadata": {
        "id": "zOUIWmYZ2tR4"
      },
      "source": [
        "###  Задание 6*.\n",
        "Даны точки  пространстве\n",
        "$A(-2, 7, -5)$, $B(6, 2, -4)$, $C(14, -3, -2)$, $D(22, -8, -2)$, $K(30, -7, -4)$,\n",
        "$M(94, -35, -2)$.\n",
        "\n",
        "Определить, какие тройки точек лежат на одной прямой, какие четверки - в одной плоскости.\n",
        "\n",
        "Для проверки того, что три точки лежат на одной прямой использовать Point3D.are_collinear.\n",
        "\n",
        "Вывести на экран тройки точек, лежащие на одной прямой и четверки точек, лежащих в одной плоскости."
      ]
    },
    {
      "cell_type": "code",
      "metadata": {
        "id": "I2eyOGQy2tR4",
        "colab": {
          "base_uri": "https://localhost:8080/",
          "height": 1000
        },
        "outputId": "6b52f21f-2b70-4903-c30a-6dc1a6e5719d"
      },
      "source": [
        "from itertools import product\n",
        "\n",
        "def main():\n",
        "    points = (\n",
        "        (Point(-2, 7, -5), \"point A\"), \n",
        "        (Point(6, 2, -4), \"point B\"), \n",
        "        (Point(14, -3, -2), \"point C\"), \n",
        "        (Point(22, -8, -2), \"point D\"), \n",
        "        (Point(30, -7, -4), \"point K\"), \n",
        "        (Point(94, -35, -2), \"point M\"), \n",
        "    )\n",
        "    seen_points = set()\n",
        "\n",
        "    for i1, i2, i3 in product(range(6), repeat=3):\n",
        "        p1, p2, p3 = points[i1], points[i2], points[i3]\n",
        "        if Point3D.are_collinear(p1[0], p2[0], p3[0]):\n",
        "            display(Latex(rf\"\\text{{ {p1[1]}, {p2[1]}, {p3[1]} }}\"))\n",
        "    \n",
        "if __name__ == \"__main__\":\n",
        "    main()"
      ],
      "execution_count": 125,
      "outputs": [
        {
          "output_type": "display_data",
          "data": {
            "text/plain": [
              "<IPython.core.display.Latex object>"
            ],
            "text/latex": "\\text{ point A, point A, point A }"
          },
          "metadata": {}
        },
        {
          "output_type": "display_data",
          "data": {
            "text/plain": [
              "<IPython.core.display.Latex object>"
            ],
            "text/latex": "\\text{ point A, point A, point B }"
          },
          "metadata": {}
        },
        {
          "output_type": "display_data",
          "data": {
            "text/plain": [
              "<IPython.core.display.Latex object>"
            ],
            "text/latex": "\\text{ point A, point A, point C }"
          },
          "metadata": {}
        },
        {
          "output_type": "display_data",
          "data": {
            "text/plain": [
              "<IPython.core.display.Latex object>"
            ],
            "text/latex": "\\text{ point A, point A, point D }"
          },
          "metadata": {}
        },
        {
          "output_type": "display_data",
          "data": {
            "text/plain": [
              "<IPython.core.display.Latex object>"
            ],
            "text/latex": "\\text{ point A, point A, point K }"
          },
          "metadata": {}
        },
        {
          "output_type": "display_data",
          "data": {
            "text/plain": [
              "<IPython.core.display.Latex object>"
            ],
            "text/latex": "\\text{ point A, point A, point M }"
          },
          "metadata": {}
        },
        {
          "output_type": "display_data",
          "data": {
            "text/plain": [
              "<IPython.core.display.Latex object>"
            ],
            "text/latex": "\\text{ point A, point B, point A }"
          },
          "metadata": {}
        },
        {
          "output_type": "display_data",
          "data": {
            "text/plain": [
              "<IPython.core.display.Latex object>"
            ],
            "text/latex": "\\text{ point A, point B, point B }"
          },
          "metadata": {}
        },
        {
          "output_type": "display_data",
          "data": {
            "text/plain": [
              "<IPython.core.display.Latex object>"
            ],
            "text/latex": "\\text{ point A, point B, point D }"
          },
          "metadata": {}
        },
        {
          "output_type": "display_data",
          "data": {
            "text/plain": [
              "<IPython.core.display.Latex object>"
            ],
            "text/latex": "\\text{ point A, point C, point A }"
          },
          "metadata": {}
        },
        {
          "output_type": "display_data",
          "data": {
            "text/plain": [
              "<IPython.core.display.Latex object>"
            ],
            "text/latex": "\\text{ point A, point C, point C }"
          },
          "metadata": {}
        },
        {
          "output_type": "display_data",
          "data": {
            "text/plain": [
              "<IPython.core.display.Latex object>"
            ],
            "text/latex": "\\text{ point A, point D, point A }"
          },
          "metadata": {}
        },
        {
          "output_type": "display_data",
          "data": {
            "text/plain": [
              "<IPython.core.display.Latex object>"
            ],
            "text/latex": "\\text{ point A, point D, point B }"
          },
          "metadata": {}
        },
        {
          "output_type": "display_data",
          "data": {
            "text/plain": [
              "<IPython.core.display.Latex object>"
            ],
            "text/latex": "\\text{ point A, point D, point D }"
          },
          "metadata": {}
        },
        {
          "output_type": "display_data",
          "data": {
            "text/plain": [
              "<IPython.core.display.Latex object>"
            ],
            "text/latex": "\\text{ point A, point K, point A }"
          },
          "metadata": {}
        },
        {
          "output_type": "display_data",
          "data": {
            "text/plain": [
              "<IPython.core.display.Latex object>"
            ],
            "text/latex": "\\text{ point A, point K, point K }"
          },
          "metadata": {}
        },
        {
          "output_type": "display_data",
          "data": {
            "text/plain": [
              "<IPython.core.display.Latex object>"
            ],
            "text/latex": "\\text{ point A, point K, point M }"
          },
          "metadata": {}
        },
        {
          "output_type": "display_data",
          "data": {
            "text/plain": [
              "<IPython.core.display.Latex object>"
            ],
            "text/latex": "\\text{ point A, point M, point A }"
          },
          "metadata": {}
        },
        {
          "output_type": "display_data",
          "data": {
            "text/plain": [
              "<IPython.core.display.Latex object>"
            ],
            "text/latex": "\\text{ point A, point M, point K }"
          },
          "metadata": {}
        },
        {
          "output_type": "display_data",
          "data": {
            "text/plain": [
              "<IPython.core.display.Latex object>"
            ],
            "text/latex": "\\text{ point A, point M, point M }"
          },
          "metadata": {}
        },
        {
          "output_type": "display_data",
          "data": {
            "text/plain": [
              "<IPython.core.display.Latex object>"
            ],
            "text/latex": "\\text{ point B, point A, point A }"
          },
          "metadata": {}
        },
        {
          "output_type": "display_data",
          "data": {
            "text/plain": [
              "<IPython.core.display.Latex object>"
            ],
            "text/latex": "\\text{ point B, point A, point B }"
          },
          "metadata": {}
        },
        {
          "output_type": "display_data",
          "data": {
            "text/plain": [
              "<IPython.core.display.Latex object>"
            ],
            "text/latex": "\\text{ point B, point A, point D }"
          },
          "metadata": {}
        },
        {
          "output_type": "display_data",
          "data": {
            "text/plain": [
              "<IPython.core.display.Latex object>"
            ],
            "text/latex": "\\text{ point B, point B, point A }"
          },
          "metadata": {}
        },
        {
          "output_type": "display_data",
          "data": {
            "text/plain": [
              "<IPython.core.display.Latex object>"
            ],
            "text/latex": "\\text{ point B, point B, point B }"
          },
          "metadata": {}
        },
        {
          "output_type": "display_data",
          "data": {
            "text/plain": [
              "<IPython.core.display.Latex object>"
            ],
            "text/latex": "\\text{ point B, point B, point C }"
          },
          "metadata": {}
        },
        {
          "output_type": "display_data",
          "data": {
            "text/plain": [
              "<IPython.core.display.Latex object>"
            ],
            "text/latex": "\\text{ point B, point B, point D }"
          },
          "metadata": {}
        },
        {
          "output_type": "display_data",
          "data": {
            "text/plain": [
              "<IPython.core.display.Latex object>"
            ],
            "text/latex": "\\text{ point B, point B, point K }"
          },
          "metadata": {}
        },
        {
          "output_type": "display_data",
          "data": {
            "text/plain": [
              "<IPython.core.display.Latex object>"
            ],
            "text/latex": "\\text{ point B, point B, point M }"
          },
          "metadata": {}
        },
        {
          "output_type": "display_data",
          "data": {
            "text/plain": [
              "<IPython.core.display.Latex object>"
            ],
            "text/latex": "\\text{ point B, point C, point B }"
          },
          "metadata": {}
        },
        {
          "output_type": "display_data",
          "data": {
            "text/plain": [
              "<IPython.core.display.Latex object>"
            ],
            "text/latex": "\\text{ point B, point C, point C }"
          },
          "metadata": {}
        },
        {
          "output_type": "display_data",
          "data": {
            "text/plain": [
              "<IPython.core.display.Latex object>"
            ],
            "text/latex": "\\text{ point B, point D, point A }"
          },
          "metadata": {}
        },
        {
          "output_type": "display_data",
          "data": {
            "text/plain": [
              "<IPython.core.display.Latex object>"
            ],
            "text/latex": "\\text{ point B, point D, point B }"
          },
          "metadata": {}
        },
        {
          "output_type": "display_data",
          "data": {
            "text/plain": [
              "<IPython.core.display.Latex object>"
            ],
            "text/latex": "\\text{ point B, point D, point D }"
          },
          "metadata": {}
        },
        {
          "output_type": "display_data",
          "data": {
            "text/plain": [
              "<IPython.core.display.Latex object>"
            ],
            "text/latex": "\\text{ point B, point K, point B }"
          },
          "metadata": {}
        },
        {
          "output_type": "display_data",
          "data": {
            "text/plain": [
              "<IPython.core.display.Latex object>"
            ],
            "text/latex": "\\text{ point B, point K, point K }"
          },
          "metadata": {}
        },
        {
          "output_type": "display_data",
          "data": {
            "text/plain": [
              "<IPython.core.display.Latex object>"
            ],
            "text/latex": "\\text{ point B, point M, point B }"
          },
          "metadata": {}
        },
        {
          "output_type": "display_data",
          "data": {
            "text/plain": [
              "<IPython.core.display.Latex object>"
            ],
            "text/latex": "\\text{ point B, point M, point M }"
          },
          "metadata": {}
        },
        {
          "output_type": "display_data",
          "data": {
            "text/plain": [
              "<IPython.core.display.Latex object>"
            ],
            "text/latex": "\\text{ point C, point A, point A }"
          },
          "metadata": {}
        },
        {
          "output_type": "display_data",
          "data": {
            "text/plain": [
              "<IPython.core.display.Latex object>"
            ],
            "text/latex": "\\text{ point C, point A, point C }"
          },
          "metadata": {}
        },
        {
          "output_type": "display_data",
          "data": {
            "text/plain": [
              "<IPython.core.display.Latex object>"
            ],
            "text/latex": "\\text{ point C, point B, point B }"
          },
          "metadata": {}
        },
        {
          "output_type": "display_data",
          "data": {
            "text/plain": [
              "<IPython.core.display.Latex object>"
            ],
            "text/latex": "\\text{ point C, point B, point C }"
          },
          "metadata": {}
        },
        {
          "output_type": "display_data",
          "data": {
            "text/plain": [
              "<IPython.core.display.Latex object>"
            ],
            "text/latex": "\\text{ point C, point C, point A }"
          },
          "metadata": {}
        },
        {
          "output_type": "display_data",
          "data": {
            "text/plain": [
              "<IPython.core.display.Latex object>"
            ],
            "text/latex": "\\text{ point C, point C, point B }"
          },
          "metadata": {}
        },
        {
          "output_type": "display_data",
          "data": {
            "text/plain": [
              "<IPython.core.display.Latex object>"
            ],
            "text/latex": "\\text{ point C, point C, point C }"
          },
          "metadata": {}
        },
        {
          "output_type": "display_data",
          "data": {
            "text/plain": [
              "<IPython.core.display.Latex object>"
            ],
            "text/latex": "\\text{ point C, point C, point D }"
          },
          "metadata": {}
        },
        {
          "output_type": "display_data",
          "data": {
            "text/plain": [
              "<IPython.core.display.Latex object>"
            ],
            "text/latex": "\\text{ point C, point C, point K }"
          },
          "metadata": {}
        },
        {
          "output_type": "display_data",
          "data": {
            "text/plain": [
              "<IPython.core.display.Latex object>"
            ],
            "text/latex": "\\text{ point C, point C, point M }"
          },
          "metadata": {}
        },
        {
          "output_type": "display_data",
          "data": {
            "text/plain": [
              "<IPython.core.display.Latex object>"
            ],
            "text/latex": "\\text{ point C, point D, point C }"
          },
          "metadata": {}
        },
        {
          "output_type": "display_data",
          "data": {
            "text/plain": [
              "<IPython.core.display.Latex object>"
            ],
            "text/latex": "\\text{ point C, point D, point D }"
          },
          "metadata": {}
        },
        {
          "output_type": "display_data",
          "data": {
            "text/plain": [
              "<IPython.core.display.Latex object>"
            ],
            "text/latex": "\\text{ point C, point K, point C }"
          },
          "metadata": {}
        },
        {
          "output_type": "display_data",
          "data": {
            "text/plain": [
              "<IPython.core.display.Latex object>"
            ],
            "text/latex": "\\text{ point C, point K, point K }"
          },
          "metadata": {}
        },
        {
          "output_type": "display_data",
          "data": {
            "text/plain": [
              "<IPython.core.display.Latex object>"
            ],
            "text/latex": "\\text{ point C, point M, point C }"
          },
          "metadata": {}
        },
        {
          "output_type": "display_data",
          "data": {
            "text/plain": [
              "<IPython.core.display.Latex object>"
            ],
            "text/latex": "\\text{ point C, point M, point M }"
          },
          "metadata": {}
        },
        {
          "output_type": "display_data",
          "data": {
            "text/plain": [
              "<IPython.core.display.Latex object>"
            ],
            "text/latex": "\\text{ point D, point A, point A }"
          },
          "metadata": {}
        },
        {
          "output_type": "display_data",
          "data": {
            "text/plain": [
              "<IPython.core.display.Latex object>"
            ],
            "text/latex": "\\text{ point D, point A, point B }"
          },
          "metadata": {}
        },
        {
          "output_type": "display_data",
          "data": {
            "text/plain": [
              "<IPython.core.display.Latex object>"
            ],
            "text/latex": "\\text{ point D, point A, point D }"
          },
          "metadata": {}
        },
        {
          "output_type": "display_data",
          "data": {
            "text/plain": [
              "<IPython.core.display.Latex object>"
            ],
            "text/latex": "\\text{ point D, point B, point A }"
          },
          "metadata": {}
        },
        {
          "output_type": "display_data",
          "data": {
            "text/plain": [
              "<IPython.core.display.Latex object>"
            ],
            "text/latex": "\\text{ point D, point B, point B }"
          },
          "metadata": {}
        },
        {
          "output_type": "display_data",
          "data": {
            "text/plain": [
              "<IPython.core.display.Latex object>"
            ],
            "text/latex": "\\text{ point D, point B, point D }"
          },
          "metadata": {}
        },
        {
          "output_type": "display_data",
          "data": {
            "text/plain": [
              "<IPython.core.display.Latex object>"
            ],
            "text/latex": "\\text{ point D, point C, point C }"
          },
          "metadata": {}
        },
        {
          "output_type": "display_data",
          "data": {
            "text/plain": [
              "<IPython.core.display.Latex object>"
            ],
            "text/latex": "\\text{ point D, point C, point D }"
          },
          "metadata": {}
        },
        {
          "output_type": "display_data",
          "data": {
            "text/plain": [
              "<IPython.core.display.Latex object>"
            ],
            "text/latex": "\\text{ point D, point D, point A }"
          },
          "metadata": {}
        },
        {
          "output_type": "display_data",
          "data": {
            "text/plain": [
              "<IPython.core.display.Latex object>"
            ],
            "text/latex": "\\text{ point D, point D, point B }"
          },
          "metadata": {}
        },
        {
          "output_type": "display_data",
          "data": {
            "text/plain": [
              "<IPython.core.display.Latex object>"
            ],
            "text/latex": "\\text{ point D, point D, point C }"
          },
          "metadata": {}
        },
        {
          "output_type": "display_data",
          "data": {
            "text/plain": [
              "<IPython.core.display.Latex object>"
            ],
            "text/latex": "\\text{ point D, point D, point D }"
          },
          "metadata": {}
        },
        {
          "output_type": "display_data",
          "data": {
            "text/plain": [
              "<IPython.core.display.Latex object>"
            ],
            "text/latex": "\\text{ point D, point D, point K }"
          },
          "metadata": {}
        },
        {
          "output_type": "display_data",
          "data": {
            "text/plain": [
              "<IPython.core.display.Latex object>"
            ],
            "text/latex": "\\text{ point D, point D, point M }"
          },
          "metadata": {}
        },
        {
          "output_type": "display_data",
          "data": {
            "text/plain": [
              "<IPython.core.display.Latex object>"
            ],
            "text/latex": "\\text{ point D, point K, point D }"
          },
          "metadata": {}
        },
        {
          "output_type": "display_data",
          "data": {
            "text/plain": [
              "<IPython.core.display.Latex object>"
            ],
            "text/latex": "\\text{ point D, point K, point K }"
          },
          "metadata": {}
        },
        {
          "output_type": "display_data",
          "data": {
            "text/plain": [
              "<IPython.core.display.Latex object>"
            ],
            "text/latex": "\\text{ point D, point M, point D }"
          },
          "metadata": {}
        },
        {
          "output_type": "display_data",
          "data": {
            "text/plain": [
              "<IPython.core.display.Latex object>"
            ],
            "text/latex": "\\text{ point D, point M, point M }"
          },
          "metadata": {}
        },
        {
          "output_type": "display_data",
          "data": {
            "text/plain": [
              "<IPython.core.display.Latex object>"
            ],
            "text/latex": "\\text{ point K, point A, point A }"
          },
          "metadata": {}
        },
        {
          "output_type": "display_data",
          "data": {
            "text/plain": [
              "<IPython.core.display.Latex object>"
            ],
            "text/latex": "\\text{ point K, point A, point K }"
          },
          "metadata": {}
        },
        {
          "output_type": "display_data",
          "data": {
            "text/plain": [
              "<IPython.core.display.Latex object>"
            ],
            "text/latex": "\\text{ point K, point A, point M }"
          },
          "metadata": {}
        },
        {
          "output_type": "display_data",
          "data": {
            "text/plain": [
              "<IPython.core.display.Latex object>"
            ],
            "text/latex": "\\text{ point K, point B, point B }"
          },
          "metadata": {}
        },
        {
          "output_type": "display_data",
          "data": {
            "text/plain": [
              "<IPython.core.display.Latex object>"
            ],
            "text/latex": "\\text{ point K, point B, point K }"
          },
          "metadata": {}
        },
        {
          "output_type": "display_data",
          "data": {
            "text/plain": [
              "<IPython.core.display.Latex object>"
            ],
            "text/latex": "\\text{ point K, point C, point C }"
          },
          "metadata": {}
        },
        {
          "output_type": "display_data",
          "data": {
            "text/plain": [
              "<IPython.core.display.Latex object>"
            ],
            "text/latex": "\\text{ point K, point C, point K }"
          },
          "metadata": {}
        },
        {
          "output_type": "display_data",
          "data": {
            "text/plain": [
              "<IPython.core.display.Latex object>"
            ],
            "text/latex": "\\text{ point K, point D, point D }"
          },
          "metadata": {}
        },
        {
          "output_type": "display_data",
          "data": {
            "text/plain": [
              "<IPython.core.display.Latex object>"
            ],
            "text/latex": "\\text{ point K, point D, point K }"
          },
          "metadata": {}
        },
        {
          "output_type": "display_data",
          "data": {
            "text/plain": [
              "<IPython.core.display.Latex object>"
            ],
            "text/latex": "\\text{ point K, point K, point A }"
          },
          "metadata": {}
        },
        {
          "output_type": "display_data",
          "data": {
            "text/plain": [
              "<IPython.core.display.Latex object>"
            ],
            "text/latex": "\\text{ point K, point K, point B }"
          },
          "metadata": {}
        },
        {
          "output_type": "display_data",
          "data": {
            "text/plain": [
              "<IPython.core.display.Latex object>"
            ],
            "text/latex": "\\text{ point K, point K, point C }"
          },
          "metadata": {}
        },
        {
          "output_type": "display_data",
          "data": {
            "text/plain": [
              "<IPython.core.display.Latex object>"
            ],
            "text/latex": "\\text{ point K, point K, point D }"
          },
          "metadata": {}
        },
        {
          "output_type": "display_data",
          "data": {
            "text/plain": [
              "<IPython.core.display.Latex object>"
            ],
            "text/latex": "\\text{ point K, point K, point K }"
          },
          "metadata": {}
        },
        {
          "output_type": "display_data",
          "data": {
            "text/plain": [
              "<IPython.core.display.Latex object>"
            ],
            "text/latex": "\\text{ point K, point K, point M }"
          },
          "metadata": {}
        },
        {
          "output_type": "display_data",
          "data": {
            "text/plain": [
              "<IPython.core.display.Latex object>"
            ],
            "text/latex": "\\text{ point K, point M, point A }"
          },
          "metadata": {}
        },
        {
          "output_type": "display_data",
          "data": {
            "text/plain": [
              "<IPython.core.display.Latex object>"
            ],
            "text/latex": "\\text{ point K, point M, point K }"
          },
          "metadata": {}
        },
        {
          "output_type": "display_data",
          "data": {
            "text/plain": [
              "<IPython.core.display.Latex object>"
            ],
            "text/latex": "\\text{ point K, point M, point M }"
          },
          "metadata": {}
        },
        {
          "output_type": "display_data",
          "data": {
            "text/plain": [
              "<IPython.core.display.Latex object>"
            ],
            "text/latex": "\\text{ point M, point A, point A }"
          },
          "metadata": {}
        },
        {
          "output_type": "display_data",
          "data": {
            "text/plain": [
              "<IPython.core.display.Latex object>"
            ],
            "text/latex": "\\text{ point M, point A, point K }"
          },
          "metadata": {}
        },
        {
          "output_type": "display_data",
          "data": {
            "text/plain": [
              "<IPython.core.display.Latex object>"
            ],
            "text/latex": "\\text{ point M, point A, point M }"
          },
          "metadata": {}
        },
        {
          "output_type": "display_data",
          "data": {
            "text/plain": [
              "<IPython.core.display.Latex object>"
            ],
            "text/latex": "\\text{ point M, point B, point B }"
          },
          "metadata": {}
        },
        {
          "output_type": "display_data",
          "data": {
            "text/plain": [
              "<IPython.core.display.Latex object>"
            ],
            "text/latex": "\\text{ point M, point B, point M }"
          },
          "metadata": {}
        },
        {
          "output_type": "display_data",
          "data": {
            "text/plain": [
              "<IPython.core.display.Latex object>"
            ],
            "text/latex": "\\text{ point M, point C, point C }"
          },
          "metadata": {}
        },
        {
          "output_type": "display_data",
          "data": {
            "text/plain": [
              "<IPython.core.display.Latex object>"
            ],
            "text/latex": "\\text{ point M, point C, point M }"
          },
          "metadata": {}
        },
        {
          "output_type": "display_data",
          "data": {
            "text/plain": [
              "<IPython.core.display.Latex object>"
            ],
            "text/latex": "\\text{ point M, point D, point D }"
          },
          "metadata": {}
        },
        {
          "output_type": "display_data",
          "data": {
            "text/plain": [
              "<IPython.core.display.Latex object>"
            ],
            "text/latex": "\\text{ point M, point D, point M }"
          },
          "metadata": {}
        },
        {
          "output_type": "display_data",
          "data": {
            "text/plain": [
              "<IPython.core.display.Latex object>"
            ],
            "text/latex": "\\text{ point M, point K, point A }"
          },
          "metadata": {}
        },
        {
          "output_type": "display_data",
          "data": {
            "text/plain": [
              "<IPython.core.display.Latex object>"
            ],
            "text/latex": "\\text{ point M, point K, point K }"
          },
          "metadata": {}
        },
        {
          "output_type": "display_data",
          "data": {
            "text/plain": [
              "<IPython.core.display.Latex object>"
            ],
            "text/latex": "\\text{ point M, point K, point M }"
          },
          "metadata": {}
        },
        {
          "output_type": "display_data",
          "data": {
            "text/plain": [
              "<IPython.core.display.Latex object>"
            ],
            "text/latex": "\\text{ point M, point M, point A }"
          },
          "metadata": {}
        },
        {
          "output_type": "display_data",
          "data": {
            "text/plain": [
              "<IPython.core.display.Latex object>"
            ],
            "text/latex": "\\text{ point M, point M, point B }"
          },
          "metadata": {}
        },
        {
          "output_type": "display_data",
          "data": {
            "text/plain": [
              "<IPython.core.display.Latex object>"
            ],
            "text/latex": "\\text{ point M, point M, point C }"
          },
          "metadata": {}
        },
        {
          "output_type": "display_data",
          "data": {
            "text/plain": [
              "<IPython.core.display.Latex object>"
            ],
            "text/latex": "\\text{ point M, point M, point D }"
          },
          "metadata": {}
        },
        {
          "output_type": "display_data",
          "data": {
            "text/plain": [
              "<IPython.core.display.Latex object>"
            ],
            "text/latex": "\\text{ point M, point M, point K }"
          },
          "metadata": {}
        },
        {
          "output_type": "display_data",
          "data": {
            "text/plain": [
              "<IPython.core.display.Latex object>"
            ],
            "text/latex": "\\text{ point M, point M, point M }"
          },
          "metadata": {}
        }
      ]
    },
    {
      "cell_type": "markdown",
      "metadata": {
        "id": "pkTcIdfl2tR4"
      },
      "source": [
        "###  Задание 7*.\n",
        "Составить уравнения всех (различных!) плоскостей, определяемых точками задания 1.\n",
        "\n",
        "Указание: решать аналогично Примеру 11, проверить, что $A$, $B$, $C$ не лежат на одной прямой и составить плоскость $ABC$, включить ее в список плоскостей. "
      ]
    },
    {
      "cell_type": "code",
      "metadata": {
        "id": "qATyCaiv2tR4"
      },
      "source": [],
      "execution_count": null,
      "outputs": []
    },
    {
      "cell_type": "markdown",
      "metadata": {
        "id": "MAw3Av4Y2tR5"
      },
      "source": [
        "### Индивидуальное задание\n",
        "Даны точки в пространстве\n",
        "$A$, $B$, $C$ и\n",
        "$M$.\n",
        "\n",
        "Найти угол между прямой $AB$ и плоскостью $CDM$, угол между $AC$ и $CM$, угол между плоскостями $ABC$ и $CDM$.\n",
        "\n",
        "Составить уравнение: \n",
        "\n",
        "a) плоскости, параллельной $ABC$ и проходящей через $M$,\n",
        "\n",
        "b) плоскости, перпендикулярной $ABC$ и проходящей через $A$ и $M$,\n",
        "\n",
        "c) прямой (параметрическое!), перпендикулярной $ABC$ и проходящей через $C$."
      ]
    },
    {
      "cell_type": "code",
      "metadata": {
        "id": "__YmDMZK2tR5"
      },
      "source": [],
      "execution_count": null,
      "outputs": []
    }
  ]
}