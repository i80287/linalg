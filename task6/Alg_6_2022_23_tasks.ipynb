{
  "cells": [
    {
      "cell_type": "code",
      "execution_count": 1,
      "metadata": {
        "id": "9bApoFTy2tRy"
      },
      "outputs": [],
      "source": [
        "import sympy\n",
        "from sympy import  Symbol, symbols, S, Point, Line, Plane, Point3D, Matrix, latex\n",
        "from IPython.display import Latex"
      ]
    },
    {
      "cell_type": "markdown",
      "metadata": {
        "id": "5ZqL6UH72tR0"
      },
      "source": [
        "# Занятие 6\n",
        "# Алгебра\n",
        "\n",
        "##  Прямые и плоскости в пространстве. Geometry.\n",
        "### Задание 1.\n",
        "Найти угол между плоскостями $ABC$ и  $ABD$, где \n",
        "$A(-1, 2, -4)$,\n",
        "$B(2, -2, 1)$,\n",
        "$C(5, 3, -6)$,\n",
        "$D(0, 3, -6)$."
      ]
    },
    {
      "cell_type": "code",
      "execution_count": null,
      "metadata": {
        "colab": {
          "base_uri": "https://localhost:8080/",
          "height": 68
        },
        "id": "wgUA2izF2tR2",
        "outputId": "0b9ba1e4-16b2-49c2-ce03-67b454d2e93f"
      },
      "outputs": [
        {
          "data": {
            "text/latex": [
              "\\text{Angle between plane ABC and plane ABD:} \\operatorname{acos}{\\left(\\frac{99 \\sqrt{40454}}{20227} \\right)};"
            ],
            "text/plain": [
              "<IPython.core.display.Latex object>"
            ]
          },
          "metadata": {},
          "output_type": "display_data"
        },
        {
          "data": {
            "text/latex": [
              "\\text{Approximate}: 0.1767\\text{ radian};"
            ],
            "text/plain": [
              "<IPython.core.display.Latex object>"
            ]
          },
          "metadata": {},
          "output_type": "display_data"
        }
      ],
      "source": [
        "def main():\n",
        "    a_point = Point(-1, 2, -4)\n",
        "    b_point = Point(2, -2, 1)\n",
        "    c_point = Point(5, 3, -6)\n",
        "    d_point = Point(0, 3, -6)\n",
        "\n",
        "    plane_abc = Plane(a_point, b_point, c_point)\n",
        "    plane_abd = Plane(a_point, b_point, d_point)\n",
        "    phi_angle = plane_abc.angle_between(plane_abd)\n",
        "\n",
        "    angle_report = Latex(rf\"\\text{{Angle between plane ABC and plane ABD:}} {latex(phi_angle)};\")\n",
        "    approx_report = Latex(rf\"\\text{{Approximate}}: {round(phi_angle, 4)}\\text{{ radian}};\")\n",
        "    display(angle_report)\n",
        "    display(approx_report)\n",
        "\n",
        "\n",
        "if __name__ == \"__main__\":\n",
        "   main()"
      ]
    },
    {
      "cell_type": "markdown",
      "metadata": {
        "id": "3Cr8SC_p2tR2"
      },
      "source": [
        "### Задание 2.\n",
        "Найти угол между прямой, проходящей через точки $A(-3,5,1)$ и $B(5,2,-3)$ и плоскостью, в которой лежат точки \n",
        "$K(4,3,0)$, $M(2,4,-2)$ и $N(-2,2,-1)$."
      ]
    },
    {
      "cell_type": "code",
      "execution_count": null,
      "metadata": {
        "colab": {
          "base_uri": "https://localhost:8080/",
          "height": 68
        },
        "id": "L_BT23AN2tR2",
        "outputId": "d1d9c773-2130-421a-8038-5ef61b8d1c22"
      },
      "outputs": [
        {
          "data": {
            "text/latex": [
              "\\text{Angle between line AB and plane KMN:} - \\operatorname{asin}{\\left(\\frac{86 \\sqrt{15397}}{15397} \\right)};"
            ],
            "text/plain": [
              "<IPython.core.display.Latex object>"
            ]
          },
          "metadata": {},
          "output_type": "display_data"
        },
        {
          "data": {
            "text/latex": [
              "\\text{Approximate}: -0.7657\\text{ radian};"
            ],
            "text/plain": [
              "<IPython.core.display.Latex object>"
            ]
          },
          "metadata": {},
          "output_type": "display_data"
        }
      ],
      "source": [
        "def main():\n",
        "    a_point = Point(-3, 5, 1)\n",
        "    b_point = Point(5, 2, -3)\n",
        "    k_point = Point(4, 3, 0)\n",
        "    m_point = Point(2, 4, -2)\n",
        "    n_point = Point(-2, 2, -1)\n",
        "\n",
        "    ab_line = Line(a_point, b_point)\n",
        "    kmn_plane = Plane(k_point, m_point, n_point)\n",
        "    phi_angle = kmn_plane.angle_between(ab_line)\n",
        "\n",
        "    angle_report = Latex(rf\"\\text{{Angle between line AB and plane KMN:}} {latex(phi_angle)};\")\n",
        "    approx_report = Latex(rf\"\\text{{Approximate}}: {round(phi_angle, 4)}\\text{{ radian}};\")\n",
        "    display(angle_report)\n",
        "    display(approx_report)\n",
        "\n",
        "  \n",
        "if __name__ == \"__main__\":\n",
        "    main()"
      ]
    },
    {
      "cell_type": "markdown",
      "metadata": {
        "id": "Frcu2NPw2tR3"
      },
      "source": [
        "### Задание 3.\n",
        "Проверить, лежат ли точки в одной плоскости\n",
        "\n",
        "а) $A(3, 2, -1)$, $B(2, -1, 0)$, $C(5, 2, -6)$, $D(6, 5, -7)$\n",
        "\n",
        "b) $A(-1, 5, -4)$, $B(7, -2, 1)$, $C(6, 3, -8)$, $D(0, 3, 0)$\n",
        "\n",
        "Вывести на экран сообщение \"Точки лежат в одной плоскости\" или \"Точки не лежат в одной плоскости\"."
      ]
    },
    {
      "cell_type": "code",
      "execution_count": 87,
      "metadata": {
        "colab": {
          "base_uri": "https://localhost:8080/",
          "height": 58
        },
        "id": "vG9cg7R-2tR3",
        "outputId": "3ea6e450-1ce3-4e47-e691-0b30291449ba"
      },
      "outputs": [
        {
          "data": {
            "text/latex": [
              "\\text{Точки  лежат в одной плоскости}"
            ],
            "text/plain": [
              "<IPython.core.display.Latex object>"
            ]
          },
          "metadata": {},
          "output_type": "display_data"
        },
        {
          "data": {
            "text/latex": [
              "\\text{Точки не  лежат в одной плоскости}"
            ],
            "text/plain": [
              "<IPython.core.display.Latex object>"
            ]
          },
          "metadata": {},
          "output_type": "display_data"
        }
      ],
      "source": [
        "from typing import Union, List, Tuple\n",
        "\n",
        "\n",
        "def check_points(points: Union[List[Point3D], Tuple[Point3D]]) -> Latex:\n",
        "    are_copl = Point3D.are_coplanar(*points)\n",
        "    return Latex(rf\"\"\"\\text{{Точки {\"не \" * (not are_copl)} лежат в одной плоскости}}\"\"\")\n",
        "\n",
        "\n",
        "def main():\n",
        "    a_points = (Point3D(3, 2, -1), Point3D(2, -1, 0), Point3D(5, 2, -6), Point3D(6, 5, -7))\n",
        "    b_points = (Point3D(-1, 5, -4), Point3D(7, -2, 1), Point3D(6, 3, -8), Point3D(0, 3, 0))\n",
        "    \n",
        "    a_report = check_points(a_points)\n",
        "    b_report = check_points(b_points)\n",
        "    display(a_report)\n",
        "    display(b_report)\n",
        "\n",
        "  \n",
        "if __name__ == \"__main__\":\n",
        "    main()    "
      ]
    },
    {
      "cell_type": "markdown",
      "metadata": {
        "id": "F8_2pF5ZhKb8"
      },
      "source": [
        "###  Задание 4.\n",
        "Для плоскостей Задания 1 найти векторы нормали (воспользоваться свойством normal_vector), преобразовать их в матрицы-столбцы и вычислить угол между плоскостями с помощью скалярного произведения. Сравнить с результатом Задания 1."
      ]
    },
    {
      "cell_type": "code",
      "execution_count": 2,
      "metadata": {
        "colab": {
          "base_uri": "https://localhost:8080/",
          "height": 190
        },
        "id": "W3WTaq8WhOEL",
        "outputId": "446b4998-ca64-42b0-b188-4e5a4cb51255"
      },
      "outputs": [
        {
          "data": {
            "text/latex": [
              "\\text{Normal vector of the ABC plane: } \\left[\\begin{matrix}3\\\\36\\\\27\\end{matrix}\\right]"
            ],
            "text/plain": [
              "<IPython.core.display.Latex object>"
            ]
          },
          "metadata": {},
          "output_type": "display_data"
        },
        {
          "data": {
            "text/latex": [
              "\\text{Normal vector of the ABD plane: } \\left[\\begin{matrix}3\\\\11\\\\7\\end{matrix}\\right]"
            ],
            "text/plain": [
              "<IPython.core.display.Latex object>"
            ]
          },
          "metadata": {},
          "output_type": "display_data"
        },
        {
          "data": {
            "text/latex": [
              "\\text{Angle between plane ABC and plane ABD:} \\operatorname{acos}{\\left(\\frac{99 \\sqrt{40454}}{20227} \\right)};"
            ],
            "text/plain": [
              "<IPython.core.display.Latex object>"
            ]
          },
          "metadata": {},
          "output_type": "display_data"
        },
        {
          "data": {
            "text/latex": [
              "\\text{Approximate}: 0.1767\\text{ radian};"
            ],
            "text/plain": [
              "<IPython.core.display.Latex object>"
            ]
          },
          "metadata": {},
          "output_type": "display_data"
        }
      ],
      "source": [
        "def main():\n",
        "    a_point = Point(-1, 2, -4)\n",
        "    b_point = Point(2, -2, 1)\n",
        "    c_point = Point(5, 3, -6)\n",
        "    d_point = Point(0, 3, -6)\n",
        "\n",
        "    plane_abc = Plane(a_point, b_point, c_point)\n",
        "    plane_abd = Plane(a_point, b_point, d_point)\n",
        "    \n",
        "    n_vec_abc = Matrix(plane_abc.normal_vector)\n",
        "    n_vec_abd = Matrix(plane_abd.normal_vector)\n",
        "    display(Latex(fr\"\\text{{Normal vector of the ABC plane: }} {latex(n_vec_abc)}\"))\n",
        "    display(Latex(fr\"\\text{{Normal vector of the ABD plane: }} {latex(n_vec_abd)}\"))\n",
        "\n",
        "    vec_product = n_vec_abc.dot(n_vec_abd)\n",
        "    abc_n_length = sympy.sqrt(n_vec_abc.dot(n_vec_abc))\n",
        "    abd_n_length = sympy.sqrt(n_vec_abd.dot(n_vec_abd))\n",
        "    \n",
        "    cos_phi = vec_product / (abc_n_length * abd_n_length)\n",
        "    phi_angle = sympy.acos(cos_phi)\n",
        "\n",
        "    angle_report = Latex(rf\"\\text{{Angle between plane ABC and plane ABD:}} {latex(phi_angle)};\")\n",
        "    approx_report = Latex(rf\"\\text{{Approximate}}: {round(phi_angle, 4)}\\text{{ radian}};\")\n",
        "    display(angle_report)\n",
        "    display(approx_report)\n",
        "\n",
        "if __name__ == \"__main__\":\n",
        "    main()\n"
      ]
    },
    {
      "cell_type": "markdown",
      "metadata": {
        "id": "QZ_bFRbf2tR3"
      },
      "source": [
        "###  Задание 5.\n",
        "Прямая задана параметрическими уравнениями:\n",
        "$$\n",
        "\\left\\{\\begin{matrix}\n",
        "x=2+5t\\\\\n",
        "y=-1-2t\\\\\n",
        "z=4-3t\n",
        "\\end{matrix}\\right..\n",
        "$$\n",
        "Представить прямую в виде линии пересечения двух плоскостей (вывести на экран уравнения плоскостей), \n",
        "одна из которых проходит через начало координат, а вторая плоскость перпендикулярна первой плоскости.\n",
        "\n",
        "Указание: сначала составить список правых частей параметрических уравнений, затем составить две различные точки на прямой и далее решить средствами для работы с прямыми и плоскостями из модуля Geometry."
      ]
    },
    {
      "cell_type": "code",
      "execution_count": 110,
      "metadata": {
        "colab": {
          "base_uri": "https://localhost:8080/",
          "height": 60
        },
        "id": "deDKiQhH2tR3",
        "outputId": "0b206b6c-d0fa-4b28-a1e4-46889ffe719e"
      },
      "outputs": [
        {
          "data": {
            "text/latex": [
              "\\text{First plane equation: }11 x + 26 y + z"
            ],
            "text/plain": [
              "<IPython.core.display.Latex object>"
            ]
          },
          "metadata": {},
          "output_type": "display_data"
        },
        {
          "data": {
            "text/latex": [
              "\\text{Second plane equation: }76 x - 38 y + 152 z - 798"
            ],
            "text/plain": [
              "<IPython.core.display.Latex object>"
            ]
          },
          "metadata": {},
          "output_type": "display_data"
        }
      ],
      "source": [
        "def main():\n",
        "    x, y, z, t = symbols(\"x y z t\")\n",
        "    line_points = Point(2 + 5 * t, -1 - 2*t, 4 - 3*t)\n",
        "    a_point = line_points.subs(t, 0)\n",
        "    b_point = line_points.subs(t, 1)\n",
        "    o_point = Point(0, 0, 0)\n",
        "\n",
        "    first_plane = Plane(a_point, b_point, o_point)\n",
        "    second_plane = first_plane.perpendicular_plane(a_point, b_point)\n",
        "\n",
        "    display(Latex(rf\"\\text{{First plane equation: }}{latex(first_plane.equation())}\"))\n",
        "    display(Latex(rf\"\\text{{Second plane equation: }}{latex(second_plane.equation())}\"))\n",
        "\n",
        "  \n",
        "if __name__ == \"__main__\":\n",
        "    main()"
      ]
    },
    {
      "cell_type": "markdown",
      "metadata": {
        "id": "zOUIWmYZ2tR4"
      },
      "source": [
        "###  Задание 6*.\n",
        "Даны точки  пространстве\n",
        "$A(-2, 7, -5)$, $B(6, 2, -4)$, $C(14, -3, -2)$, $D(22, -8, -2)$, $K(30, -7, -4)$,\n",
        "$M(94, -35, -2)$.\n",
        "\n",
        "Определить, какие тройки точек лежат на одной прямой, какие четверки - в одной плоскости.\n",
        "\n",
        "Для проверки того, что три точки лежат на одной прямой использовать Point3D.are_collinear.\n",
        "\n",
        "Вывести на экран тройки точек, лежащие на одной прямой и четверки точек, лежащих в одной плоскости."
      ]
    },
    {
      "cell_type": "code",
      "execution_count": 22,
      "metadata": {
        "colab": {
          "base_uri": "https://localhost:8080/",
          "height": 1000
        },
        "id": "I2eyOGQy2tR4",
        "outputId": "6b52f21f-2b70-4903-c30a-6dc1a6e5719d"
      },
      "outputs": [
        {
          "name": "stdout",
          "output_type": "stream",
          "text": [
            "Triples of points lying on the same line:\n",
            "A; B; D\n",
            "A; K; M\n",
            "\n",
            "Quadruples of points lying in the same plane:\n",
            "A; B; C; D\n",
            "A; B; C; K\n",
            "A; B; C; M\n",
            "A; B; D; K\n",
            "A; B; D; M\n",
            "A; B; K; M\n",
            "A; C; D; K\n",
            "A; C; D; M\n",
            "A; C; K; M\n",
            "A; D; K; M\n",
            "B; C; D; K\n",
            "B; C; D; M\n",
            "B; C; K; M\n",
            "B; D; K; M\n",
            "C; D; K; M\n"
          ]
        }
      ],
      "source": [
        "from itertools import combinations\n",
        "\n",
        "def main():\n",
        "    points = (\n",
        "        (Point(-2, 7, -5), 'A'), \n",
        "        (Point(6, 2, -4), 'B'), \n",
        "        (Point(14, -3, -2), 'C'), \n",
        "        (Point(22, -8, -2), 'D'), \n",
        "        (Point(30, -7, -4), 'K'), \n",
        "        (Point(94, -35, -2), 'M'), \n",
        "    )\n",
        "\n",
        "    print(\"Triples of points lying on the same line:\")\n",
        "    for i1, i2, i3 in combinations(range(6), 3):\n",
        "        p1, p2, p3 = points[i1], points[i2], points[i3]\n",
        "        if Point3D.are_collinear(p1[0], p2[0], p3[0]):\n",
        "            print(f\"{p1[1]}; {p2[1]}; {p3[1]}\")\n",
        "\n",
        "    print(\"\\nQuadruples of points lying in the same plane:\")\n",
        "    for i1, i2, i3, i4 in combinations(range(len(points)), 4):\n",
        "        points_comb = points[i1], points[i2], points[i3], points[i4]\n",
        "        if Point3D.are_coplanar(p[0] for p in points_comb):\n",
        "            print(\"; \".join(p[1] for p in points_comb))\n",
        "    \n",
        "if __name__ == \"__main__\":\n",
        "    main()\n"
      ]
    },
    {
      "cell_type": "markdown",
      "metadata": {
        "id": "pkTcIdfl2tR4"
      },
      "source": [
        "###  Задание 7*.\n",
        "Составить уравнения всех (различных!) плоскостей, определяемых точками задания 1.\n",
        "\n",
        "Указание: решать аналогично Примеру 11, проверить, что $A$, $B$, $C$ не лежат на одной прямой и составить плоскость $ABC$, включить ее в список плоскостей. "
      ]
    },
    {
      "cell_type": "code",
      "execution_count": 31,
      "metadata": {
        "id": "qATyCaiv2tR4"
      },
      "outputs": [
        {
          "name": "stdout",
          "output_type": "stream",
          "text": [
            "Plain ABC: 3*x + 36*y + 27*z + 39 = 0\n",
            "Plain ABD: 3*x + 11*y + 7*z + 9 = 0\n",
            "Plain ACD: 10*y + 5*z = 0\n",
            "Plain BCD: 35*y + 25*z + 45 = 0\n"
          ]
        }
      ],
      "source": [
        "from itertools import combinations\n",
        "\n",
        "def main():\n",
        "    points = (\n",
        "        (Point(-1, 2, -4), 'A'),\n",
        "        (Point(2, -2, 1), 'B'),\n",
        "        (Point(5, 3, -6), 'C'),\n",
        "        (Point(0, 3, -6), 'D'),\n",
        "    )\n",
        "    plain_equations = set()\n",
        "\n",
        "    for i1, i2, i3 in combinations(range(len(points)), 3):\n",
        "        p1, p2, p3 = points[i1], points[i2], points[i3]\n",
        "        if not Point3D.are_collinear(p1[0], p2[0], p3[0]):\n",
        "            plain_equation = sympy.simplify(Plane(p1[0], p2[0], p3[0]).equation())\n",
        "            if plain_equation not in plain_equations:\n",
        "                print(f\"Plain {p1[1]}{p2[1]}{p3[1]}: {plain_equation} = 0\")\n",
        "                plain_equations.add(plain_equation)\n",
        "\n",
        "if __name__ == \"__main__\":\n",
        "   main()"
      ]
    },
    {
      "cell_type": "markdown",
      "metadata": {
        "id": "MAw3Av4Y2tR5"
      },
      "source": [
        "### Индивидуальное задание\n",
        "Даны точки в пространстве\n",
        "$A$, $B$, $C$ и\n",
        "$M$.\n",
        "\n",
        "Найти угол между прямой $AB$ и плоскостью $CDM$, угол между $AC$ и $CM$, угол между плоскостями $ABC$ и $CDM$.\n",
        "\n",
        "Составить уравнение: \n",
        "\n",
        "a) плоскости, параллельной $ABC$ и проходящей через $M$,\n",
        "\n",
        "b) плоскости, перпендикулярной $ABC$ и проходящей через $A$ и $M$,\n",
        "\n",
        "c) прямой (параметрическое!), перпендикулярной $ABC$ и проходящей через $C$."
      ]
    },
    {
      "attachments": {},
      "cell_type": "markdown",
      "metadata": {},
      "source": [
        "### N 50\n",
        "\n",
        "$A (-2, 1, 5)\\\\ $\n",
        "$B (4, 0, 2)\\\\$\n",
        "$C (-2, -4, 0)\\\\$\n",
        "$D (4, -1, -3)\\\\$\n",
        "$M (5, -4, -4)$\n"
      ]
    },
    {
      "cell_type": "code",
      "execution_count": 53,
      "metadata": {
        "id": "__YmDMZK2tR5"
      },
      "outputs": [
        {
          "name": "stdout",
          "output_type": "stream",
          "text": [
            "Angle between line AB and plane CDM:\n",
            "\tasin(2*sqrt(759)/759)\n",
            "Approximate:\n",
            "\t0.072659 radian\n",
            "\n",
            "Angle between line AC and line CM:\n",
            "\tacos(2*sqrt(130)/65)\n",
            "Approximate:\n",
            "\t1.212346 radian\n",
            "\n",
            "Angle between plane ABC and plane CDM:\n",
            "\tacos(14*sqrt(1254)/627)\n",
            "Approximate:\n",
            "\t0.658852 radian\n",
            "\n",
            "Equation of plane || plane ABC and passing through point M:\n",
            "\t-12*x + 3*y - 21*z - 12 = 0\n",
            "Simplified:\n",
            "\t-4*x + y - 7*z - 4 = 0\n",
            "\n",
            "Equation of plane ⟂ plane ABC and passing through points A and M:\n",
            "\t420*x + 300*y + 160*z - 260 = 0\n",
            "Simplified:\n",
            "\t21*x + 15*y + 8*z - 13 = 0\n",
            "\n",
            "Pararmetric equations of line ⟂ plane ABC and passing through point C:\n"
          ]
        },
        {
          "data": {
            "text/latex": [
              "$\\displaystyle x = t$"
            ],
            "text/plain": [
              "Eq(x, t)"
            ]
          },
          "metadata": {},
          "output_type": "display_data"
        },
        {
          "data": {
            "text/latex": [
              "$\\displaystyle y = - 3 t - 10$"
            ],
            "text/plain": [
              "Eq(y, -3*t - 10)"
            ]
          },
          "metadata": {},
          "output_type": "display_data"
        },
        {
          "data": {
            "text/latex": [
              "$\\displaystyle y = 3 t + 6$"
            ],
            "text/plain": [
              "Eq(y, 3*t + 6)"
            ]
          },
          "metadata": {},
          "output_type": "display_data"
        }
      ],
      "source": [
        "from sympy import Point3D, Line3D\n",
        "from numpy import gcd\n",
        "\n",
        "def main():\n",
        "    a_point: Point3D = Point(-2, 1, 5)\n",
        "    b_point: Point3D = Point(4, 0, 2)\n",
        "    c_point: Point3D = Point(-2, -4, 0)\n",
        "    d_point: Point3D = Point(4, -1, -3)\n",
        "    m_point: Point3D = Point(5, -4, -4)\n",
        "    ab_line: Line3D = Line(b_point, a_point)\n",
        "    ac_line: Line3D = Line(c_point, a_point)\n",
        "    cm_line: Line3D = Line(m_point, c_point)\n",
        "    abc_plane: Plane = Plane(a_point, b_point, c_point)\n",
        "    cdm_plane: Plane = Plane(c_point, d_point, m_point)\n",
        "    \n",
        "    phi = cdm_plane.angle_between(ab_line)\n",
        "    print(f\"Angle between line AB and plane CDM:\\n\\t{phi}\\nApproximate:\\n\\t{round(phi, 6)} radian\\n\")\n",
        "\n",
        "    phi2 = ac_line.smallest_angle_between(cm_line)\n",
        "    print(f\"Angle between line AC and line CM:\\n\\t{phi2}\\nApproximate:\\n\\t{round(phi2, 6)} radian\\n\")\n",
        "\n",
        "    phi3 = cdm_plane.angle_between(abc_plane)\n",
        "    print(f\"Angle between plane ABC and plane CDM:\\n\\t{phi3}\\nApproximate:\\n\\t{round(phi3, 6)} radian\\n\")\n",
        "\n",
        "    parallel_plane: Plane = Plane(m_point, normal_vector=cdm_plane.normal_vector)\n",
        "    eq1 = parallel_plane.equation()\n",
        "    coefficients1 = [eq1.coeff(symb) for symb in eq1.free_symbols]\n",
        "    gcd1 = gcd.reduce(coefficients1)\n",
        "    print(f\"Equation of plane || plane ABC and passing through point M:\\n\\t{eq1} = 0\\nSimplified:\\n\\t{eq1 / gcd1} = 0\\n\")\n",
        "\n",
        "    perpend_plane: Plane = abc_plane.perpendicular_plane(a_point, m_point)\n",
        "    eq2 = perpend_plane.equation()\n",
        "    coefficients2 = [eq2.coeff(symb) for symb in eq2.free_symbols]\n",
        "    gcd2 = gcd.reduce(coefficients2)\n",
        "    print(f\"Equation of plane ⟂ plane ABC and passing through points A and M:\\n\\t{eq2} = 0\\nSimplified:\\n\\t{eq2 / gcd2} = 0\\n\")\n",
        "    \n",
        "    perpend_line: Line3D = abc_plane.perpendicular_line(c_point)\n",
        "    t = Symbol('t')\n",
        "    z, x, y = list(perpend_line.equation().free_symbols)\n",
        "    eq1_line, eq2_line = perpend_line.equation()    \n",
        "    equations = (\n",
        "        sympy.Eq(x, t),\n",
        "        sympy.Eq(y, *sympy.solve(eq1_line.subs(x, t), y)),\n",
        "        sympy.Eq(y, *sympy.solve(eq2_line.subs(x, t), z)),\n",
        "    )\n",
        "    print(\"Pararmetric equations of line ⟂ plane ABC and passing through point C:\")\n",
        "    display(*equations)\n",
        "    \n",
        "if __name__ == \"__main__\":\n",
        "    main()"
      ]
    }
  ],
  "metadata": {
    "colab": {
      "provenance": []
    },
    "kernelspec": {
      "display_name": ".venv",
      "language": "python",
      "name": "python3"
    },
    "language_info": {
      "codemirror_mode": {
        "name": "ipython",
        "version": 3
      },
      "file_extension": ".py",
      "mimetype": "text/x-python",
      "name": "python",
      "nbconvert_exporter": "python",
      "pygments_lexer": "ipython3",
      "version": "3.11.0"
    },
    "vscode": {
      "interpreter": {
        "hash": "15070b5f4c01a16be65f6048f4eea768aba9ae68ce711f49339836ef743d1529"
      }
    }
  },
  "nbformat": 4,
  "nbformat_minor": 0
}
