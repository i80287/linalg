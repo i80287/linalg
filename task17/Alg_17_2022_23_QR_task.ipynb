{
  "cells": [
    {
      "cell_type": "code",
      "execution_count": 1,
      "metadata": {},
      "outputs": [],
      "source": [
        "from typing import overload, Union, Optional, List\n",
        "\n",
        "from sympy import latex\n",
        "from sympy.core._print_helpers import Printable\n",
        "from IPython.display import Latex\n",
        "\n",
        "\n",
        "@overload\n",
        "def print_sympy_entity(text: Optional[str] = None) -> None:\n",
        "    ...\n",
        "\n",
        "@overload\n",
        "def print_sympy_entity(text: Optional[str] = None, expression: Optional[Union[str, Printable]] = None, *, raw: bool = True) -> None:\n",
        "    ...\n",
        "\n",
        "@overload\n",
        "def print_sympy_entity(text: Optional[str] = None, *expressions: Union[str, Printable], raw: bool = True) -> None:\n",
        "    ...\n",
        "\n",
        "def print_sympy_entity(*args, **kwargs) -> None:\n",
        "    text: Optional[str] = kwargs.get(\"text\", None)\n",
        "    expression: Optional[Union[str, Printable]] = kwargs.get(\"expression\", None)\n",
        "\n",
        "    if text is None and args:\n",
        "        text = args[0]\n",
        "    \n",
        "    expressions: List[Union[str, Printable]] = \\\n",
        "        [expr for expr in args[1:] if isinstance(expr, (str, Printable))] \\\n",
        "        if len(args) > 1 else []\n",
        "\n",
        "    if expression is not None:\n",
        "        expressions.append(expression)\n",
        "\n",
        "    if not expressions:\n",
        "        if text is not None:\n",
        "            display(Latex(\"$ \\\\text{\" + text + \"} $\"))\n",
        "        return\n",
        "    \n",
        "    is_raw: bool = kwargs.get(\"raw\", True)\n",
        "    \n",
        "    final_expression: str = \\\n",
        "        (latex(expressions[0]) if is_raw else expressions[0]) \\\n",
        "        if len(expressions) == 1 else \\\n",
        "        r\"\\\\\".join(map(latex, expressions) if is_raw else expressions)\n",
        "    final_expression = \"$ \" + final_expression + \" $\"\n",
        "\n",
        "    if text is not None:\n",
        "        final_expression = \"$ \\\\text{\" + text + \"} $ \" + final_expression\n",
        "\n",
        "    display(Latex(final_expression))\n"
      ]
    },
    {
      "cell_type": "code",
      "execution_count": 2,
      "metadata": {
        "id": "icrkYljeEln7"
      },
      "outputs": [],
      "source": [
        "import sympy\n",
        "from sympy import Matrix, S, Symbol, symbols, I, zeros, eye\n",
        "from sympy import simplify, expand, expand_complex, latex\n",
        "import numpy as np\n",
        "from IPython.display import Latex"
      ]
    },
    {
      "cell_type": "markdown",
      "metadata": {
        "id": "t-ZvhFPEEln9"
      },
      "source": [
        "# Практическое занятие 17\n",
        "# Компьютерный практикум по алгебре на Python\n",
        "## Матричные разложения: Холецкого, LDL, LU, QR. Жорданова форма."
      ]
    },
    {
      "cell_type": "markdown",
      "metadata": {
        "id": "iLYVC4z3Eln-"
      },
      "source": [
        "### Задание 1.\n",
        "Построить разложение Холецкого матриц\n",
        "$$\n",
        "M1=\\left(\n",
        "\\begin{matrix}\n",
        "1&-3&0\\\\\n",
        "-3&-2&10\\\\\n",
        "0&10&7\n",
        "\\end{matrix}\n",
        "\\right)\n",
        "\\quad\n",
        "M2=\\left(\n",
        "\\begin{matrix}\n",
        "18&1 - 2I& -2\\\\\n",
        "1 + 2I&4&-3I\\\\\n",
        "-2&3I&5\n",
        "\\end{matrix}\n",
        "\\right)\n",
        "$$\n",
        "Проверить положительную определенность эрмитовой матрицы."
      ]
    },
    {
      "cell_type": "code",
      "execution_count": 3,
      "metadata": {
        "id": "wJICZXTpqhcs"
      },
      "outputs": [
        {
          "data": {
            "text/latex": [
              "$ \\text{Разложение Холецкого матрицы M1:} $ $ \\left[\\begin{matrix}1 & 0 & 0\\\\-3 & \\sqrt{11} i & 0\\\\0 & - \\frac{10 \\sqrt{11} i}{11} & \\frac{\\sqrt{1947}}{11}\\end{matrix}\\right] $"
            ],
            "text/plain": [
              "<IPython.core.display.Latex object>"
            ]
          },
          "metadata": {},
          "output_type": "display_data"
        },
        {
          "data": {
            "text/latex": [
              "$ \\text{Разложение Холецкого матрицы M2:} $ $ \\left[\\begin{matrix}3 \\sqrt{2} & 0 & 0\\\\\\frac{\\sqrt{2} \\cdot \\left(1 + 2 i\\right)}{6} & \\frac{\\sqrt{134}}{6} & 0\\\\- \\frac{\\sqrt{2}}{3} & \\frac{\\sqrt{134} \\cdot \\left(1 + 25 i\\right)}{201} & \\frac{\\sqrt{12127}}{67}\\end{matrix}\\right] $"
            ],
            "text/plain": [
              "<IPython.core.display.Latex object>"
            ]
          },
          "metadata": {},
          "output_type": "display_data"
        },
        {
          "data": {
            "text/latex": [
              "$ \\text{Матрица M2 положительно определенная} $"
            ],
            "text/plain": [
              "<IPython.core.display.Latex object>"
            ]
          },
          "metadata": {},
          "output_type": "display_data"
        }
      ],
      "source": [
        "M1: Matrix = Matrix((\n",
        "    (1, -3, 0),\n",
        "    (-3, -2, 10),\n",
        "    (0, 10, 7)\n",
        "))\n",
        "M2: Matrix = Matrix((\n",
        "    (18, 1 - 2*I, -2),\n",
        "    (1 + 2*I, 4, -3*I),\n",
        "    (-2, 3*I, 5)\n",
        "))\n",
        "\n",
        "M1_chol = M1.cholesky(hermitian=False)\n",
        "M1_chol.simplify()\n",
        "print_sympy_entity(\"Разложение Холецкого матрицы M1:\", M1_chol)\n",
        "\n",
        "M2_chol = M2.cholesky()\n",
        "M2_chol.simplify()\n",
        "print_sympy_entity(\"Разложение Холецкого матрицы M2:\", M2_chol)\n",
        "print_sympy_entity(f\"Матрица M2 {'' if M2.is_positive_definite else 'не '}положительно определенная\")"
      ]
    },
    {
      "cell_type": "markdown",
      "metadata": {
        "id": "qrvNv_U7EloA"
      },
      "source": [
        "### Задание 2.\n",
        "Построить  LDL разложение для матриц Задания 1."
      ]
    },
    {
      "cell_type": "code",
      "execution_count": 4,
      "metadata": {
        "id": "HCm3Ntt_qirr"
      },
      "outputs": [
        {
          "data": {
            "text/latex": [
              "$ \\text{M1 =} $ $ \\left[\\begin{matrix}1 & -3 & 0\\\\-3 & -2 & 10\\\\0 & 10 & 7\\end{matrix}\\right] $"
            ],
            "text/plain": [
              "<IPython.core.display.Latex object>"
            ]
          },
          "metadata": {},
          "output_type": "display_data"
        },
        {
          "data": {
            "text/latex": [
              "$ L_{M1} = \\left[\\begin{matrix}1 & 0 & 0\\\\-3 & 1 & 0\\\\0 & - \\frac{10}{11} & 1\\end{matrix}\\right] $"
            ],
            "text/plain": [
              "<IPython.core.display.Latex object>"
            ]
          },
          "metadata": {},
          "output_type": "display_data"
        },
        {
          "data": {
            "text/latex": [
              "$ D_{M1} = \\left[\\begin{matrix}1 & 0 & 0\\\\0 & -11 & 0\\\\0 & 0 & \\frac{177}{11}\\end{matrix}\\right] $"
            ],
            "text/plain": [
              "<IPython.core.display.Latex object>"
            ]
          },
          "metadata": {},
          "output_type": "display_data"
        },
        {
          "data": {
            "text/latex": [
              "$ L_{M1}D_{M1}L_{M1}^T = \\left[\\begin{matrix}1 & -3 & 0\\\\-3 & -2 & 10\\\\0 & 10 & 7\\end{matrix}\\right] $"
            ],
            "text/plain": [
              "<IPython.core.display.Latex object>"
            ]
          },
          "metadata": {},
          "output_type": "display_data"
        },
        {
          "data": {
            "text/latex": [
              "$ \\text{M2 =} $ $ \\left[\\begin{matrix}18 & 1 - 2 i & -2\\\\1 + 2 i & 4 & - 3 i\\\\-2 & 3 i & 5\\end{matrix}\\right] $"
            ],
            "text/plain": [
              "<IPython.core.display.Latex object>"
            ]
          },
          "metadata": {},
          "output_type": "display_data"
        },
        {
          "data": {
            "text/latex": [
              "$ L_{M2} = \\left[\\begin{matrix}1 & 0 & 0\\\\\\frac{1}{18} + \\frac{i}{9} & 1 & 0\\\\- \\frac{1}{9} & \\frac{2}{67} + \\frac{50 i}{67} & 1\\end{matrix}\\right] $"
            ],
            "text/plain": [
              "<IPython.core.display.Latex object>"
            ]
          },
          "metadata": {},
          "output_type": "display_data"
        },
        {
          "data": {
            "text/latex": [
              "$ D_{M2} = \\left[\\begin{matrix}18 & 0 & 0\\\\0 & \\frac{67}{18} & 0\\\\0 & 0 & \\frac{181}{67}\\end{matrix}\\right] $"
            ],
            "text/plain": [
              "<IPython.core.display.Latex object>"
            ]
          },
          "metadata": {},
          "output_type": "display_data"
        },
        {
          "data": {
            "text/latex": [
              "$ L_{M2}D_{M2}L_{M2}^H = \\left[\\begin{matrix}18 & 1 - 2 i & -2\\\\1 + 2 i & 4 & - 3 i\\\\-2 & 3 i & 5\\end{matrix}\\right] $"
            ],
            "text/plain": [
              "<IPython.core.display.Latex object>"
            ]
          },
          "metadata": {},
          "output_type": "display_data"
        }
      ],
      "source": [
        "LM1, DM1 = M1.LDLdecomposition(hermitian=False)\n",
        "LM2, DM2 = M2.LDLdecomposition()\n",
        "for M in (LM1, DM1, LM2, DM2):\n",
        "    M.simplify()\n",
        "\n",
        "print_sympy_entity(f\"M1 =\", M1)\n",
        "display(Latex(\"$ L_{M1} = \" + latex(LM1) + \" $\"))\n",
        "display(Latex(\"$ D_{M1} = \" + latex(DM1) + \" $\"))\n",
        "display(Latex(\"$ L_{M1}D_{M1}L_{M1}^T = \" + latex(simplify(LM1 * DM1 * LM1.T)) + \" $\"))\n",
        "\n",
        "print_sympy_entity(f\"M2 =\", M2)\n",
        "display(Latex(\"$ L_{M2} = \" + latex(LM2) + \" $\"))\n",
        "display(Latex(\"$ D_{M2} = \" + latex(DM2) + \" $\"))\n",
        "display(Latex(\"$ L_{M2}D_{M2}L_{M2}^H = \" + latex(simplify(LM2 * DM2 * LM2.H)) + \" $\"))"
      ]
    },
    {
      "cell_type": "markdown",
      "metadata": {
        "id": "FVp0Db5lEloB"
      },
      "source": [
        "### Задание  3.\n",
        "Построить  LU разложение для матрицы \n",
        "$$\n",
        "V=\\left(\n",
        "\\begin{matrix}\n",
        "5&-2 - I&3 - 4I&1 + 4I\\\\\n",
        "1 - I&-2&5 - I&2 - I\\\\\n",
        "5&6 + I&0&5 \n",
        "\\end{matrix}\n",
        "\\right)\n",
        "$$"
      ]
    },
    {
      "cell_type": "code",
      "execution_count": 5,
      "metadata": {
        "id": "ktdkWgwkqki8"
      },
      "outputs": [
        {
          "data": {
            "text/latex": [
              "$ \\text{V =} $ $ \\left[\\begin{matrix}5 & -2 - i & 3 - 4 i & 1 + 4 i\\\\1 - i & -2 & 5 - i & 2 - i\\\\5 & 6 + i & 0 & 5\\end{matrix}\\right] $"
            ],
            "text/plain": [
              "<IPython.core.display.Latex object>"
            ]
          },
          "metadata": {},
          "output_type": "display_data"
        },
        {
          "data": {
            "text/latex": [
              "$ L_{V} = \\left[\\begin{matrix}1 & 0 & 0\\\\1 & 1 & 0\\\\\\frac{1}{5} - \\frac{i}{5} & - \\frac{29}{170} + \\frac{3 i}{170} & 1\\end{matrix}\\right] $"
            ],
            "text/plain": [
              "<IPython.core.display.Latex object>"
            ]
          },
          "metadata": {},
          "output_type": "display_data"
        },
        {
          "data": {
            "text/latex": [
              "$ U_{V} = \\left[\\begin{matrix}5 & -2 - i & 3 - 4 i & 1 + 4 i\\\\0 & 8 + 2 i & -3 + 4 i & 4 - 4 i\\\\0 & 0 & \\frac{809}{170} + \\frac{193 i}{170} & \\frac{137}{85} - \\frac{40 i}{17}\\end{matrix}\\right] $"
            ],
            "text/plain": [
              "<IPython.core.display.Latex object>"
            ]
          },
          "metadata": {},
          "output_type": "display_data"
        },
        {
          "data": {
            "text/latex": [
              "$ permutations = \\left[ \\left[ 1, \\  2\\right]\\right] $"
            ],
            "text/plain": [
              "<IPython.core.display.Latex object>"
            ]
          },
          "metadata": {},
          "output_type": "display_data"
        },
        {
          "data": {
            "text/latex": [
              "$ LU.permuteBkwd(permutations) = \\left[\\begin{matrix}5 & -2 - i & 3 - 4 i & 1 + 4 i\\\\1 - i & -2 & 5 - i & 2 - i\\\\5 & 6 + i & 0 & 5\\end{matrix}\\right] $"
            ],
            "text/plain": [
              "<IPython.core.display.Latex object>"
            ]
          },
          "metadata": {},
          "output_type": "display_data"
        }
      ],
      "source": [
        "V = Matrix((\n",
        "    (5, -2 - I, 3 - 4*I, 1 + 4*I),\n",
        "    (1 - I, -2, 5 - I, 2 - I),\n",
        "    (5, 6 + I, 0, 5)\n",
        "))\n",
        "\n",
        "permutations: list[list[int]]\n",
        "L, U, permutations = V.LUdecomposition()\n",
        "for M in (L, U):\n",
        "    M.simplify()\n",
        "\n",
        "MLU = simplify((L * U).permuteBkwd(permutations))\n",
        "print_sympy_entity(f\"V =\", V)\n",
        "display(Latex(\"$ L_{V} = \" + latex(L) + \" $\"))\n",
        "display(Latex(\"$ U_{V} = \" + latex(U) + \" $\"))\n",
        "display(Latex(\"$ permutations = \" + latex(permutations) + \" $\"))\n",
        "display(Latex(\"$ LU.permuteBkwd(permutations) = \" + latex(MLU) + \" $\"))"
      ]
    },
    {
      "cell_type": "markdown",
      "metadata": {
        "id": "w9-3cXYHEloC"
      },
      "source": [
        "### Задание  4.\n",
        "Построить  QR разложение для матрицы\n",
        "$$\n",
        "A=\\left(\n",
        "\\begin{matrix}\n",
        "3 + i&  2 & -i & 4 - 2i\\\\\n",
        "-2 & -3 &  i & -3 + i\\\\\n",
        "1 + i & -1 &  0 & 1 - i\\\\\n",
        "-1 + i &  -4 & i & -2\n",
        "\\end{matrix}\n",
        "\\right)\n",
        "$$\n",
        "показать, что $A = QR$."
      ]
    },
    {
      "cell_type": "code",
      "execution_count": 13,
      "metadata": {
        "id": "QkM7ebfyqmUM"
      },
      "outputs": [
        {
          "data": {
            "text/latex": [
              "$ \\text{A =} $ $ \\left[\\begin{matrix}3 + i & 2 & - i & 4 - 2 i\\\\-2 & -3 & i & -3 + i\\\\1 + i & -1 & 0 & 1 - i\\\\-1 + i & -4 & i & -2\\end{matrix}\\right] $"
            ],
            "text/plain": [
              "<IPython.core.display.Latex object>"
            ]
          },
          "metadata": {},
          "output_type": "display_data"
        },
        {
          "data": {
            "text/latex": [
              "$ \\text{Q = } $ $ \\left[\\begin{matrix}\\frac{\\sqrt{2} \\cdot \\left(3 + i\\right)}{6} & \\frac{\\sqrt{17} \\left(-1 - 4 i\\right)}{51}\\\\- \\frac{\\sqrt{2}}{3} & \\frac{\\sqrt{17} \\left(-4 + i\\right)}{51}\\\\\\frac{\\sqrt{2} \\cdot \\left(1 + i\\right)}{6} & \\frac{\\sqrt{17} \\left(-5 - 3 i\\right)}{51}\\\\\\frac{\\sqrt{2} \\left(-1 + i\\right)}{6} & \\frac{\\sqrt{17} \\left(-9 - 2 i\\right)}{51}\\end{matrix}\\right] $"
            ],
            "text/plain": [
              "<IPython.core.display.Latex object>"
            ]
          },
          "metadata": {},
          "output_type": "display_data"
        },
        {
          "data": {
            "text/latex": [
              "$ \\text{R = } $ $ \\left[\\begin{matrix}3 \\sqrt{2} & \\frac{\\sqrt{2} \\cdot \\left(5 + i\\right)}{2} & - \\sqrt{2} i & \\sqrt{2} \\cdot \\left(3 - 2 i\\right)\\\\0 & \\sqrt{17} & \\frac{\\sqrt{17} \\cdot \\left(1 - 4 i\\right)}{17} & \\frac{\\sqrt{17} \\cdot \\left(11 + 7 i\\right)}{17}\\end{matrix}\\right] $"
            ],
            "text/plain": [
              "<IPython.core.display.Latex object>"
            ]
          },
          "metadata": {},
          "output_type": "display_data"
        },
        {
          "data": {
            "text/latex": [
              "$ \\text{matrix QR = } $ $ \\left[\\begin{matrix}3 + i & 2 & - i & 4 - 2 i\\\\-2 & -3 & i & -3 + i\\\\1 + i & -1 & 0 & 1 - i\\\\-1 + i & -4 & i & -2\\end{matrix}\\right] $"
            ],
            "text/plain": [
              "<IPython.core.display.Latex object>"
            ]
          },
          "metadata": {},
          "output_type": "display_data"
        },
        {
          "data": {
            "text/latex": [
              "$ \\text{A == QR: True} $"
            ],
            "text/plain": [
              "<IPython.core.display.Latex object>"
            ]
          },
          "metadata": {},
          "output_type": "display_data"
        }
      ],
      "source": [
        "A: Matrix = Matrix((\n",
        "    (3 + I, 2, -I, 4 - 2*I),\n",
        "    (-2, -3, I, I - 3),\n",
        "    (1 + I, -1, 0, 1 - I),\n",
        "    (I - 1, -4, I, -2)\n",
        "))\n",
        "\n",
        "Q, R = A.QRdecomposition()\n",
        "if Q.shape[1] > 2:\n",
        "    Q = Q[:, :2]\n",
        "if R.shape[0] > 2:\n",
        "    R = R[:2, :]\n",
        "\n",
        "for M in (Q, R):\n",
        "    M.simplify()\n",
        "QR: Matrix = simplify(Q * R)\n",
        "\n",
        "print_sympy_entity(\"A =\", A)\n",
        "print_sympy_entity(\"Q = \", Q)\n",
        "print_sympy_entity(\"R = \", R)\n",
        "print_sympy_entity(\"matrix QR = \", QR)\n",
        "print_sympy_entity(f\"A == QR: {A == QR}\")"
      ]
    },
    {
      "cell_type": "markdown",
      "metadata": {
        "id": "JoekvCeBEloD"
      },
      "source": [
        "### Задание  5.\n",
        "Построить  жорданову форму для матрицы\n",
        "$$\n",
        "K=\\left(\n",
        "\\begin{matrix}\n",
        "6 &  5 & -2 & -3\\\\\n",
        "-3 & -1 &  3 &  3\\\\\n",
        "2 &  1 & -2 &  -3\\\\\n",
        "-1 & 1 & 5 & 5\n",
        "\\end{matrix}\n",
        "\\right)\n",
        "$$"
      ]
    },
    {
      "cell_type": "code",
      "execution_count": 7,
      "metadata": {
        "id": "n97Ne8Boqn30"
      },
      "outputs": [
        {
          "data": {
            "text/latex": [
              "$ \\text{K =} $ $ \\left[\\begin{matrix}6 & 5 & -2 & -3\\\\-3 & -1 & 3 & 3\\\\2 & 1 & -2 & -3\\\\-1 & 1 & 5 & 5\\end{matrix}\\right] $"
            ],
            "text/plain": [
              "<IPython.core.display.Latex object>"
            ]
          },
          "metadata": {},
          "output_type": "display_data"
        },
        {
          "data": {
            "text/latex": [
              "$ \\text{P =} $ $ \\left[\\begin{matrix}4 & 1 & 5 & 0\\\\-3 & 0 & -3 & 1\\\\2 & 0 & 1 & 0\\\\-1 & 0 & 1 & 0\\end{matrix}\\right] $"
            ],
            "text/plain": [
              "<IPython.core.display.Latex object>"
            ]
          },
          "metadata": {},
          "output_type": "display_data"
        },
        {
          "data": {
            "text/latex": [
              "$ \\text{J = } $ $ \\left[\\begin{matrix}2 & 1 & 0 & 0\\\\0 & 2 & 0 & 0\\\\0 & 0 & 2 & 1\\\\0 & 0 & 0 & 2\\end{matrix}\\right] $"
            ],
            "text/plain": [
              "<IPython.core.display.Latex object>"
            ]
          },
          "metadata": {},
          "output_type": "display_data"
        },
        {
          "data": {
            "text/latex": [
              "$ PJP^{-1} = \\left[\\begin{matrix}6 & 5 & -2 & -3\\\\-3 & -1 & 3 & 3\\\\2 & 1 & -2 & -3\\\\-1 & 1 & 5 & 5\\end{matrix}\\right] $"
            ],
            "text/plain": [
              "<IPython.core.display.Latex object>"
            ]
          },
          "metadata": {},
          "output_type": "display_data"
        },
        {
          "data": {
            "text/latex": [
              "$ K == PJP^{-1}: True $"
            ],
            "text/plain": [
              "<IPython.core.display.Latex object>"
            ]
          },
          "metadata": {},
          "output_type": "display_data"
        }
      ],
      "source": [
        "K: Matrix = Matrix((\n",
        "    (6, 5, -2, -3),\n",
        "    (-3, -1, 3, 3),\n",
        "    (2, 1, -2, -3),\n",
        "    (-1, 1, 5, 5)\n",
        "))\n",
        "\n",
        "P, J = K.jordan_form()\n",
        "for M in (P, J):\n",
        "    M.simplify()\n",
        "\n",
        "PJP_1 = simplify(P * J * P**(-1))\n",
        "\n",
        "print_sympy_entity(\"K =\", K)\n",
        "print_sympy_entity(\"P =\", P)\n",
        "print_sympy_entity(\"J = \", J)\n",
        "display(Latex(\"$ PJP^{-1} = \" + latex(PJP_1) + \" $\"))\n",
        "print_sympy_entity(expression=f\"K == PJP^{{-1}}: {K == PJP_1}\", raw=False)"
      ]
    },
    {
      "cell_type": "markdown",
      "metadata": {
        "id": "gTTZBv9tEloE"
      },
      "source": [
        "### Индивидуальное задание.\n",
        "Решить с помощью  QR разложения матрицы\n",
        "$A$\n",
        "систему линейных уравнений\n",
        "$AX = b$."
      ]
    },
    {
      "attachments": {},
      "cell_type": "markdown",
      "metadata": {},
      "source": [
        "N50\n",
        "\n",
        "$$A = \\left[\\begin{matrix}\n",
        "    -8 & -8 & 6 & 4\\\\\n",
        "    −6 & −6 & 7 & −4\\\\\n",
        "    −29 & −24 & 26 & −5\\\\\n",
        "    −23 & −18 & 19 & −1\\\\\n",
        "\\end{matrix}\\right]$$\n",
        "\n",
        "$$b = \\left[\\begin{matrix}\n",
        "    −1 & −4 & −16 & −10\n",
        "\\end{matrix}\\right]$$\n"
      ]
    },
    {
      "cell_type": "code",
      "execution_count": 8,
      "metadata": {
        "id": "SY7bp3guqpNE"
      },
      "outputs": [
        {
          "data": {
            "text/latex": [
              "rk(A) = 3"
            ],
            "text/plain": [
              "<IPython.core.display.Latex object>"
            ]
          },
          "metadata": {},
          "output_type": "display_data"
        },
        {
          "data": {
            "text/latex": [
              "rk((A | b)) = 4"
            ],
            "text/plain": [
              "<IPython.core.display.Latex object>"
            ]
          },
          "metadata": {},
          "output_type": "display_data"
        },
        {
          "data": {
            "text/latex": [
              "$ \\text{X = } $ $ \\left[\\begin{matrix}- \\frac{141}{25}\\\\\\frac{259}{100}\\\\- \\frac{127}{30}\\\\0\\end{matrix}\\right] $"
            ],
            "text/plain": [
              "<IPython.core.display.Latex object>"
            ]
          },
          "metadata": {},
          "output_type": "display_data"
        },
        {
          "data": {
            "text/latex": [
              "$ \\text{delta:} $ $ \\left[\\begin{matrix}0\\\\- \\frac{22}{3}\\\\\\frac{22}{3}\\\\- \\frac{22}{3}\\end{matrix}\\right] $"
            ],
            "text/plain": [
              "<IPython.core.display.Latex object>"
            ]
          },
          "metadata": {},
          "output_type": "display_data"
        },
        {
          "data": {
            "text/latex": [
              "$ \\text{норма разности:} $ $ \\frac{22 \\sqrt{3}}{3} $"
            ],
            "text/plain": [
              "<IPython.core.display.Latex object>"
            ]
          },
          "metadata": {},
          "output_type": "display_data"
        }
      ],
      "source": [
        "A: Matrix = Matrix((\n",
        "    (-8, -8, 6, 4),\n",
        "    (-6, -6, 7, -4),\n",
        "    (-29, -24, 26, -5),\n",
        "    (-23, -18, 19, -1)\n",
        "))\n",
        "b: Matrix = Matrix((-1, -4, -16, 10))\n",
        "Ab = A.row_join(b)\n",
        "display(Latex(f\"rk(A) = {latex(A.rank())}\"))\n",
        "display(Latex(f\"rk((A | b)) = {latex(Ab.rank())}\"))\n",
        "\n",
        "X: Matrix = simplify(A.QRsolve(b)).col_join(Matrix([0]))\n",
        "print_sympy_entity(\"X = \", X)\n",
        "delta = A * X - b\n",
        "print_sympy_entity(\"delta:\", delta)\n",
        "print_sympy_entity(\"норма разности:\", delta.norm(2))"
      ]
    }
  ],
  "metadata": {
    "colab": {
      "provenance": []
    },
    "kernelspec": {
      "display_name": "Python 3",
      "language": "python",
      "name": "python3"
    },
    "language_info": {
      "codemirror_mode": {
        "name": "ipython",
        "version": 3
      },
      "file_extension": ".py",
      "mimetype": "text/x-python",
      "name": "python",
      "nbconvert_exporter": "python",
      "pygments_lexer": "ipython3",
      "version": "3.11.0"
    }
  },
  "nbformat": 4,
  "nbformat_minor": 0
}
