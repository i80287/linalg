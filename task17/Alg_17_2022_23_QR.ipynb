{
  "nbformat": 4,
  "nbformat_minor": 0,
  "metadata": {
    "kernelspec": {
      "display_name": "Python 3",
      "language": "python",
      "name": "python3"
    },
    "language_info": {
      "codemirror_mode": {
        "name": "ipython",
        "version": 3
      },
      "file_extension": ".py",
      "mimetype": "text/x-python",
      "name": "python",
      "nbconvert_exporter": "python",
      "pygments_lexer": "ipython3",
      "version": "3.7.3"
    },
    "colab": {
      "provenance": []
    }
  },
  "cells": [
    {
      "cell_type": "code",
      "metadata": {
        "id": "WjlZ-LNXCDbS"
      },
      "source": [
        "import sympy\n",
        "from sympy import Matrix, S, Symbol, symbols, I, zeros, eye\n",
        "from sympy import simplify, expand, expand_complex, latex\n",
        "import numpy as np\n",
        "from IPython.display import Latex"
      ],
      "execution_count": 1,
      "outputs": []
    },
    {
      "cell_type": "markdown",
      "metadata": {
        "id": "dhdX3ARxCDbW"
      },
      "source": [
        "# Практическое занятие 17\n",
        "# Компьютерный практикум по алгебре на Python\n",
        "## Матричные разложения: Холецкого, LDL, LU, QR. Жорданова форма."
      ]
    },
    {
      "cell_type": "markdown",
      "metadata": {
        "id": "FBs3L0qxCDbX"
      },
      "source": [
        "**Симметричная** (вещественная) матрица $A$: $A^T = A$.\n",
        "\n",
        "**Эрмитова** (комплексная) матрица $A$: $A^H = A$, т.е. матрица совпадает с транспонированной матрицей из комплексно-сопряженных чисел, например, матрица \n",
        "$\\left(\n",
        "\\begin{matrix}\n",
        "12&3+ I\\\\\n",
        "3 - I&2\n",
        "\\end{matrix}\n",
        "\\right)$\n",
        "\n",
        "**Положительно определенная матрица** $A$: все угловые миноры положительны, например\n",
        "$$\n",
        "A=\\left(\n",
        "\\begin{matrix}\n",
        "4&6&10\\\\\n",
        "6&13&17\\\\\n",
        "10&17&62\n",
        "\\end{matrix}\n",
        "\\right), \\qquad\n",
        "\\Delta_1 = |4| = 4 > 0, \\qquad\n",
        "\\Delta_2 = \\left|\\begin{matrix}\n",
        "4&6\\\\\n",
        "6&13\n",
        "\\end{matrix}\\right| = 16 > 0, \\qquad\n",
        "\\Delta_3 = \\left|\\begin{matrix}\n",
        "4&6&10\\\\\n",
        "6&13&17\\\\\n",
        "10&17&62\n",
        "\\end{matrix}\\right| = 576 > 0\n",
        "$$\n",
        "### Разложение Холецкого\n",
        "$A = L\\cdot L^T$ для симметричной вещественной матрицы $A$\n",
        "\n",
        "$A = L\\cdot L^H$ для положительно определенной эрмитовой матрицы $A$\n",
        "\n",
        "$L$ - левая треугольная матрица.\n",
        "\n",
        "В Sympy в классе матриц есть метод **cholesky**, возвращающий матрицу $L$. В случае вещественной симметричной матрицы $A$ передаем методу необязательный параметр hermitian=False, по умолчанию равный True. \n",
        "\n",
        "Поскольку разложение Холецкого применяется только к симметричным или эрмитовым положительно определенным матрицам, то сначала следует проверить, является ли матрица положительно определенной, это делается с помощью атрибута **is_positive_definite** класса матриц.\n",
        "\n",
        "### Пример 1.\n",
        "Построим разложение Холецкого матриц\n",
        "$$\n",
        "A=\\left(\n",
        "\\begin{matrix}\n",
        "4&6&10\\\\\n",
        "6&13&17\\\\\n",
        "10&17&62\n",
        "\\end{matrix}\n",
        "\\right)\n",
        "\\quad\n",
        "B=\\left(\n",
        "\\begin{matrix}\n",
        "12&3+ I&5\\\\\n",
        "3 - I&2&1 - I\\\\\n",
        "5&1 + I&6\n",
        "\\end{matrix}\n",
        "\\right)\n",
        "$$"
      ]
    },
    {
      "cell_type": "code",
      "metadata": {
        "id": "WluflhHbCDbX",
        "outputId": "b2034631-e58e-42eb-b0fd-2641e4d593ca",
        "colab": {
          "base_uri": "https://localhost:8080/",
          "height": 400
        }
      },
      "source": [
        "A = Matrix([[4, 6, 10], [6, 13, 17], [10, 17, 62]])\n",
        "B = Matrix([[12, 3 + I, 5], [3 - I, 2, 1 - I], [5, 1 + I, 6]])\n",
        "LA = A.cholesky(hermitian=False)\n",
        "LB = B.cholesky()\n",
        "display(Latex(f'L_A = {latex(LA)},\\ L_AL_A^T - A= {latex(simplify(LA * LA.T - A))},\\\\\\\\\\\n",
        "        B.is\\_positive\\_definite\\ {B.is_positive_definite},\\\\\\\\\\\n",
        "        L_B = {latex(LB)},\\\\\\\\\\\n",
        "        simplify(L_B) = {latex(simplify(LB))},\\\\\\\\\\\n",
        "        simplify(expand(L_B)) = {latex(simplify(expand(LB)))},\\\\\\\\\\\n",
        "        simplify(L_B*L_B^H - B) = {latex(simplify(LB * LB.H - B))}'))"
      ],
      "execution_count": 15,
      "outputs": [
        {
          "output_type": "display_data",
          "data": {
            "text/plain": [
              "<IPython.core.display.Latex object>"
            ],
            "text/latex": "L_A = \\left[\\begin{matrix}2 & 0 & 0\\\\3 & 2 & 0\\\\5 & 1 & 6\\end{matrix}\\right],\\ L_AL_A^T - A= \\left[\\begin{matrix}0 & 0 & 0\\\\0 & 0 & 0\\\\0 & 0 & 0\\end{matrix}\\right],\\\\        B.is\\_positive\\_definite\\ True,\\\\        L_B = \\left[\\begin{matrix}2 \\sqrt{3} & 0 & 0\\\\\\frac{\\sqrt{3} \\left(3 - i\\right)}{6} & \\sqrt{- \\frac{\\left(3 - i\\right) \\left(3 + i\\right)}{12} + 2} & 0\\\\\\frac{5 \\sqrt{3}}{6} & \\frac{- \\frac{1}{4} + \\frac{7 i}{12}}{\\sqrt{- \\frac{\\left(3 - i\\right) \\left(3 + i\\right)}{12} + 2}} & \\sqrt{- \\frac{\\left(- \\frac{1}{4} - \\frac{7 i}{12}\\right) \\left(- \\frac{1}{4} + \\frac{7 i}{12}\\right)}{- \\frac{\\left(3 - i\\right) \\left(3 + i\\right)}{12} + 2} + \\frac{47}{12}}\\end{matrix}\\right],\\\\        simplify(L_B) = \\left[\\begin{matrix}2 \\sqrt{3} & 0 & 0\\\\\\frac{\\sqrt{3} \\left(3 - i\\right)}{6} & \\frac{\\sqrt{42}}{6} & 0\\\\\\frac{5 \\sqrt{3}}{6} & \\frac{\\sqrt{42} \\left(1 + i\\right) \\left(2 + 5 i\\right)}{84} & \\frac{5 \\sqrt{7}}{7}\\end{matrix}\\right],\\\\        simplify(expand(L_B)) = \\left[\\begin{matrix}2 \\sqrt{3} & 0 & 0\\\\\\frac{\\sqrt{3} \\left(3 - i\\right)}{6} & \\frac{\\sqrt{42}}{6} & 0\\\\\\frac{5 \\sqrt{3}}{6} & \\frac{\\sqrt{42} \\left(-3 + 7 i\\right)}{84} & \\frac{5 \\sqrt{7}}{7}\\end{matrix}\\right],\\\\        simplify(L_B*L_B^H - B) = \\left[\\begin{matrix}0 & 0 & 0\\\\0 & 0 & 0\\\\0 & 0 & 0\\end{matrix}\\right]"
          },
          "metadata": {}
        }
      ]
    },
    {
      "cell_type": "markdown",
      "metadata": {
        "id": "G7LypB6tCDbZ"
      },
      "source": [
        "### LDL разложение\n",
        "$A = L D L^T$ для симметричной вещественной матрицы $A$\n",
        "\n",
        "$A = L D L^H$ для положительно определенной эрмитовой матрицы $A$\n",
        "\n",
        "$L$ - левая треугольная матрица,\n",
        "$D$ - диагональная матрица.\n",
        "\n",
        "В Sympy в классе матриц есть метод **LDLdecomposition**, возвращающий матрицы $D$ и $L$. В случае вещественной симметричной матрицы $A$ передаем методу необязательный параметр hermitian=False, по умолчанию равный True. \n",
        "### Пример 2.\n",
        "Построим  LDL разложение для матриц Примера 1"
      ]
    },
    {
      "cell_type": "code",
      "metadata": {
        "id": "q7zknNa2CDbZ",
        "outputId": "0e8e8655-822a-4a8b-fd12-7ff058b871ec",
        "colab": {
          "base_uri": "https://localhost:8080/",
          "height": 426
        }
      },
      "source": [
        "A = Matrix([[4, 6, 10], [6, 13, 17], [10, 17, 62]])\n",
        "B = Matrix([[12, 3 + I, 5], [3 - I, 2, 1 - I], [5, 1 + I, 6]])\n",
        "LA, DA = A.LDLdecomposition(hermitian=False)\n",
        "LB, DB = B.LDLdecomposition()\n",
        "LA, DA, LB, DB = [simplify(item) for item in (LA, DA, LB, DB)]\n",
        "display(Latex(\"\"\"A = {}\\\\\\\\A.is\\_positive\\_definite\\ {}\\\\\\\\\\\n",
        "L_A = {}, D_A = {},\\\\\\\\L_AD_AL_A^T = {},\\\\\\\\\\\n",
        "B = {}\\\\\\\\\\\n",
        "B.is\\_positive\\_definite\\ {}\\\\\\\\L_B = {}, D_B = {},\\\\\\\\\\\n",
        "L_BD_BL_B^H = {}\\\n",
        "\"\"\".format(*[latex(item) for item in (A, A.is_positive_definite,\n",
        "                                      LA, DA, LA * DA * LA.T,\n",
        "                                      B, B.is_positive_definite,\n",
        "                                      LB, simplify(DB),\n",
        "                                      simplify(LB * DB * LB.H))])))"
      ],
      "execution_count": 3,
      "outputs": [
        {
          "output_type": "display_data",
          "data": {
            "text/plain": [
              "<IPython.core.display.Latex object>"
            ],
            "text/latex": "A = \\left[\\begin{matrix}4 & 6 & 10\\\\6 & 13 & 17\\\\10 & 17 & 62\\end{matrix}\\right]\\\\A.is\\_positive\\_definite\\ \\text{True}\\\\L_A = \\left[\\begin{matrix}1 & 0 & 0\\\\\\frac{3}{2} & 1 & 0\\\\\\frac{5}{2} & \\frac{1}{2} & 1\\end{matrix}\\right], D_A = \\left[\\begin{matrix}4 & 0 & 0\\\\0 & 4 & 0\\\\0 & 0 & 36\\end{matrix}\\right],\\\\L_AD_AL_A^T = \\left[\\begin{matrix}4 & 6 & 10\\\\6 & 13 & 17\\\\10 & 17 & 62\\end{matrix}\\right],\\\\B = \\left[\\begin{matrix}12 & 3 + i & 5\\\\3 - i & 2 & 1 - i\\\\5 & 1 + i & 6\\end{matrix}\\right]\\\\B.is\\_positive\\_definite\\ \\text{True}\\\\L_B = \\left[\\begin{matrix}1 & 0 & 0\\\\\\frac{1}{4} - \\frac{i}{12} & 1 & 0\\\\\\frac{5}{12} & - \\frac{3}{14} + \\frac{i}{2} & 1\\end{matrix}\\right], D_B = \\left[\\begin{matrix}12 & 0 & 0\\\\0 & \\frac{7}{6} & 0\\\\0 & 0 & \\frac{25}{7}\\end{matrix}\\right],\\\\L_BD_BL_B^H = \\left[\\begin{matrix}12 & 3 + i & 5\\\\3 - i & 2 & 1 - i\\\\5 & 1 + i & 6\\end{matrix}\\right]"
          },
          "metadata": {}
        }
      ]
    },
    {
      "cell_type": "markdown",
      "metadata": {
        "id": "nlvMvFGfCDba"
      },
      "source": [
        "### LU разложение\n",
        "$PA = LU$ для матрицы $A$\n",
        "\n",
        "$L$ - левая треугольная матрица с единицами на главной диагонали,\n",
        "$U$ - правая треугольная (трапециевидная) матрица,\n",
        "$P$ - матрица перестановок.\n",
        "\n",
        "$A = P^{-1}LU$.\n",
        "### Пример 3.\n",
        "Построим  LU разложение для матрицы \n",
        "$$\n",
        "M=\\left(\n",
        "\\begin{matrix}\n",
        "-2&3+ I&5 - 2I\\\\\n",
        " - I&2&1 - I\\\\\n",
        "5&-1 + 4I&-3\n",
        "\\end{matrix}\n",
        "\\right)\n",
        "$$"
      ]
    },
    {
      "cell_type": "code",
      "metadata": {
        "id": "BYj_9r7OCDba",
        "outputId": "b4392351-fdf5-4c64-cf73-1cd1e405c7e9",
        "colab": {
          "base_uri": "https://localhost:8080/",
          "height": 201
        }
      },
      "source": [
        "M = Matrix([[-2, 3 + I, 5 - 2 * I], [-I, 2, 1 - I], [5, -1 + 4 * I, -3]])\n",
        "L, U, perm = M.LUdecomposition()\n",
        "display(Latex(\"M = {}\\\\\\\\perm = {}, L = {}, U = {}\\\\\\\\LU = {}\\\n",
        "\".format(*map(latex, (M, perm, *map(simplify, map(expand, (L, U, L * U))))))))"
      ],
      "execution_count": 4,
      "outputs": [
        {
          "output_type": "display_data",
          "data": {
            "text/plain": [
              "<IPython.core.display.Latex object>"
            ],
            "text/latex": "M = \\left[\\begin{matrix}-2 & 3 + i & 5 - 2 i\\\\- i & 2 & 1 - i\\\\5 & -1 + 4 i & -3\\end{matrix}\\right]\\\\perm = \\left[ \\right], L = \\left[\\begin{matrix}1 & 0 & 0\\\\\\frac{i}{2} & 1 & 0\\\\- \\frac{5}{2} & \\frac{13}{17} + \\frac{52 i}{17} & 1\\end{matrix}\\right], U = \\left[\\begin{matrix}-2 & 3 + i & 5 - 2 i\\\\0 & \\frac{5}{2} - \\frac{3 i}{2} & - \\frac{7 i}{2}\\\\0 & 0 & - \\frac{41}{34} - \\frac{79 i}{34}\\end{matrix}\\right]\\\\LU = \\left[\\begin{matrix}-2 & 3 + i & 5 - 2 i\\\\- i & 2 & 1 - i\\\\5 & -1 + 4 i & -3\\end{matrix}\\right]"
          },
          "metadata": {}
        }
      ]
    },
    {
      "cell_type": "markdown",
      "metadata": {
        "id": "7_Q-e3aBCDbb"
      },
      "source": [
        "В Примере 3 не пришлось использовать перестановки, параметр perm, описывающий перестановки представляет собой пустой список.\n",
        "### Пример 4.\n",
        "Заменим в матрице $M$ элемент $-2$ на 0  и построим LU разложение для новой матрицы. "
      ]
    },
    {
      "cell_type": "code",
      "metadata": {
        "id": "qpz4ASn1CDbb",
        "outputId": "537151e3-4a47-4cfc-d6a1-e2f7f0b1fe21",
        "colab": {
          "base_uri": "https://localhost:8080/",
          "height": 200
        }
      },
      "source": [
        "M[0, 0] = 0\n",
        "L, U, perm = M.LUdecomposition()\n",
        "display(Latex(\"M = {}\\\\\\\\perm = {}, L = {}, U = {}\\\\\\\\LU = {}\\\n",
        "\".format(*map(latex, (M, perm, *map(simplify, map(expand, (L, U, L * U))))))))"
      ],
      "execution_count": 5,
      "outputs": [
        {
          "output_type": "display_data",
          "data": {
            "text/plain": [
              "<IPython.core.display.Latex object>"
            ],
            "text/latex": "M = \\left[\\begin{matrix}0 & 3 + i & 5 - 2 i\\\\- i & 2 & 1 - i\\\\5 & -1 + 4 i & -3\\end{matrix}\\right]\\\\perm = \\left[ \\left[ 0, \\  1\\right]\\right], L = \\left[\\begin{matrix}1 & 0 & 0\\\\0 & 1 & 0\\\\5 i & - \\frac{9}{10} - \\frac{17 i}{10} & 1\\end{matrix}\\right], U = \\left[\\begin{matrix}- i & 2 & 1 - i\\\\0 & 3 + i & 5 - 2 i\\\\0 & 0 & - \\frac{1}{10} + \\frac{17 i}{10}\\end{matrix}\\right]\\\\LU = \\left[\\begin{matrix}- i & 2 & 1 - i\\\\0 & 3 + i & 5 - 2 i\\\\5 & -1 + 4 i & -3\\end{matrix}\\right]"
          },
          "metadata": {}
        }
      ]
    },
    {
      "cell_type": "markdown",
      "metadata": {
        "id": "DxIc59LvCDbc"
      },
      "source": [
        "Произведение матриц LU отличается от исходной матрицы M перестановкой строк. Восстановим матрицу M, применяя перестановки в соответствии с результатом, выдаваемым LUdecomposition:"
      ]
    },
    {
      "cell_type": "code",
      "metadata": {
        "id": "qyXgvYgSCDbc",
        "outputId": "7bb7010b-61b0-4090-b334-f47ee71d847d",
        "colab": {
          "base_uri": "https://localhost:8080/",
          "height": 99
        }
      },
      "source": [
        "number_of_rows = M.shape[0]\n",
        "MLU = simplify(expand((L * U).permuteBkwd(perm)))\n",
        "P = eye(number_of_rows).permuteFwd(perm)\n",
        "display(Latex(f\"LU.permuteBkwd(perm) = {latex(MLU)}\\\\\\\\\\\n",
        "PM = LU\\ {P * M == simplify(expand(L * U))}\")) "
      ],
      "execution_count": 6,
      "outputs": [
        {
          "output_type": "display_data",
          "data": {
            "text/plain": [
              "<IPython.core.display.Latex object>"
            ],
            "text/latex": "LU.permuteBkwd(perm) = \\left[\\begin{matrix}0 & 3 + i & 5 - 2 i\\\\- i & 2 & 1 - i\\\\5 & -1 + 4 i & -3\\end{matrix}\\right]\\\\PM = LU\\ True"
          },
          "metadata": {}
        }
      ]
    },
    {
      "cell_type": "markdown",
      "metadata": {
        "id": "hedxgJtvCDbc"
      },
      "source": [
        "LU разложение можно применять и для прямоугольной матрицы.\n",
        "### Пример 5.\n",
        "Добавим к матрице $M$ справа столбец из чисел 1, 2, 3  и построим LU разложение для новой матрицы. "
      ]
    },
    {
      "cell_type": "code",
      "metadata": {
        "id": "Vy40TU5fCDbd",
        "outputId": "869e9836-08c8-4844-f3ac-ee750ba20e03",
        "colab": {
          "base_uri": "https://localhost:8080/",
          "height": 283
        }
      },
      "source": [
        "number_of_rows = M.shape[0]\n",
        "M = M.row_join(Matrix([k + 1 for k in range(number_of_rows)]))\n",
        "L, U, perm = M.LUdecomposition()\n",
        "MLU = simplify(expand((L * U).permuteBkwd(perm)))\n",
        "L, U, LU, MLU = [simplify(expand(item)) for item in (L, U, L * U, MLU)]\n",
        "P = eye(number_of_rows).permuteFwd(perm)\n",
        "display(Latex(\"\"\"M = {}\\\\\\\\perm = {}, L = {}, U = {}\\\\\\\\\n",
        "LU = {}\\\\\\\\LU.permuteBkwd(perm) = {}\\\\\\\\PM = LU\\ {}\"\"\".format(*map(latex, (M, perm, L, U, LU, MLU, P * M == LU)))))"
      ],
      "execution_count": 7,
      "outputs": [
        {
          "output_type": "display_data",
          "data": {
            "text/plain": [
              "<IPython.core.display.Latex object>"
            ],
            "text/latex": "M = \\left[\\begin{matrix}0 & 3 + i & 5 - 2 i & 1\\\\- i & 2 & 1 - i & 2\\\\5 & -1 + 4 i & -3 & 3\\end{matrix}\\right]\\\\perm = \\left[ \\left[ 0, \\  1\\right]\\right], L = \\left[\\begin{matrix}1 & 0 & 0\\\\0 & 1 & 0\\\\5 i & - \\frac{9}{10} - \\frac{17 i}{10} & 1\\end{matrix}\\right], U = \\left[\\begin{matrix}- i & 2 & 1 - i & 2\\\\0 & 3 + i & 5 - 2 i & 1\\\\0 & 0 & - \\frac{1}{10} + \\frac{17 i}{10} & \\frac{39}{10} - \\frac{83 i}{10}\\end{matrix}\\right]\\\\\nLU = \\left[\\begin{matrix}- i & 2 & 1 - i & 2\\\\0 & 3 + i & 5 - 2 i & 1\\\\5 & -1 + 4 i & -3 & 3\\end{matrix}\\right]\\\\LU.permuteBkwd(perm) = \\left[\\begin{matrix}0 & 3 + i & 5 - 2 i & 1\\\\- i & 2 & 1 - i & 2\\\\5 & -1 + 4 i & -3 & 3\\end{matrix}\\right]\\\\PM = LU\\ \\text{True}"
          },
          "metadata": {}
        }
      ]
    },
    {
      "cell_type": "markdown",
      "metadata": {
        "id": "UEFx5UIMCDbd"
      },
      "source": [
        "### QR разложение\n",
        "$A = QR$ для симметричной вещественной матрицы $A$\n",
        "\n",
        "$Q$ - матрица из ортогональных столбцов, т.е. $Q^HQ = I$, $I$ - единичная матрица, причем может не выполняться $QQ^H = I$ (для ортогональной матрицы $Q^HQ = QQ^H = I$),\n",
        "$R$ - правая треугольная (трапециевидная) матрица.\n",
        "\n",
        "Ранг матрицы $A$ равен числу столбцов матрицы $Q$.\n",
        "### Пример 6.\n",
        "Построим  QR разложение для матрицы Примера 5."
      ]
    },
    {
      "cell_type": "code",
      "metadata": {
        "id": "bzI8VBfkCDbd",
        "outputId": "58b33a8b-9a13-4fb9-d8e2-441e3cf03983",
        "colab": {
          "base_uri": "https://localhost:8080/",
          "height": 236
        }
      },
      "source": [
        "Q, R = M.QRdecomposition()\n",
        "MQR = Q * R\n",
        "Q, R, MQR = [simplify(expand(item)) for item in (Q, R, MQR)]\n",
        "display(Latex(\"\"\"M = {}\\\\\\\\Q = {}, R = {}\\\\\\\\\n",
        "QR = {}\\\\\\\\M = QR\\ {}\"\"\".format(*map(latex, (M, Q, R, MQR, M == MQR))))) "
      ],
      "execution_count": 8,
      "outputs": [
        {
          "output_type": "display_data",
          "data": {
            "text/plain": [
              "<IPython.core.display.Latex object>"
            ],
            "text/latex": "M = \\left[\\begin{matrix}0 & 3 + i & 5 - 2 i & 1\\\\- i & 2 & 1 - i & 2\\\\5 & -1 + 4 i & -3 & 3\\end{matrix}\\right]\\\\Q = \\left[\\begin{matrix}0 & \\frac{\\sqrt{858} \\left(3 + i\\right)}{99} & \\frac{\\sqrt{957} \\left(28 + 17 i\\right)}{2871}\\\\- \\frac{\\sqrt{26} i}{26} & \\frac{5 \\sqrt{858} \\left(6 - i\\right)}{2574} & - \\frac{5 \\sqrt{957} \\left(17 + i\\right)}{2871}\\\\\\frac{5 \\sqrt{26}}{26} & - \\frac{\\sqrt{858} \\left(1 + 6 i\\right)}{2574} & \\frac{\\sqrt{957} \\left(-1 + 17 i\\right)}{2871}\\end{matrix}\\right], R = \\left[\\begin{matrix}\\sqrt{26} & \\frac{\\sqrt{26} \\left(-5 + 22 i\\right)}{26} & \\frac{\\sqrt{26} \\left(-14 + i\\right)}{26} & \\frac{\\sqrt{26} \\left(15 + 2 i\\right)}{26}\\\\0 & \\frac{3 \\sqrt{858}}{26} & \\frac{\\sqrt{858} \\left(376 - 329 i\\right)}{2574} & \\frac{\\sqrt{858} \\left(135 + 2 i\\right)}{2574}\\\\0 & 0 & \\frac{\\sqrt{957}}{99} & - \\frac{\\sqrt{957} \\left(5 + 2 i\\right)}{99}\\end{matrix}\\right]\\\\\nQR = \\left[\\begin{matrix}0 & 3 + i & 5 - 2 i & 1\\\\- i & 2 & 1 - i & 2\\\\5 & -1 + 4 i & -3 & 3\\end{matrix}\\right]\\\\M = QR\\ \\text{True}"
          },
          "metadata": {}
        }
      ]
    },
    {
      "cell_type": "markdown",
      "metadata": {
        "id": "eG34wwnQCDbe"
      },
      "source": [
        "## Решение систем линейных уравнений с помощью разложений.\n",
        "### Пример 7.\n",
        "Решим с помощью  QR разложения матрицы\n",
        "$$\n",
        "B=\\left(\n",
        "\\begin{matrix}\n",
        "1 &  2 & 3\\\\\n",
        "4 & 5 &  6\\\\\n",
        "7 &  8 & 9\n",
        "\\end{matrix}\n",
        "\\right)\n",
        "$$\n",
        "систему линейных уравнений\n",
        "$$\n",
        "BX = b,\n",
        "\\quad\n",
        "b = \\left(\n",
        "\\begin{matrix}6\\\\12\\\\24\\end{matrix}\n",
        "\\right).\n",
        "$$\n",
        "Проверим совместность СЛАУ:"
      ]
    },
    {
      "cell_type": "code",
      "metadata": {
        "id": "XReaaq-VCDbe",
        "outputId": "21ffbc4b-2de1-438a-c4a9-41e6dfc63eb9",
        "colab": {
          "base_uri": "https://localhost:8080/"
        }
      },
      "source": [
        "B = Matrix([[1, 2, 3], [4, 5, 6], [7, 8, 9]])\n",
        "b = Matrix([6, 12, 24])\n",
        "Bb = B.row_join(b)\n",
        "print(f\"\"\"B.rank = {B.rank()}, Bb.rank = {Bb.rank()},\n",
        "B.rank == Bb.rank(): {B.rank() == Bb.rank()}\"\"\")"
      ],
      "execution_count": 9,
      "outputs": [
        {
          "output_type": "stream",
          "name": "stdout",
          "text": [
            "B.rank = 2, Bb.rank = 3,\n",
            "B.rank == Bb.rank(): False\n"
          ]
        }
      ]
    },
    {
      "cell_type": "markdown",
      "metadata": {
        "id": "I2kw7IyZCDbf"
      },
      "source": [
        "СЛАУ несовместна, в обычном смысле решения нет, но с помощью QR разложения можно найти псевдорешение, т.е. такую матрицу- столбец, что при подстановке в СЛАУ вместо $X$ даст минимальную возможную норму разности левой и правой частей СЛАУ (невязки)."
      ]
    },
    {
      "cell_type": "code",
      "metadata": {
        "id": "Qo9hBvBTCDbf",
        "outputId": "e955b751-fbdd-4a44-c9a6-e7406db17edf",
        "colab": {
          "base_uri": "https://localhost:8080/",
          "height": 58
        }
      },
      "source": [
        "X = B.QRsolve(b)\n",
        "display(X)"
      ],
      "execution_count": 10,
      "outputs": [
        {
          "output_type": "display_data",
          "data": {
            "text/plain": [
              "Matrix([\n",
              "[1],\n",
              "[2]])"
            ],
            "text/latex": "$\\displaystyle \\left[\\begin{matrix}1\\\\2\\end{matrix}\\right]$"
          },
          "metadata": {}
        }
      ]
    },
    {
      "cell_type": "markdown",
      "metadata": {
        "id": "Ou1g-CzBCDbf"
      },
      "source": [
        "Для сокращения объема используемой памяти используется сокращенная форма QR разложения, при которой прямоугольная часть матрицы Q, состоящая из одних нулей, не хранится. Для восстановления полного решения в нашем случае достаточно добавить один ноль к получившемуся столбцу (поскольку столбце X должен состоять из трех элементов):"
      ]
    },
    {
      "cell_type": "code",
      "metadata": {
        "id": "LMBgX7zlCDbg",
        "outputId": "ddb43363-b82a-47f3-d804-ad5d40e78174",
        "colab": {
          "base_uri": "https://localhost:8080/",
          "height": 78
        }
      },
      "source": [
        "X = X.col_join(Matrix([0]))\n",
        "delta = B * X - b\n",
        "display(Latex('X = {}, delta = {}, delta.norm(2) = {}'.format(*map(latex, (X, delta, delta.norm(2))))))"
      ],
      "execution_count": 11,
      "outputs": [
        {
          "output_type": "display_data",
          "data": {
            "text/plain": [
              "<IPython.core.display.Latex object>"
            ],
            "text/latex": "X = \\left[\\begin{matrix}1\\\\2\\\\0\\end{matrix}\\right], delta = \\left[\\begin{matrix}-1\\\\2\\\\-1\\end{matrix}\\right], delta.norm(2) = \\sqrt{6}"
          },
          "metadata": {}
        }
      ]
    },
    {
      "cell_type": "markdown",
      "metadata": {
        "id": "c-m9yedRCDbg"
      },
      "source": [
        "Полученное псевдорешение не является нормальным псевдорешением, т.е. псевдорешением с минимальной нормой, но и нормальное псевдорешение проще получить, используя QR разложение."
      ]
    },
    {
      "cell_type": "markdown",
      "metadata": {
        "id": "_ry0xpmTCDbg"
      },
      "source": [
        "## Жорданова форма матрицы\n",
        "$A = PJP^{-1}$ для квадратной матрицы $A$\n",
        "\n",
        "$P$ - матрица перехода, $J$ - жорданова матрица.\n",
        "\n",
        "### Пример 8.\n",
        "Построим  жорданову форму для матриц\n",
        "$$\n",
        "B=\\left(\n",
        "\\begin{matrix}\n",
        "6 &  5 & -2\\\\\n",
        "-3 & -1 &  3\\\\\n",
        "2 &  1 & -2\n",
        "\\end{matrix}\n",
        "\\right)\n",
        "\\quad\n",
        "K=\\left(\n",
        "\\begin{matrix}\n",
        "6 &  5 & -2 & -3\\\\\n",
        "-3 & -1 &  3 &  3\\\\\n",
        "2 &  1 & -2 &  -3\\\\\n",
        "-1 & 1 & 5 & 5\n",
        "\\end{matrix}\n",
        "\\right)\n",
        "$$"
      ]
    },
    {
      "cell_type": "code",
      "metadata": {
        "id": "tfCGD4jMCDbh",
        "outputId": "6d8eb5ed-6fbf-42df-b254-6baba19f547c",
        "colab": {
          "base_uri": "https://localhost:8080/",
          "height": 139
        }
      },
      "source": [
        "B = Matrix([[6,  5, -2], [-3, -1,  3], [2,  1, -2]])\n",
        "P, J = B.jordan_form()\n",
        "P, J = [simplify(expand(item)) for item in (P, J)]\n",
        "display(Latex('P = {}, J = {}\\\\\\\\PJP^{{-1}} = {}, B  = {}'.format(*map(latex, (P, J, P * J * P ** (-1), B)))))"
      ],
      "execution_count": 12,
      "outputs": [
        {
          "output_type": "display_data",
          "data": {
            "text/plain": [
              "<IPython.core.display.Latex object>"
            ],
            "text/latex": "P = \\left[\\begin{matrix}1 & 9 & 1\\\\-1 & -6 & 1\\\\1 & 3 & 0\\end{matrix}\\right], J = \\left[\\begin{matrix}-1 & 0 & 0\\\\0 & 2 & 1\\\\0 & 0 & 2\\end{matrix}\\right]\\\\PJP^{-1} = \\left[\\begin{matrix}6 & 5 & -2\\\\-3 & -1 & 3\\\\2 & 1 & -2\\end{matrix}\\right], B  = \\left[\\begin{matrix}6 & 5 & -2\\\\-3 & -1 & 3\\\\2 & 1 & -2\\end{matrix}\\right]"
          },
          "metadata": {}
        }
      ]
    },
    {
      "cell_type": "code",
      "metadata": {
        "id": "his9XgJeCDbh",
        "outputId": "52aaa465-de01-4ec4-9dd3-587519c79b17",
        "colab": {
          "base_uri": "https://localhost:8080/",
          "height": 180
        }
      },
      "source": [
        "K = Matrix([[6,  5, -2, -3], [-3, -1,  3,  3], [2,  1, -2, -3], [-1,  1,  5,  5]])\n",
        "P, J = K.jordan_form()\n",
        "P, J = [simplify(expand(item)) for item in (P, J)]\n",
        "display(Latex('P = {}, J = {}\\\\\\\\PJP^{{-1}} = {}, K  = {}'.format(*map(latex, (P, J, P * J * P ** (-1), K)))))"
      ],
      "execution_count": 13,
      "outputs": [
        {
          "output_type": "display_data",
          "data": {
            "text/plain": [
              "<IPython.core.display.Latex object>"
            ],
            "text/latex": "P = \\left[\\begin{matrix}4 & 1 & 5 & 0\\\\-3 & 0 & -3 & 1\\\\2 & 0 & 1 & 0\\\\-1 & 0 & 1 & 0\\end{matrix}\\right], J = \\left[\\begin{matrix}2 & 1 & 0 & 0\\\\0 & 2 & 0 & 0\\\\0 & 0 & 2 & 1\\\\0 & 0 & 0 & 2\\end{matrix}\\right]\\\\PJP^{-1} = \\left[\\begin{matrix}6 & 5 & -2 & -3\\\\-3 & -1 & 3 & 3\\\\2 & 1 & -2 & -3\\\\-1 & 1 & 5 & 5\\end{matrix}\\right], K  = \\left[\\begin{matrix}6 & 5 & -2 & -3\\\\-3 & -1 & 3 & 3\\\\2 & 1 & -2 & -3\\\\-1 & 1 & 5 & 5\\end{matrix}\\right]"
          },
          "metadata": {}
        }
      ]
    }
  ]
}