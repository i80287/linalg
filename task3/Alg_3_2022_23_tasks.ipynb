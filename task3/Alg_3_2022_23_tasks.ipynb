{
  "cells": [
    {
      "cell_type": "markdown",
      "metadata": {
        "id": "KqMzidc80GGB"
      },
      "source": [
        "# Занятие 3\n",
        "# Алгебра\n",
        "## Решение систем линейных алгебраических уравнений (СЛАУ)"
      ]
    },
    {
      "cell_type": "markdown",
      "metadata": {
        "id": "675Fb5ND0GGK"
      },
      "source": [
        "https://docs.sympy.org/latest/modules/solvers/solveset.html#sympy.solvers.solveset.linsolve"
      ]
    },
    {
      "cell_type": "code",
      "execution_count": 1,
      "metadata": {
        "id": "TNk5d0Si0GGK"
      },
      "outputs": [],
      "source": [
        "from sympy import linsolve, Matrix, S, Symbol, symbols, Eq, linear_eq_to_matrix, simplify, diag"
      ]
    },
    {
      "cell_type": "markdown",
      "metadata": {
        "id": "dMGJ1uQC0GGM"
      },
      "source": [
        "### Задание 1.\n",
        "Решить СЛАУ, представив их тремя различными способами (расширенная матрица, список уравнений, матричный вид)\n",
        "$$\n",
        "a)\\ \\left\\{\n",
        "\\begin{matrix}\n",
        "-x+5y-3z=8\\\\\n",
        "4x-y+5z=-1\\\\\n",
        "3x+4y+5z=10\n",
        "\\end{matrix}\n",
        "\\right., \\quad \n",
        "b)\\ \\left\\{\n",
        "\\begin{matrix}\n",
        "-x+5y-3z=8\\\\\n",
        "4x-y+5z=-1\\\\\n",
        "3x+4y+2z=7\n",
        "\\end{matrix}\n",
        "\\right., \\quad \n",
        "c)\\ \\left\\{\n",
        "\\begin{matrix}\n",
        "-x+5y-3z=8\\\\\n",
        "4x-y+5z=-1\\\\\n",
        "3x+4y+2z=5\n",
        "\\end{matrix}\n",
        "\\right.\n",
        "$$"
      ]
    },
    {
      "cell_type": "code",
      "execution_count": 2,
      "metadata": {
        "id": "mGOuiK5h0GGN"
      },
      "outputs": [
        {
          "data": {
            "text/latex": [
              "$\\displaystyle \\left\\{\\left( -1, \\  2, \\  1\\right)\\right\\}$"
            ],
            "text/plain": [
              "{(-1, 2, 1)}"
            ]
          },
          "metadata": {},
          "output_type": "display_data"
        },
        {
          "data": {
            "text/latex": [
              "$\\displaystyle \\left\\{\\left( \\frac{3}{19} - \\frac{22 z}{19}, \\  \\frac{7 z}{19} + \\frac{31}{19}, \\  z\\right)\\right\\}$"
            ],
            "text/plain": [
              "{(3/19 - 22*z/19, 7*z/19 + 31/19, z)}"
            ]
          },
          "metadata": {},
          "output_type": "display_data"
        },
        {
          "data": {
            "text/latex": [
              "$\\displaystyle \\left\\{\\left( \\frac{3}{19} - \\frac{22 z}{19}, \\  \\frac{7 z}{19} + \\frac{31}{19}, \\  z\\right)\\right\\}$"
            ],
            "text/plain": [
              "{(3/19 - 22*z/19, 7*z/19 + 31/19, z)}"
            ]
          },
          "metadata": {},
          "output_type": "display_data"
        },
        {
          "data": {
            "text/latex": [
              "$\\displaystyle \\emptyset$"
            ],
            "text/plain": [
              "EmptySet"
            ]
          },
          "metadata": {},
          "output_type": "display_data"
        }
      ],
      "source": [
        "# a)\n",
        "ext_ab_matrix = Matrix((\n",
        "    (-1, 5, -3, 8),\n",
        "    (4, -1, 5, -1),\n",
        "    (3, 4, 5, 10),\n",
        "))\n",
        "solution_1 = linsolve(ext_ab_matrix)\n",
        "display(solution_1)\n",
        "\n",
        "# b)\n",
        "x, y, z = symbols(\"x y z\")\n",
        "system_eqs_raw = [\n",
        "    -x + 5 * y - 3 * z - 8,\n",
        "    4 * x - y + 5 * z + 1,\n",
        "    3 * x + 4 * y + 2 * z - 7,\n",
        "]\n",
        "solution_2 = linsolve(system_eqs_raw, x, y, z)\n",
        "display(solution_2)\n",
        "\n",
        "system_eqs = [\n",
        "    Eq(-x + 5 * y - 3 * z, 8),\n",
        "    Eq(4 * x - y + 5 * z, -1),\n",
        "    Eq(3 * x + 4 * y + 2 * z, 7),\n",
        "]\n",
        "solution_2_2 = linsolve(system_eqs, x, y, z)\n",
        "display(solution_2_2)\n",
        "\n",
        "# c)\n",
        "a_matrix = Matrix((\n",
        "    (-1, 5, -3),\n",
        "    (4, -1, 5),\n",
        "    (3, 4, 2),\n",
        "))\n",
        "b_matrix = Matrix([8, -1, 5])\n",
        "solution_3 = linsolve((a_matrix, b_matrix))\n",
        "display(solution_3)\n"
      ]
    },
    {
      "cell_type": "markdown",
      "metadata": {
        "id": "sJLNktgn0GGO"
      },
      "source": [
        "### Задание 2.\n",
        "\n",
        "Решить СЛАУ с параметром $a$, представив их списком уравнений, а затем приведя к матричному виду с помощью linear_eq_to_matrix\n",
        "$$\n",
        "a)\\ \\left\\{\n",
        "\\begin{matrix}\n",
        "ax+5y-3z=8\\\\\n",
        "4x-y+5z=-1\\\\\n",
        "3x+4y+5z=10\n",
        "\\end{matrix}\n",
        "\\right., \\quad \n",
        "b)\\ \\left\\{\n",
        "\\begin{matrix}\n",
        "(a-1)x+5y-3z=8\\\\\n",
        "(4+a)x-y+5z=-1\\\\\n",
        "(3+2a)x+4y+2z=7\n",
        "\\end{matrix}\n",
        "\\right., \\quad \n",
        "c) \\left\\{\n",
        "\\begin{matrix}\n",
        "-x+5y-3z=8a\\\\\n",
        "4x-ay+5z=-a\\\\\n",
        "3x+4y+2z=5a\n",
        "\\end{matrix}\n",
        "\\right.\n",
        "$$\n",
        "Решить СЛАУ а) при $a=-82/25$, b) при $a=-19/6$, $-3.17$ и $-3.167$, c) при $a=1$.\n",
        "\n",
        "Проанализировать результаты. Для каждого случая (кроме случая несовместной СЛАУ) провести проверку подстановкой.\n",
        "\n",
        "При подстановке дробей пользоваться конструкцией вида $S(num)/den$, например,\n",
        "$S(2)/3$"
      ]
    },
    {
      "cell_type": "code",
      "execution_count": 32,
      "metadata": {
        "id": "aSNNtMhc0GGP"
      },
      "outputs": [
        {
          "name": "stdout",
          "output_type": "stream",
          "text": [
            "\n",
            "Solution of the system a) :\n"
          ]
        },
        {
          "data": {
            "text/latex": [
              "$\\displaystyle \\left\\{\\left( - \\frac{57}{25 a + 82}, \\  \\frac{55 a + 169}{25 a + 82}, \\  \\frac{6 a + 63}{25 a + 82}\\right)\\right\\}$"
            ],
            "text/plain": [
              "{(-57/(25*a + 82), (55*a + 169)/(25*a + 82), (6*a + 63)/(25*a + 82))}"
            ]
          },
          "metadata": {},
          "output_type": "display_data"
        },
        {
          "name": "stdout",
          "output_type": "stream",
          "text": [
            "Not a solution when a = -82/25\n",
            "\n",
            "Solution of the system b) :\n"
          ]
        },
        {
          "data": {
            "text/latex": [
              "$\\displaystyle \\left\\{\\left( - \\frac{22 \\tau_{0}}{6 a + 19} + \\frac{3}{6 a + 19}, \\  \\frac{\\tau_{0} \\cdot \\left(8 a + 7\\right)}{6 a + 19} + \\frac{9 a + 31}{6 a + 19}, \\  \\tau_{0}\\right)\\right\\}$"
            ],
            "text/plain": [
              "{(-22*tau0/(6*a + 19) + 3/(6*a + 19), tau0*(8*a + 7)/(6*a + 19) + (9*a + 31)/(6*a + 19), tau0)}"
            ]
          },
          "metadata": {},
          "output_type": "display_data"
        },
        {
          "name": "stdout",
          "output_type": "stream",
          "text": [
            "Not a solution when a = -19/6\n",
            "Not a solution when a = -3.17000000000000\n",
            "Not a solution when a = -3.16700000000000\n",
            "\n",
            "Solution of the system c) :\n"
          ]
        },
        {
          "data": {
            "text/latex": [
              "$\\displaystyle \\left\\{\\left( \\frac{31 a^{2} + 13 a}{7 a - 7}, \\  - \\frac{2 a}{a - 1}, \\  \\frac{- 29 a^{2} - 9 a}{7 a - 7}\\right)\\right\\}$"
            ],
            "text/plain": [
              "{((31*a**2 + 13*a)/(7*a - 7), -2*a/(a - 1), (-29*a**2 - 9*a)/(7*a - 7))}"
            ]
          },
          "metadata": {},
          "output_type": "display_data"
        },
        {
          "name": "stdout",
          "output_type": "stream",
          "text": [
            "Not a solution when a = 1\n"
          ]
        }
      ],
      "source": [
        "a = Symbol('a')\n",
        "x, y, z = symbols(\"x y z\")\n",
        "\n",
        "def process_matrix(matrix: tuple, solution_text: str, *subs):\n",
        "    solution = linsolve(matrix)\n",
        "    print(solution_text)\n",
        "    display(solution)\n",
        "\n",
        "    if not solution.is_empty:\n",
        "        global a\n",
        "        for sub in subs:\n",
        "            solution_sub = Matrix(*solution.subs({a: sub}))\n",
        "            a_subs = matrix[0].subs(a, sub)\n",
        "            b_subs = matrix[1].subs(a, sub)\n",
        "            if simplify(a_subs * solution_sub) == b_subs:\n",
        "                print(f\"After substitution a = {sub} :\")\n",
        "                display(solution_sub)\n",
        "            else:\n",
        "                print(f\"Not a solution when a = {sub}\")\n",
        "\n",
        "\n",
        "a_matrix = linear_eq_to_matrix((\n",
        "    Eq(a*x + 5*y - 3*z, 8),\n",
        "    Eq(4*x - y + 5*z, -1),\n",
        "    Eq(3*x + 4*y + 5*z, 10),\n",
        "), x, y, z)\n",
        "b_matrix = linear_eq_to_matrix((\n",
        "    Eq((a - 1)*x + 5*y - 3*z, 8),\n",
        "    Eq((4 + a)*x - y + 5*z, -1),\n",
        "    Eq((3 + 2*a)*x + 4*y + 2*z, 7),\n",
        "), x, y, z)\n",
        "c_matrix = linear_eq_to_matrix((\n",
        "    Eq(-x + 5*y - 3*z, 8*a),\n",
        "    Eq(4*x - a*y + 5*z, -a),\n",
        "    Eq(3*x + 4*y + 2*z, 5*a),\n",
        "), x, y, z)\n",
        "\n",
        "process_matrix(a_matrix, \"\\nSolution of the system a) :\", S(-82)/25)\n",
        "process_matrix(b_matrix, \"\\nSolution of the system b) :\", S(-19)/6, S(-3.17), S(-3.167))\n",
        "process_matrix(c_matrix, \"\\nSolution of the system c) :\", S(1))\n"
      ]
    },
    {
      "cell_type": "markdown",
      "metadata": {
        "id": "m8SPA6yz0GGP"
      },
      "source": [
        "### Задание 3\n",
        "В расширенной матрице СЛАУ из Задания 1 а) \n",
        "\n",
        "1) выделить матрицу левой части\n",
        "\n",
        "2) выделить столбец правой части\n",
        "\n",
        "3) транспонировать матрицу, полученную в 1)\n",
        "\n",
        "4) получить расширенную матрицу из матрицы 3) и столбца 2)\n",
        "\n",
        "5) создать на основе лямбда-функции матрицу $3\\times 4$ из расположенных в шахматном порядке чисел 1 и $-1$."
      ]
    },
    {
      "cell_type": "markdown",
      "metadata": {},
      "source": [
        "$$\n",
        "a)\\ \\left\\{\n",
        "\\begin{matrix}\n",
        "-x+5y-3z=8\\\\\n",
        "4x-y+5z=-1\\\\\n",
        "3x+4y+5z=10\n",
        "\\end{matrix}\n",
        "\\right., \\quad \n",
        "$$"
      ]
    },
    {
      "cell_type": "code",
      "execution_count": 4,
      "metadata": {
        "id": "kLp-wnly0GGQ"
      },
      "outputs": [
        {
          "name": "stdout",
          "output_type": "stream",
          "text": [
            "Left matrix A:\n"
          ]
        },
        {
          "data": {
            "text/latex": [
              "$\\displaystyle \\left[\\begin{matrix}-1 & 5 & -3\\\\4 & -1 & 5\\\\3 & 4 & 5\\end{matrix}\\right]$"
            ],
            "text/plain": [
              "Matrix([\n",
              "[-1,  5, -3],\n",
              "[ 4, -1,  5],\n",
              "[ 3,  4,  5]])"
            ]
          },
          "metadata": {},
          "output_type": "display_data"
        },
        {
          "name": "stdout",
          "output_type": "stream",
          "text": [
            "Right column b:\n"
          ]
        },
        {
          "data": {
            "text/latex": [
              "$\\displaystyle \\left[\\begin{matrix}8\\\\-1\\\\10\\end{matrix}\\right]$"
            ],
            "text/plain": [
              "Matrix([\n",
              "[ 8],\n",
              "[-1],\n",
              "[10]])"
            ]
          },
          "metadata": {},
          "output_type": "display_data"
        },
        {
          "name": "stdout",
          "output_type": "stream",
          "text": [
            "Transposed A:\n"
          ]
        },
        {
          "data": {
            "text/latex": [
              "$\\displaystyle \\left[\\begin{matrix}-1 & 4 & 3\\\\5 & -1 & 4\\\\-3 & 5 & 5\\end{matrix}\\right]$"
            ],
            "text/plain": [
              "Matrix([\n",
              "[-1,  4, 3],\n",
              "[ 5, -1, 4],\n",
              "[-3,  5, 5]])"
            ]
          },
          "metadata": {},
          "output_type": "display_data"
        },
        {
          "name": "stdout",
          "output_type": "stream",
          "text": [
            "New extended matrix (A^T | b):\n"
          ]
        },
        {
          "data": {
            "text/latex": [
              "$\\displaystyle \\left[\\begin{matrix}-1 & 5 & -3 & 8\\\\4 & -1 & 5 & -1\\\\3 & 4 & 5 & 10\\end{matrix}\\right]$"
            ],
            "text/plain": [
              "Matrix([\n",
              "[-1,  5, -3,  8],\n",
              "[ 4, -1,  5, -1],\n",
              "[ 3,  4,  5, 10]])"
            ]
          },
          "metadata": {},
          "output_type": "display_data"
        },
        {
          "name": "stdout",
          "output_type": "stream",
          "text": [
            "Matrix 3x4 generated by lambda func:\n"
          ]
        },
        {
          "data": {
            "text/latex": [
              "$\\displaystyle \\left[\\begin{matrix}1 & -1 & 1 & -1\\\\-1 & 1 & -1 & 1\\\\1 & -1 & 1 & -1\\end{matrix}\\right]$"
            ],
            "text/plain": [
              "Matrix([\n",
              "[ 1, -1,  1, -1],\n",
              "[-1,  1, -1,  1],\n",
              "[ 1, -1,  1, -1]])"
            ]
          },
          "metadata": {},
          "output_type": "display_data"
        }
      ],
      "source": [
        "def print_matrix(matrix: Matrix, text: str):\n",
        "    print(text)\n",
        "    display(matrix)\n",
        "\n",
        "ext_matrix = Matrix((\n",
        "    (-1, 5, -3, 8),\n",
        "    (4, -1, 5, -1),\n",
        "    (3, 4, 5, 10),\n",
        "))\n",
        "\n",
        "a_matrix = ext_matrix[:, :-1]\n",
        "print_matrix(a_matrix, \"Left matrix A:\")\n",
        "\n",
        "b_column = ext_matrix[:, -1]\n",
        "print_matrix(b_column, \"Right column b:\")\n",
        "\n",
        "trsp_a_matrix = a_matrix.transpose()\n",
        "print_matrix(trsp_a_matrix, \"Transposed A:\")\n",
        "\n",
        "new_ext_matrix = a_matrix.row_join(b_column)\n",
        "print_matrix(new_ext_matrix, \"New extended matrix (A^T | b):\")\n",
        "\n",
        "new_matrix = Matrix(3, 4, lambda i, j: (-1) ** (i + j))\n",
        "print_matrix(new_matrix, \"Matrix 3x4 generated by lambda func:\")"
      ]
    },
    {
      "cell_type": "markdown",
      "metadata": {
        "id": "PtPxOU3a0GGR"
      },
      "source": [
        "### Индивидуальное задание.\n",
        "Решить СЛАУ c параметром тремя способами. Вначале составить список уравнений и решить вторым способом, затем список уравнений преобразовать в матричный вид и решить третьим способом. Затем составить из матрицы левой части и столбца правой расширенную матрицу СЛАУ и решить первым способом. После этого провести проверку подстановкой.\n",
        "\n",
        "Затем отдельно рассмотреть значение параметра, при котором решение СЛАУ нельзя получить по общей формуле, полученной ранее.\n",
        "Найти решение СЛАУ при этом значении параметра первым или третьим способом, используя подстановку subs."
      ]
    },
    {
      "cell_type": "markdown",
      "metadata": {},
      "source": [
        "N50\n",
        "$$\n",
        "\\begin{align*}\n",
        " A = \\left[\\begin{matrix}-4 & 2 & -4 & -4\\\\9 & -6 & -5 & -2\\\\-2 & \\gamma & 9 & -8\\\\-13 & 8 & 1 & -2\\end{matrix}\\right],\n",
        "\\qquad b = \\left[\\begin{matrix}-54\\\\-42\\\\-33\\\\-12\\end{matrix}\\right]. \n",
        " \\end{align*}\n",
        "$$"
      ]
    },
    {
      "cell_type": "code",
      "execution_count": 43,
      "metadata": {
        "id": "FurJsbH00GGR"
      },
      "outputs": [
        {
          "name": "stdout",
          "output_type": "stream",
          "text": [
            "Solutions via the second way:\n"
          ]
        },
        {
          "data": {
            "text/latex": [
              "$\\displaystyle \\left\\{\\left( \\frac{x_{4} \\cdot \\left(262 - 6 \\gamma\\right)}{28 \\gamma - 61} + \\frac{51 \\gamma - 2397}{28 \\gamma - 61}, \\  \\frac{410 x_{4}}{28 \\gamma - 61} - \\frac{3765}{28 \\gamma - 61}, \\  \\frac{x_{4} \\cdot \\left(4 - 22 \\gamma\\right)}{28 \\gamma - 61} + \\frac{327 \\gamma - 309}{28 \\gamma - 61}, \\  x_{4}\\right)\\right\\}$"
            ],
            "text/plain": [
              "{(x4*(262 - 6*\\gamma)/(28*\\gamma - 61) + (51*\\gamma - 2397)/(28*\\gamma - 61), 410*x4/(28*\\gamma - 61) - 3765/(28*\\gamma - 61), x4*(4 - 22*\\gamma)/(28*\\gamma - 61) + (327*\\gamma - 309)/(28*\\gamma - 61), x4)}"
            ]
          },
          "metadata": {},
          "output_type": "display_data"
        },
        {
          "name": "stdout",
          "output_type": "stream",
          "text": [
            "Solutions via the third way:\n"
          ]
        },
        {
          "data": {
            "text/latex": [
              "$\\displaystyle \\left\\{\\left( \\frac{\\tau_{0} \\cdot \\left(262 - 6 \\gamma\\right)}{28 \\gamma - 61} + \\frac{51 \\gamma - 2397}{28 \\gamma - 61}, \\  \\frac{410 \\tau_{0}}{28 \\gamma - 61} - \\frac{3765}{28 \\gamma - 61}, \\  \\frac{\\tau_{0} \\cdot \\left(4 - 22 \\gamma\\right)}{28 \\gamma - 61} + \\frac{327 \\gamma - 309}{28 \\gamma - 61}, \\  \\tau_{0}\\right)\\right\\}$"
            ],
            "text/plain": [
              "{(tau0*(262 - 6*\\gamma)/(28*\\gamma - 61) + (51*\\gamma - 2397)/(28*\\gamma - 61), 410*tau0/(28*\\gamma - 61) - 3765/(28*\\gamma - 61), tau0*(4 - 22*\\gamma)/(28*\\gamma - 61) + (327*\\gamma - 309)/(28*\\gamma - 61), tau0)}"
            ]
          },
          "metadata": {},
          "output_type": "display_data"
        },
        {
          "name": "stdout",
          "output_type": "stream",
          "text": [
            "This solution is verified\n",
            "\n",
            "Solutions via the first way:\n"
          ]
        },
        {
          "data": {
            "text/latex": [
              "$\\displaystyle \\left\\{\\left( \\frac{\\tau_{0} \\cdot \\left(262 - 6 \\gamma\\right)}{28 \\gamma - 61} + \\frac{51 \\gamma - 2397}{28 \\gamma - 61}, \\  \\frac{410 \\tau_{0}}{28 \\gamma - 61} - \\frac{3765}{28 \\gamma - 61}, \\  \\frac{\\tau_{0} \\cdot \\left(4 - 22 \\gamma\\right)}{28 \\gamma - 61} + \\frac{327 \\gamma - 309}{28 \\gamma - 61}, \\  \\tau_{0}\\right)\\right\\}$"
            ],
            "text/plain": [
              "{(tau0*(262 - 6*\\gamma)/(28*\\gamma - 61) + (51*\\gamma - 2397)/(28*\\gamma - 61), 410*tau0/(28*\\gamma - 61) - 3765/(28*\\gamma - 61), tau0*(4 - 22*\\gamma)/(28*\\gamma - 61) + (327*\\gamma - 309)/(28*\\gamma - 61), tau0)}"
            ]
          },
          "metadata": {},
          "output_type": "display_data"
        },
        {
          "name": "stdout",
          "output_type": "stream",
          "text": [
            "This solution is verified\n",
            "\n",
            "Solution when γ = 61 / 28:\n"
          ]
        },
        {
          "data": {
            "text/latex": [
              "$\\displaystyle \\left\\{\\left( \\frac{1031}{41} - \\frac{17 \\tau_{0}}{3}, \\  \\frac{1708}{41} - \\frac{28 \\tau_{0}}{3}, \\  \\tau_{0}, \\  \\frac{753}{82}\\right)\\right\\}$"
            ],
            "text/plain": [
              "{(1031/41 - 17*tau0/3, 1708/41 - 28*tau0/3, tau0, 753/82)}"
            ]
          },
          "metadata": {},
          "output_type": "display_data"
        }
      ],
      "source": [
        "x1, x2, x3, x4, gamma = symbols(\"x1:5 \\gamma\")\n",
        "equations = [\n",
        "    Eq(-4*x1 + 2*x2 - 4*x3 - 4*x4, -54),\n",
        "    Eq(9*x1 - 6*x2 - 5*x3 - 2*x4, -42),\n",
        "    Eq(-2*x1 + gamma*x2 + 9*x3 - 8*x4, -33),\n",
        "    Eq(-13*x1 + 8*x2 + x3 - 2*x4, -12),\n",
        "]\n",
        "\n",
        "solution_2 = linsolve(equations, x1, x2, x3, x4)\n",
        "print(\"Solutions via the second way:\")\n",
        "display(solution_2)\n",
        "\n",
        "matrix_form = linear_eq_to_matrix(equations, x1, x2, x3, x4)\n",
        "solution_3 = linsolve(matrix_form)\n",
        "print(\"Solutions via the third way:\")\n",
        "display(solution_3)\n",
        "if simplify(matrix_form[0]*Matrix(*solution_3)) == matrix_form[1]:\n",
        "    print(\"This solution is verified\\n\")\n",
        "\n",
        "ext_matrix = matrix_form[0].row_join(matrix_form[1])\n",
        "solution_1 = linsolve(ext_matrix)\n",
        "print(\"Solutions via the first way:\")\n",
        "display(solution_1)\n",
        "if simplify(ext_matrix[:, :-1]*Matrix(*solution_1)) == ext_matrix[:, -1]:\n",
        "    print(\"This solution is verified\\n\")\n",
        "\n",
        "# Bad γ value is 61 / 28.\n",
        "sub_matrix = ext_matrix.subs(gamma, S(61)/28)\n",
        "print(\"Solution when γ = 61 / 28:\")\n",
        "display(linsolve(sub_matrix))"
      ]
    }
  ],
  "metadata": {
    "colab": {
      "collapsed_sections": [],
      "provenance": []
    },
    "kernelspec": {
      "display_name": "Python 3.11.0 ('.venv': venv)",
      "language": "python",
      "name": "python3"
    },
    "language_info": {
      "codemirror_mode": {
        "name": "ipython",
        "version": 3
      },
      "file_extension": ".py",
      "mimetype": "text/x-python",
      "name": "python",
      "nbconvert_exporter": "python",
      "pygments_lexer": "ipython3",
      "version": "3.11.0"
    },
    "vscode": {
      "interpreter": {
        "hash": "15070b5f4c01a16be65f6048f4eea768aba9ae68ce711f49339836ef743d1529"
      }
    }
  },
  "nbformat": 4,
  "nbformat_minor": 0
}
