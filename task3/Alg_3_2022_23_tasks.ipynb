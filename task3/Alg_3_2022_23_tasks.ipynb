{
  "nbformat": 4,
  "nbformat_minor": 0,
  "metadata": {
    "kernelspec": {
      "display_name": "Python 3",
      "language": "python",
      "name": "python3"
    },
    "language_info": {
      "codemirror_mode": {
        "name": "ipython",
        "version": 3
      },
      "file_extension": ".py",
      "mimetype": "text/x-python",
      "name": "python",
      "nbconvert_exporter": "python",
      "pygments_lexer": "ipython3",
      "version": "3.7.3"
    },
    "colab": {
      "provenance": [],
      "collapsed_sections": []
    }
  },
  "cells": [
    {
      "cell_type": "markdown",
      "metadata": {
        "id": "KqMzidc80GGB"
      },
      "source": [
        "# Занятие 3\n",
        "# Алгебра\n",
        "## Решение систем линейных алгебраических уравнений (СЛАУ)"
      ]
    },
    {
      "cell_type": "markdown",
      "metadata": {
        "id": "675Fb5ND0GGK"
      },
      "source": [
        "https://docs.sympy.org/latest/modules/solvers/solveset.html#sympy.solvers.solveset.linsolve"
      ]
    },
    {
      "cell_type": "code",
      "metadata": {
        "id": "TNk5d0Si0GGK"
      },
      "source": [
        "from sympy import linsolve, Matrix, S, Symbol, symbols, Eq, linear_eq_to_matrix, simplify, diag"
      ],
      "execution_count": 1,
      "outputs": []
    },
    {
      "cell_type": "markdown",
      "metadata": {
        "id": "dMGJ1uQC0GGM"
      },
      "source": [
        "### Задание 1.\n",
        "Решить СЛАУ, представив их тремя различными способами (расширенная матрица, список уравнений, матричный вид)\n",
        "$$\n",
        "a)\\ \\left\\{\n",
        "\\begin{matrix}\n",
        "-x+5y-3z=8\\\\\n",
        "4x-y+5z=-1\\\\\n",
        "3x+4y+5z=10\n",
        "\\end{matrix}\n",
        "\\right., \\quad \n",
        "b)\\ \\left\\{\n",
        "\\begin{matrix}\n",
        "-x+5y-3z=8\\\\\n",
        "4x-y+5z=-1\\\\\n",
        "3x+4y+2z=7\n",
        "\\end{matrix}\n",
        "\\right., \\quad \n",
        "c)\\ \\left\\{\n",
        "\\begin{matrix}\n",
        "-x+5y-3z=8\\\\\n",
        "4x-y+5z=-1\\\\\n",
        "3x+4y+2z=5\n",
        "\\end{matrix}\n",
        "\\right.\n",
        "$$"
      ]
    },
    {
      "cell_type": "code",
      "metadata": {
        "id": "mGOuiK5h0GGN"
      },
      "source": [],
      "execution_count": null,
      "outputs": []
    },
    {
      "cell_type": "markdown",
      "metadata": {
        "id": "sJLNktgn0GGO"
      },
      "source": [
        "### Задание 2.\n",
        "\n",
        "Решить СЛАУ с параметром $a$, представив их списком уравнений, а затем приведя к матричному виду с помощью linear_eq_to_matrix\n",
        "$$\n",
        "a)\\ \\left\\{\n",
        "\\begin{matrix}\n",
        "ax+5y-3z=8\\\\\n",
        "4x-y+5z=-1\\\\\n",
        "3x+4y+5z=10\n",
        "\\end{matrix}\n",
        "\\right., \\quad \n",
        "b)\\ \\left\\{\n",
        "\\begin{matrix}\n",
        "(a-1)x+5y-3z=8\\\\\n",
        "(4+a)x-y+5z=-1\\\\\n",
        "(3+2a)x+4y+2z=7\n",
        "\\end{matrix}\n",
        "\\right., \\quad \n",
        "c) \\left\\{\n",
        "\\begin{matrix}\n",
        "-x+5y-3z=8a\\\\\n",
        "4x-ay+5z=-a\\\\\n",
        "3x+4y+2z=5a\n",
        "\\end{matrix}\n",
        "\\right.\n",
        "$$\n",
        "Решить СЛАУ а) при $a=-82/25$, b) при $a=-19/6$, $-3.17$ и $-3.167$, c) при $a=1$.\n",
        "\n",
        "Проанализировать результаты. Для каждого случая (кроме случая несовместной СЛАУ) провести проверку подстановкой.\n",
        "\n",
        "При подстановке дробей пользоваться конструкцией вида $S(num)/den$, например,\n",
        "$S(2)/3$"
      ]
    },
    {
      "cell_type": "code",
      "metadata": {
        "id": "aSNNtMhc0GGP"
      },
      "source": [],
      "execution_count": null,
      "outputs": []
    },
    {
      "cell_type": "markdown",
      "metadata": {
        "id": "m8SPA6yz0GGP"
      },
      "source": [
        "### Задание 3\n",
        "В расширенной матрице СЛАУ из Задания 1 а) \n",
        "\n",
        "1) выделить матрицу левой части\n",
        "\n",
        "2) выделить столбец правой части\n",
        "\n",
        "3) транспонировать матрицу, полученную в 1)\n",
        "\n",
        "4) получить расширенную матрицу из матрицы 3) и столбца 2)\n",
        "\n",
        "5) создать на основе лямбда-функции матрицу $3\\times 4$ из расположенных в шахматном порядке чисел 1 и $-1$."
      ]
    },
    {
      "cell_type": "code",
      "metadata": {
        "id": "kLp-wnly0GGQ"
      },
      "source": [],
      "execution_count": null,
      "outputs": []
    },
    {
      "cell_type": "markdown",
      "metadata": {
        "id": "PtPxOU3a0GGR"
      },
      "source": [
        "### Индивидуальное задание.\n",
        "Решить СЛАУ c параметром тремя способами. Вначале составить список уравнений и решить вторым способом, затем список уравнений преобразовать в матричный вид и решить третьим способом. Затем составить из матрицы левой части и столбца правой расширенную матрицу СЛАУ и решить первым способом. После этого провести проверку подстановкой.\n",
        "\n",
        "Затем отдельно рассмотреть значение параметра, при котором решение СЛАУ нельзя получить по общей формуле, полученной ранее.\n",
        "Найти решение СЛАУ при этом значении параметра первым или третьим способом, используя подстановку subs."
      ]
    },
    {
      "cell_type": "code",
      "metadata": {
        "id": "FurJsbH00GGR"
      },
      "source": [],
      "execution_count": null,
      "outputs": []
    }
  ]
}