{
  "nbformat": 4,
  "nbformat_minor": 0,
  "metadata": {
    "kernelspec": {
      "display_name": "Python 3",
      "language": "python",
      "name": "python3"
    },
    "language_info": {
      "codemirror_mode": {
        "name": "ipython",
        "version": 3
      },
      "file_extension": ".py",
      "mimetype": "text/x-python",
      "name": "python",
      "nbconvert_exporter": "python",
      "pygments_lexer": "ipython3",
      "version": "3.7.3"
    },
    "colab": {
      "provenance": [],
      "collapsed_sections": [
        "dxPfh63izvA3"
      ]
    }
  },
  "cells": [
    {
      "cell_type": "markdown",
      "metadata": {
        "id": "c6HyBQxAzvAa"
      },
      "source": [
        "# Занятие 3\n",
        "# Алгебра\n",
        "## Решение систем линейных алгебраических уравнений (СЛАУ)"
      ]
    },
    {
      "cell_type": "markdown",
      "metadata": {
        "id": "H2TtQzFozvAj"
      },
      "source": [
        "https://docs.sympy.org/latest/modules/solvers/solveset.html#sympy.solvers.solveset.linsolve"
      ]
    },
    {
      "cell_type": "code",
      "metadata": {
        "id": "Szq1iyf_zvAk"
      },
      "source": [
        "from sympy import linsolve, Matrix, S, Symbol, symbols, Eq, linear_eq_to_matrix, simplify, diag"
      ],
      "execution_count": 21,
      "outputs": []
    },
    {
      "cell_type": "markdown",
      "metadata": {
        "id": "5Y0ARnYvzvAm"
      },
      "source": [
        "## linsolve(system, *symbols)\n",
        "\n",
        "linsolve это решатель СЛАУ из N уравнений от M переменных, в том числе недоопределенных и переопределенных. Возможное число решений ноль, одно или бесконечное множество решений. \n",
        "\n",
        "В случае несовместной СЛАУ ответ - ***пустое множество*** $∅$ или выдается сообщение об ошибке ValueError, а бесконечное число решений описывается параметрически выражениями от переменных СЛАУ.\n",
        "\n",
        "**Входные данные** могут быть представлены тремя способами.\n",
        "\n",
        "1.\tВ виде расширенной матрицы СЛАУ\n",
        "\n",
        "2.\tВ виде списка из уравнений\n",
        "\n",
        "3.\tВ матричном виде, т.е. в виде кортежа (A, b), где А – матрица левой части, b – столбец свободных членов\n",
        "\n",
        "\n",
        "Результат вычислений linsolve - множество! Это сделано для более корректного сравнения на равенство решений СЛАУ (например, в случае бесконечного множества решений).\n",
        "\n",
        "**Множества в sympy**\n",
        "\n",
        "https://docs.sympy.org/latest/_modules/sympy/sets/sets.html#FiniteSet\n",
        "    \n",
        "**Множество** - неупорядоченный набор элементов.\n",
        "\n",
        "В Sympy конечное множество называется **FiniteSet**.\n",
        "\n",
        "### Пример 1.\n",
        "Рассмотрим СЛАУ\n",
        "$$\n",
        "\\left\\{\n",
        "\\begin{matrix}\n",
        "2x + 3y - z = 5\\\\\n",
        "3x - 2y + z = 2\\\\\n",
        "x + y - z = 0\n",
        "\\end{matrix}\n",
        "\\right.\n",
        "$$\n",
        "### Способ 1. СЛАУ в виде расширенной матрицы. \n",
        "Составим расширенную матрицу СЛАУ и вызовем  linsolve. Передавать  linsolve имена переменных необязательно."
      ]
    },
    {
      "cell_type": "code",
      "metadata": {
        "id": "dyd9g6rrzvAo",
        "colab": {
          "base_uri": "https://localhost:8080/",
          "height": 37
        },
        "outputId": "6b862646-50fa-4e8c-bd63-86e0c0fa44c6"
      },
      "source": [
        "Ab = Matrix([[2, 3, -1, 5], [3, -2, 1, 2], [1, 1, -1, 0]])\n",
        "linsolve(Ab)"
      ],
      "execution_count": null,
      "outputs": [
        {
          "output_type": "execute_result",
          "data": {
            "text/latex": "$\\displaystyle \\left\\{\\left( 1, \\  2, \\  3\\right)\\right\\}$",
            "text/plain": [
              "FiniteSet((1, 2, 3))"
            ]
          },
          "metadata": {},
          "execution_count": 2
        }
      ]
    },
    {
      "cell_type": "markdown",
      "metadata": {
        "id": "hOdhwn9FzvAq"
      },
      "source": [
        "### Способ 2. В виде списка из уравнений\n",
        "Обязательно указывать имена переменных, поскольку бывают СЛАУ с параметрами, и в этом случае без явного указания переменных неясно, где переменная, а где параметр.\n",
        "\n",
        "Можно перенести свободные члены в правую часть и представить СЛАУ в таком виде:"
      ]
    },
    {
      "cell_type": "code",
      "metadata": {
        "id": "Im4M85BXzvAr",
        "colab": {
          "base_uri": "https://localhost:8080/",
          "height": 37
        },
        "outputId": "7318a187-6bd9-4eae-a93a-be454df80d76"
      },
      "source": [
        "x, y, z = symbols('x y z')\n",
        "System_eq = [2 * x + 3 * y - z - 5, 3 * x - 2 * y + z - 2, x + y - z]\n",
        "linsolve(System_eq, x, y, z)"
      ],
      "execution_count": 2,
      "outputs": [
        {
          "output_type": "execute_result",
          "data": {
            "text/plain": [
              "FiniteSet((1, 2, 3))"
            ],
            "text/latex": "$\\displaystyle \\left\\{\\left( 1, \\  2, \\  3\\right)\\right\\}$"
          },
          "metadata": {},
          "execution_count": 2
        }
      ]
    },
    {
      "cell_type": "markdown",
      "metadata": {
        "id": "1abz14iwzvAs"
      },
      "source": [
        "Альтернатива Eq(lhs, rhs), аргументы соответственно левая и правая части СЛАУ. Если правая часть уравнения 0, все равно нужно ее указывать в Eq."
      ]
    },
    {
      "cell_type": "code",
      "metadata": {
        "id": "PchZcFKPzvAt",
        "colab": {
          "base_uri": "https://localhost:8080/",
          "height": 37
        },
        "outputId": "77707779-5594-4db2-ea81-a34a64986de5"
      },
      "source": [
        "System_eq1 = [Eq(2 * x + 3 * y - z, 5), Eq(3 * x - 2 * y + z, 2), Eq(x + y - z, 0)]\n",
        "linsolve(System_eq1, x, y, z)"
      ],
      "execution_count": 3,
      "outputs": [
        {
          "output_type": "execute_result",
          "data": {
            "text/plain": [
              "FiniteSet((1, 2, 3))"
            ],
            "text/latex": "$\\displaystyle \\left\\{\\left( 1, \\  2, \\  3\\right)\\right\\}$"
          },
          "metadata": {},
          "execution_count": 3
        }
      ]
    },
    {
      "cell_type": "markdown",
      "metadata": {
        "id": "730QoVGbzvAv"
      },
      "source": [
        "### Способ 3.\n",
        "Перечислять переменные необязательно. Отличие от способа 2 в том, что каждому столбцу матрицы левой части СЛАУ всегда соответствует ровно одна переменная. Если имя переменной не указано, Sympy сам придумает имя."
      ]
    },
    {
      "cell_type": "code",
      "metadata": {
        "id": "SGZ1_0ApzvAw",
        "colab": {
          "base_uri": "https://localhost:8080/",
          "height": 37
        },
        "outputId": "4716edb7-00d8-48c2-c6dd-8edf395f82e9"
      },
      "source": [
        "A = Matrix([[2, 3, -1], [3, -2, 1], [1, 1, -1]])\n",
        "b = Matrix([5, 2, 0])\n",
        "linsolve((A, b))"
      ],
      "execution_count": 5,
      "outputs": [
        {
          "output_type": "execute_result",
          "data": {
            "text/plain": [
              "FiniteSet((1, 2, 3))"
            ],
            "text/latex": "$\\displaystyle \\left\\{\\left( 1, \\  2, \\  3\\right)\\right\\}$"
          },
          "metadata": {},
          "execution_count": 5
        }
      ]
    },
    {
      "cell_type": "markdown",
      "metadata": {
        "id": "iOc23Ur8zvAy"
      },
      "source": [
        "### Пример 2. Несовместная СЛАУ\n",
        "$$\n",
        "\\left\\{\n",
        "\\begin{matrix}\n",
        "2x + 3y - z = 5\\\\\n",
        "3x - 2y + z = 2\\\\\n",
        "5x + y = 0\n",
        "\\end{matrix}\n",
        "\\right.\n",
        "$$"
      ]
    },
    {
      "cell_type": "code",
      "metadata": {
        "id": "b6jT5-9nzvA1",
        "colab": {
          "base_uri": "https://localhost:8080/",
          "height": 37
        },
        "outputId": "1338c16b-7ce9-45d6-b5ad-acb3e49501a1"
      },
      "source": [
        "A = Matrix([[2, 3, -1], [3, -2, 1], [5, 1, 0]])\n",
        "b = Matrix([5, 2, 0])\n",
        "linsolve((A, b))"
      ],
      "execution_count": 6,
      "outputs": [
        {
          "output_type": "execute_result",
          "data": {
            "text/plain": [
              "EmptySet"
            ],
            "text/latex": "$\\displaystyle \\emptyset$"
          },
          "metadata": {},
          "execution_count": 6
        }
      ]
    },
    {
      "cell_type": "markdown",
      "metadata": {
        "id": "WQmibXfLzvA1"
      },
      "source": [
        "### Пример 3. Недоопределенная СЛАУ\n",
        "$$\n",
        "\\left\\{\n",
        "\\begin{matrix}\n",
        "2x + 3y - z = 5\\\\\n",
        "3x - 2y + z = 2\\\\\n",
        "5x + y = 7\n",
        "\\end{matrix}\n",
        "\\right.\n",
        "$$"
      ]
    },
    {
      "cell_type": "code",
      "metadata": {
        "id": "sybkkYpLzvA2",
        "colab": {
          "base_uri": "https://localhost:8080/",
          "height": 58
        },
        "outputId": "f9baf78b-1310-4a3a-fecc-dea2619ed05c"
      },
      "source": [
        "A = Matrix([[2, 3, -1], [3, -2, 1], [5, 1, 0]])\n",
        "b = Matrix([5, 2, 7])\n",
        "linsolve((A, b))"
      ],
      "execution_count": 7,
      "outputs": [
        {
          "output_type": "execute_result",
          "data": {
            "text/plain": [
              "FiniteSet((16/13 - tau0/13, 5*tau0/13 + 11/13, tau0))"
            ],
            "text/latex": "$\\displaystyle \\left\\{\\left( \\frac{16}{13} - \\frac{\\tau_{0}}{13}, \\  \\frac{5 \\tau_{0}}{13} + \\frac{11}{13}, \\  \\tau_{0}\\right)\\right\\}$"
          },
          "metadata": {},
          "execution_count": 7
        }
      ]
    },
    {
      "cell_type": "markdown",
      "metadata": {
        "id": "pGhergNGzvA2"
      },
      "source": [
        "#### Комментарий: \n",
        "linsolve сам придумал имя независимой переменной"
      ]
    },
    {
      "cell_type": "code",
      "metadata": {
        "id": "_BJDU276zvA3",
        "colab": {
          "base_uri": "https://localhost:8080/",
          "height": 58
        },
        "outputId": "a1ac60a9-46ae-4def-8aa4-9800a95eef5c"
      },
      "source": [
        "linsolve((A, b), x, y, z)"
      ],
      "execution_count": 8,
      "outputs": [
        {
          "output_type": "execute_result",
          "data": {
            "text/plain": [
              "FiniteSet((16/13 - z/13, 5*z/13 + 11/13, z))"
            ],
            "text/latex": "$\\displaystyle \\left\\{\\left( \\frac{16}{13} - \\frac{z}{13}, \\  \\frac{5 z}{13} + \\frac{11}{13}, \\  z\\right)\\right\\}$"
          },
          "metadata": {},
          "execution_count": 8
        }
      ]
    },
    {
      "cell_type": "markdown",
      "metadata": {
        "id": "dxPfh63izvA3"
      },
      "source": [
        "**Комментарий:** linsolve выбрал независимую переменную из списка своих аргументов."
      ]
    },
    {
      "cell_type": "markdown",
      "metadata": {
        "id": "l74lTqV2zvA4"
      },
      "source": [
        "## Приведение СЛАУ к матричному виду\n",
        "Пусть СЛАУ задана в виде списка уравнений, но требуется записать ее в матричном виде. Для представления СЛАУ в виде tuple из матрицы левой части и столбца правой части используется\n",
        "linear_eq_to_matrix(equations, *symbols).\n",
        "\n",
        "Символы переменных СЛАУ передавать необязательно, если СЛАУ не содержит параметров и все переменные встречаются хотя бы в одном уравнении.\n",
        "\n",
        "### Пример 4.\n",
        "Представить в матричном виде СЛАУ (построить матрицу левой части и столбец правой части)\n",
        "$$\n",
        "\\left\\{\n",
        "\\begin{matrix}\n",
        "c x + z = c + 1\\\\\n",
        "y + z = -2\\\\\n",
        "x - y = 5\n",
        "\\end{matrix}\n",
        "\\right.\n",
        "$$\n"
      ]
    },
    {
      "cell_type": "code",
      "metadata": {
        "id": "y7CdYwZUzvA4",
        "colab": {
          "base_uri": "https://localhost:8080/",
          "height": 139
        },
        "outputId": "19b43854-c092-44ac-9971-6c10396f4cec"
      },
      "source": [
        "c = Symbol('c')\n",
        "eqns = [Eq(c * x + z, c + 1), Eq(y + z, -2), Eq(x - y, 5)]\n",
        "A, b = linear_eq_to_matrix(eqns, [x, y, z])\n",
        "display(A, b)"
      ],
      "execution_count": 9,
      "outputs": [
        {
          "output_type": "display_data",
          "data": {
            "text/plain": [
              "Matrix([\n",
              "[c,  0, 1],\n",
              "[0,  1, 1],\n",
              "[1, -1, 0]])"
            ],
            "text/latex": "$\\displaystyle \\left[\\begin{matrix}c & 0 & 1\\\\0 & 1 & 1\\\\1 & -1 & 0\\end{matrix}\\right]$"
          },
          "metadata": {}
        },
        {
          "output_type": "display_data",
          "data": {
            "text/plain": [
              "Matrix([\n",
              "[c + 1],\n",
              "[   -2],\n",
              "[    5]])"
            ],
            "text/latex": "$\\displaystyle \\left[\\begin{matrix}c + 1\\\\-2\\\\5\\end{matrix}\\right]$"
          },
          "metadata": {}
        }
      ]
    },
    {
      "cell_type": "markdown",
      "metadata": {
        "id": "N6teUzM-zvA4"
      },
      "source": [
        "Решим СЛАУ $AX = b$. Во избежание путаницы будем обозначать $X$ вектор переменных СЛАУ, в нашем случае $X = \\left(\\begin{matrix}x\\\\ y\\\\ z\\end{matrix}\\right)$"
      ]
    },
    {
      "cell_type": "code",
      "metadata": {
        "id": "kqsLzeZjzvA5",
        "colab": {
          "base_uri": "https://localhost:8080/",
          "height": 58
        },
        "outputId": "3c164882-34f5-409a-9bca-d085cb710bdd"
      },
      "source": [
        "linsolve((A, b))"
      ],
      "execution_count": null,
      "outputs": [
        {
          "output_type": "execute_result",
          "data": {
            "text/latex": "$\\displaystyle \\left\\{\\left( \\frac{c - 2}{c - 1}, \\  \\frac{3 - 4 c}{c - 1}, \\  \\frac{2 c - 1}{c - 1}\\right)\\right\\}$",
            "text/plain": [
              "FiniteSet(((c - 2)/(c - 1), (3 - 4*c)/(c - 1), (2*c - 1)/(c - 1)))"
            ]
          },
          "metadata": {},
          "execution_count": 10
        }
      ]
    },
    {
      "cell_type": "markdown",
      "metadata": {
        "id": "K3q5h-3zzvA5"
      },
      "source": [
        "Заметим, что по этой формуле можно найти решение СЛАУ только при $c \\neq 1$. В случае $c = 1$ нужно в исходной СЛАУ выполнить подстановку  $c = 1$ и найти другие решения:"
      ]
    },
    {
      "cell_type": "code",
      "metadata": {
        "id": "v6knaNIKzvA6",
        "colab": {
          "base_uri": "https://localhost:8080/",
          "height": 37
        },
        "outputId": "6ea4da53-7cd8-4c02-c139-906b22cae85c"
      },
      "source": [
        "linsolve((A.subs(c, 1), b.subs(c, 1)))"
      ],
      "execution_count": null,
      "outputs": [
        {
          "output_type": "execute_result",
          "data": {
            "text/latex": "$\\displaystyle \\emptyset$",
            "text/plain": [
              "EmptySet"
            ]
          },
          "metadata": {},
          "execution_count": 11
        }
      ]
    },
    {
      "cell_type": "markdown",
      "metadata": {
        "id": "099lsJjJzvA6"
      },
      "source": [
        "В случае $c = 1$ исходная СЛАУ несовместна."
      ]
    },
    {
      "cell_type": "markdown",
      "metadata": {
        "id": "JSulYJS8zvA6"
      },
      "source": [
        "## Проверка правильности расчетов.\n",
        "### Пример 5.\n",
        "Рассмотрим СЛАУ\n",
        "$$\n",
        "\\left\\{\n",
        "\\begin{matrix}\n",
        "5x - 3y + z = 11\\\\\n",
        "2x - 2y + z = 7\\\\\n",
        "-x + 3y -2z = -10\n",
        "\\end{matrix}\n",
        "\\right.\n",
        "$$\n",
        "Найдем решение $X_0$ данной СЛАУ, записанной в виде $AX = b$. Проверим подстановкой, что $AX_0 = b$, для удобства будем проверять эквивалентное условие  $AX_0 - b = \\bar 0$.\n",
        "\n",
        "Вначале приведем СЛАУ к матричному виду с помощью linear_eq_to_matrix и воспользуемся linsolve"
      ]
    },
    {
      "cell_type": "code",
      "metadata": {
        "id": "Pdd7xvPDzvA6",
        "colab": {
          "base_uri": "https://localhost:8080/",
          "height": 58
        },
        "outputId": "8db2bff8-a0e2-4f7f-c556-2bf66b89aefe"
      },
      "source": [
        "A, b = linear_eq_to_matrix([Eq(5 * x - 3 * y + z, 11),\n",
        "                            Eq(2 * x - 2 * y + z, 7), \n",
        "                            Eq(-x + 3 * y - 2 * z, -10)],\n",
        "                           [x, y, z])\n",
        "X0 = linsolve((A, b), x, y, z)\n",
        "X0"
      ],
      "execution_count": 11,
      "outputs": [
        {
          "output_type": "execute_result",
          "data": {
            "text/plain": [
              "FiniteSet((z/4 + 1/4, 3*z/4 - 13/4, z))"
            ],
            "text/latex": "$\\displaystyle \\left\\{\\left( \\frac{z}{4} + \\frac{1}{4}, \\  \\frac{3 z}{4} - \\frac{13}{4}, \\  z\\right)\\right\\}$"
          },
          "metadata": {},
          "execution_count": 11
        }
      ]
    },
    {
      "cell_type": "markdown",
      "metadata": {
        "id": "09TiQcs_zvA6"
      },
      "source": [
        "Теперь нужно преобразовать в матрицу полученное решение, предварительно распаковав с помощью * множество:"
      ]
    },
    {
      "cell_type": "code",
      "metadata": {
        "id": "J739gVfpzvA7",
        "colab": {
          "base_uri": "https://localhost:8080/",
          "height": 78
        },
        "outputId": "69f419cb-ce30-4aee-f0df-20a88fe634a3"
      },
      "source": [
        "X0_matr = Matrix(*X0)\n",
        "display(X0_matr)"
      ],
      "execution_count": 12,
      "outputs": [
        {
          "output_type": "display_data",
          "data": {
            "text/plain": [
              "Matrix([\n",
              "[   z/4 + 1/4],\n",
              "[3*z/4 - 13/4],\n",
              "[           z]])"
            ],
            "text/latex": "$\\displaystyle \\left[\\begin{matrix}\\frac{z}{4} + \\frac{1}{4}\\\\\\frac{3 z}{4} - \\frac{13}{4}\\\\z\\end{matrix}\\right]$"
          },
          "metadata": {}
        }
      ]
    },
    {
      "cell_type": "markdown",
      "metadata": {
        "id": "r9DJLmjuzvA7"
      },
      "source": [
        "Теперь можно проверить $AX_0 - b = \\bar 0$"
      ]
    },
    {
      "cell_type": "code",
      "metadata": {
        "id": "Yi3X-g-tzvA7",
        "colab": {
          "base_uri": "https://localhost:8080/",
          "height": 78
        },
        "outputId": "fd46cd7b-37b2-4d22-9327-bbee79f20081"
      },
      "source": [
        "display(A * X0_matr - b)"
      ],
      "execution_count": 13,
      "outputs": [
        {
          "output_type": "display_data",
          "data": {
            "text/plain": [
              "Matrix([\n",
              "[0],\n",
              "[0],\n",
              "[0]])"
            ],
            "text/latex": "$\\displaystyle \\left[\\begin{matrix}0\\\\0\\\\0\\end{matrix}\\right]$"
          },
          "metadata": {}
        }
      ]
    },
    {
      "cell_type": "markdown",
      "metadata": {
        "id": "Vez6Su0_zvA7"
      },
      "source": [
        "### Пример 6.\n",
        "Записать сразу в матричном виде СЛАУ \n",
        "$$\n",
        "\\left\\{\n",
        "\\begin{matrix}\n",
        "x + ky - z = 1\\\\\n",
        "2x + y + z = -2\\\\\n",
        "-3x + (k - 2)z -3z = 5\n",
        "\\end{matrix}\n",
        "\\right..\n",
        "$$\n",
        "Решить СЛАУ при всех значениях параметра и выполнить проверку.\n",
        "\n",
        "При вызове linsolve передаем имена переменных, поскольку наша СЛАУ с параметром $k$."
      ]
    },
    {
      "cell_type": "code",
      "metadata": {
        "id": "ivXRLFSVzvA7",
        "colab": {
          "base_uri": "https://localhost:8080/",
          "height": 58
        },
        "outputId": "06794391-2a3e-40ae-bc80-042d2f2e6f0e"
      },
      "source": [
        "k = Symbol('k')\n",
        "A = Matrix([[1, k, -1],\n",
        "            [2, 1, 1],\n",
        "            [-3, k - 2, -3]])\n",
        "b = Matrix([1, -2, 5])\n",
        "sol1 = linsolve((A, b), x, y, z)\n",
        "display(sol1)"
      ],
      "execution_count": 14,
      "outputs": [
        {
          "output_type": "display_data",
          "data": {
            "text/plain": [
              "FiniteSet((z*(-k - 1)/(2*k - 1) + (-2*k - 1)/(2*k - 1), 3*z/(2*k - 1) + 4/(2*k - 1), z))"
            ],
            "text/latex": "$\\displaystyle \\left\\{\\left( \\frac{z \\left(- k - 1\\right)}{2 k - 1} + \\frac{- 2 k - 1}{2 k - 1}, \\  \\frac{3 z}{2 k - 1} + \\frac{4}{2 k - 1}, \\  z\\right)\\right\\}$"
          },
          "metadata": {}
        }
      ]
    },
    {
      "cell_type": "markdown",
      "metadata": {
        "id": "WMyx0jsUzvA8"
      },
      "source": [
        "Преобразуем множество из одного tuple в матрицу, как в Примере 5."
      ]
    },
    {
      "cell_type": "code",
      "metadata": {
        "id": "ZC2D8vKEzvA8",
        "colab": {
          "base_uri": "https://localhost:8080/",
          "height": 82
        },
        "outputId": "87d5b226-8b57-4ded-f7d1-0bf1671a9dcd"
      },
      "source": [
        "X1 = Matrix(*sol1)\n",
        "display(X1)"
      ],
      "execution_count": 15,
      "outputs": [
        {
          "output_type": "display_data",
          "data": {
            "text/plain": [
              "Matrix([\n",
              "[z*(-k - 1)/(2*k - 1) + (-2*k - 1)/(2*k - 1)],\n",
              "[                3*z/(2*k - 1) + 4/(2*k - 1)],\n",
              "[                                          z]])"
            ],
            "text/latex": "$\\displaystyle \\left[\\begin{matrix}\\frac{z \\left(- k - 1\\right)}{2 k - 1} + \\frac{- 2 k - 1}{2 k - 1}\\\\\\frac{3 z}{2 k - 1} + \\frac{4}{2 k - 1}\\\\z\\end{matrix}\\right]$"
          },
          "metadata": {}
        }
      ]
    },
    {
      "cell_type": "markdown",
      "metadata": {
        "id": "5SiFVjy9zvA8"
      },
      "source": [
        "Проверим правильность решения, вычисляя $AX_1 - b$ и сравнивая полученное значение с нулевым вектором."
      ]
    },
    {
      "cell_type": "code",
      "metadata": {
        "id": "DIaK-lwYzvA8",
        "colab": {
          "base_uri": "https://localhost:8080/",
          "height": 78
        },
        "outputId": "e05137be-3e7d-4ce0-f43b-1ca7cbd3e37a"
      },
      "source": [
        "display(simplify(A * X1 - b))"
      ],
      "execution_count": 16,
      "outputs": [
        {
          "output_type": "display_data",
          "data": {
            "text/plain": [
              "Matrix([\n",
              "[0],\n",
              "[0],\n",
              "[0]])"
            ],
            "text/latex": "$\\displaystyle \\left[\\begin{matrix}0\\\\0\\\\0\\end{matrix}\\right]$"
          },
          "metadata": {}
        }
      ]
    },
    {
      "cell_type": "markdown",
      "metadata": {
        "id": "VuYvFrDgzvA9"
      },
      "source": [
        "Случай $2k - 1 = 0$ нужно рассмотреть отдельно. Выполним подстановку subs в матрице $A$ и решим полученную СЛАУ."
      ]
    },
    {
      "cell_type": "code",
      "metadata": {
        "id": "i-QmTfuNzvA9",
        "colab": {
          "base_uri": "https://localhost:8080/",
          "height": 58
        },
        "outputId": "76ae75e3-577b-4036-b0ae-e540bb7dacbc"
      },
      "source": [
        "Ak = A.subs(k, S(1) / 2)\n",
        "sol2 = linsolve((Ak, b), x, y, z)\n",
        "sol2"
      ],
      "execution_count": 17,
      "outputs": [
        {
          "output_type": "execute_result",
          "data": {
            "text/plain": [
              "FiniteSet((-y/2 - 1/3, y, -4/3))"
            ],
            "text/latex": "$\\displaystyle \\left\\{\\left( - \\frac{y}{2} - \\frac{1}{3}, \\  y, \\  - \\frac{4}{3}\\right)\\right\\}$"
          },
          "metadata": {},
          "execution_count": 17
        }
      ]
    },
    {
      "cell_type": "markdown",
      "metadata": {
        "id": "DZnlZgubzvA9"
      },
      "source": [
        "Проверим его, вычисляя $AX1 - b$ и сравнивая полученное значение с нулевым вектором.\n",
        "Преобразуем множество из одного tuple в матрицу, как в Примере 5.\n",
        "\n",
        "**Важно:** при проверке используем не матрицу $A$ а матрицу $Ak$, в которой уже подставлено $k = 1/2$."
      ]
    },
    {
      "cell_type": "code",
      "metadata": {
        "id": "LOblHpVgzvA9",
        "colab": {
          "base_uri": "https://localhost:8080/",
          "height": 139
        },
        "outputId": "9d44f3d3-d257-4307-b59a-adf13bff2c25"
      },
      "source": [
        "X2 = Matrix(*sol2)\n",
        "display(X2, Ak * X2 - b)"
      ],
      "execution_count": 18,
      "outputs": [
        {
          "output_type": "display_data",
          "data": {
            "text/plain": [
              "Matrix([\n",
              "[-y/2 - 1/3],\n",
              "[         y],\n",
              "[      -4/3]])"
            ],
            "text/latex": "$\\displaystyle \\left[\\begin{matrix}- \\frac{y}{2} - \\frac{1}{3}\\\\y\\\\- \\frac{4}{3}\\end{matrix}\\right]$"
          },
          "metadata": {}
        },
        {
          "output_type": "display_data",
          "data": {
            "text/plain": [
              "Matrix([\n",
              "[0],\n",
              "[0],\n",
              "[0]])"
            ],
            "text/latex": "$\\displaystyle \\left[\\begin{matrix}0\\\\0\\\\0\\end{matrix}\\right]$"
          },
          "metadata": {}
        }
      ]
    },
    {
      "cell_type": "markdown",
      "metadata": {
        "id": "68px-SJSzvA9"
      },
      "source": [
        "## Присоединение матриц в строку или в столбик\n",
        "Матрицы $A$ и $B$ можно соединить в строку, присоединяя $B$ справа к $A$, \n",
        "это делается с помощью метода  row_join. Можем использовать это для построения расширенной матрицы СЛАУ на основе матриц левой и правой части."
      ]
    },
    {
      "cell_type": "code",
      "metadata": {
        "id": "4hbaUIJOzvA-",
        "colab": {
          "base_uri": "https://localhost:8080/",
          "height": 139
        },
        "outputId": "2e2519a4-bde1-456b-9696-6b9656d90889"
      },
      "source": [
        "A = diag(1, 2)\n",
        "b = Matrix([3, 4])\n",
        "A_with_B = A.row_join(b)\n",
        "display(A, b, A_with_B)"
      ],
      "execution_count": 22,
      "outputs": [
        {
          "output_type": "display_data",
          "data": {
            "text/plain": [
              "Matrix([\n",
              "[1, 0],\n",
              "[0, 2]])"
            ],
            "text/latex": "$\\displaystyle \\left[\\begin{matrix}1 & 0\\\\0 & 2\\end{matrix}\\right]$"
          },
          "metadata": {}
        },
        {
          "output_type": "display_data",
          "data": {
            "text/plain": [
              "Matrix([\n",
              "[3],\n",
              "[4]])"
            ],
            "text/latex": "$\\displaystyle \\left[\\begin{matrix}3\\\\4\\end{matrix}\\right]$"
          },
          "metadata": {}
        },
        {
          "output_type": "display_data",
          "data": {
            "text/plain": [
              "Matrix([\n",
              "[1, 0, 3],\n",
              "[0, 2, 4]])"
            ],
            "text/latex": "$\\displaystyle \\left[\\begin{matrix}1 & 0 & 3\\\\0 & 2 & 4\\end{matrix}\\right]$"
          },
          "metadata": {}
        }
      ]
    },
    {
      "cell_type": "markdown",
      "metadata": {
        "id": "y4dg4uCPzvA-"
      },
      "source": [
        "Матрицу $B$ можно присоединить к матрице $A$ снизу с помощью col_join."
      ]
    },
    {
      "cell_type": "code",
      "metadata": {
        "id": "s78bzTArzvA-",
        "colab": {
          "base_uri": "https://localhost:8080/",
          "height": 78
        },
        "outputId": "5ff91115-4a29-4a59-c97d-7d50c8de5668"
      },
      "source": [
        "C = Matrix([[5, 6]])\n",
        "C_under_A = A.col_join(C)\n",
        "C_under_A"
      ],
      "execution_count": 23,
      "outputs": [
        {
          "output_type": "execute_result",
          "data": {
            "text/plain": [
              "Matrix([\n",
              "[1, 0],\n",
              "[0, 2],\n",
              "[5, 6]])"
            ],
            "text/latex": "$\\displaystyle \\left[\\begin{matrix}1 & 0\\\\0 & 2\\\\5 & 6\\end{matrix}\\right]$"
          },
          "metadata": {},
          "execution_count": 23
        }
      ]
    },
    {
      "cell_type": "markdown",
      "metadata": {
        "id": "FxH4X5T2zvA-"
      },
      "source": [
        "### Выделение строки, столбца и подматрицы в матрице\n",
        "Для выделения части матрицы будем использовать диапазоны (срезы, slice)\n",
        "\n",
        "Напомним, что обращение к элементу матрицы осуществляется указанием в квадратных скобках после имени матрицы номера строки и номера столбца через запятую,\n",
        "\n",
        "например, $А[2, 3]$.\n",
        "\n",
        "Если нужно выделить элементы строки, стоящие в столбцах с 3 до 5 (не включая 5!), то вместо номера столбца указываем диапазон (срез) 3:5,\n",
        "двоеточие обозначает, что берутся и все промежуточные индексы.\n",
        "\n",
        "**!!!ВАЖНО!!!**\n",
        "\n",
        "В диапазонах не учитывается последнее значение,\n",
        "так срез 3:5 не включает элемент с номером 5!\n",
        "\n",
        "Например, можно в матрице $A\\_with\\_B$ выделить в первой строке элементы, стоящие в столбцах с 1 до 3 (не включая 3!):"
      ]
    },
    {
      "cell_type": "code",
      "metadata": {
        "id": "tKtuG-KSzvA_",
        "colab": {
          "base_uri": "https://localhost:8080/",
          "height": 38
        },
        "outputId": "1ef1092f-30d9-4825-cd50-9393ec997f41"
      },
      "source": [
        "A_with_B[0, 1:3]"
      ],
      "execution_count": 24,
      "outputs": [
        {
          "output_type": "execute_result",
          "data": {
            "text/plain": [
              "Matrix([[0, 3]])"
            ],
            "text/latex": "$\\displaystyle \\left[\\begin{matrix}0 & 3\\end{matrix}\\right]$"
          },
          "metadata": {},
          "execution_count": 24
        }
      ]
    },
    {
      "cell_type": "markdown",
      "metadata": {
        "id": "0q09ySJIzvA_"
      },
      "source": [
        "Выделим столбец с номером 1 в матрице $A$"
      ]
    },
    {
      "cell_type": "code",
      "metadata": {
        "id": "zfXvXrgCzvA_",
        "colab": {
          "base_uri": "https://localhost:8080/",
          "height": 58
        },
        "outputId": "82683d66-9b69-4b52-dcdc-bcf7c3bdf659"
      },
      "source": [
        "A[:, 1]"
      ],
      "execution_count": 25,
      "outputs": [
        {
          "output_type": "execute_result",
          "data": {
            "text/plain": [
              "Matrix([\n",
              "[0],\n",
              "[2]])"
            ],
            "text/latex": "$\\displaystyle \\left[\\begin{matrix}0\\\\2\\end{matrix}\\right]$"
          },
          "metadata": {},
          "execution_count": 25
        }
      ]
    },
    {
      "cell_type": "markdown",
      "metadata": {
        "id": "U_Yf3QnMzvA_"
      },
      "source": [
        "Выделим строку с номером 0 в матрице $A$"
      ]
    },
    {
      "cell_type": "code",
      "metadata": {
        "id": "KEDYWMAxzvBA",
        "colab": {
          "base_uri": "https://localhost:8080/",
          "height": 38
        },
        "outputId": "f24e63f7-d76c-413d-805e-8c970fea1233"
      },
      "source": [
        "A[0, :]"
      ],
      "execution_count": 26,
      "outputs": [
        {
          "output_type": "execute_result",
          "data": {
            "text/plain": [
              "Matrix([[1, 0]])"
            ],
            "text/latex": "$\\displaystyle \\left[\\begin{matrix}1 & 0\\end{matrix}\\right]$"
          },
          "metadata": {},
          "execution_count": 26
        }
      ]
    },
    {
      "cell_type": "markdown",
      "metadata": {
        "id": "OKmhh0dAzvBA"
      },
      "source": [
        "Допишем снизу к матрице $A$ ее строку номер 1"
      ]
    },
    {
      "cell_type": "code",
      "metadata": {
        "id": "HjvqxA11zvBA",
        "colab": {
          "base_uri": "https://localhost:8080/",
          "height": 78
        },
        "outputId": "d6ab6e89-923a-4e38-97b9-65c0ac448a8c"
      },
      "source": [
        "A_with_A1 = A.col_join(A[1, :])\n",
        "A_with_A1"
      ],
      "execution_count": 27,
      "outputs": [
        {
          "output_type": "execute_result",
          "data": {
            "text/plain": [
              "Matrix([\n",
              "[1, 0],\n",
              "[0, 2],\n",
              "[0, 2]])"
            ],
            "text/latex": "$\\displaystyle \\left[\\begin{matrix}1 & 0\\\\0 & 2\\\\0 & 2\\end{matrix}\\right]$"
          },
          "metadata": {},
          "execution_count": 27
        }
      ]
    },
    {
      "cell_type": "markdown",
      "metadata": {
        "id": "cnlh9ELSzvBA"
      },
      "source": [
        "Допишем справа к матрице $A$ ее столбец номер 0"
      ]
    },
    {
      "cell_type": "code",
      "metadata": {
        "id": "da_RdZS7zvBA",
        "colab": {
          "base_uri": "https://localhost:8080/",
          "height": 58
        },
        "outputId": "c62b85c9-0af0-4316-a589-5116a8a80943"
      },
      "source": [
        "A_with_A0 = A.row_join(A[:, 0])\n",
        "A_with_A0"
      ],
      "execution_count": 28,
      "outputs": [
        {
          "output_type": "execute_result",
          "data": {
            "text/plain": [
              "Matrix([\n",
              "[1, 0, 1],\n",
              "[0, 2, 0]])"
            ],
            "text/latex": "$\\displaystyle \\left[\\begin{matrix}1 & 0 & 1\\\\0 & 2 & 0\\end{matrix}\\right]$"
          },
          "metadata": {},
          "execution_count": 28
        }
      ]
    },
    {
      "cell_type": "markdown",
      "metadata": {
        "id": "VBryvDnWzvBA"
      },
      "source": [
        "### Выделение подматрицы\n",
        "\n",
        "Из матрицы можно выделить подматрицу, расположенную в заданных строках и столбцах с помощью метода \n",
        "\n",
        "#### extract\n",
        "\n",
        "метод применяется к матрице, аргументы - список строк и список столбцов:\n",
        "\n",
        "Matrix_name(row_list,col_list)"
      ]
    },
    {
      "cell_type": "code",
      "metadata": {
        "id": "ESoremRazvBB",
        "colab": {
          "base_uri": "https://localhost:8080/",
          "height": 220
        },
        "outputId": "636a311f-9421-477d-8a8f-f24eb59dee03"
      },
      "source": [
        "M = diag(*range(7))\n",
        "display(M, M.extract([0, 4, 6], [4, 5]))"
      ],
      "execution_count": 30,
      "outputs": [
        {
          "output_type": "display_data",
          "data": {
            "text/plain": [
              "Matrix([\n",
              "[0, 0, 0, 0, 0, 0, 0],\n",
              "[0, 1, 0, 0, 0, 0, 0],\n",
              "[0, 0, 2, 0, 0, 0, 0],\n",
              "[0, 0, 0, 3, 0, 0, 0],\n",
              "[0, 0, 0, 0, 4, 0, 0],\n",
              "[0, 0, 0, 0, 0, 5, 0],\n",
              "[0, 0, 0, 0, 0, 0, 6]])"
            ],
            "text/latex": "$\\displaystyle \\left[\\begin{matrix}0 & 0 & 0 & 0 & 0 & 0 & 0\\\\0 & 1 & 0 & 0 & 0 & 0 & 0\\\\0 & 0 & 2 & 0 & 0 & 0 & 0\\\\0 & 0 & 0 & 3 & 0 & 0 & 0\\\\0 & 0 & 0 & 0 & 4 & 0 & 0\\\\0 & 0 & 0 & 0 & 0 & 5 & 0\\\\0 & 0 & 0 & 0 & 0 & 0 & 6\\end{matrix}\\right]$"
          },
          "metadata": {}
        },
        {
          "output_type": "display_data",
          "data": {
            "text/plain": [
              "Matrix([\n",
              "[0, 0],\n",
              "[4, 0],\n",
              "[0, 0]])"
            ],
            "text/latex": "$\\displaystyle \\left[\\begin{matrix}0 & 0\\\\4 & 0\\\\0 & 0\\end{matrix}\\right]$"
          },
          "metadata": {}
        }
      ]
    },
    {
      "cell_type": "markdown",
      "metadata": {
        "id": "_KZKi5cgzvBB"
      },
      "source": [
        "### Ввод с консоли:\n",
        "\n",
        "input()\n",
        "\n",
        "есть необязательный переметр - приглашение к вводу:"
      ]
    },
    {
      "cell_type": "code",
      "metadata": {
        "id": "31tGLBLUzvBC",
        "colab": {
          "base_uri": "https://localhost:8080/",
          "height": 333
        },
        "outputId": "4021b92b-3d0c-47d1-df40-9de5c86cad2c"
      },
      "source": [
        "symbols_my = input('Введите несколько символов\\n')\n",
        "K = Matrix(list(symbols_my))\n",
        "print('Получился вектор-столбец')\n",
        "K"
      ],
      "execution_count": 31,
      "outputs": [
        {
          "output_type": "stream",
          "name": "stdout",
          "text": [
            "Введите несколько символов\n",
            "qw3ret5t5y56u\n",
            "Получился вектор-столбец\n"
          ]
        },
        {
          "output_type": "execute_result",
          "data": {
            "text/plain": [
              "Matrix([\n",
              "[q],\n",
              "[w],\n",
              "[3],\n",
              "[r],\n",
              "[e],\n",
              "[t],\n",
              "[5],\n",
              "[t],\n",
              "[5],\n",
              "[y],\n",
              "[5],\n",
              "[6],\n",
              "[u]])"
            ],
            "text/latex": "$\\displaystyle \\left[\\begin{matrix}q\\\\w\\\\3\\\\r\\\\e\\\\t\\\\5\\\\t\\\\5\\\\y\\\\5\\\\6\\\\u\\end{matrix}\\right]$"
          },
          "metadata": {},
          "execution_count": 31
        }
      ]
    },
    {
      "cell_type": "markdown",
      "metadata": {
        "id": "ZmctpRsxzvBD"
      },
      "source": [
        "### Транспонирование\n",
        "Создадим матрицу $M$, элементы которой - произведения номеров строк и столбцов при условии нумерации с 1.\n",
        "\n",
        "Транспонируем М с помощью метода transpose() и с помощью его сокращения T."
      ]
    },
    {
      "cell_type": "code",
      "metadata": {
        "id": "IHRiq2GizvBD",
        "colab": {
          "base_uri": "https://localhost:8080/",
          "height": 281
        },
        "outputId": "79b1ead9-b648-4659-9df2-b5869e68dfba"
      },
      "source": [
        "M = Matrix([[i ** j for i in range(1, 6)] for j in range(1, 4)])\n",
        "display(M, M.transpose(), M.T)"
      ],
      "execution_count": 32,
      "outputs": [
        {
          "output_type": "display_data",
          "data": {
            "text/plain": [
              "Matrix([\n",
              "[1, 2,  3,  4,   5],\n",
              "[1, 4,  9, 16,  25],\n",
              "[1, 8, 27, 64, 125]])"
            ],
            "text/latex": "$\\displaystyle \\left[\\begin{matrix}1 & 2 & 3 & 4 & 5\\\\1 & 4 & 9 & 16 & 25\\\\1 & 8 & 27 & 64 & 125\\end{matrix}\\right]$"
          },
          "metadata": {}
        },
        {
          "output_type": "display_data",
          "data": {
            "text/plain": [
              "Matrix([\n",
              "[1,  1,   1],\n",
              "[2,  4,   8],\n",
              "[3,  9,  27],\n",
              "[4, 16,  64],\n",
              "[5, 25, 125]])"
            ],
            "text/latex": "$\\displaystyle \\left[\\begin{matrix}1 & 1 & 1\\\\2 & 4 & 8\\\\3 & 9 & 27\\\\4 & 16 & 64\\\\5 & 25 & 125\\end{matrix}\\right]$"
          },
          "metadata": {}
        },
        {
          "output_type": "display_data",
          "data": {
            "text/plain": [
              "Matrix([\n",
              "[1,  1,   1],\n",
              "[2,  4,   8],\n",
              "[3,  9,  27],\n",
              "[4, 16,  64],\n",
              "[5, 25, 125]])"
            ],
            "text/latex": "$\\displaystyle \\left[\\begin{matrix}1 & 1 & 1\\\\2 & 4 & 8\\\\3 & 9 & 27\\\\4 & 16 & 64\\\\5 & 25 & 125\\end{matrix}\\right]$"
          },
          "metadata": {}
        }
      ]
    },
    {
      "cell_type": "markdown",
      "metadata": {
        "id": "WhWVr0U8zvBD"
      },
      "source": [
        "Перемножим столбец 1 и строку 0, нумерация с нуля!"
      ]
    },
    {
      "cell_type": "code",
      "metadata": {
        "id": "lzJRuZDQzvBD",
        "colab": {
          "base_uri": "https://localhost:8080/",
          "height": 160
        },
        "outputId": "b983b2b2-45ba-4b2d-caf6-53f0cd2afa2e"
      },
      "source": [
        "display(M[:, 1], M[0, :])\n",
        "M2 = M[:, 1] * M[0, :]\n",
        "M2"
      ],
      "execution_count": 33,
      "outputs": [
        {
          "output_type": "display_data",
          "data": {
            "text/plain": [
              "Matrix([\n",
              "[2],\n",
              "[4],\n",
              "[8]])"
            ],
            "text/latex": "$\\displaystyle \\left[\\begin{matrix}2\\\\4\\\\8\\end{matrix}\\right]$"
          },
          "metadata": {}
        },
        {
          "output_type": "display_data",
          "data": {
            "text/plain": [
              "Matrix([[1, 2, 3, 4, 5]])"
            ],
            "text/latex": "$\\displaystyle \\left[\\begin{matrix}1 & 2 & 3 & 4 & 5\\end{matrix}\\right]$"
          },
          "metadata": {}
        },
        {
          "output_type": "execute_result",
          "data": {
            "text/plain": [
              "Matrix([\n",
              "[2,  4,  6,  8, 10],\n",
              "[4,  8, 12, 16, 20],\n",
              "[8, 16, 24, 32, 40]])"
            ],
            "text/latex": "$\\displaystyle \\left[\\begin{matrix}2 & 4 & 6 & 8 & 10\\\\4 & 8 & 12 & 16 & 20\\\\8 & 16 & 24 & 32 & 40\\end{matrix}\\right]$"
          },
          "metadata": {},
          "execution_count": 33
        }
      ]
    },
    {
      "cell_type": "markdown",
      "metadata": {
        "id": "jniAvWSjzvBE"
      },
      "source": [
        "Выделим верхнюю левую подматрицу порядка 3"
      ]
    },
    {
      "cell_type": "code",
      "metadata": {
        "id": "zAXiCCr2zvBE",
        "colab": {
          "base_uri": "https://localhost:8080/",
          "height": 78
        },
        "outputId": "0a416e6c-d814-4f0a-a646-55513e32f2e4"
      },
      "source": [
        "M3 = M2[:3, :3] \n",
        "M3"
      ],
      "execution_count": 34,
      "outputs": [
        {
          "output_type": "execute_result",
          "data": {
            "text/plain": [
              "Matrix([\n",
              "[2,  4,  6],\n",
              "[4,  8, 12],\n",
              "[8, 16, 24]])"
            ],
            "text/latex": "$\\displaystyle \\left[\\begin{matrix}2 & 4 & 6\\\\4 & 8 & 12\\\\8 & 16 & 24\\end{matrix}\\right]$"
          },
          "metadata": {},
          "execution_count": 34
        }
      ]
    },
    {
      "cell_type": "markdown",
      "metadata": {
        "id": "-is6MeCYzvBE"
      },
      "source": [
        "Выделим нижнюю правую подматрицу"
      ]
    },
    {
      "cell_type": "code",
      "metadata": {
        "id": "DSxNHS36zvBE",
        "colab": {
          "base_uri": "https://localhost:8080/",
          "height": 38
        },
        "outputId": "4ac95eda-29a1-4a96-e02a-bb7477e71493"
      },
      "source": [
        "M3 = M2[2:, 2:] \n",
        "M3"
      ],
      "execution_count": 35,
      "outputs": [
        {
          "output_type": "execute_result",
          "data": {
            "text/plain": [
              "Matrix([[24, 32, 40]])"
            ],
            "text/latex": "$\\displaystyle \\left[\\begin{matrix}24 & 32 & 40\\end{matrix}\\right]$"
          },
          "metadata": {},
          "execution_count": 35
        }
      ]
    },
    {
      "cell_type": "markdown",
      "metadata": {
        "id": "BvulSmyzzvBF"
      },
      "source": [
        "Составим матрицы из 0, 1 и 2-й строк матрицы $M2$"
      ]
    },
    {
      "cell_type": "code",
      "metadata": {
        "id": "UmqFQy1qzvBF",
        "colab": {
          "base_uri": "https://localhost:8080/",
          "height": 78
        },
        "outputId": "1ff63d48-352c-48db-ec41-c8550f69db1a"
      },
      "source": [
        "M_013 = ((M[0, :]).col_join(M[1, :])).col_join(M[2, :])\n",
        "M_013                                            "
      ],
      "execution_count": 36,
      "outputs": [
        {
          "output_type": "execute_result",
          "data": {
            "text/plain": [
              "Matrix([\n",
              "[1, 2,  3,  4,   5],\n",
              "[1, 4,  9, 16,  25],\n",
              "[1, 8, 27, 64, 125]])"
            ],
            "text/latex": "$\\displaystyle \\left[\\begin{matrix}1 & 2 & 3 & 4 & 5\\\\1 & 4 & 9 & 16 & 25\\\\1 & 8 & 27 & 64 & 125\\end{matrix}\\right]$"
          },
          "metadata": {},
          "execution_count": 36
        }
      ]
    },
    {
      "cell_type": "markdown",
      "metadata": {
        "id": "wVwyy0_szvBF"
      },
      "source": [
        "Изменим значение элемента второй троки второго столбца матрицы $M\\_013$"
      ]
    },
    {
      "cell_type": "code",
      "metadata": {
        "id": "g4z9ltS3zvBF",
        "colab": {
          "base_uri": "https://localhost:8080/",
          "height": 78
        },
        "outputId": "322336db-3a44-409b-f487-5b3475f6ef56"
      },
      "source": [
        "M_013[2, 2] = 0\n",
        "M_013"
      ],
      "execution_count": 37,
      "outputs": [
        {
          "output_type": "execute_result",
          "data": {
            "text/plain": [
              "Matrix([\n",
              "[1, 2, 3,  4,   5],\n",
              "[1, 4, 9, 16,  25],\n",
              "[1, 8, 0, 64, 125]])"
            ],
            "text/latex": "$\\displaystyle \\left[\\begin{matrix}1 & 2 & 3 & 4 & 5\\\\1 & 4 & 9 & 16 & 25\\\\1 & 8 & 0 & 64 & 125\\end{matrix}\\right]$"
          },
          "metadata": {},
          "execution_count": 37
        }
      ]
    },
    {
      "cell_type": "markdown",
      "metadata": {
        "id": "ZalnsirqzvBF"
      },
      "source": [
        "### Создание матрицы на основе lambda-функции\n",
        "Используем анонимную функцию (lambda-функцию)"
      ]
    },
    {
      "cell_type": "code",
      "metadata": {
        "id": "A9mNh6KKzvBF",
        "colab": {
          "base_uri": "https://localhost:8080/",
          "height": 98
        },
        "outputId": "31c13b27-797c-4474-e8d3-b09ae111dc0f"
      },
      "source": [
        "P = Matrix(4, 5, lambda i, j: 2 * i + (-1) ** j)\n",
        "P"
      ],
      "execution_count": 38,
      "outputs": [
        {
          "output_type": "execute_result",
          "data": {
            "text/plain": [
              "Matrix([\n",
              "[1, -1, 1, -1, 1],\n",
              "[3,  1, 3,  1, 3],\n",
              "[5,  3, 5,  3, 5],\n",
              "[7,  5, 7,  5, 7]])"
            ],
            "text/latex": "$\\displaystyle \\left[\\begin{matrix}1 & -1 & 1 & -1 & 1\\\\3 & 1 & 3 & 1 & 3\\\\5 & 3 & 5 & 3 & 5\\\\7 & 5 & 7 & 5 & 7\\end{matrix}\\right]$"
          },
          "metadata": {},
          "execution_count": 38
        }
      ]
    },
    {
      "cell_type": "markdown",
      "metadata": {
        "id": "jJR8I7pQzvBG"
      },
      "source": [
        "### Создание матрицы на основе функции пользователя"
      ]
    },
    {
      "cell_type": "code",
      "metadata": {
        "id": "i5-kitcqzvBG",
        "colab": {
          "base_uri": "https://localhost:8080/",
          "height": 78
        },
        "outputId": "84929486-f52d-41ec-93eb-0e5cc184e2c9"
      },
      "source": [
        "def matr(i, j):\n",
        "    if i > j:\n",
        "        return i - j\n",
        "    elif i == j:\n",
        "        return 2 ** i\n",
        "    return i + j\n",
        "\n",
        "NewM = Matrix(3, 5, matr)\n",
        "NewM"
      ],
      "execution_count": 39,
      "outputs": [
        {
          "output_type": "execute_result",
          "data": {
            "text/plain": [
              "Matrix([\n",
              "[1, 1, 2, 3, 4],\n",
              "[1, 2, 3, 4, 5],\n",
              "[2, 1, 4, 5, 6]])"
            ],
            "text/latex": "$\\displaystyle \\left[\\begin{matrix}1 & 1 & 2 & 3 & 4\\\\1 & 2 & 3 & 4 & 5\\\\2 & 1 & 4 & 5 & 6\\end{matrix}\\right]$"
          },
          "metadata": {},
          "execution_count": 39
        }
      ]
    }
  ]
}