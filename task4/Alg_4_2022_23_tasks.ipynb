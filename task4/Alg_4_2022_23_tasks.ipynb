{
  "nbformat": 4,
  "nbformat_minor": 0,
  "metadata": {
    "kernelspec": {
      "display_name": "Python 3",
      "language": "python",
      "name": "python3"
    },
    "language_info": {
      "codemirror_mode": {
        "name": "ipython",
        "version": 3
      },
      "file_extension": ".py",
      "mimetype": "text/x-python",
      "name": "python",
      "nbconvert_exporter": "python",
      "pygments_lexer": "ipython3",
      "version": "3.7.3"
    },
    "colab": {
      "provenance": []
    }
  },
  "cells": [
    {
      "cell_type": "markdown",
      "metadata": {
        "id": "B600zaglO8R5"
      },
      "source": [
        "## Занятие 4\n",
        "## Компьютерный практикум по алгебре на Python\n",
        "## Фундаментальная система решений однородной СЛАУ"
      ]
    },
    {
      "cell_type": "markdown",
      "metadata": {
        "id": "z-MBGjqlO8R-"
      },
      "source": [
        "https://docs.sympy.org/latest/modules"
      ]
    },
    {
      "cell_type": "code",
      "metadata": {
        "id": "mbuIM2VjO8SA"
      },
      "source": [
        "from sympy import linsolve, Matrix, S, Symbol, symbols, Eq, linear_eq_to_matrix, simplify, zeros"
      ],
      "execution_count": null,
      "outputs": []
    },
    {
      "cell_type": "markdown",
      "metadata": {
        "id": "MCakxRL6O8SC"
      },
      "source": [
        "### Задание 1.\n",
        "Проверить по теореме Кронекера-Капелли совместность СЛАУ $AX = b$, если\n",
        "\\begin{align*}\n",
        "a)\\ A = \\left(\n",
        "\\begin{matrix}\n",
        "-1 & -3 & 5 & 2\\\\\n",
        "2 & -1 & 4 & 7\\\\\n",
        "3 & 4 & -1 & 0\\\\\n",
        "5 & 0 & 1 & -3\n",
        "\\end{matrix}\n",
        "\\right), \\quad \n",
        "b = \\left(\n",
        "\\begin{matrix}\n",
        "14\\\\ 56\\\\ 5\\\\ -6\n",
        "\\end{matrix}\n",
        "\\right), \\quad \n",
        "b)\\ A = \\left(\n",
        "\\begin{matrix}\n",
        "1 & 3 & 5 & 2\\\\\n",
        "2 & -1 & 4 & 1\\\\\n",
        "3 & 4 & -1 & 0\\\\\n",
        "5 & 3 & 3 & 1\n",
        "\\end{matrix}\n",
        "\\right), \\quad \n",
        "b = \\left(\n",
        "\\begin{matrix}\n",
        "24\\\\ 20\\\\ 5\\\\ 5\n",
        "\\end{matrix}\n",
        "\\right), \\quad \n",
        "c)\\ A = \\left(\n",
        "\\begin{matrix}\n",
        "1 & 3 & 5 & 2\\\\\n",
        "2 & -1 & 4 & 1\\\\\n",
        "3 & 2 & 9 & 3\\\\\n",
        "1 & -4 & -1 & -1\n",
        "\\end{matrix}\n",
        "\\right), \\quad \n",
        "b = \\left(\n",
        "\\begin{matrix}\n",
        "24\\\\ 20\\\\ 44\\\\ -4\n",
        "\\end{matrix}\n",
        "\\right)\n",
        "\\end{align*}"
      ]
    },
    {
      "cell_type": "code",
      "source": [],
      "metadata": {
        "id": "MRp9NWkdce6K"
      },
      "execution_count": null,
      "outputs": []
    },
    {
      "cell_type": "markdown",
      "metadata": {
        "id": "F3lXkJ3oO8SM"
      },
      "source": [
        "### Задание 2.\n",
        "\n",
        "Проверить единственность решения в совместных СЛАУ Задания 1."
      ]
    },
    {
      "cell_type": "code",
      "source": [],
      "metadata": {
        "id": "4CR_p8oGchk6"
      },
      "execution_count": null,
      "outputs": []
    },
    {
      "cell_type": "markdown",
      "metadata": {
        "id": "cHZhM0_jO8SO"
      },
      "source": [
        "### Задание 3\n",
        "Для однородных СЛАУ, соответствующих СЛАУ из Задания 1 установить, есть ли у однородной СЛАУ нетривиальное решение. "
      ]
    },
    {
      "cell_type": "code",
      "source": [],
      "metadata": {
        "id": "2A24s3zfcjFm"
      },
      "execution_count": null,
      "outputs": []
    },
    {
      "cell_type": "markdown",
      "metadata": {
        "id": "wmJb1QrxO8SQ"
      },
      "source": [
        "### Задание 4\n",
        "Для однородных СЛАУ из Задания 3, имеющих нетривиальное решение, составить ФСР. "
      ]
    },
    {
      "cell_type": "code",
      "source": [],
      "metadata": {
        "id": "hAnK6Ytsclbl"
      },
      "execution_count": null,
      "outputs": []
    },
    {
      "cell_type": "markdown",
      "metadata": {
        "id": "TbcC_Tc-O8ST"
      },
      "source": [
        "### Задание 5\n",
        "Для однородных СЛАУ из Задания 4 построить общее решение, используя построенную в Задании 4 ФСР. Сравнить с результатом, возвращаемым linsolve. "
      ]
    },
    {
      "cell_type": "code",
      "source": [],
      "metadata": {
        "id": "x9rBc4uRcnm9"
      },
      "execution_count": null,
      "outputs": []
    },
    {
      "cell_type": "markdown",
      "metadata": {
        "id": "q96MSia2O8SU"
      },
      "source": [
        "### Индивидуальное задание.\n",
        "Дана СЛАУ $AX = b$. Проверить совместность по теореме Кронекера-Капелли. Если СЛАУ совместна, проверить единственность решения.\n",
        "Для соответствующей однородной СЛАУ проверить существование нетривиального решения. В случае, если оно существует, \n",
        "найти размерность пространства решений и составить ФСР и общее решение однородной СЛАУ.\n",
        "\\begin{align*}\n",
        "A = \\left(\n",
        "\\begin{matrix}\n",
        "1 & -3 & 5 & 2\\\\\n",
        "2 & 3 & 4 & 7\\\\\n",
        "1 & 6 & -1 & 5\\\\\n",
        "3 & 0 & 9 & 9\n",
        "\\end{matrix}\n",
        "\\right), \\qquad\n",
        "b = \\left(\n",
        "\\begin{matrix}\n",
        "2\\\\ -3\\\\ -5\\\\ -1\n",
        "\\end{matrix}\n",
        "\\right)\n",
        "\\end{align*}"
      ]
    },
    {
      "cell_type": "code",
      "source": [],
      "metadata": {
        "id": "NsSJ58zFcpK1"
      },
      "execution_count": null,
      "outputs": []
    }
  ]
}