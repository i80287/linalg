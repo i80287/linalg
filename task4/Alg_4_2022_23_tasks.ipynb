{
  "cells": [
    {
      "cell_type": "markdown",
      "metadata": {
        "id": "B600zaglO8R5"
      },
      "source": [
        "## Занятие 4\n",
        "## Компьютерный практикум по алгебре на Python\n",
        "## Фундаментальная система решений однородной СЛАУ"
      ]
    },
    {
      "cell_type": "markdown",
      "metadata": {
        "id": "z-MBGjqlO8R-"
      },
      "source": [
        "https://docs.sympy.org/latest/modules"
      ]
    },
    {
      "cell_type": "code",
      "execution_count": 61,
      "metadata": {
        "id": "mbuIM2VjO8SA"
      },
      "outputs": [],
      "source": [
        "from sympy import linsolve, Matrix, S, Symbol, symbols, Eq, linear_eq_to_matrix, simplify, zeros, latex\n",
        "from IPython.display import Latex"
      ]
    },
    {
      "cell_type": "markdown",
      "metadata": {
        "id": "MCakxRL6O8SC"
      },
      "source": [
        "### Задание 1.\n",
        "Проверить по теореме Кронекера-Капелли совместность СЛАУ $AX = b$, если\n",
        "\\begin{align*}\n",
        "a)\\ A = \\left(\n",
        "\\begin{matrix}\n",
        "-1 & -3 & 5 & 2\\\\\n",
        "2 & -1 & 4 & 7\\\\\n",
        "3 & 4 & -1 & 0\\\\\n",
        "5 & 0 & 1 & -3\n",
        "\\end{matrix}\n",
        "\\right), \\quad \n",
        "b = \\left(\n",
        "\\begin{matrix}\n",
        "14\\\\ 56\\\\ 5\\\\ -6\n",
        "\\end{matrix}\n",
        "\\right), \\quad \n",
        "b)\\ A = \\left(\n",
        "\\begin{matrix}\n",
        "1 & 3 & 5 & 2\\\\\n",
        "2 & -1 & 4 & 1\\\\\n",
        "3 & 4 & -1 & 0\\\\\n",
        "5 & 3 & 3 & 1\n",
        "\\end{matrix}\n",
        "\\right), \\quad \n",
        "b = \\left(\n",
        "\\begin{matrix}\n",
        "24\\\\ 20\\\\ 5\\\\ 5\n",
        "\\end{matrix}\n",
        "\\right), \\quad \n",
        "c)\\ A = \\left(\n",
        "\\begin{matrix}\n",
        "1 & 3 & 5 & 2\\\\\n",
        "2 & -1 & 4 & 1\\\\\n",
        "3 & 2 & 9 & 3\\\\\n",
        "1 & -4 & -1 & -1\n",
        "\\end{matrix}\n",
        "\\right), \\quad \n",
        "b = \\left(\n",
        "\\begin{matrix}\n",
        "24\\\\ 20\\\\ 44\\\\ -4\n",
        "\\end{matrix}\n",
        "\\right)\n",
        "\\end{align*}"
      ]
    },
    {
      "cell_type": "code",
      "execution_count": 2,
      "metadata": {
        "id": "MRp9NWkdce6K"
      },
      "outputs": [],
      "source": [
        "def verify_matrix(matrix: Matrix, number: str) -> bool:\n",
        "    is_comp = matrix[:, :-1].rank() == matrix.rank()\n",
        "    print(f\"\"\"Matrix {number} is {\"not \" * (not is_comp)}compatible\"\"\")\n",
        "    return is_comp\n",
        "        \n",
        "# a)\n",
        "ab_matrix_a = Matrix((\n",
        "    (-1, -3, 5, 2, 14),\n",
        "    (2, -1, 4, 7, 56),\n",
        "    (3, 4, -1, 0, 5),\n",
        "    (5, 0, 1, -3, -6),\n",
        "))\n",
        "# b)\n",
        "ab_matrix_b = Matrix((\n",
        "    (1, 3, 5, 2, 24),\n",
        "    (2, -1, 4, 1, 20),\n",
        "    (3, 4, -1, 0, 5),\n",
        "    (5, 3, 3, 1, 5),\n",
        "))\n",
        "# c)\n",
        "ab_matrix_c = Matrix((\n",
        "    (1, 3, 5, 2, 24),\n",
        "    (2, -1, 4, 1, 20),\n",
        "    (3, 2, 9, 3, 44),\n",
        "    (1, -4, -1, -1, -4),\n",
        "))\n",
        "numbers = (\"a)\", \"b)\", \"c)\")\n",
        "matrixes = (ab_matrix_a, ab_matrix_b,ab_matrix_c)\n",
        "\n",
        "# Generator with compatible matrixes and their indexes.\n",
        "compatible_matrixes = ((i, matrix) for i, matrix in enumerate(matrixes) if verify_matrix(matrix, numbers[i]))\n"
      ]
    },
    {
      "cell_type": "markdown",
      "metadata": {
        "id": "F3lXkJ3oO8SM"
      },
      "source": [
        "### Задание 2.\n",
        "\n",
        "Проверить единственность решения в совместных СЛАУ Задания 1."
      ]
    },
    {
      "cell_type": "code",
      "execution_count": 3,
      "metadata": {
        "id": "4CR_p8oGchk6"
      },
      "outputs": [
        {
          "name": "stdout",
          "output_type": "stream",
          "text": [
            "Matrix a) is compatible\n",
            "Matrix a) has only one solution\n",
            "Matrix b) is not compatible\n",
            "Matrix c) is compatible\n",
            "Matrix c) has more than one solutions\n"
          ]
        }
      ],
      "source": [
        "for i, matrix in compatible_matrixes:\n",
        "    m = matrix.shape[1] - 1\n",
        "    if m == matrix.rank():\n",
        "        print(f\"Matrix {numbers[i]} has only one solution\")\n",
        "    else:\n",
        "        print(f\"Matrix {numbers[i]} has more than one solution\")"
      ]
    },
    {
      "cell_type": "markdown",
      "metadata": {
        "id": "cHZhM0_jO8SO"
      },
      "source": [
        "### Задание 3\n",
        "Для однородных СЛАУ, соответствующих СЛАУ из Задания 1 установить, есть ли у однородной СЛАУ нетривиальное решение. "
      ]
    },
    {
      "cell_type": "code",
      "execution_count": 14,
      "metadata": {
        "id": "2A24s3zfcjFm"
      },
      "outputs": [
        {
          "name": "stdout",
          "output_type": "stream",
          "text": [
            "Homogeneous matrixes:\n"
          ]
        },
        {
          "data": {
            "text/latex": [
              "$\\displaystyle \\left[\\begin{matrix}-1 & -3 & 5 & 2\\\\2 & -1 & 4 & 7\\\\3 & 4 & -1 & 0\\\\5 & 0 & 1 & -3\\end{matrix}\\right]$"
            ],
            "text/plain": [
              "Matrix([\n",
              "[-1, -3,  5,  2],\n",
              "[ 2, -1,  4,  7],\n",
              "[ 3,  4, -1,  0],\n",
              "[ 5,  0,  1, -3]])"
            ]
          },
          "metadata": {},
          "output_type": "display_data"
        },
        {
          "data": {
            "text/latex": [
              "$\\displaystyle \\left[\\begin{matrix}1 & 3 & 5 & 2\\\\2 & -1 & 4 & 1\\\\3 & 4 & -1 & 0\\\\5 & 3 & 3 & 1\\end{matrix}\\right]$"
            ],
            "text/plain": [
              "Matrix([\n",
              "[1,  3,  5, 2],\n",
              "[2, -1,  4, 1],\n",
              "[3,  4, -1, 0],\n",
              "[5,  3,  3, 1]])"
            ]
          },
          "metadata": {},
          "output_type": "display_data"
        },
        {
          "data": {
            "text/latex": [
              "$\\displaystyle \\left[\\begin{matrix}1 & 3 & 5 & 2\\\\2 & -1 & 4 & 1\\\\3 & 2 & 9 & 3\\\\1 & -4 & -1 & -1\\end{matrix}\\right]$"
            ],
            "text/plain": [
              "Matrix([\n",
              "[1,  3,  5,  2],\n",
              "[2, -1,  4,  1],\n",
              "[3,  2,  9,  3],\n",
              "[1, -4, -1, -1]])"
            ]
          },
          "metadata": {},
          "output_type": "display_data"
        },
        {
          "name": "stdout",
          "output_type": "stream",
          "text": [
            "Homogeneous matrix of matrix b) has a nontrivial solution\n",
            "Homogeneous matrix of matrix c) has a nontrivial solution\n"
          ]
        }
      ],
      "source": [
        "homogeneous_matrixes = [matrix[:, :-1] for matrix in matrixes]\n",
        "\n",
        "print(\"Homogeneous matrixes:\")\n",
        "display(*homogeneous_matrixes)\n",
        "\n",
        "hgn_nontriv_matrixes = []\n",
        "for i, matrix in enumerate(homogeneous_matrixes):\n",
        "    if matrix.rank() < matrix.shape[1]:\n",
        "        print(f\"Homogeneous matrix of matrix {numbers[i]} has a nontrivial solution\")\n",
        "        hgn_nontriv_matrixes.append((i, matrix))"
      ]
    },
    {
      "cell_type": "markdown",
      "metadata": {
        "id": "wmJb1QrxO8SQ"
      },
      "source": [
        "### Задание 4\n",
        "Для однородных СЛАУ из Задания 3, имеющих нетривиальное решение, составить ФСР. "
      ]
    },
    {
      "cell_type": "code",
      "execution_count": 38,
      "metadata": {
        "id": "hAnK6Ytsclbl"
      },
      "outputs": [
        {
          "name": "stdout",
          "output_type": "stream",
          "text": [
            "FSS (ФСР) of homogeneous matrix with nontrivial solution b):\n"
          ]
        },
        {
          "data": {
            "text/latex": [
              "$\\displaystyle \\left[\\begin{matrix}\\frac{7}{82}\\\\- \\frac{6}{41}\\\\- \\frac{27}{82}\\\\1\\end{matrix}\\right]$"
            ],
            "text/plain": [
              "Matrix([\n",
              "[  7/82],\n",
              "[ -6/41],\n",
              "[-27/82],\n",
              "[     1]])"
            ]
          },
          "metadata": {},
          "output_type": "display_data"
        },
        {
          "name": "stdout",
          "output_type": "stream",
          "text": [
            "FSS (ФСР) of homogeneous matrix with nontrivial solution c):\n"
          ]
        },
        {
          "data": {
            "text/latex": [
              "$\\displaystyle \\left[\\begin{matrix}- \\frac{17}{7}\\\\- \\frac{6}{7}\\\\1\\\\0\\end{matrix}\\right]$"
            ],
            "text/plain": [
              "Matrix([\n",
              "[-17/7],\n",
              "[ -6/7],\n",
              "[    1],\n",
              "[    0]])"
            ]
          },
          "metadata": {},
          "output_type": "display_data"
        },
        {
          "data": {
            "text/latex": [
              "$\\displaystyle \\left[\\begin{matrix}- \\frac{5}{7}\\\\- \\frac{3}{7}\\\\0\\\\1\\end{matrix}\\right]$"
            ],
            "text/plain": [
              "Matrix([\n",
              "[-5/7],\n",
              "[-3/7],\n",
              "[   0],\n",
              "[   1]])"
            ]
          },
          "metadata": {},
          "output_type": "display_data"
        }
      ],
      "source": [
        "matrixes_nullspaces = []\n",
        "for i, matrix in hgn_nontriv_matrixes:\n",
        "    print(f\"Nullspace (ФСР) of homogeneous matrix with nontrivial solution {numbers[i]}:\")\n",
        "    nullspace = matrix.nullspace()\n",
        "    matrixes_nullspaces.append((i, matrix, nullspace))\n",
        "    display(*nullspace)"
      ]
    },
    {
      "cell_type": "markdown",
      "metadata": {
        "id": "TbcC_Tc-O8ST"
      },
      "source": [
        "### Задание 5\n",
        "Для однородных СЛАУ из Задания 4 построить общее решение, используя построенную в Задании 4 ФСР. Сравнить с результатом, возвращаемым linsolve. "
      ]
    },
    {
      "cell_type": "code",
      "execution_count": 57,
      "metadata": {
        "id": "x9rBc4uRcnm9"
      },
      "outputs": [
        {
          "name": "stdout",
          "output_type": "stream",
          "text": [
            "Solution for homogeneous matrix b):\n"
          ]
        },
        {
          "data": {
            "text/latex": [
              "$\\displaystyle \\left[\\begin{matrix}\\frac{7 x_{1}}{82}\\\\- \\frac{6 x_{1}}{41}\\\\- \\frac{27 x_{1}}{82}\\\\x_{1}\\end{matrix}\\right]$"
            ],
            "text/plain": [
              "Matrix([\n",
              "[  7*x1/82],\n",
              "[ -6*x1/41],\n",
              "[-27*x1/82],\n",
              "[       x1]])"
            ]
          },
          "metadata": {},
          "output_type": "display_data"
        },
        {
          "name": "stdout",
          "output_type": "stream",
          "text": [
            "Solution by linsolve:\n"
          ]
        },
        {
          "data": {
            "text/latex": [
              "$\\displaystyle \\left( \\frac{7 x_{4}}{82}, \\  - \\frac{6 x_{4}}{41}, \\  - \\frac{27 x_{4}}{82}, \\  x_{4}\\right)$"
            ],
            "text/plain": [
              "(7*x4/82, -6*x4/41, -27*x4/82, x4)"
            ]
          },
          "metadata": {},
          "output_type": "display_data"
        },
        {
          "name": "stdout",
          "output_type": "stream",
          "text": [
            "Solution for homogeneous matrix c):\n"
          ]
        },
        {
          "data": {
            "text/latex": [
              "$\\displaystyle \\left[\\begin{matrix}- \\frac{17 x_{1}}{7} - \\frac{5 x_{2}}{7}\\\\- \\frac{6 x_{1}}{7} - \\frac{3 x_{2}}{7}\\\\x_{1}\\\\x_{2}\\end{matrix}\\right]$"
            ],
            "text/plain": [
              "Matrix([\n",
              "[-17*x1/7 - 5*x2/7],\n",
              "[ -6*x1/7 - 3*x2/7],\n",
              "[               x1],\n",
              "[               x2]])"
            ]
          },
          "metadata": {},
          "output_type": "display_data"
        },
        {
          "name": "stdout",
          "output_type": "stream",
          "text": [
            "Solution by linsolve:\n"
          ]
        },
        {
          "data": {
            "text/latex": [
              "$\\displaystyle \\left( - \\frac{17 x_{3}}{7} - \\frac{5 x_{4}}{7}, \\  - \\frac{6 x_{3}}{7} - \\frac{3 x_{4}}{7}, \\  x_{3}, \\  x_{4}\\right)$"
            ],
            "text/plain": [
              "(-17*x3/7 - 5*x4/7, -6*x3/7 - 3*x4/7, x3, x4)"
            ]
          },
          "metadata": {},
          "output_type": "display_data"
        }
      ],
      "source": [
        "for i, matrix, nullspace in matrixes_nullspaces:\n",
        "    m, n = matrix.shape\n",
        "    solution = zeros(n, 1)\n",
        "    x_syms = symbols(f\"x1:{n+1}\")\n",
        "    for j, vector in enumerate(nullspace):\n",
        "        solution += vector * x_syms[j]\n",
        "    print(f\"Solution for homogeneous matrix {numbers[i]}:\")\n",
        "    display(solution)\n",
        "    print(f\"Solution by linsolve:\")\n",
        "    display(*linsolve((matrix, zeros(n, 1)), x_syms))"
      ]
    },
    {
      "cell_type": "markdown",
      "metadata": {
        "id": "q96MSia2O8SU"
      },
      "source": [
        "### Индивидуальное задание.\n",
        "Дана СЛАУ $AX = b$. Проверить совместность по теореме Кронекера-Капелли. Если СЛАУ совместна, проверить единственность решения.\n",
        "Для соответствующей однородной СЛАУ проверить существование нетривиального решения. В случае, если оно существует, \n",
        "найти размерность пространства решений и составить ФСР и общее решение однородной СЛАУ.\n",
        "\\begin{align*}\n",
        "A = \\left(\n",
        "\\begin{matrix}\n",
        "1 & -3 & 5 & 2\\\\\n",
        "2 & 3 & 4 & 7\\\\\n",
        "1 & 6 & -1 & 5\\\\\n",
        "3 & 0 & 9 & 9\n",
        "\\end{matrix}\n",
        "\\right), \\qquad\n",
        "b = \\left(\n",
        "\\begin{matrix}\n",
        "2\\\\ -3\\\\ -5\\\\ -1\n",
        "\\end{matrix}\n",
        "\\right)\n",
        "\\end{align*}"
      ]
    },
    {
      "cell_type": "markdown",
      "metadata": {},
      "source": [
        "\n",
        "#### N 50. #### \n",
        "\n",
        "$$\n",
        "\\begin{align*}\n",
        "A = \\left(\n",
        "\\begin{matrix}\n",
        "1 & 9 & -8 & -9 & -4\\\\\n",
        "−7 & −1 & 5 & 2 & 3\\\\\n",
        "39 & 41 & −57 & −46 & −31\\\\\n",
        "−7 & 5 & −4 & −3 & 2\\\\\n",
        "−3 & 0 & 9 & 6 & 0\n",
        "\\end{matrix}\n",
        "\\right), \\qquad\n",
        "b = \\left(\n",
        "\\begin{matrix}\n",
        "-34\\\\ -45\\\\ 89\\\\ -74\\\\ -24\n",
        "\\end{matrix}\n",
        "\\right)\n",
        "\\end{align*}\n",
        "$$"
      ]
    },
    {
      "cell_type": "code",
      "execution_count": 71,
      "metadata": {
        "id": "NsSJ58zFcpK1"
      },
      "outputs": [
        {
          "data": {
            "text/latex": [
              "$\\text{Matrix is not compatible}$"
            ],
            "text/plain": [
              "<IPython.core.display.Latex object>"
            ]
          },
          "metadata": {},
          "output_type": "display_data"
        },
        {
          "data": {
            "text/latex": [
              "$\\text{Homogeneous has nontrivial solution}$"
            ],
            "text/plain": [
              "<IPython.core.display.Latex object>"
            ]
          },
          "metadata": {},
          "output_type": "display_data"
        },
        {
          "data": {
            "text/latex": [
              "$\\text{Dimension of the nullspace (ФСР): 2}$"
            ],
            "text/plain": [
              "<IPython.core.display.Latex object>"
            ]
          },
          "metadata": {},
          "output_type": "display_data"
        },
        {
          "data": {
            "text/latex": [
              "$\\text{Nullspace (ФСР):}$"
            ],
            "text/plain": [
              "<IPython.core.display.Latex object>"
            ]
          },
          "metadata": {},
          "output_type": "display_data"
        },
        {
          "data": {
            "text/latex": [
              "$\\displaystyle \\left[\\begin{matrix}-3\\\\\\frac{2}{3}\\\\1\\\\0\\end{matrix}\\right]$"
            ],
            "text/plain": [
              "Matrix([\n",
              "[ -3],\n",
              "[2/3],\n",
              "[  1],\n",
              "[  0]])"
            ]
          },
          "metadata": {},
          "output_type": "display_data"
        },
        {
          "data": {
            "text/latex": [
              "$\\displaystyle \\left[\\begin{matrix}-3\\\\- \\frac{1}{3}\\\\0\\\\1\\end{matrix}\\right]$"
            ],
            "text/plain": [
              "Matrix([\n",
              "[  -3],\n",
              "[-1/3],\n",
              "[   0],\n",
              "[   1]])"
            ]
          },
          "metadata": {},
          "output_type": "display_data"
        },
        {
          "data": {
            "text/latex": [
              "$\\text{Solution:}$"
            ],
            "text/plain": [
              "<IPython.core.display.Latex object>"
            ]
          },
          "metadata": {},
          "output_type": "display_data"
        },
        {
          "data": {
            "text/latex": [
              "$\\displaystyle \\left[\\begin{matrix}- 3 x_{1} - 3 x_{2}\\\\\\frac{2 x_{1}}{3} - \\frac{x_{2}}{3}\\\\x_{1}\\\\x_{2}\\end{matrix}\\right]$"
            ],
            "text/plain": [
              "Matrix([\n",
              "[ -3*x1 - 3*x2],\n",
              "[2*x1/3 - x2/3],\n",
              "[           x1],\n",
              "[           x2]])"
            ]
          },
          "metadata": {},
          "output_type": "display_data"
        },
        {
          "name": "stdout",
          "output_type": "stream",
          "text": [
            "\n",
            "\n"
          ]
        },
        {
          "data": {
            "text/latex": [
              "$\\text{Matrix is compatible}$"
            ],
            "text/plain": [
              "<IPython.core.display.Latex object>"
            ]
          },
          "metadata": {},
          "output_type": "display_data"
        },
        {
          "data": {
            "text/latex": [
              "$\\text{Matrix has more than one solution}$"
            ],
            "text/plain": [
              "<IPython.core.display.Latex object>"
            ]
          },
          "metadata": {},
          "output_type": "display_data"
        },
        {
          "data": {
            "text/latex": [
              "$\\text{Homogeneous has nontrivial solution}$"
            ],
            "text/plain": [
              "<IPython.core.display.Latex object>"
            ]
          },
          "metadata": {},
          "output_type": "display_data"
        },
        {
          "data": {
            "text/latex": [
              "$\\text{Dimension of the nullspace (ФСР): 1}$"
            ],
            "text/plain": [
              "<IPython.core.display.Latex object>"
            ]
          },
          "metadata": {},
          "output_type": "display_data"
        },
        {
          "data": {
            "text/latex": [
              "$\\text{Nullspace (ФСР):}$"
            ],
            "text/plain": [
              "<IPython.core.display.Latex object>"
            ]
          },
          "metadata": {},
          "output_type": "display_data"
        },
        {
          "data": {
            "text/latex": [
              "$\\displaystyle \\left[\\begin{matrix}\\frac{158}{301}\\\\\\frac{139}{301}\\\\\\frac{92}{301}\\\\- \\frac{59}{301}\\\\1\\end{matrix}\\right]$"
            ],
            "text/plain": [
              "Matrix([\n",
              "[158/301],\n",
              "[139/301],\n",
              "[ 92/301],\n",
              "[-59/301],\n",
              "[      1]])"
            ]
          },
          "metadata": {},
          "output_type": "display_data"
        },
        {
          "data": {
            "text/latex": [
              "$\\text{Solution:}$"
            ],
            "text/plain": [
              "<IPython.core.display.Latex object>"
            ]
          },
          "metadata": {},
          "output_type": "display_data"
        },
        {
          "data": {
            "text/latex": [
              "$\\displaystyle \\left[\\begin{matrix}\\frac{158 x_{1}}{301}\\\\\\frac{139 x_{1}}{301}\\\\\\frac{92 x_{1}}{301}\\\\- \\frac{59 x_{1}}{301}\\\\x_{1}\\end{matrix}\\right]$"
            ],
            "text/plain": [
              "Matrix([\n",
              "[158*x1/301],\n",
              "[139*x1/301],\n",
              "[ 92*x1/301],\n",
              "[-59*x1/301],\n",
              "[        x1]])"
            ]
          },
          "metadata": {},
          "output_type": "display_data"
        }
      ],
      "source": [
        "from typing import Optional, Union, List, Tuple\n",
        "\n",
        "def process_matrix(rows_a: Optional[Union[List, Tuple]], row_b: Optional[Union[List, Tuple]]):\n",
        "    a_matrix = Matrix(rows_a)\n",
        "    b_column = Matrix(row_b)\n",
        "    m, n = a_matrix.shape\n",
        "\n",
        "    rk_a = a_matrix.rank()\n",
        "    if rk_a == a_matrix.row_join(b_column).rank():\n",
        "        display(Latex(r\"$\\text{Matrix is compatible}$\"))\n",
        "        if rk_a == n:\n",
        "            display(Latex(r\"$\\text{Matrix has only one solution}$\"))\n",
        "        else:\n",
        "            display(Latex(r\"$\\text{Matrix has more than one solution}$\"))\n",
        "    else:\n",
        "        display(Latex(r\"$\\text{Matrix is not compatible}$\"))\n",
        "    \n",
        "    \n",
        "    if rk_a == n:\n",
        "        display(Latex(r\"$\\text{Homogeneous has only trivial solution}$\"))\n",
        "        return\n",
        "    display(Latex(r\"$\\text{Homogeneous has nontrivial solution}$\"))\n",
        "    \n",
        "    nullspace_r = n - rk_a\n",
        "    nullspace = a_matrix.nullspace()\n",
        "    display(Latex(fr\"$\\text{{Dimension of the nullspace (ФСР): {nullspace_r}}}$\"))\n",
        "    display(Latex(r\"$\\text{Nullspace (ФСР):}$\"))\n",
        "    display(*nullspace)\n",
        "\n",
        "    solution = zeros(n, 1)\n",
        "    x_syms = symbols(f\"x1:{n+1}\")\n",
        "    for i, vector in enumerate(nullspace):\n",
        "        solution += vector * x_syms[i]\n",
        "    display(Latex(r\"$\\text{Solution:}$\"))\n",
        "    display(solution)\n",
        "    \n",
        "\n",
        "a_rows = (\n",
        "    (1, -3, 5, 2),\n",
        "    (2, 3, 4, 7),\n",
        "    (1, 6, -1, 5),\n",
        "    (3, 0, 9, 9),\n",
        ")\n",
        "b_row = (2, -3, -5, 1)\n",
        "process_matrix(a_rows, b_row)\n",
        "print('\\n')\n",
        "\n",
        "a_rows = (\n",
        "    (1, 9, -8, -9, -4),\n",
        "    (-7, -1, 5, 2, 3),\n",
        "    (39, 41, -57, -46, -31),\n",
        "    (-7, 5, -4, -3, 2),\n",
        "    (-3, 0, 9, 6, 0),\n",
        ")\n",
        "b_row = (-34, -45, 89, -74, -24)\n",
        "process_matrix(a_rows, b_row)"
      ]
    }
  ],
  "metadata": {
    "colab": {
      "provenance": []
    },
    "kernelspec": {
      "display_name": "Python 3.11.0 ('.venv': venv)",
      "language": "python",
      "name": "python3"
    },
    "language_info": {
      "codemirror_mode": {
        "name": "ipython",
        "version": 3
      },
      "file_extension": ".py",
      "mimetype": "text/x-python",
      "name": "python",
      "nbconvert_exporter": "python",
      "pygments_lexer": "ipython3",
      "version": "3.11.0 (main, Oct 24 2022, 18:26:48) [MSC v.1933 64 bit (AMD64)]"
    },
    "vscode": {
      "interpreter": {
        "hash": "15070b5f4c01a16be65f6048f4eea768aba9ae68ce711f49339836ef743d1529"
      }
    }
  },
  "nbformat": 4,
  "nbformat_minor": 0
}
