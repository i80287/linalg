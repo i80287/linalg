{
  "cells": [
    {
      "cell_type": "markdown",
      "metadata": {
        "id": "B600zaglO8R5"
      },
      "source": [
        "## Занятие 4\n",
        "## Компьютерный практикум по алгебре на Python\n",
        "## Фундаментальная система решений однородной СЛАУ"
      ]
    },
    {
      "cell_type": "markdown",
      "metadata": {
        "id": "z-MBGjqlO8R-"
      },
      "source": [
        "https://docs.sympy.org/latest/modules"
      ]
    },
    {
      "cell_type": "code",
      "execution_count": 29,
      "metadata": {
        "id": "mbuIM2VjO8SA"
      },
      "outputs": [],
      "source": [
        "from sympy import linsolve, Matrix, S, Symbol, symbols, Eq, linear_eq_to_matrix, simplify, zeros"
      ]
    },
    {
      "cell_type": "markdown",
      "metadata": {
        "id": "MCakxRL6O8SC"
      },
      "source": [
        "### Задание 1.\n",
        "Проверить по теореме Кронекера-Капелли совместность СЛАУ $AX = b$, если\n",
        "\\begin{align*}\n",
        "a)\\ A = \\left(\n",
        "\\begin{matrix}\n",
        "-1 & -3 & 5 & 2\\\\\n",
        "2 & -1 & 4 & 7\\\\\n",
        "3 & 4 & -1 & 0\\\\\n",
        "5 & 0 & 1 & -3\n",
        "\\end{matrix}\n",
        "\\right), \\quad \n",
        "b = \\left(\n",
        "\\begin{matrix}\n",
        "14\\\\ 56\\\\ 5\\\\ -6\n",
        "\\end{matrix}\n",
        "\\right), \\quad \n",
        "b)\\ A = \\left(\n",
        "\\begin{matrix}\n",
        "1 & 3 & 5 & 2\\\\\n",
        "2 & -1 & 4 & 1\\\\\n",
        "3 & 4 & -1 & 0\\\\\n",
        "5 & 3 & 3 & 1\n",
        "\\end{matrix}\n",
        "\\right), \\quad \n",
        "b = \\left(\n",
        "\\begin{matrix}\n",
        "24\\\\ 20\\\\ 5\\\\ 5\n",
        "\\end{matrix}\n",
        "\\right), \\quad \n",
        "c)\\ A = \\left(\n",
        "\\begin{matrix}\n",
        "1 & 3 & 5 & 2\\\\\n",
        "2 & -1 & 4 & 1\\\\\n",
        "3 & 2 & 9 & 3\\\\\n",
        "1 & -4 & -1 & -1\n",
        "\\end{matrix}\n",
        "\\right), \\quad \n",
        "b = \\left(\n",
        "\\begin{matrix}\n",
        "24\\\\ 20\\\\ 44\\\\ -4\n",
        "\\end{matrix}\n",
        "\\right)\n",
        "\\end{align*}"
      ]
    },
    {
      "cell_type": "code",
      "execution_count": 30,
      "metadata": {
        "id": "MRp9NWkdce6K"
      },
      "outputs": [],
      "source": [
        "def verify_matrix(matrix: Matrix, number: str) -> bool:\n",
        "    is_comp = matrix[:, :-1].rank() == matrix.rank()\n",
        "    print(f\"\"\"Matrix {number} is {\"not \" * (not is_comp)}compatible\"\"\")\n",
        "    return is_comp\n",
        "        \n",
        "\n",
        "ab_matrix_a = Matrix((\n",
        "    (-1, -3, 5, 2, 14),\n",
        "    (2, -1, 4, 7, 56),\n",
        "    (3, 4, -1, 0, 5),\n",
        "    (5, 0, 1, -3, -6),\n",
        "))\n",
        "ab_matrix_b = Matrix((\n",
        "    (1, 3, 5, 2, 24),\n",
        "    (2, -1, 4, 1, 20),\n",
        "    (3, 4, -1, 0, 5),\n",
        "    (5, 3, 3, 1, 5),\n",
        "))\n",
        "ab_matrix_c = Matrix((\n",
        "    (1, 3, 5, 2, 24),\n",
        "    (2, -1, 4, 1, 20),\n",
        "    (3, 2, 9, 3, 44),\n",
        "    (1, -4, -1, -1, -4),\n",
        "))\n",
        "numbers = (\"a)\", \"b)\", \"c)\")\n",
        "matrixes = (ab_matrix_a, ab_matrix_b,ab_matrix_c)\n",
        "\n",
        "# Generator with compatible matrixes and their indexes.\n",
        "compatible_matrixes = ((i, matrix) for i, matrix in enumerate(matrixes) if verify_matrix(matrix, numbers[i]))\n"
      ]
    },
    {
      "cell_type": "markdown",
      "metadata": {
        "id": "F3lXkJ3oO8SM"
      },
      "source": [
        "### Задание 2.\n",
        "\n",
        "Проверить единственность решения в совместных СЛАУ Задания 1."
      ]
    },
    {
      "cell_type": "code",
      "execution_count": 31,
      "metadata": {
        "id": "4CR_p8oGchk6"
      },
      "outputs": [
        {
          "name": "stdout",
          "output_type": "stream",
          "text": [
            "Matrix a) is compatible\n",
            "Matrix a) has only one solution\n",
            "Matrix b) is not compatible\n",
            "Matrix c) is compatible\n",
            "Matrix c) has at least two solutions\n"
          ]
        }
      ],
      "source": [
        "for i, matrix in compatible_matrixes:\n",
        "    m = matrix.shape[1] - 1\n",
        "    if m == matrix.rank():\n",
        "        print(f\"Matrix {numbers[i]} has only one solution\")\n",
        "    else:\n",
        "        print(f\"Matrix {numbers[i]} has at least two solutions\")"
      ]
    },
    {
      "cell_type": "markdown",
      "metadata": {
        "id": "cHZhM0_jO8SO"
      },
      "source": [
        "### Задание 3\n",
        "Для однородных СЛАУ, соответствующих СЛАУ из Задания 1 установить, есть ли у однородной СЛАУ нетривиальное решение. "
      ]
    },
    {
      "cell_type": "code",
      "execution_count": 32,
      "metadata": {
        "id": "2A24s3zfcjFm"
      },
      "outputs": [
        {
          "name": "stdout",
          "output_type": "stream",
          "text": [
            "Homogeneous matrix of matrix b) has a nontrivial solution\n",
            "Homogeneous matrix of matrix c) has a nontrivial solution\n"
          ]
        }
      ],
      "source": [
        "homogeneous_matrixes = (matrix[:, :-1] for matrix in matrixes)\n",
        "hgn_nontriv_matrixes = []\n",
        "for i, matrix in enumerate(homogeneous_matrixes):\n",
        "    if matrix.rank() < matrix.shape[1]:\n",
        "        print(f\"Homogeneous matrix of matrix {numbers[i]} has a nontrivial solution\")\n",
        "        hgn_nontriv_matrixes.append((i, matrix))"
      ]
    },
    {
      "cell_type": "markdown",
      "metadata": {
        "id": "wmJb1QrxO8SQ"
      },
      "source": [
        "### Задание 4\n",
        "Для однородных СЛАУ из Задания 3, имеющих нетривиальное решение, составить ФСР. "
      ]
    },
    {
      "cell_type": "code",
      "execution_count": 33,
      "metadata": {
        "id": "hAnK6Ytsclbl"
      },
      "outputs": [
        {
          "name": "stdout",
          "output_type": "stream",
          "text": [
            "FSS (ФСР) of homogeneous matrix with nontrivial solution b):\n"
          ]
        },
        {
          "data": {
            "text/latex": [
              "$\\displaystyle \\left[\\begin{matrix}\\frac{7}{82}\\\\- \\frac{6}{41}\\\\- \\frac{27}{82}\\\\1\\end{matrix}\\right]$"
            ],
            "text/plain": [
              "Matrix([\n",
              "[  7/82],\n",
              "[ -6/41],\n",
              "[-27/82],\n",
              "[     1]])"
            ]
          },
          "metadata": {},
          "output_type": "display_data"
        },
        {
          "name": "stdout",
          "output_type": "stream",
          "text": [
            "FSS (ФСР) of homogeneous matrix with nontrivial solution c):\n"
          ]
        },
        {
          "data": {
            "text/latex": [
              "$\\displaystyle \\left[\\begin{matrix}- \\frac{17}{7}\\\\- \\frac{6}{7}\\\\1\\\\0\\end{matrix}\\right]$"
            ],
            "text/plain": [
              "Matrix([\n",
              "[-17/7],\n",
              "[ -6/7],\n",
              "[    1],\n",
              "[    0]])"
            ]
          },
          "metadata": {},
          "output_type": "display_data"
        },
        {
          "data": {
            "text/latex": [
              "$\\displaystyle \\left[\\begin{matrix}- \\frac{5}{7}\\\\- \\frac{3}{7}\\\\0\\\\1\\end{matrix}\\right]$"
            ],
            "text/plain": [
              "Matrix([\n",
              "[-5/7],\n",
              "[-3/7],\n",
              "[   0],\n",
              "[   1]])"
            ]
          },
          "metadata": {},
          "output_type": "display_data"
        }
      ],
      "source": [
        "for i, matrix in hgn_nontriv_matrixes:\n",
        "    print(f\"FSS (ФСР) of homogeneous matrix with nontrivial solution {numbers[i]}:\")\n",
        "    display(*matrix.nullspace())"
      ]
    },
    {
      "cell_type": "markdown",
      "metadata": {
        "id": "TbcC_Tc-O8ST"
      },
      "source": [
        "### Задание 5\n",
        "Для однородных СЛАУ из Задания 4 построить общее решение, используя построенную в Задании 4 ФСР. Сравнить с результатом, возвращаемым linsolve. "
      ]
    },
    {
      "cell_type": "code",
      "execution_count": null,
      "metadata": {
        "id": "x9rBc4uRcnm9"
      },
      "outputs": [],
      "source": []
    },
    {
      "cell_type": "markdown",
      "metadata": {
        "id": "q96MSia2O8SU"
      },
      "source": [
        "### Индивидуальное задание.\n",
        "Дана СЛАУ $AX = b$. Проверить совместность по теореме Кронекера-Капелли. Если СЛАУ совместна, проверить единственность решения.\n",
        "Для соответствующей однородной СЛАУ проверить существование нетривиального решения. В случае, если оно существует, \n",
        "найти размерность пространства решений и составить ФСР и общее решение однородной СЛАУ.\n",
        "\\begin{align*}\n",
        "A = \\left(\n",
        "\\begin{matrix}\n",
        "1 & -3 & 5 & 2\\\\\n",
        "2 & 3 & 4 & 7\\\\\n",
        "1 & 6 & -1 & 5\\\\\n",
        "3 & 0 & 9 & 9\n",
        "\\end{matrix}\n",
        "\\right), \\qquad\n",
        "b = \\left(\n",
        "\\begin{matrix}\n",
        "2\\\\ -3\\\\ -5\\\\ -1\n",
        "\\end{matrix}\n",
        "\\right)\n",
        "\\end{align*}"
      ]
    },
    {
      "cell_type": "code",
      "execution_count": null,
      "metadata": {
        "id": "NsSJ58zFcpK1"
      },
      "outputs": [],
      "source": []
    }
  ],
  "metadata": {
    "colab": {
      "provenance": []
    },
    "kernelspec": {
      "display_name": "Python 3.10.6 ('.venv': venv)",
      "language": "python",
      "name": "python3"
    },
    "language_info": {
      "codemirror_mode": {
        "name": "ipython",
        "version": 3
      },
      "file_extension": ".py",
      "mimetype": "text/x-python",
      "name": "python",
      "nbconvert_exporter": "python",
      "pygments_lexer": "ipython3",
      "version": "3.10.6"
    },
    "vscode": {
      "interpreter": {
        "hash": "23a6882170137f8e6d5ec461d8c8669e78b416c90f8bfa500a7a4269aca9b23d"
      }
    }
  },
  "nbformat": 4,
  "nbformat_minor": 0
}
