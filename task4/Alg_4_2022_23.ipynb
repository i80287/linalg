{
  "cells": [
    {
      "cell_type": "markdown",
      "metadata": {
        "id": "K5rOBEjDzO6E"
      },
      "source": [
        "# Практическое занятие 4\n",
        "# Компьютерный практикум по алгебре на Python\n",
        "## Фундаментальная система решений однородной СЛАУ"
      ]
    },
    {
      "cell_type": "markdown",
      "metadata": {
        "id": "RCeneMPozO6K"
      },
      "source": [
        "https://docs.sympy.org/latest/modules/solvers/solveset.html#sympy.solvers.solveset.linsolve"
      ]
    },
    {
      "cell_type": "code",
      "execution_count": 1,
      "metadata": {
        "id": "fE0dZmzUzO6M"
      },
      "outputs": [],
      "source": [
        "from sympy import linsolve, Matrix, S, Symbol, symbols, Eq, linear_eq_to_matrix, zeros, latex\n",
        "from IPython.display import Latex"
      ]
    },
    {
      "cell_type": "markdown",
      "metadata": {
        "id": "ULsZ99BhzO6N"
      },
      "source": [
        "### Ранг матрицы\n",
        "**Рангом** ненулевой матрицы называется максимальный порядок ненулевых миноров этой матрицы.\n",
        "\n",
        "**Альтернативное определение ранга** - максимальное число линейно независимых столбцов (или строк) матрицы.\n",
        "\n",
        "У объектов класса Matrix есть метод rank(), вычисляющий ранг матрицы.\n",
        "### Пример 1.\n",
        "Найти ранг матрицы\n",
        "$$\n",
        "A=\\left(\n",
        "\\begin{matrix}\n",
        "2&3&5&8\\\\\n",
        "3&-2&1&-1\\\\\n",
        "5&1&6&7\n",
        "\\end{matrix}\n",
        "\\right)\n",
        "$$"
      ]
    },
    {
      "cell_type": "code",
      "execution_count": 2,
      "metadata": {
        "colab": {
          "base_uri": "https://localhost:8080/"
        },
        "id": "cwpSEo3SzO6P",
        "outputId": "3bd3d755-1f8e-47ea-96ee-91c73ca34d49"
      },
      "outputs": [
        {
          "name": "stdout",
          "output_type": "stream",
          "text": [
            "Ранг матрицы А равен 2\n"
          ]
        }
      ],
      "source": [
        "A = Matrix([[2, 3, 5, 8], \n",
        "            [3, -2, 1, -1], \n",
        "            [5, 1, 6, 7]])\n",
        "print(f'Ранг матрицы А равен {A.rank()}')"
      ]
    },
    {
      "cell_type": "markdown",
      "metadata": {
        "id": "kBSovt9UzO6Q"
      },
      "source": [
        "### Теорема Кронекера-Капелли\n",
        "СЛАУ совместна тогда и только тогда, когда ранг матрицы левой части равен рангу расширенной матрицы СЛАУ.\n",
        "### Пример 2\n",
        "С помощью ранга определить совместность СЛАУ:\n",
        "$$\n",
        "\\left\\{\n",
        "\\begin{matrix}\n",
        "2x_1 + 3x_2 - x_3 + x_4 = 5\\\\\n",
        "3x_1 - 2x_2 + x_3 + 4x_4 = 2\\\\\n",
        "x_1 - 5x_2 + 2x_3 + 3x_4 = -3\n",
        "\\end{matrix}\n",
        "\\right.\n",
        "$$\n",
        "Запишем СЛАУ в матричном виде, составим расширенную матрицу путем присоединения столбца правой части к матрице левой части.\n",
        "Сравним ранги матриц."
      ]
    },
    {
      "cell_type": "code",
      "execution_count": 3,
      "metadata": {
        "colab": {
          "base_uri": "https://localhost:8080/"
        },
        "id": "XChApEwRzO6Q",
        "outputId": "6c9c5327-6426-4c73-cda6-70cb9b959b72"
      },
      "outputs": [
        {
          "name": "stdout",
          "output_type": "stream",
          "text": [
            "Ранг матрицы А равен 2, ранг расширенной матрицы равен 2, ранги  равны.\n"
          ]
        }
      ],
      "source": [
        "A = Matrix([[2, 3, -1, 1], \n",
        "            [3, -2, 1, 4], \n",
        "            [1, -5, 2, 3]])\n",
        "b = Matrix([5, 2, -3])\n",
        "Ab_rank = A.row_join(b).rank()\n",
        "A_rank = A.rank()\n",
        "print(f'Ранг матрицы А равен {A_rank}, \\\n",
        "ранг расширенной матрицы равен {Ab_rank}, \\\n",
        "ранги {\"не \" * (A_rank != Ab_rank)} равны.')"
      ]
    },
    {
      "cell_type": "markdown",
      "metadata": {
        "id": "q1b3XK54zO6R"
      },
      "source": [
        "Равенство рангов означает совместность данной СЛАУ.\n",
        "### Теорема \n",
        "СЛАУ $AX = b$ с $n$ переменными имеет единственное решение тогда и только тогда, когда $rg A = rg B = n$.\n",
        "\n",
        "Здесь $B$ - расширенная матрица СЛАУ, полученная присоединением к $A$ справа столбца $b$.\n",
        "### Пример 3\n",
        "Определить какие из перечисленных СЛАУ имеют единственное решение:\n",
        "$$\n",
        "a)\\ \n",
        "\\left\\{\n",
        "\\begin{matrix}\n",
        "2x_1 + 3x_2 - x_3 + x_4 = 11\\\\\n",
        "3x_1 - 2x_2 + x_3 + 4x_4 = 6\\\\\n",
        "x_1 - 5x_2 + 2x_3 + 3x_4 = -5\\\\\n",
        "-x_1 + x_2 + 2x_3 - x_4 = -7\n",
        "\\end{matrix}\n",
        "\\right.\n",
        "\\qquad b)\\ \n",
        "\\left\\{\n",
        "\\begin{matrix}\n",
        "2x_1 + 3x_2 - x_3 = 5\\\\\n",
        "3x_1 - 2x_2 + x_3  = 2\\\\\n",
        "x_1 - 5x_2 + 2x_3 = -3\n",
        "\\end{matrix}\n",
        "\\right.\n",
        "\\qquad c)\\ \n",
        "\\left\\{\n",
        "\\begin{matrix}\n",
        "2x_1 + 3x_2 - x_3 = 5\\\\\n",
        "x_1 - 2x_2 + x_3 = 2\\\\\n",
        "x_1 - 5x_2 + 2x_3 = -3\n",
        "\\end{matrix}\n",
        "\\right.\n",
        "$$\n",
        "Запишем все СЛАУ в виде расширенной матрицы.\n",
        "Сравним ранги матриц. Пользуемся срезами slice и отрицательной нумерацией для выделения матрицы левой части."
      ]
    },
    {
      "cell_type": "code",
      "execution_count": 4,
      "metadata": {
        "colab": {
          "base_uri": "https://localhost:8080/",
          "height": 195
        },
        "id": "4jcWPXm-zO6R",
        "outputId": "d7578455-1a45-4010-fe46-03228c2d1f57"
      },
      "outputs": [
        {
          "name": "stdout",
          "output_type": "stream",
          "text": [
            "rg(A) = rg(Ab) = m = 4\n"
          ]
        },
        {
          "data": {
            "text/latex": [
              "$\\displaystyle \\left[\\begin{matrix}2 & 3 & -1 & 1 & 11\\\\-1 & -2 & 1 & 4 & 6\\\\1 & -5 & 2 & 3 & -5\\\\-1 & 1 & 2 & -1 & -7\\end{matrix}\\right]$"
            ],
            "text/plain": [
              "Matrix([\n",
              "[ 2,  3, -1,  1, 11],\n",
              "[-1, -2,  1,  4,  6],\n",
              "[ 1, -5,  2,  3, -5],\n",
              "[-1,  1,  2, -1, -7]])"
            ]
          },
          "metadata": {},
          "output_type": "display_data"
        },
        {
          "name": "stdout",
          "output_type": "stream",
          "text": [
            "rg(A) = rg(Ab) = m = 3\n"
          ]
        },
        {
          "data": {
            "text/latex": [
              "$\\displaystyle \\left[\\begin{matrix}2 & 3 & -1 & 5\\\\1 & -2 & 1 & 2\\\\1 & -5 & 2 & -3\\end{matrix}\\right]$"
            ],
            "text/plain": [
              "Matrix([\n",
              "[2,  3, -1,  5],\n",
              "[1, -2,  1,  2],\n",
              "[1, -5,  2, -3]])"
            ]
          },
          "metadata": {},
          "output_type": "display_data"
        }
      ],
      "source": [
        "B_a = Matrix([[2, 3, -1, 1, 11], \n",
        "              [-1, -2, 1, 4, 6], \n",
        "              [1, -5, 2, 3, -5], \n",
        "              [-1, 1, 2, -1, -7]])\n",
        "B_b = Matrix([[2, 3, -1, 5], \n",
        "              [3, -2, 1, 2], \n",
        "              [1, -5, 2, -3]])\n",
        "B_c = Matrix([[2, 3, -1, 5], \n",
        "              [1, -2, 1, 2], \n",
        "              [1, -5, 2, -3]])\n",
        "for B in [B_a, B_b, B_c]:\n",
        "    rgA = B[:, :-1].rank()\n",
        "    n, m = B[:, :-1].shape # m -число столбцов, m равно числу переменных\n",
        "    if rgA == B.rank() and rgA == m:\n",
        "        print(f'rg(A) = rg(Ab) = m = {rgA}')\n",
        "        display(B)"
      ]
    },
    {
      "cell_type": "markdown",
      "metadata": {
        "id": "Ih1IRzk6zO6S"
      },
      "source": [
        "### Однородная СЛАУ\n",
        "СЛАУ вида  $AX = \\bar 0$, где $\\bar 0$ - нулевой вектор.\n",
        "\n",
        "Однородная СЛАУ всегда совместна, она имеет по крайней мере одно решение - нулевой вектор.\n",
        "### Теорема \n",
        "Однородная СЛАУ с $n$ переменными имеет нетривиальное решение тогда и только тогда, когда $rg A < n$.\n",
        "### Пример 3\n",
        "Определить какие из перечисленных однородных СЛАУ имеют нетривиальное решение:\n",
        "$$\n",
        "a)\\ \n",
        "\\left\\{\n",
        "\\begin{matrix}\n",
        "x_1 + 2x_2 - 3x_3 + x_4 = 0\\\\\n",
        "x_1 - 2x_2 + x_3 + 3x_4 = 0\\\\\n",
        "x_1 - 5x_2 + 2x_3 + 3x_4 = 0\\\\\n",
        "-x_1 + x_2 + 2x_3 - x_4 = 0\n",
        "\\end{matrix}\n",
        "\\right.\n",
        "\\qquad b)\\ \n",
        "\\left\\{\n",
        "\\begin{matrix}\n",
        "2x_1 + x_2 - x_3 = 0\\\\\n",
        "-x_1 + 2x_2 + x_3  = 0\\\\\n",
        "-2x_1 - x_2 + 2x_3 = 0\n",
        "\\end{matrix}\n",
        "\\right.\n",
        "\\qquad c)\\ \n",
        "\\left\\{\n",
        "\\begin{matrix}\n",
        "2x_1 + 3x_2 - x_3 = 0\\\\\n",
        "3x_1 - 2x_2 + 2x_3 = 0\\\\\n",
        "5x_1 + x_2 + x_3 = 0\n",
        "\\end{matrix}\n",
        "\\right.\n",
        "$$\n",
        "Сравним ранги матриц СЛАУ с их размерностями.\n",
        "## enumerate\n",
        "Изучим удобное средство для перебора элементов в списке с одновременным обращением по индексу.\n",
        "Удобно использовать enumerate в цикле for. \n",
        "#### `for i, item in enumerate(my_list):`\n",
        "позволяет для каждого элемента списка получить доступ как к самому элементу, так и к его номеру в списке.\n",
        "Вместо списка list можно использовать кортеж tuple.\n",
        "\n",
        "Будем перебирать в цикле матрицы СЛАУ, а выводить на экран номер СЛАУ (a, b или c) и матрицу."
      ]
    },
    {
      "cell_type": "code",
      "execution_count": 5,
      "metadata": {
        "colab": {
          "base_uri": "https://localhost:8080/",
          "height": 194
        },
        "id": "Q4cqqwjvzO6T",
        "outputId": "89a7cbbe-acbd-4b8d-af20-f448dea13223"
      },
      "outputs": [
        {
          "name": "stdout",
          "output_type": "stream",
          "text": [
            "a\n"
          ]
        },
        {
          "data": {
            "text/latex": [
              "$\\displaystyle \\left[\\begin{matrix}1 & 2 & -3 & 1\\\\1 & -2 & 1 & 3\\\\1 & -5 & 2 & 3\\\\-1 & 1 & 2 & -1\\end{matrix}\\right]$"
            ],
            "text/plain": [
              "Matrix([\n",
              "[ 1,  2, -3,  1],\n",
              "[ 1, -2,  1,  3],\n",
              "[ 1, -5,  2,  3],\n",
              "[-1,  1,  2, -1]])"
            ]
          },
          "metadata": {},
          "output_type": "display_data"
        },
        {
          "name": "stdout",
          "output_type": "stream",
          "text": [
            "c\n"
          ]
        },
        {
          "data": {
            "text/latex": [
              "$\\displaystyle \\left[\\begin{matrix}2 & 3 & -1\\\\3 & -2 & 2\\\\5 & 1 & 1\\end{matrix}\\right]$"
            ],
            "text/plain": [
              "Matrix([\n",
              "[2,  3, -1],\n",
              "[3, -2,  2],\n",
              "[5,  1,  1]])"
            ]
          },
          "metadata": {},
          "output_type": "display_data"
        }
      ],
      "source": [
        "A_a = Matrix([[1, 2, -3, 1], \n",
        "              [1, -2, 1, 3], \n",
        "              [1, -5, 2, 3], \n",
        "              [-1, 1, 2, -1]])\n",
        "A_b = Matrix([[2, 1, -1], \n",
        "              [-1, 2, 1], \n",
        "              [-2, -1, 2]])\n",
        "A_c = Matrix([[2, 3, -1], \n",
        "              [3, -2, 2], \n",
        "              [5, 1, 1]])\n",
        "number = ['a', 'b', 'c']\n",
        "for i, A in enumerate([A_a, A_b, A_c]):\n",
        "    if A.rank() < A.shape[1]:\n",
        "        print(number[i])\n",
        "        display(A)"
      ]
    },
    {
      "cell_type": "markdown",
      "metadata": {
        "id": "pqdHUgu5zO6T"
      },
      "source": [
        "### Теорема \n",
        "Однородная СЛАУ с квадратной матрицей имеет нетривиальное решение тогда и только тогда, когда определитель этой матрицы равен нулю.\n",
        "### Пример 4\n",
        "Проверить утверждение теоремы на матрицах СЛАУ из Примера 3. Вычислить определитель матрицы однородной СЛАУ и решить СЛАУ с помощью linsolve.\n",
        "\n",
        "Будем использовать zeros(n, 1) для построения нулевого вектора.\n",
        "\n",
        "Поскольку в каждой СЛАУ разное число переменных, то для подстановки в linsolve переменных будем создавать их столько, сколько нужно в каждой СЛАУ. При нумерации переменных с единицы последний номер будет равен размерности матрицы, но в диапазоне нужно указать на единицу больше, чтобы последний символ был создан. Обозначим $n$ число строк матрицы $A$, $m$ - число столбцов.\n",
        "\n",
        "При создании символов воспользуемся f-строкой."
      ]
    },
    {
      "cell_type": "code",
      "execution_count": 6,
      "metadata": {
        "colab": {
          "base_uri": "https://localhost:8080/",
          "height": 171
        },
        "id": "CZEM0lGmzO6U",
        "outputId": "051dc94a-22b8-4217-dea5-6f75b1534b41"
      },
      "outputs": [
        {
          "name": "stdout",
          "output_type": "stream",
          "text": [
            "a) |A| = 0, rg(A) = 3\n"
          ]
        },
        {
          "data": {
            "text/latex": [
              "$\\displaystyle \\left( - \\frac{11 x_{4}}{4}, \\  - \\frac{x_{4}}{4}, \\  - \\frac{3 x_{4}}{4}, \\  x_{4}\\right)$"
            ],
            "text/plain": [
              "(-11*x4/4, -x4/4, -3*x4/4, x4)"
            ]
          },
          "metadata": {},
          "output_type": "display_data"
        },
        {
          "name": "stdout",
          "output_type": "stream",
          "text": [
            "b) |A| = 5, rg(A) = 3\n"
          ]
        },
        {
          "data": {
            "text/latex": [
              "$\\displaystyle \\left( 0, \\  0, \\  0\\right)$"
            ],
            "text/plain": [
              "(0, 0, 0)"
            ]
          },
          "metadata": {},
          "output_type": "display_data"
        },
        {
          "name": "stdout",
          "output_type": "stream",
          "text": [
            "c) |A| = 0, rg(A) = 2\n"
          ]
        },
        {
          "data": {
            "text/latex": [
              "$\\displaystyle \\left( - \\frac{4 x_{3}}{13}, \\  \\frac{7 x_{3}}{13}, \\  x_{3}\\right)$"
            ],
            "text/plain": [
              "(-4*x3/13, 7*x3/13, x3)"
            ]
          },
          "metadata": {},
          "output_type": "display_data"
        }
      ],
      "source": [
        "for i, A in enumerate((A_a, A_b, A_c)):\n",
        "    n, m = A.shape\n",
        "    print(f'{number[i]}) |A| = {A.det()}, rg(A) = {A.rank()}')\n",
        "    display(*linsolve((A, zeros(n, 1)), symbols(f'x1:{m + 1}')))"
      ]
    },
    {
      "cell_type": "markdown",
      "metadata": {
        "id": "dN2qSV4_zO6U"
      },
      "source": [
        "###  Линейное подпространство решений однородной СЛАУ\n",
        "### Теорема\n",
        "Множество всех решений однородной СЛАУ $AX = \\bar 0$ с $n$ переменными является линейным подпространством арифметического пространства $R^n$.\n",
        "### Фундаментальная система решений (ФСР) однородной СЛАУ\n",
        "это произвольный базис подпространства решений СЛАУ.\n",
        "### Теорема\n",
        "Размерность подпространства решений однородной СЛАУ $AX = \\bar 0$ с $n$ переменными равна $n - r$, где $r = rg(A)$.\n",
        "### Общее решение  однородной СЛАУ\n",
        "Любое решение $X$ однородной СЛАУ выражается как линейная комбинация векторов ФСР этой СЛАУ:\n",
        "$$\n",
        "X = \\alpha_1 e_1 + \\alpha_2 e_2 + ... + \\alpha_m e_m, \n",
        "$$\n",
        "где $e_1, e_2, ..., e_m$ - векторы ФСР.\n",
        "\n",
        "## nullspace\n",
        "Метод nullspace позволяет построить ФСР однородной СЛАУ $AX = \\bar 0$ с матрицей $A$.\n",
        "\n",
        "https://docs.sympy.org/latest/modules/matrices/matrices.html?highlight=nullspace#sympy.matrices.matrices.MatrixSubspaces.nullspace\n",
        "Метод nullspace возвращает список векторов ФСР.\n",
        "### Пример 5\n",
        "Построить ФСР однородной СЛАУ 4-го порядка из Примера 3 а.\n",
        "Для удобства скопируем матрицу СЛАУ. Для красивого представления ФСР на экране воспользуемся display и распакуем список с помощью *."
      ]
    },
    {
      "cell_type": "code",
      "execution_count": 7,
      "metadata": {
        "colab": {
          "base_uri": "https://localhost:8080/",
          "height": 116
        },
        "id": "nJOW52ClzO6V",
        "outputId": "aefe55e7-1022-447e-bc24-95f112a497f5"
      },
      "outputs": [
        {
          "name": "stdout",
          "output_type": "stream",
          "text": [
            "ранг 3, ФСР:\n"
          ]
        },
        {
          "data": {
            "text/latex": [
              "$\\displaystyle \\left[\\begin{matrix}- \\frac{11}{4}\\\\- \\frac{1}{4}\\\\- \\frac{3}{4}\\\\1\\end{matrix}\\right]$"
            ],
            "text/plain": [
              "Matrix([\n",
              "[-11/4],\n",
              "[ -1/4],\n",
              "[ -3/4],\n",
              "[    1]])"
            ]
          },
          "metadata": {},
          "output_type": "display_data"
        }
      ],
      "source": [
        "A5 = Matrix([[1, 2, -3, 1], \n",
        "             [1, -2, 1, 3], \n",
        "             [1, -5, 2, 3], \n",
        "             [-1, 1, 2, -1]])\n",
        "print(f'ранг {A5.rank()}, ФСР:')\n",
        "display(*A5.nullspace())"
      ]
    },
    {
      "cell_type": "markdown",
      "metadata": {
        "id": "wVF3FRnQzO6V"
      },
      "source": [
        "ФСР данной СЛАУ состоит из одного вектора.\n",
        "### Пример 6\n",
        "Построим ФСР однородной СЛАУ, состоящей из первых двух уравнений СЛАУ из Примера 5."
      ]
    },
    {
      "cell_type": "code",
      "execution_count": 8,
      "metadata": {
        "colab": {
          "base_uri": "https://localhost:8080/",
          "height": 197
        },
        "id": "ruw4KSVzzO6V",
        "outputId": "65e9dfd0-4a62-41a2-b28c-6b10877bffb8"
      },
      "outputs": [
        {
          "name": "stdout",
          "output_type": "stream",
          "text": [
            "ранг 2, число переменных 4, ФСР:\n"
          ]
        },
        {
          "data": {
            "text/latex": [
              "$\\displaystyle \\left[\\begin{matrix}1\\\\1\\\\1\\\\0\\end{matrix}\\right]$"
            ],
            "text/plain": [
              "Matrix([\n",
              "[1],\n",
              "[1],\n",
              "[1],\n",
              "[0]])"
            ]
          },
          "metadata": {},
          "output_type": "display_data"
        },
        {
          "data": {
            "text/latex": [
              "$\\displaystyle \\left[\\begin{matrix}-2\\\\\\frac{1}{2}\\\\0\\\\1\\end{matrix}\\right]$"
            ],
            "text/plain": [
              "Matrix([\n",
              "[ -2],\n",
              "[1/2],\n",
              "[  0],\n",
              "[  1]])"
            ]
          },
          "metadata": {},
          "output_type": "display_data"
        }
      ],
      "source": [
        "A6 = A5[:2, :]\n",
        "print(f'ранг {A6.rank()}, число переменных {A6.shape[1]}, ФСР:')\n",
        "A6_nullspace = A6.nullspace()\n",
        "display(*A6_nullspace)"
      ]
    },
    {
      "cell_type": "markdown",
      "metadata": {
        "id": "w9vnu7D5f0E6"
      },
      "source": [
        "Для вывода на одной строке двух столбцов можно с помощью latex из sympy получить формулу в latex, представляющую ФСР, а затем вывести эту формулу на экран, подставив в display объект, возвращаемый функцией Latex из IPython.display."
      ]
    },
    {
      "cell_type": "code",
      "execution_count": 9,
      "metadata": {
        "colab": {
          "base_uri": "https://localhost:8080/",
          "height": 98
        },
        "id": "46qFcmd2fJIa",
        "outputId": "117b93b2-db77-42c5-e864-7c617f9af9bd"
      },
      "outputs": [
        {
          "data": {
            "text/latex": [
              "\\left[ \\left[\\begin{matrix}1\\\\1\\\\1\\\\0\\end{matrix}\\right], \\  \\left[\\begin{matrix}-2\\\\\\frac{1}{2}\\\\0\\\\1\\end{matrix}\\right]\\right]"
            ],
            "text/plain": [
              "<IPython.core.display.Latex object>"
            ]
          },
          "metadata": {},
          "output_type": "display_data"
        }
      ],
      "source": [
        "display(Latex(latex(A6_nullspace)))"
      ]
    },
    {
      "cell_type": "markdown",
      "metadata": {
        "id": "axa7UbcTgiMv"
      },
      "source": [
        "Можно вставить текст:"
      ]
    },
    {
      "cell_type": "code",
      "execution_count": 10,
      "metadata": {
        "colab": {
          "base_uri": "https://localhost:8080/",
          "height": 98
        },
        "id": "iC7DL28Ogr-C",
        "outputId": "a37d6033-f63d-4ba3-bce6-be475d037b0e"
      },
      "outputs": [
        {
          "data": {
            "text/latex": [
              "Первый\\ вектор\\ ФСР\\ \\left[\\begin{matrix}1\\\\1\\\\1\\\\0\\end{matrix}\\right],\\ второй\\ вектор\\ ФСР\\ \\left[\\begin{matrix}-2\\\\\\frac{1}{2}\\\\0\\\\1\\end{matrix}\\right]."
            ],
            "text/plain": [
              "<IPython.core.display.Latex object>"
            ]
          },
          "metadata": {},
          "output_type": "display_data"
        }
      ],
      "source": [
        "display(Latex(f'Первый\\ вектор\\ ФСР\\ {latex(A6_nullspace[0])},\\ второй\\ вектор\\ ФСР\\ {latex(A6_nullspace[1])}.'))"
      ]
    },
    {
      "cell_type": "markdown",
      "metadata": {
        "id": "Yq7ABFznzO6W"
      },
      "source": [
        "### Пример 7\n",
        "Построим на основе ФСР однородной СЛАУ примера 6 общее решение СЛАУ. Решим СЛАУ с помощью linsolve и сравним результаты."
      ]
    },
    {
      "cell_type": "code",
      "execution_count": 13,
      "metadata": {
        "colab": {
          "base_uri": "https://localhost:8080/",
          "height": 98
        },
        "id": "fYCKfFa8zO6W",
        "outputId": "b4ec75eb-2a8f-4912-e1c2-2b9d6a67b2a7"
      },
      "outputs": [
        {
          "data": {
            "text/latex": [
              "Общее\\ решение\\ \\left[\\begin{matrix}\\alpha_{1} - 2 \\alpha_{2}\\\\\\alpha_{1} + \\frac{\\alpha_{2}}{2}\\\\\\alpha_{1}\\\\\\alpha_{2}\\end{matrix}\\right],\\ решение\\ linsolve\\ \\left( x_{3} - 2 x_{4}, \\  x_{3} + \\frac{x_{4}}{2}, \\  x_{3}, \\  x_{4}\\right)."
            ],
            "text/plain": [
              "<IPython.core.display.Latex object>"
            ]
          },
          "metadata": {},
          "output_type": "display_data"
        }
      ],
      "source": [
        "n, m = A6.shape\n",
        "x = symbols(f'x1:{m + 1}')\n",
        "X = zeros(m, 1)\n",
        "for i, vect in enumerate(A6.nullspace()):\n",
        "    X += vect * Symbol(f'alpha{i + 1}')\n",
        "display(Latex(f'Общее\\ решение\\ {latex(X)},\\ решение\\ linsolve\\ {latex(*linsolve((A6, zeros(n, 1)), x))}.'))    "
      ]
    },
    {
      "cell_type": "markdown",
      "metadata": {
        "id": "FXs84-ctzO6W"
      },
      "source": [
        "Общее решение отличается от результата linsolve только именами переменных. \n",
        "\n",
        "Заметим, что ФСР у любой СЛАУ с ненулевой матрицей бесконечное число. \n",
        "\n",
        "### Для красивого вывода на экран\n",
        "можно создать вспомогательный символ Х и составить уравнение Eq, заодно преобразовав множество решений в матрицу из одного столбца.\n",
        "\n",
        "Заметим, что в случае, если множество состоит из более чем одного элемента, нужны дополнительные действия для поэлементного преобразования в матрицу."
      ]
    },
    {
      "cell_type": "code",
      "execution_count": 12,
      "metadata": {
        "colab": {
          "base_uri": "https://localhost:8080/",
          "height": 98
        },
        "id": "Ss2_QuhNzO6X",
        "outputId": "f1324c91-0b99-4611-ef93-06c967f36ead"
      },
      "outputs": [
        {
          "data": {
            "text/latex": [
              "$\\displaystyle X = \\left[\\begin{matrix}x_{3} - 2 x_{4}\\\\x_{3} + \\frac{x_{4}}{2}\\\\x_{3}\\\\x_{4}\\end{matrix}\\right]$"
            ],
            "text/plain": [
              "Eq(X, Matrix([\n",
              "[x3 - 2*x4],\n",
              "[x3 + x4/2],\n",
              "[       x3],\n",
              "[       x4]]))"
            ]
          },
          "metadata": {},
          "output_type": "display_data"
        }
      ],
      "source": [
        "display(Eq(Symbol('X'), Matrix(*linsolve((A6, zeros(n, 1)), x)), evaluate=False))"
      ]
    }
  ],
  "metadata": {
    "colab": {
      "provenance": []
    },
    "kernelspec": {
      "display_name": "Python 3.10.6 ('.venv': venv)",
      "language": "python",
      "name": "python3"
    },
    "language_info": {
      "codemirror_mode": {
        "name": "ipython",
        "version": 3
      },
      "file_extension": ".py",
      "mimetype": "text/x-python",
      "name": "python",
      "nbconvert_exporter": "python",
      "pygments_lexer": "ipython3",
      "version": "3.10.6"
    },
    "vscode": {
      "interpreter": {
        "hash": "23a6882170137f8e6d5ec461d8c8669e78b416c90f8bfa500a7a4269aca9b23d"
      }
    }
  },
  "nbformat": 4,
  "nbformat_minor": 0
}
