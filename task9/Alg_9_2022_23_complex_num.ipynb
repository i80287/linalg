{
  "cells": [
    {
      "cell_type": "code",
      "execution_count": 1,
      "metadata": {
        "id": "8R_hWp04kHRB"
      },
      "outputs": [],
      "source": [
        "import numpy as np\n",
        "import sympy\n",
        "from sympy import I, latex\n",
        "from IPython.display import display, Latex\n",
        "import matplotlib.pyplot as plt"
      ]
    },
    {
      "cell_type": "markdown",
      "metadata": {
        "id": "gJosfznxkHRH"
      },
      "source": [
        "# Практическое занятие 9\n",
        "# Компьютерный практикум по алгебре на Python\n",
        "## Комплексные числа в sympy\n",
        "\n",
        "### Алгебраическая форма комплексного числа\n",
        "$z = a + bi$, $a$ и $b$ вещественные числа, $i=\\sqrt{-1}$ мнимая единица, $z$ - комплексное число. В Sympy мнимая единица записывается $I$, в Python $j$.\n",
        "### Пример 1.\n",
        "Даны комплексные числа\n",
        "$$\n",
        "z_1 = 2 + 3i,\\quad z_2 = -3 + i,\\quad z_3 = 5i,\\quad z_4 = -i,\\quad z_5 = -5 - 10i,\n",
        "$$\n",
        "вычислить\n",
        "$$\n",
        "3z_1 - 5z_2,\\quad z_2^2 - 3z_1^3,\\quad \\sqrt{z_3},\\quad z_4^{1 / 6},\\quad z_5^{-2 / 7}.\n",
        "$$"
      ]
    },
    {
      "cell_type": "code",
      "execution_count": 20,
      "metadata": {
        "id": "N_By06mUkHRK",
        "outputId": "0f160e36-fc6f-498a-c646-2ba5c7835c40",
        "colab": {
          "base_uri": "https://localhost:8080/",
          "height": 58
        }
      },
      "outputs": [
        {
          "output_type": "display_data",
          "data": {
            "text/plain": [
              "<IPython.core.display.Latex object>"
            ],
            "text/latex": "\\left( 21 + 4 i, \\  - 3 \\left(2 + 3 i\\right)^{3} + \\left(-3 + i\\right)^{2}, \\  \\sqrt{5} \\sqrt{i}, \\  \\sqrt[6]{- i}, \\  \\frac{1}{\\left(-5 - 10 i\\right)^{\\frac{2}{7}}}\\right)"
          },
          "metadata": {}
        }
      ],
      "source": [
        "z1 = 2 + 3 * I\n",
        "z2 = -3 + I\n",
        "z3 = 5 * I\n",
        "z4 = -I\n",
        "z5 = -5 - 10 * I\n",
        "display(Latex(latex((3 * z1 - 5 * z2, z2 ** 2 - 3 * z1 ** 3, z3 ** sympy.S.Half,\n",
        "                     z4 ** (sympy.S(1) / 6), z5 ** (-sympy.S(2) / 7)))))"
      ]
    },
    {
      "cell_type": "markdown",
      "metadata": {
        "id": "LvFkLhzOkHRM"
      },
      "source": [
        "Упростим выражения $z_2^2 - 3z_1^3$ и $z_5^{-2 / 7}$:"
      ]
    },
    {
      "cell_type": "code",
      "execution_count": 21,
      "metadata": {
        "id": "rL6_pMZWkHRN",
        "outputId": "f932a823-b9fc-4d20-c3d0-f61db6c92449",
        "colab": {
          "base_uri": "https://localhost:8080/",
          "height": 52
        }
      },
      "outputs": [
        {
          "output_type": "display_data",
          "data": {
            "text/plain": [
              "<IPython.core.display.Latex object>"
            ],
            "text/latex": "- 3 \\left(2 + 3 i\\right)^{3} + \\left(-3 + i\\right)^{2} = 146 - 33 i,\\qquad \\frac{1}{\\left(-5 - 10 i\\right)^{\\frac{2}{7}}} = \\frac{5^{\\frac{5}{7}}}{5 \\left(-1 - 2 i\\right)^{\\frac{2}{7}}}"
          },
          "metadata": {}
        }
      ],
      "source": [
        "expr_z2 = z2 ** 2 - 3 * z1 ** 3\n",
        "expr_z5 = z5 ** (-sympy.S(2) / 7)\n",
        "display(Latex('{0} = {1},\\qquad {2} = {3}'.format(*[latex(item)\\\n",
        "                            for item in (expr_z2,\n",
        "                                         expr_z2.simplify(),\n",
        "                                         expr_z5, expr_z5.simplify())])))"
      ]
    },
    {
      "cell_type": "markdown",
      "metadata": {
        "id": "drUt4IahkHRN"
      },
      "source": [
        "Первое выражение получились в алгебраической форме, а второе нет. Приведем в подходящий вид второе выражение немного позже.\n",
        "### Пример 2.\n",
        "Вычисления Примера 1 проделаем для мнимой единицы из Python (numpy использует комплексные числа Python, своих отдельных нет). Для получения комплексных чисел в Python есть встроенная функция complex с аргументами - вещественной и мнимой частями комплексного числа."
      ]
    },
    {
      "cell_type": "code",
      "execution_count": 4,
      "metadata": {
        "id": "86kL4zoJkHRO",
        "outputId": "7c741a1d-f953-42ac-d1b6-a0aee38f736a",
        "colab": {
          "base_uri": "https://localhost:8080/",
          "height": 104
        }
      },
      "outputs": [
        {
          "output_type": "display_data",
          "data": {
            "text/plain": [
              "(21+4j)"
            ]
          },
          "metadata": {}
        },
        {
          "output_type": "display_data",
          "data": {
            "text/plain": [
              "(146-33j)"
            ]
          },
          "metadata": {}
        },
        {
          "output_type": "display_data",
          "data": {
            "text/plain": [
              "(1.5811388300841898+1.5811388300841895j)"
            ]
          },
          "metadata": {}
        },
        {
          "output_type": "display_data",
          "data": {
            "text/plain": [
              "(0.9659258262890683-0.25881904510252074j)"
            ]
          },
          "metadata": {}
        },
        {
          "output_type": "display_data",
          "data": {
            "text/plain": [
              "(0.4193012965072991+0.2754745230972611j)"
            ]
          },
          "metadata": {}
        }
      ],
      "source": [
        "z1 = complex(2, 3)\n",
        "z2 = complex(-3, 1)\n",
        "z3 = complex(0, 5)\n",
        "z4 = complex(0, -1)\n",
        "z5 = complex(-5, - 10)\n",
        "display(3 * z1 - 5 * z2, z2 ** 2 - 3 * z1 ** 3, z3 ** (1 / 2), z4 ** (1 / 6), z5 ** (-2 / 7))"
      ]
    },
    {
      "cell_type": "markdown",
      "metadata": {
        "id": "5M6I-MjZkHRP"
      },
      "source": [
        "Заметим, что у комплексного числа $n$ различных корней степени $n$, а у нас получился только один."
      ]
    },
    {
      "cell_type": "markdown",
      "metadata": {
        "id": "2EUuLswnkHRQ"
      },
      "source": [
        "### Пример 3.\n",
        "Для получения всех корней $n$-й степени комплексного числа в sympy есть функция root, ее аргументы - число (или выражение), степень корня и необязательный параметр - номер корня, по умолчанию 0, что соответствует главном значению корня. Используем ее для получения всех четвертой степени из $1 - i$:"
      ]
    },
    {
      "cell_type": "code",
      "execution_count": 5,
      "metadata": {
        "id": "7Ykn4QijkHRR",
        "outputId": "9693ef2e-579f-445c-d16a-211acdad12b0",
        "colab": {
          "base_uri": "https://localhost:8080/",
          "height": 39
        }
      },
      "outputs": [
        {
          "output_type": "display_data",
          "data": {
            "text/plain": [
              "<IPython.core.display.Latex object>"
            ],
            "text/latex": "\\left[ \\sqrt[4]{1 - i}, \\  i \\sqrt[4]{1 - i}, \\  - \\sqrt[4]{1 - i}, \\  - i \\sqrt[4]{1 - i}\\right]"
          },
          "metadata": {}
        }
      ],
      "source": [
        "n = 4\n",
        "roots_list_3 = [sympy.root(1 - I, n, k) for k in range(n)]\n",
        "display(Latex(latex(roots_list_3)))"
      ]
    },
    {
      "cell_type": "markdown",
      "source": [
        "Для экономии памяти (имеет смысл в случае списка большой длины) можно использовать вместо списокв генераторы, но для отображения значений корней на экране нужно "
      ],
      "metadata": {
        "id": "RyDn0D7vtvdz"
      }
    },
    {
      "cell_type": "code",
      "source": [
        "roots_gen_3 = (sympy.root(1 - I, n, k) for k in range(n))\n",
        "display(Latex('{0}, {1}, {2}, {3}'.format(*(latex(item) for item in roots_gen_3))))"
      ],
      "metadata": {
        "colab": {
          "base_uri": "https://localhost:8080/",
          "height": 39
        },
        "id": "PFzW6WTctaoN",
        "outputId": "7f925af4-1246-498d-c02f-8d7f4af2e631"
      },
      "execution_count": 6,
      "outputs": [
        {
          "output_type": "display_data",
          "data": {
            "text/plain": [
              "<IPython.core.display.Latex object>"
            ],
            "text/latex": "\\sqrt[4]{1 - i}, i \\sqrt[4]{1 - i}, - \\sqrt[4]{1 - i}, - i \\sqrt[4]{1 - i}"
          },
          "metadata": {}
        }
      ]
    },
    {
      "cell_type": "markdown",
      "source": [
        "Нехорошо явно перечислять количество корней в части '{0}, {1}, {2}, {3}', ведь впоследствии может понадобиться найти пять корней пятой степени или два корня второй. Для более универсальной организации вывода корней на экран можем воспользоваться автоматическим формированием строки с помощью метода строк join.\n",
        "\n",
        "Удалить в конце строки ненужные символы можно с помощью .rstrip()."
      ],
      "metadata": {
        "id": "MiNehETQwisN"
      }
    },
    {
      "cell_type": "code",
      "source": [
        "roots_gen_3 = (sympy.root(1 - I, n, k) for k in range(n))\n",
        "my_text = ''.join([f'{{{i}}}, ' for i in range(n)]).rstrip(', ')\n",
        "display(Latex(my_text.format(*(latex(item) for item in roots_gen_3))))"
      ],
      "metadata": {
        "colab": {
          "base_uri": "https://localhost:8080/",
          "height": 39
        },
        "id": "CLvnZ2PgvCbk",
        "outputId": "06a524da-ee16-4c17-c940-396c783b2be4"
      },
      "execution_count": 7,
      "outputs": [
        {
          "output_type": "display_data",
          "data": {
            "text/plain": [
              "<IPython.core.display.Latex object>"
            ],
            "text/latex": "\\sqrt[4]{1 - i}, i \\sqrt[4]{1 - i}, - \\sqrt[4]{1 - i}, - i \\sqrt[4]{1 - i}"
          },
          "metadata": {}
        }
      ]
    },
    {
      "cell_type": "markdown",
      "source": [
        "Важно помнить, что генераторы - одноразовые объекты, дважды одним генератором воспользоваться нельзя, именно поэтому мы еще раз создали генератор, чтобы проемонстрировать другой вариант выведения корней на экран.\n",
        "\n",
        "Можно на основе генератора построить tuple и вывести корни так:"
      ],
      "metadata": {
        "id": "K2SiopAyxQKW"
      }
    },
    {
      "cell_type": "code",
      "source": [
        "roots_gen_3 = (sympy.root(1 - I, n, k) for k in range(n))\n",
        "display(Latex(latex(tuple(roots_gen_3))))"
      ],
      "metadata": {
        "colab": {
          "base_uri": "https://localhost:8080/",
          "height": 39
        },
        "id": "z17xjSDbu2c1",
        "outputId": "41f36c42-f428-4f24-af64-3c2eb5e706d5"
      },
      "execution_count": 8,
      "outputs": [
        {
          "output_type": "display_data",
          "data": {
            "text/plain": [
              "<IPython.core.display.Latex object>"
            ],
            "text/latex": "\\left( \\sqrt[4]{1 - i}, \\  i \\sqrt[4]{1 - i}, \\  - \\sqrt[4]{1 - i}, \\  - i \\sqrt[4]{1 - i}\\right)"
          },
          "metadata": {}
        }
      ]
    },
    {
      "cell_type": "markdown",
      "source": [
        "И еще один способ выведения корней на экран (вспомним enumerate и f-строки):"
      ],
      "metadata": {
        "id": "t7jX_2miFTzw"
      }
    },
    {
      "cell_type": "code",
      "source": [
        "roots_gen_3 = (sympy.root(1 - I, n, k) for k in range(n))\n",
        "display(Latex(''.join([f'r_{i} = {latex(item)}, ' for i, item in enumerate(roots_gen_3)]).rstrip(', ')))"
      ],
      "metadata": {
        "colab": {
          "base_uri": "https://localhost:8080/",
          "height": 39
        },
        "id": "k1OuCp5QyHEV",
        "outputId": "80538a7d-6970-43be-8b73-a2601fb5c201"
      },
      "execution_count": 9,
      "outputs": [
        {
          "output_type": "display_data",
          "data": {
            "text/plain": [
              "<IPython.core.display.Latex object>"
            ],
            "text/latex": "r_0 = \\sqrt[4]{1 - i}, r_1 = i \\sqrt[4]{1 - i}, r_2 = - \\sqrt[4]{1 - i}, r_3 = - i \\sqrt[4]{1 - i}"
          },
          "metadata": {}
        }
      ]
    },
    {
      "cell_type": "markdown",
      "metadata": {
        "id": "uz4ecfyVkHRS"
      },
      "source": [
        "Для получения значения выражения, содержащего комплексные числа, в алгебраической форме можно использовать функцию expand_complex:"
      ]
    },
    {
      "cell_type": "code",
      "execution_count": 10,
      "metadata": {
        "id": "sobHEUtxkHRS",
        "outputId": "550f7dee-548b-4fc0-b331-5aacfc459a0f",
        "colab": {
          "base_uri": "https://localhost:8080/",
          "height": 105
        }
      },
      "outputs": [
        {
          "output_type": "display_data",
          "data": {
            "text/plain": [
              "<IPython.core.display.Latex object>"
            ],
            "text/latex": "r_0 = \\sqrt[8]{2} \\cos{\\left(\\frac{\\pi}{16} \\right)} - \\sqrt[8]{2} i \\sin{\\left(\\frac{\\pi}{16} \\right)}"
          },
          "metadata": {}
        },
        {
          "output_type": "display_data",
          "data": {
            "text/plain": [
              "<IPython.core.display.Latex object>"
            ],
            "text/latex": "r_1 = \\sqrt[8]{2} \\sin{\\left(\\frac{\\pi}{16} \\right)} + \\sqrt[8]{2} i \\cos{\\left(\\frac{\\pi}{16} \\right)}"
          },
          "metadata": {}
        },
        {
          "output_type": "display_data",
          "data": {
            "text/plain": [
              "<IPython.core.display.Latex object>"
            ],
            "text/latex": "r_2 = - \\sqrt[8]{2} \\cos{\\left(\\frac{\\pi}{16} \\right)} + \\sqrt[8]{2} i \\sin{\\left(\\frac{\\pi}{16} \\right)}"
          },
          "metadata": {}
        },
        {
          "output_type": "display_data",
          "data": {
            "text/plain": [
              "<IPython.core.display.Latex object>"
            ],
            "text/latex": "r_3 = - \\sqrt[8]{2} \\sin{\\left(\\frac{\\pi}{16} \\right)} - \\sqrt[8]{2} i \\cos{\\left(\\frac{\\pi}{16} \\right)}"
          },
          "metadata": {}
        }
      ],
      "source": [
        "roots_3 = [sympy.expand_complex(item) for item in roots_list_3]\n",
        "display(*[Latex(f'r_{i} = {latex(item)}') for i, item in enumerate(roots_3)])"
      ]
    },
    {
      "cell_type": "markdown",
      "metadata": {
        "id": "kslZigB1kHRT"
      },
      "source": [
        "### Пример 4.\n",
        "Изобразим на координатной плоскости точки, соответствующие корням из Примера 3, подпишем точки номерами корней и их формулами."
      ]
    },
    {
      "cell_type": "code",
      "execution_count": 11,
      "metadata": {
        "id": "Ov88yzhXkHRT",
        "outputId": "20baeb66-962a-458f-91c9-764aeea0190e",
        "colab": {
          "base_uri": "https://localhost:8080/",
          "height": 300
        }
      },
      "outputs": [
        {
          "output_type": "execute_result",
          "data": {
            "text/plain": [
              "(-1.5, 1.5)"
            ]
          },
          "metadata": {},
          "execution_count": 11
        },
        {
          "output_type": "display_data",
          "data": {
            "text/plain": [
              "<Figure size 432x288 with 1 Axes>"
            ],
            "image/png": "[encoded data removed]"
          },
          "metadata": {
            "needs_background": "light"
          }
        }
      ],
      "source": [
        "roots_x = [sympy.re(item) for item in roots_list_3]\n",
        "roots_y = [sympy.im(item) for item in roots_list_3]\n",
        "plt.scatter(roots_x, roots_y)\n",
        "for k, x_coord in enumerate(roots_x): \n",
        "    plt.annotate('$A_' + str(k) + ' = ' + sympy.latex(roots_3[k]) + '$',\n",
        "            xy=(x_coord, roots_y[k]), \n",
        "            xytext=(x_coord + 0.05, roots_y[k] - 0.05)) \n",
        "plt.axis('equal')\n",
        "plt.xlabel(\"Re\")\n",
        "plt.ylabel(\"Im\")\n",
        "plt.xlim(-2.5, 4.5)\n",
        "plt.ylim(-1.5, 1.5)"
      ]
    },
    {
      "cell_type": "markdown",
      "metadata": {
        "id": "k4YHnyTekHRU"
      },
      "source": [
        "### Пример 5.\n",
        "Для получения всех корней многочлена с учетом кратности в sympy есть функция roots (в sympy.polys.polyroots). Используем ее для получения всех корней третьей степени из $i$:"
      ]
    },
    {
      "cell_type": "code",
      "execution_count": 12,
      "metadata": {
        "id": "stbMCs4rkHRU",
        "outputId": "f52a19bc-76d7-441e-a4e6-06e60809e322",
        "colab": {
          "base_uri": "https://localhost:8080/",
          "height": 88
        }
      },
      "outputs": [
        {
          "output_type": "display_data",
          "data": {
            "text/plain": [
              "<IPython.core.display.Latex object>"
            ],
            "text/latex": "r_0 = \\frac{\\sqrt{3}}{2} + \\frac{i}{2}"
          },
          "metadata": {}
        },
        {
          "output_type": "display_data",
          "data": {
            "text/plain": [
              "<IPython.core.display.Latex object>"
            ],
            "text/latex": "r_1 = - i"
          },
          "metadata": {}
        },
        {
          "output_type": "display_data",
          "data": {
            "text/plain": [
              "<IPython.core.display.Latex object>"
            ],
            "text/latex": "r_2 = - \\frac{\\sqrt{3}}{2} + \\frac{i}{2}"
          },
          "metadata": {}
        }
      ],
      "source": [
        "z = sympy.Symbol('z')\n",
        "display(*[Latex(f'r_{i} = {latex(item)}') for i, item in enumerate(sympy.roots(z ** 3 - I))])"
      ]
    },
    {
      "cell_type": "markdown",
      "metadata": {
        "id": "Gk2s5M_okHRW"
      },
      "source": [
        "### Пример 6.\n",
        "Для получения значения выражения, содержащего комплексные числа, в алгебраической форме можно использовать функцию expand_complex, а можно выделить вещественную и мнимую часть выражения и составить из них комплексное число:"
      ]
    },
    {
      "cell_type": "code",
      "execution_count": 13,
      "metadata": {
        "id": "jZez67w9kHRW",
        "outputId": "d0bf4063-30f9-4794-d3b0-46af7b4b4124",
        "colab": {
          "base_uri": "https://localhost:8080/",
          "height": 76
        }
      },
      "outputs": [
        {
          "output_type": "execute_result",
          "data": {
            "text/plain": [
              "58**(6/7)*cos(2*atan(7/3)/7)/58 + 58**(6/7)*I*sin(2*atan(7/3)/7)/58"
            ],
            "text/latex": "$\\displaystyle \\frac{58^{\\frac{6}{7}} \\cos{\\left(\\frac{2 \\operatorname{atan}{\\left(\\frac{7}{3} \\right)}}{7} \\right)}}{58} + \\frac{58^{\\frac{6}{7}} i \\sin{\\left(\\frac{2 \\operatorname{atan}{\\left(\\frac{7}{3} \\right)}}{7} \\right)}}{58}$"
          },
          "metadata": {},
          "execution_count": 13
        }
      ],
      "source": [
        "res6 = (3 - 7 * I) ** (-sympy.S(2) / 7)\n",
        "sympy.re(res6) + sympy.im(res6) * I"
      ]
    },
    {
      "cell_type": "markdown",
      "metadata": {
        "id": "Fsw6PbeUkHRX"
      },
      "source": [
        "## Тригонометрическая форма комплексного числа\n",
        "$$\n",
        "z = r(\\cos(\\varphi) + i\\sin(\\varphi)),\n",
        "$$\n",
        "где $r$  - модуль числа, $\\varphi$ - аргумент (угол)\n",
        "### Пример 7.\n",
        "Запишем в тригонометрической форме комплексное число $\\sqrt{3} - i$"
      ]
    },
    {
      "cell_type": "code",
      "execution_count": 14,
      "metadata": {
        "id": "QYBNhWkFkHRX",
        "outputId": "09828ee9-5322-4652-a9fe-1b5de91bf9fe",
        "colab": {
          "base_uri": "https://localhost:8080/",
          "height": 39
        }
      },
      "outputs": [
        {
          "output_type": "display_data",
          "data": {
            "text/plain": [
              "<IPython.core.display.Latex object>"
            ],
            "text/latex": "r \\left(i \\sin{\\left(\\phi \\right)} + \\cos{\\left(\\phi \\right)}\\right),\\quad r = 2,\\quad \\phi = - \\frac{\\pi}{6}"
          },
          "metadata": {}
        }
      ],
      "source": [
        "z7 = 3 ** sympy.S.Half - 1 * I\n",
        "r0 = sympy.functions.Abs(z7)\n",
        "phi0 = sympy.functions.arg(z7)\n",
        "r, phi = sympy.symbols('r phi')\n",
        "z7_trig = r * (sympy.cos(phi) + sympy.sin(phi) * I)\n",
        "display(Latex(f'{latex(z7_trig)},\\quad r = {latex(r0)},\\quad \\phi = {latex(phi0)}'))"
      ]
    },
    {
      "cell_type": "markdown",
      "metadata": {
        "id": "6s_5lI4RkHRY"
      },
      "source": [
        "Проверим подстановкой, что это то же самое число:"
      ]
    },
    {
      "cell_type": "code",
      "execution_count": 15,
      "metadata": {
        "id": "HVN7hg1okHRY",
        "outputId": "e0fa3fe0-e866-4531-f5c0-09a1280df173",
        "colab": {
          "base_uri": "https://localhost:8080/",
          "height": 40
        }
      },
      "outputs": [
        {
          "output_type": "execute_result",
          "data": {
            "text/plain": [
              "sqrt(3) - I"
            ],
            "text/latex": "$\\displaystyle \\sqrt{3} - i$"
          },
          "metadata": {},
          "execution_count": 15
        }
      ],
      "source": [
        "z7_trig.subs({r: r0, phi: phi0})"
      ]
    },
    {
      "cell_type": "markdown",
      "metadata": {
        "id": "sM9YqGdFkHRY"
      },
      "source": [
        "### Пример 8.\n",
        "Изобразим комплексные числа $k(\\sin(k\\pi / 6) + i \\cos(k\\pi / 6)$, $k = 0, ..., 6$, заданные в тригонометрической форме, в полярной системе координат. Подписать точки $K$, $L$, $M$, $N$, $P$, $Q$, $R$."
      ]
    },
    {
      "cell_type": "code",
      "execution_count": 16,
      "metadata": {
        "id": "KZCueCAgkHRZ",
        "outputId": "f535b2fd-06ff-4831-e652-fea081466cf3",
        "colab": {
          "base_uri": "https://localhost:8080/",
          "height": 286
        }
      },
      "outputs": [
        {
          "output_type": "display_data",
          "data": {
            "text/plain": [
              "<Figure size 432x288 with 1 Axes>"
            ],
            "image/png": "[encoded data removed]"
          },
          "metadata": {
            "needs_background": "light"
          }
        }
      ],
      "source": [
        "n = 7\n",
        "names = ('K', 'L', 'M', 'N', 'P', 'Q', 'R')\n",
        "arg_list = [k * np.pi / 6 for k in range(n)]\n",
        "r_list = [k for k in range(n)]\n",
        "plt.polar(arg_list, r_list, 'go')\n",
        "for k, phi_k in enumerate(arg_list): \n",
        "    plt.annotate(names[k],\n",
        "            xy=(phi_k, r_list[k]), \n",
        "            xytext=(phi_k + 0.15, r_list[k])) "
      ]
    },
    {
      "cell_type": "markdown",
      "metadata": {
        "id": "OPD4S6bLkHRa"
      },
      "source": [
        "Обратим внимание, что в полярной системе координат координаты - угол и радиус (расстояние от точки о начала координат), поэтому для координат подписей к точкам тоже нужно использовать такие полярные координаты, а не $x$ и $y$.\n",
        "## Комплексно-сопряженное число\n",
        "$$\n",
        "\\bar z = a - bi\n",
        "$$\n",
        "комплексно-сопряженное число для $z = a + bi$. \n",
        "### Пример 9.\n",
        "Найдем комплексно-сопряженные числа для $-3 + 2i$, $(\\sqrt{2} - i)^3$, $(1 + i)^{1 / 3}$"
      ]
    },
    {
      "cell_type": "code",
      "source": [
        "display(*[Latex(f'{latex(item)} || {latex(sympy.conjugate(item))}') \\\n",
        "          for item in (-3 + 2 * I,\n",
        "                       sympy.expand_complex((2 ** (sympy.S.Half) - 1 * I) ** 3),\n",
        "                       sympy.expand_complex((1 + 1 * I) ** (1 / sympy.S(3))))\n",
        "          ])"
      ],
      "metadata": {
        "colab": {
          "base_uri": "https://localhost:8080/",
          "height": 92
        },
        "id": "Ouen_333HoLR",
        "outputId": "4da64be6-3120-4cae-d319-9fa331ea27d4"
      },
      "execution_count": 17,
      "outputs": [
        {
          "output_type": "display_data",
          "data": {
            "text/plain": [
              "<IPython.core.display.Latex object>"
            ],
            "text/latex": "-3 + 2 i || -3 - 2 i"
          },
          "metadata": {}
        },
        {
          "output_type": "display_data",
          "data": {
            "text/plain": [
              "<IPython.core.display.Latex object>"
            ],
            "text/latex": "- \\sqrt{2} - 5 i || - \\sqrt{2} + 5 i"
          },
          "metadata": {}
        },
        {
          "output_type": "display_data",
          "data": {
            "text/plain": [
              "<IPython.core.display.Latex object>"
            ],
            "text/latex": "\\sqrt[6]{2} \\left(\\frac{\\sqrt{2}}{4} + \\frac{\\sqrt{6}}{4}\\right) + \\sqrt[6]{2} i \\left(- \\frac{\\sqrt{2}}{4} + \\frac{\\sqrt{6}}{4}\\right) || \\sqrt[6]{2} \\left(\\frac{\\sqrt{2}}{4} + \\frac{\\sqrt{6}}{4}\\right) - \\sqrt[6]{2} i \\left(- \\frac{\\sqrt{2}}{4} + \\frac{\\sqrt{6}}{4}\\right)"
          },
          "metadata": {}
        }
      ]
    },
    {
      "cell_type": "markdown",
      "metadata": {
        "id": "jlgQKk8qkHRa"
      },
      "source": [
        "## Произведение комплексного числа и его комплексно-сопряженного\n",
        "равно квадрату модуля комплексного числа.\n",
        "### Пример 10.\n",
        "Проверим $\\bar z\\cdot z = |z|^2$."
      ]
    },
    {
      "cell_type": "code",
      "execution_count": 18,
      "metadata": {
        "id": "U8wNtjwFkHRb",
        "outputId": "32e8bc82-739a-40d8-a02c-01b71aa04016",
        "colab": {
          "base_uri": "https://localhost:8080/",
          "height": 61
        }
      },
      "outputs": [
        {
          "output_type": "display_data",
          "data": {
            "text/plain": [
              "a**2 + b**2"
            ],
            "text/latex": "$\\displaystyle a^{2} + b^{2}$"
          },
          "metadata": {}
        },
        {
          "output_type": "display_data",
          "data": {
            "text/plain": [
              "a**2 + b**2"
            ],
            "text/latex": "$\\displaystyle a^{2} + b^{2}$"
          },
          "metadata": {}
        }
      ],
      "source": [
        "a, b = sympy.symbols('a b', real=True)\n",
        "z8 = a + b * I\n",
        "display(sympy.expand_complex(sympy.conjugate(z8) * z8), sympy.functions.Abs(z8) ** 2)"
      ]
    }
  ],
  "metadata": {
    "kernelspec": {
      "display_name": "Python 3",
      "language": "python",
      "name": "python3"
    },
    "language_info": {
      "codemirror_mode": {
        "name": "ipython",
        "version": 3
      },
      "file_extension": ".py",
      "mimetype": "text/x-python",
      "name": "python",
      "nbconvert_exporter": "python",
      "pygments_lexer": "ipython3",
      "version": "3.7.3"
    },
    "colab": {
      "provenance": []
    }
  },
  "nbformat": 4,
  "nbformat_minor": 0
}