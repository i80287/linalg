{
  "cells": [
    {
      "cell_type": "code",
      "execution_count": null,
      "metadata": {
        "id": "eTUL_xdODebk"
      },
      "outputs": [],
      "source": [
        "import numpy as np\n",
        "import sympy\n",
        "from sympy import I, latex\n",
        "from IPython.display import display, Latex\n",
        "import matplotlib.pyplot as plt"
      ]
    },
    {
      "cell_type": "markdown",
      "metadata": {
        "id": "NYucazc7Debp"
      },
      "source": [
        "# Практическое занятие 10\n",
        "# Компьютерный практикум по алгебре на Python\n",
        "## Комплексные числа в sympy\n",
        "### Задание 1.\n",
        "Даны комплексные числа\n",
        "$$\n",
        "z_1 = 5\\sqrt{3} + 5i,\\quad z_2 = -3 + 3i,\\quad z_3 = - 1 + i,\\quad z_4 = i,\\quad z_5 = \\frac{12}{13} + \\frac{5}{13}i,\n",
        "$$\n",
        "вычислить (представить в алгебраической форме) с помощью sympy\n",
        "$$\n",
        "z_1 \\cdot z_2,\\quad (z_2 - 5z_3)^6,\\quad \\sqrt{\\frac{z_4}{z_3}},\\quad \\frac{z_1^2 + z_3}{13z_5 - 2z_2}.\n",
        "$$"
      ]
    },
    {
      "cell_type": "code",
      "execution_count": null,
      "metadata": {
        "id": "E9iRFpK2MCTO",
        "colab": {
          "base_uri": "https://localhost:8080/",
          "height": 160
        },
        "outputId": "77c8808b-b394-44d6-b21f-d84de88f5152"
      },
      "outputs": [
        {
          "output_type": "display_data",
          "data": {
            "text/plain": [
              "<IPython.core.display.Latex object>"
            ],
            "text/latex": "z_1 \\cdot z_2 = -3 + 3 i"
          },
          "metadata": {}
        },
        {
          "output_type": "display_data",
          "data": {
            "text/plain": [
              "512*I"
            ],
            "text/latex": "$\\displaystyle 512 i$"
          },
          "metadata": {}
        },
        {
          "output_type": "display_data",
          "data": {
            "text/plain": [
              "2**(3/4)*sqrt(sqrt(2)/4 + 1/2)/2 - 2**(3/4)*I*sqrt(1/2 - sqrt(2)/4)/2"
            ],
            "text/latex": "$\\displaystyle \\frac{2^{\\frac{3}{4}} \\sqrt{\\frac{\\sqrt{2}}{4} + \\frac{1}{2}}}{2} - \\frac{2^{\\frac{3}{4}} i \\sqrt{\\frac{1}{2} - \\frac{\\sqrt{2}}{4}}}{2}$"
          },
          "metadata": {}
        },
        {
          "output_type": "display_data",
          "data": {
            "text/plain": [
              "-2*sqrt(3)/13 + 881/325 + I*(67/325 + 36*sqrt(3)/13)"
            ],
            "text/latex": "$\\displaystyle - \\frac{2 \\sqrt{3}}{13} + \\frac{881}{325} + i \\left(\\frac{67}{325} + \\frac{36 \\sqrt{3}}{13}\\right)$"
          },
          "metadata": {}
        }
      ],
      "source": [
        "def main() -> None:\n",
        "    z1 = 5*3**sympy.S.Half + 5 * I\n",
        "    z2 = -3 + 3*I\n",
        "    z3 = -1 + I\n",
        "    z4 = I\n",
        "    z5 = sympy.S(12)/13 + sympy.S(5)/13*I\n",
        "\n",
        "    display(Latex(f\"z_1 \\cdot z_2 = {latex(1*z2)}\"))\n",
        "    display(sympy.expand_complex((z2 - 5*z3)**6))\n",
        "    display(sympy.expand_complex((z4/z3)**sympy.S.Half))\n",
        "    display(sympy.expand_complex((z1*z1 + z3)/(13*z5 - 2*z2)))\n",
        "\n",
        "if __name__ == \"__main__\":\n",
        "    main()"
      ]
    },
    {
      "cell_type": "markdown",
      "metadata": {
        "id": "hMWTheVHDebr"
      },
      "source": [
        "### Задание  2.\n",
        "Вычисления Задания 1 проделать для мнимой единицы из Python (использовать встроенную функцию complex)."
      ]
    },
    {
      "cell_type": "code",
      "execution_count": null,
      "metadata": {
        "id": "rUaUUg7bMDfO",
        "colab": {
          "base_uri": "https://localhost:8080/"
        },
        "outputId": "7324df16-f452-44b2-95c4-36da68c69354"
      },
      "outputs": [
        {
          "output_type": "stream",
          "name": "stdout",
          "text": [
            "z1 * z2 = (-40.98076211353316+10.980762113533157j)\n",
            "(-0+512j)\n",
            "(0.7768869870150187-0.32179712645279135j)\n",
            "(2.4442998757586336+5.002602236344583j)\n"
          ]
        }
      ],
      "source": [
        "def main():\n",
        "  z1 = complex(5*3**0.5, 5)\n",
        "  z2 = complex(-3, 3)\n",
        "  z3 = complex(-1, 1)\n",
        "  z4 = complex(0, 1)\n",
        "  z5 = complex(12/13, 5/13)\n",
        "  print(f\"z1 * z2 = {z1*z2}\")\n",
        "  print((z2 - 5*z3)**6)\n",
        "  print((z4/z3)**0.5)\n",
        "  print((z1*z1 + z3)/(13*z5 - 2*z2))\n",
        "  \n",
        "if __name__ == \"__main__\":\n",
        "  main()"
      ]
    },
    {
      "cell_type": "markdown",
      "metadata": {
        "id": "tb3ET3y6Debs"
      },
      "source": [
        "\n",
        "### Задание  3.\n",
        "Изобразить на координатной плоскости точки, соответствующие корням  $7$-й степени комплексного числа $z = \\frac{3}{5} + i\\frac{3}{5}$. Подписать точки $A_k$, где $k$  - номер корня."
      ]
    },
    {
      "cell_type": "code",
      "execution_count": null,
      "metadata": {
        "id": "Hfw6-tc1MEk2",
        "colab": {
          "base_uri": "https://localhost:8080/",
          "height": 268
        },
        "outputId": "92f9cca5-5a98-4dc5-c68f-3eaa2b5462ee"
      },
      "outputs": [
        {
          "output_type": "display_data",
          "data": {
            "text/plain": [
              "<Figure size 432x288 with 1 Axes>"
            ],
            "image/png": "[encoded data removed]"
          },
          "metadata": {
            "needs_background": "light"
          }
        }
      ],
      "source": [
        "def main():\n",
        "  z = sympy.S(3)/5 + I*sympy.S(3)/5\n",
        "  N: int = 7\n",
        "\n",
        "  roots_list = [sympy.root(z, N, k) for k in range(N)]\n",
        "  roots_x = [sympy.re(z_num) for z_num in roots_list]\n",
        "  roots_y = [sympy.im(z_num) for z_num in roots_list]\n",
        "\n",
        "  plt.scatter(roots_x, roots_y)\n",
        "  for i, (root, root_x, root_y) in enumerate(zip(roots_list, roots_x, roots_y)):\n",
        "    plt.annotate(\n",
        "      f\"$A_{i}$\",\n",
        "      xy=(root_x, root_y),\n",
        "      xytext=(root_x + 0.05, root_y - 0.07)\n",
        "    )\n",
        "\n",
        "if __name__ == \"__main__\":\n",
        "  main()\n"
      ]
    },
    {
      "cell_type": "markdown",
      "metadata": {
        "id": "t9mDRl5eDebt"
      },
      "source": [
        "### Задание  4.\n",
        "Изобразить на координатной плоскости точки, соответствующие $z_4 = - \\sqrt{3} + 3i$ и $\\bar{z_4}$, подписать $z_4$ тригонометрической формой, $\\bar{z_4}$ - экспоненциальной ($z = r e^{i\\varphi}$, $r$ и $\\varphi$ такие же, как в тригонометрической форме)."
      ]
    },
    {
      "cell_type": "code",
      "execution_count": null,
      "metadata": {
        "id": "8tJwH-zxMF-m",
        "colab": {
          "base_uri": "https://localhost:8080/",
          "height": 270
        },
        "outputId": "f89135b4-dfdd-455b-9bdd-4cb1a2346596"
      },
      "outputs": [
        {
          "output_type": "display_data",
          "data": {
            "text/plain": [
              "<Figure size 432x288 with 1 Axes>"
            ],
            "image/png": "[encoded data removed]"
          },
          "metadata": {
            "needs_background": "light"
          }
        }
      ],
      "source": [
        "def main():\n",
        "  z4 = -(3**sympy.S.Half) + 3*I\n",
        "  z4_conj = sympy.conjugate(z4)\n",
        "\n",
        "  r = sympy.functions.Abs(z4)\n",
        "  mod_tuple = (r, r)\n",
        "  args_tuple = (sympy.functions.arg(z4), sympy.functions.arg(z4_conj))\n",
        "  names: tuple[str] = (\n",
        "    fr\"$z_4 = {latex(r)} (cos({latex(args_tuple[0])}) + i sin({latex(args_tuple[0])}))$\",\n",
        "    fr\"$ \\bar{{z_4}} = {latex(r)} e^{{{latex(args_tuple[1])} i}}$\"\n",
        "  )\n",
        "  x_coords = [-3**0.5, -3**0.5]\n",
        "  y_coords = [3, -3]\n",
        "  \n",
        "  plt.scatter(x_coords, y_coords)\n",
        "  for i, (name, root_x, root_y) in enumerate(zip(names, x_coords, y_coords)):\n",
        "    plt.annotate(\n",
        "        name,\n",
        "        xy=(root_x, root_y),\n",
        "        xytext=(root_x + 0.005, root_y)\n",
        "    )\n",
        "\n",
        "if __name__ == \"__main__\":\n",
        "  main()"
      ]
    },
    {
      "cell_type": "markdown",
      "metadata": {
        "id": "GRVpOD5bDebv"
      },
      "source": [
        "#### Задание  5.\n",
        "Изобразить корни 4 степени числа $5e^{\\frac{i\\pi}{8}}$, в полярной системе координат, подписи к точкам - аргументы (углы) сответствующих комплексных чисел. \n",
        "\n",
        "Число вводить в тригонометрической форме, для получения корней комплексного числа $z = r(\\cos(\\varphi) + \\sin(\\varphi))$ использовать формулу \n",
        "$\\sqrt[n]{z} = \\sqrt[n]{r}(\\cos(\\varphi_k) + i \\sin(\\varphi_k))$, \n",
        "$\\varphi_k = \\frac{\\varphi + 2\\pi k}{n}$, $k = 0, ..., n$. \n",
        "\n",
        "Вывести алгебраическую форму полученных корней на экран и сравнить с результатом, полученным с помощью sympy.root (с использованием sympy.expand_complex для упрощения выражения). Аналитическое представление оказывается разным.\n",
        "\n",
        "Для каждого корня найти разность модуля разности корней, полученных двумя способами (т.е. нужно для каждой пары одинаковых корней, полученных двумя способами находить разность корней, вычислять модуль sympy.Abs этой разности и вычислить приближенное значение с помощью evalf())."
      ]
    },
    {
      "cell_type": "code",
      "execution_count": 121,
      "metadata": {
        "id": "k0Ntj_GaMHE1",
        "colab": {
          "base_uri": "https://localhost:8080/",
          "height": 606
        },
        "outputId": "996e9dae-02f5-4da4-df82-19b64b11f330"
      },
      "outputs": [
        {
          "output_type": "display_data",
          "data": {
            "text/plain": [
              "5**(1/4)*(cos(pi/32) + I*sin(pi/32))"
            ],
            "text/latex": "$\\displaystyle \\sqrt[4]{5} \\left(\\cos{\\left(\\frac{\\pi}{32} \\right)} + i \\sin{\\left(\\frac{\\pi}{32} \\right)}\\right)$"
          },
          "metadata": {}
        },
        {
          "output_type": "display_data",
          "data": {
            "text/plain": [
              "5**(1/4)*(-cos(15*pi/32) + I*sin(15*pi/32))"
            ],
            "text/latex": "$\\displaystyle \\sqrt[4]{5} \\left(- \\cos{\\left(\\frac{15 \\pi}{32} \\right)} + i \\sin{\\left(\\frac{15 \\pi}{32} \\right)}\\right)$"
          },
          "metadata": {}
        },
        {
          "output_type": "display_data",
          "data": {
            "text/plain": [
              "5**(1/4)*(-cos(pi/32) - I*sin(pi/32))"
            ],
            "text/latex": "$\\displaystyle \\sqrt[4]{5} \\left(- \\cos{\\left(\\frac{\\pi}{32} \\right)} - i \\sin{\\left(\\frac{\\pi}{32} \\right)}\\right)$"
          },
          "metadata": {}
        },
        {
          "output_type": "display_data",
          "data": {
            "text/plain": [
              "5**(1/4)*(cos(15*pi/32) - I*sin(15*pi/32))"
            ],
            "text/latex": "$\\displaystyle \\sqrt[4]{5} \\left(\\cos{\\left(\\frac{15 \\pi}{32} \\right)} - i \\sin{\\left(\\frac{15 \\pi}{32} \\right)}\\right)$"
          },
          "metadata": {}
        },
        {
          "output_type": "display_data",
          "data": {
            "text/plain": [
              "5**(1/4)*exp(I*pi/32)"
            ],
            "text/latex": "$\\displaystyle \\sqrt[4]{5} e^{\\frac{i \\pi}{32}}$"
          },
          "metadata": {}
        },
        {
          "output_type": "display_data",
          "data": {
            "text/plain": [
              "5**(1/4)*I*exp(I*pi/32)"
            ],
            "text/latex": "$\\displaystyle \\sqrt[4]{5} i e^{\\frac{i \\pi}{32}}$"
          },
          "metadata": {}
        },
        {
          "output_type": "display_data",
          "data": {
            "text/plain": [
              "-5**(1/4)*exp(I*pi/32)"
            ],
            "text/latex": "$\\displaystyle - \\sqrt[4]{5} e^{\\frac{i \\pi}{32}}$"
          },
          "metadata": {}
        },
        {
          "output_type": "display_data",
          "data": {
            "text/plain": [
              "-5**(1/4)*I*exp(I*pi/32)"
            ],
            "text/latex": "$\\displaystyle - \\sqrt[4]{5} i e^{\\frac{i \\pi}{32}}$"
          },
          "metadata": {}
        },
        {
          "output_type": "display_data",
          "data": {
            "text/plain": [
              "<IPython.core.display.Latex object>"
            ],
            "text/latex": "\\text{Модуль разности корней в 1 паре: }5.58570330179843 \\cdot 10^{-69} - 2.818807458327 \\cdot 10^{-72} i"
          },
          "metadata": {}
        },
        {
          "output_type": "display_data",
          "data": {
            "text/plain": [
              "<IPython.core.display.Latex object>"
            ],
            "text/latex": "\\text{Модуль разности корней в 2 паре: }5.58570330179843 \\cdot 10^{-69} - 2.818807458327 \\cdot 10^{-72} i"
          },
          "metadata": {}
        },
        {
          "output_type": "display_data",
          "data": {
            "text/plain": [
              "<IPython.core.display.Latex object>"
            ],
            "text/latex": "\\text{Модуль разности корней в 3 паре: }5.58570330179843 \\cdot 10^{-69} - 2.818807458327 \\cdot 10^{-72} i"
          },
          "metadata": {}
        },
        {
          "output_type": "display_data",
          "data": {
            "text/plain": [
              "<IPython.core.display.Latex object>"
            ],
            "text/latex": "\\text{Модуль разности корней в 4 паре: }5.58570330179843 \\cdot 10^{-69} - 2.818807458327 \\cdot 10^{-72} i"
          },
          "metadata": {}
        },
        {
          "output_type": "display_data",
          "data": {
            "text/plain": [
              "<Figure size 432x288 with 1 Axes>"
            ],
            "image/png": "[encoded data removed]"
          },
          "metadata": {
            "needs_background": "light"
          }
        }
      ],
      "source": [
        "def main():\n",
        "  N: int = 4\n",
        "\n",
        "  # calculate roots manually\n",
        "  r = sympy.S(5)\n",
        "  phi = sympy.pi/8\n",
        "  module_root = r**(sympy.S(1)/N)\n",
        "  args_naive = [(phi + 2*sympy.pi*k)/N for k in range(N)]\n",
        "  roots_naive = [module_root*(sympy.cos(phi_k) + I*sympy.sin(phi_k)) for phi_k in args_naive]\n",
        "  display(*roots_naive)\n",
        "\n",
        "  plt.polar(args_naive, [module_root for _ in range(N)], \"ro\")\n",
        "  for i, phi_i in enumerate(args_naive):\n",
        "    plt.annotate(\n",
        "        fr\"$\\phi{i + 1} = {latex(phi_i)}$\",\n",
        "        xy=(phi_i, module_root),\n",
        "        xytext=(phi_i + 0.1, module_root + 0.07)\n",
        "    )\n",
        "\n",
        "  # calculate roots using sympy.root\n",
        "  z = 5*sympy.E**(I*sympy.pi/8)\n",
        "  roots_list = [sympy.expand(sympy.root(z, N, k)) for k in range(N)]\n",
        "  modules_list = [sympy.arg(root) for root in roots_list]\n",
        "  args_list = [sympy.arg(root) for root in roots_list]\n",
        "  display(*roots_list)\n",
        "\n",
        "  for i, (root_naive, root_sympy) in enumerate(zip(roots_naive, roots_list)):\n",
        "    delta = sympy.Abs(root_naive - root_sympy).evalf()\n",
        "    display(Latex(f\"\\\\text{{Модуль разности корней в {i+1} паре: }}{latex(delta)}\"))\n",
        "  \n",
        "\n",
        "if __name__ == \"__main__\":\n",
        "  main()\n"
      ]
    },
    {
      "cell_type": "markdown",
      "metadata": {
        "id": "30FXizVhDebw"
      },
      "source": [
        "### Индивидуальное задание.\n",
        "Решить уравнение.\n",
        "Для получения корней использовать sympy.roots.\n",
        "Корни уравнения вывести на экран в алгебраической, тригонометрической и экспоненциальной форме."
      ]
    },
    {
      "cell_type": "markdown",
      "source": [
        "Вариант N 50\n",
        "\n",
        "$(4 + 4i)x2+ (−16 −40i)x −16 + 80i = 0$"
      ],
      "metadata": {
        "id": "IlUO_Pkrsn2a"
      }
    },
    {
      "cell_type": "code",
      "execution_count": 132,
      "metadata": {
        "id": "eWTviQfgMIrF",
        "colab": {
          "base_uri": "https://localhost:8080/",
          "height": 262
        },
        "outputId": "a5c1b03f-bec3-4018-8535-8363288dafa3"
      },
      "outputs": [
        {
          "output_type": "display_data",
          "data": {
            "text/plain": [
              "<IPython.core.display.Latex object>"
            ],
            "text/latex": "\\text{Всего корней: }2"
          },
          "metadata": {}
        },
        {
          "output_type": "stream",
          "name": "stdout",
          "text": [
            "\n"
          ]
        },
        {
          "output_type": "display_data",
          "data": {
            "text/plain": [
              "<IPython.core.display.Latex object>"
            ],
            "text/latex": "\\text{Корень 1:}"
          },
          "metadata": {}
        },
        {
          "output_type": "display_data",
          "data": {
            "text/plain": [
              "<IPython.core.display.Latex object>"
            ],
            "text/latex": "\\text{Алгебраическая форма: }2 + 2 i"
          },
          "metadata": {}
        },
        {
          "output_type": "display_data",
          "data": {
            "text/plain": [
              "<IPython.core.display.Latex object>"
            ],
            "text/latex": "\\text{Тригонометрическая форма: }2 \\sqrt{2} \\left(\\cos{\\left(\\frac{\\pi}{4} \\right)} + i \\sin{\\left(\\frac{\\pi}{4} \\right)}\\right)"
          },
          "metadata": {}
        },
        {
          "output_type": "display_data",
          "data": {
            "text/plain": [
              "<IPython.core.display.Latex object>"
            ],
            "text/latex": "\\text{Экспоненциальная форма: }2 \\sqrt{2} e^{\\frac{i \\pi}{4}}"
          },
          "metadata": {}
        },
        {
          "output_type": "stream",
          "name": "stdout",
          "text": [
            "\n"
          ]
        },
        {
          "output_type": "display_data",
          "data": {
            "text/plain": [
              "<IPython.core.display.Latex object>"
            ],
            "text/latex": "\\text{Корень 2:}"
          },
          "metadata": {}
        },
        {
          "output_type": "display_data",
          "data": {
            "text/plain": [
              "<IPython.core.display.Latex object>"
            ],
            "text/latex": "\\text{Алгебраическая форма: }5 + i"
          },
          "metadata": {}
        },
        {
          "output_type": "display_data",
          "data": {
            "text/plain": [
              "<IPython.core.display.Latex object>"
            ],
            "text/latex": "\\text{Тригонометрическая форма: }\\sqrt{26} \\left(\\cos{\\left(\\operatorname{atan}{\\left(\\frac{1}{5} \\right)} \\right)} + i \\sin{\\left(\\operatorname{atan}{\\left(\\frac{1}{5} \\right)} \\right)}\\right)"
          },
          "metadata": {}
        },
        {
          "output_type": "display_data",
          "data": {
            "text/plain": [
              "<IPython.core.display.Latex object>"
            ],
            "text/latex": "\\text{Экспоненциальная форма: }\\sqrt{26} e^{i \\operatorname{atan}{\\left(\\frac{1}{5} \\right)}}"
          },
          "metadata": {}
        },
        {
          "output_type": "stream",
          "name": "stdout",
          "text": [
            "\n"
          ]
        }
      ],
      "source": [
        "from typing import Any\n",
        "\n",
        "def main():\n",
        "  x = sympy.symbols('x')\n",
        "  expr = (4 + 4*I)*x*x + (-16 - 40*I)*x - 16 + 80*I\n",
        "  roots_dict: dict[Any, int] = sympy.roots(expr, x)\n",
        "\n",
        "  display(Latex(fr\"\\text{{Всего корней: }}{sum(roots_dict.values())}\"))\n",
        "  print()\n",
        "  roots = roots_dict.keys()\n",
        "  for i, root in enumerate(roots):\n",
        "    display(Latex(fr\"\\text{{Корень {i + 1}:}}\"))\n",
        "    display(Latex(fr\"\\text{{Алгебраическая форма: }}{latex(root)}\"))\n",
        "    \n",
        "    r, phi = sympy.Abs(root), sympy.arg(root)\n",
        "    with sympy.evaluate(False):\n",
        "      trig_root = r*(sympy.cos(phi) + I*sympy.sin(phi))\n",
        "    display(Latex(fr\"\\text{{Тригонометрическая форма: }}{latex(trig_root)}\"))\n",
        "    \n",
        "    exp_root = r*sympy.E**(I*phi)\n",
        "    display(Latex(fr\"\\text{{Экспоненциальная форма: }}{latex(exp_root)}\"))\n",
        "    print()\n",
        "\n",
        "if __name__ == \"__main__\":\n",
        "  main()"
      ]
    }
  ],
  "metadata": {
    "colab": {
      "provenance": []
    },
    "kernelspec": {
      "display_name": ".venv",
      "language": "python",
      "name": "python3"
    },
    "language_info": {
      "codemirror_mode": {
        "name": "ipython",
        "version": 3
      },
      "file_extension": ".py",
      "mimetype": "text/x-python",
      "name": "python",
      "nbconvert_exporter": "python",
      "pygments_lexer": "ipython3",
      "version": "3.11.0"
    },
    "vscode": {
      "interpreter": {
        "hash": "15070b5f4c01a16be65f6048f4eea768aba9ae68ce711f49339836ef743d1529"
      }
    }
  },
  "nbformat": 4,
  "nbformat_minor": 0
}