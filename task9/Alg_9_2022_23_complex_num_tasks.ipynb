{
  "cells": [
    {
      "cell_type": "code",
      "execution_count": 1,
      "metadata": {
        "id": "eTUL_xdODebk"
      },
      "outputs": [],
      "source": [
        "import numpy as np\n",
        "import sympy\n",
        "from sympy import I, latex\n",
        "from IPython.display import display, Latex\n",
        "import matplotlib.pyplot as plt"
      ]
    },
    {
      "cell_type": "markdown",
      "metadata": {
        "id": "NYucazc7Debp"
      },
      "source": [
        "# Практическое занятие 10\n",
        "# Компьютерный практикум по алгебре на Python\n",
        "## Комплексные числа в sympy\n",
        "### Задание 1.\n",
        "Даны комплексные числа\n",
        "$$\n",
        "z_1 = 5\\sqrt{3} + 5i,\\quad z_2 = -3 + 3i,\\quad z_3 = - 1 + i,\\quad z_4 = i,\\quad z_5 = \\frac{12}{13} + \\frac{5}{13}i,\n",
        "$$\n",
        "вычислить (представить в алгебраической форме) с помощью sympy\n",
        "$$\n",
        "z_1 \\cdot z_2,\\quad (z_2 - 5z_3)^6,\\quad \\sqrt{\\frac{z_4}{z_3}},\\quad \\frac{z_1^2 + z_3}{13z_5 - 2z_2}.\n",
        "$$"
      ]
    },
    {
      "cell_type": "code",
      "execution_count": 11,
      "metadata": {
        "id": "E9iRFpK2MCTO"
      },
      "outputs": [
        {
          "data": {
            "text/latex": [
              "$\\displaystyle \\left(-3 + 3 i\\right) \\left(5 \\sqrt{3} + 5 i\\right)$"
            ],
            "text/plain": [
              "(-3 + 3*I)*(5*sqrt(3) + 5*I)"
            ]
          },
          "metadata": {},
          "output_type": "display_data"
        },
        {
          "data": {
            "text/latex": [
              "$\\displaystyle \\left(2 - 2 i\\right)^{6}$"
            ],
            "text/plain": [
              "(2 - 2*I)**6"
            ]
          },
          "metadata": {},
          "output_type": "display_data"
        },
        {
          "data": {
            "text/latex": [
              "$\\displaystyle \\frac{\\sqrt{2} \\sqrt{i \\left(-1 - i\\right)}}{2}$"
            ],
            "text/plain": [
              "sqrt(2)*sqrt(I*(-1 - I))/2"
            ]
          },
          "metadata": {},
          "output_type": "display_data"
        },
        {
          "data": {
            "text/latex": [
              "$\\displaystyle \\frac{\\left(18 + i\\right) \\left(-1 + i + \\left(5 \\sqrt{3} + 5 i\\right)^{2}\\right)}{325}$"
            ],
            "text/plain": [
              "(18 + I)*(-1 + I + (5*sqrt(3) + 5*I)**2)/325"
            ]
          },
          "metadata": {},
          "output_type": "display_data"
        }
      ],
      "source": [
        "def main() -> None:\n",
        "    z1 = 5*3**sympy.S.Half + 5 * I\n",
        "    z2 = -3 + 3*I\n",
        "    z3 = -1 + I\n",
        "    z4 = I\n",
        "    z5 = sympy.S(12)/13 + sympy.S(5)/13*I\n",
        "\n",
        "    display(z1*z2)\n",
        "    display((z2-5*z3)**6)\n",
        "    display((z4/z3)**sympy.S.Half)\n",
        "    display((z1**2 + z3)/(13*z5 - 2*z2))\n",
        "\n",
        "if __name__ == \"__main__\":\n",
        "    main()"
      ]
    },
    {
      "cell_type": "markdown",
      "metadata": {
        "id": "hMWTheVHDebr"
      },
      "source": [
        "### Задание  2.\n",
        "Вычисления Задания 1 проделать для мнимой единицы из Python (использовать встроенную функцию complex)."
      ]
    },
    {
      "cell_type": "code",
      "execution_count": null,
      "metadata": {
        "id": "rUaUUg7bMDfO"
      },
      "outputs": [],
      "source": []
    },
    {
      "cell_type": "markdown",
      "metadata": {
        "id": "tb3ET3y6Debs"
      },
      "source": [
        "### Задание  3.\n",
        "Изобразить на координатной плоскости точки, соответствующие корням  $7$-й степени комплексного числа $z = \\frac{3}{5} + i\\frac{3}{5}$. Подписать точки $A_k$, где $k$  - номер корня."
      ]
    },
    {
      "cell_type": "code",
      "execution_count": null,
      "metadata": {
        "id": "Hfw6-tc1MEk2"
      },
      "outputs": [],
      "source": []
    },
    {
      "cell_type": "markdown",
      "metadata": {
        "id": "t9mDRl5eDebt"
      },
      "source": [
        "### Задание  4.\n",
        "Изобразить на координатной плоскости точки, соответствующие $z_4 = - \\sqrt{3} + 3i$ и $\\bar{z_4}$, подписать $z_4$ тригонометрической формой, $\\bar{z_4}$ - экспоненциальной ($z = r e^{i\\varphi}$, $r$ и $\\varphi$ такие же, как в тригонометрической форме)."
      ]
    },
    {
      "cell_type": "code",
      "execution_count": null,
      "metadata": {
        "id": "8tJwH-zxMF-m"
      },
      "outputs": [],
      "source": []
    },
    {
      "cell_type": "markdown",
      "metadata": {
        "id": "GRVpOD5bDebv"
      },
      "source": [
        "#### Задание  5.\n",
        "Изобразить корни 4 степени числа $5e^{\\frac{i\\pi}{8}}$, в полярной системе координат, подписи к точкам - аргументы (углы) сответствующих комплексных чисел. \n",
        "\n",
        "Число вводить в тригонометрической форме, для получения корней комплексного числа $z = r(\\cos(\\varphi) + \\sin(\\varphi))$ использовать формулу \n",
        "$\\sqrt[n]{z} = \\sqrt[n]{r}(\\cos(\\varphi_k) + i \\sin(\\varphi_k))$, \n",
        "$\\varphi_k = \\frac{\\varphi + 2\\pi k}{n}$, $k = 0, ..., n$. \n",
        "\n",
        "Вывести алгебраическую форму полученных корней на экран и сравнить с результатом, полученным с помощью sympy.root (с использованием sympy.expand_complex для упрощения выражения). Аналитическое представление оказывается разным.\n",
        "\n",
        "Для каждого корня найти разность модуля разности корней, полученных двумя способами (т.е. нужно для каждой пары одинаковых корней, полученных двумя способами находить разность корней, вычислять модуль sympy.Abs этой разности и вычислить приближенное значение с помощью evalf())."
      ]
    },
    {
      "cell_type": "code",
      "execution_count": null,
      "metadata": {
        "id": "k0Ntj_GaMHE1"
      },
      "outputs": [],
      "source": []
    },
    {
      "cell_type": "markdown",
      "metadata": {
        "id": "30FXizVhDebw"
      },
      "source": [
        "### Индивидуальное задание.\n",
        "Решить уравнение.\n",
        "Для получения корней использовать sympy.roots.\n",
        "Корни уравнения вывести на экран в алгебраической, тригонометрической и экспоненциальной форме."
      ]
    },
    {
      "cell_type": "code",
      "execution_count": null,
      "metadata": {
        "id": "eWTviQfgMIrF"
      },
      "outputs": [],
      "source": []
    }
  ],
  "metadata": {
    "colab": {
      "provenance": []
    },
    "kernelspec": {
      "display_name": ".venv",
      "language": "python",
      "name": "python3"
    },
    "language_info": {
      "codemirror_mode": {
        "name": "ipython",
        "version": 3
      },
      "file_extension": ".py",
      "mimetype": "text/x-python",
      "name": "python",
      "nbconvert_exporter": "python",
      "pygments_lexer": "ipython3",
      "version": "3.11.0"
    },
    "vscode": {
      "interpreter": {
        "hash": "15070b5f4c01a16be65f6048f4eea768aba9ae68ce711f49339836ef743d1529"
      }
    }
  },
  "nbformat": 4,
  "nbformat_minor": 0
}
