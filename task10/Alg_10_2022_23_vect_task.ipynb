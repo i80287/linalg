{
  "nbformat": 4,
  "nbformat_minor": 0,
  "metadata": {
    "kernelspec": {
      "display_name": "Python 3",
      "language": "python",
      "name": "python3"
    },
    "language_info": {
      "codemirror_mode": {
        "name": "ipython",
        "version": 3
      },
      "file_extension": ".py",
      "mimetype": "text/x-python",
      "name": "python",
      "nbconvert_exporter": "python",
      "pygments_lexer": "ipython3",
      "version": "3.7.3"
    },
    "colab": {
      "provenance": []
    }
  },
  "cells": [
    {
      "cell_type": "code",
      "metadata": {
        "id": "BQ-uTnJuCclQ"
      },
      "source": [
        "import sympy\n",
        "from sympy import  Matrix, symbols, latex\n",
        "from sympy import  sin as Sin\n",
        "from sympy import  cos as Cos\n",
        "from sympy import  pi as Pi\n",
        "from sympy.vector import CoordSys3D, Vector, matrix_to_vector, AxisOrienter, express\n",
        "from IPython.display import Latex"
      ],
      "execution_count": 26,
      "outputs": []
    },
    {
      "cell_type": "markdown",
      "metadata": {
        "id": "HaZ4p6ZaCclc"
      },
      "source": [
        "# Практическое занятие 10\n",
        "# Компьютерный практикум по алгебре на Python\n",
        "## Векторы\n",
        "### Задание 1.\n",
        "Задать систему координат с именем '1'. \n",
        "Найти скалярное и векторное произведение векторов $a(-\\cos(\\pi/4), \\sin(\\pi/3), 1)$ и $b(2, -1, 3)$."
      ]
    },
    {
      "cell_type": "code",
      "source": [
        "coord_sys = CoordSys3D('1')\n",
        "a_vec = -Cos(Pi/4)*coord_sys.i + Sin(Pi/3)*coord_sys.j + coord_sys.k\n",
        "b_vec = 2*coord_sys.i - coord_sys.j + 3*coord_sys.k\n",
        "display(Latex(f\"\\\\text{{(a, b) = }}{latex(a_vec & b_vec)}\"))\n",
        "display(Latex(f\"\\\\text{{[a x b] = }}{latex(a_vec ^ b_vec)}\"))"
      ],
      "metadata": {
        "id": "E-7tcvAUka_H",
        "colab": {
          "base_uri": "https://localhost:8080/",
          "height": 64
        },
        "outputId": "b984ae18-8051-4a1e-adf9-8810a968059f"
      },
      "execution_count": 27,
      "outputs": [
        {
          "output_type": "display_data",
          "data": {
            "text/plain": [
              "<IPython.core.display.Latex object>"
            ],
            "text/latex": "\\text{(a, b) = }- \\sqrt{2} - \\frac{\\sqrt{3}}{2} + 3"
          },
          "metadata": {}
        },
        {
          "output_type": "display_data",
          "data": {
            "text/plain": [
              "<IPython.core.display.Latex object>"
            ],
            "text/latex": "\\text{[a x b] = }(1 + \\frac{3 \\sqrt{3}}{2})\\mathbf{\\hat{i}_{1}} + (2 + \\frac{3 \\sqrt{2}}{2})\\mathbf{\\hat{j}_{1}} + (- \\sqrt{3} + \\frac{\\sqrt{2}}{2})\\mathbf{\\hat{k}_{1}}"
          },
          "metadata": {}
        }
      ]
    },
    {
      "cell_type": "markdown",
      "metadata": {
        "id": "B8Je98zJCclg"
      },
      "source": [
        "### Задание 2\n",
        "Ввести безымянную систему координат M и символы $p$ и $q$.\n",
        "Вычислить $((v + u)\\cdot(v - u)) + (((2v + u)\\times(v - 3u))\\cdot(2v - 3u)) - ((3v - 2u)\\cdot((5v - u)\\times(- u)))$, $u(q, -p, q + p)$, $v(p, 2p - q, 1)$. Скалярное произведение обозначено $\\cdot$, векторное $\\times$.\n",
        "Использовать  & и ^, скобки расставить как в условии, поскольку приоритет у & и ^ ниже, чем у + и -. Упростить полученное выражение."
      ]
    },
    {
      "cell_type": "code",
      "source": [
        "M = CoordSys3D('')\n",
        "p, q = symbols(\"p q\")\n",
        "u = q*M.i - p*M.j + (q + p)*M.k\n",
        "v = p*M.i + (2*p - q)*M.j + M.k\n",
        "expr = ((v + u) & (v - u)) + (((2*v + u) ^ (v - 3*u)) & (2*v - 3*u)) - ((3*v - 2*u) & ((5*v - u) ^ (-u)))\n",
        "expr.factor().trigsimp()"
      ],
      "metadata": {
        "id": "vpe_eZTGkaV_",
        "colab": {
          "base_uri": "https://localhost:8080/",
          "height": 38
        },
        "outputId": "ebbc52d6-8b8c-4e56-d447-235fe980df12"
      },
      "execution_count": 28,
      "outputs": [
        {
          "output_type": "execute_result",
          "data": {
            "text/plain": [
              "3*p**2 - 6*p*q - q**2 + 1"
            ],
            "text/latex": "$\\displaystyle 3 p^{2} - 6 p q - q^{2} + 1$"
          },
          "metadata": {},
          "execution_count": 28
        }
      ]
    },
    {
      "cell_type": "markdown",
      "metadata": {
        "id": "5M-6y40TCclh"
      },
      "source": [
        "### Задание 3\n",
        "Упростить вектор $g(-2p^2 + 5pq - 3q^2, \\cos(q) + 2\\sin(q - \\pi/2), \\sin^2(p) - \\cos^2(p))$.\n",
        "Вывести на экран координаты упрощенного вектора, его длину и проекции на координатные оси"
      ]
    },
    {
      "cell_type": "code",
      "source": [
        "g = (-2*p**2 + 5*p*q - 3*q**2)*M.i + (Cos(q) + 2*Sin(q - Pi/2))*M.j + (Sin(p)**2 - Cos(p)**2)*M.k\n",
        "g_simplified = g.factor().trigsimp()\n",
        "display(Latex(r\"\\text{g = }\" + \" = \".join(map(latex, (g, g_simplified)))))\n",
        "display(Latex(fr\"\\text{{length = }}{latex(g_simplified.magnitude())}\"))\n",
        "display(Latex(r\"\\\\\".join(map(\": \".join, zip(\n",
        "    (\"i\", \"j\", \"k\"),\n",
        "    map(latex, (axis.projection(g_simplified) for axis in (M.i, M.j, M.k)))\n",
        ")))))"
      ],
      "metadata": {
        "id": "s6WlgX5Ckc5V",
        "colab": {
          "base_uri": "https://localhost:8080/",
          "height": 138
        },
        "outputId": "56e55009-83e3-44a7-d6e5-a0a85be810ce"
      },
      "execution_count": 29,
      "outputs": [
        {
          "output_type": "display_data",
          "data": {
            "text/plain": [
              "<IPython.core.display.Latex object>"
            ],
            "text/latex": "\\text{g = }(- 2 p^{2} + 5 p q - 3 q^{2})\\mathbf{\\hat{i}_{}} + (- \\cos{\\left(q \\right)})\\mathbf{\\hat{j}_{}} + (\\sin^{2}{\\left(p \\right)} - \\cos^{2}{\\left(p \\right)})\\mathbf{\\hat{k}_{}} = (- \\left(p - q\\right) \\left(2 p - 3 q\\right))\\mathbf{\\hat{i}_{}} + (- \\cos{\\left(q \\right)})\\mathbf{\\hat{j}_{}} + (- \\cos{\\left(2 p \\right)})\\mathbf{\\hat{k}_{}}"
          },
          "metadata": {}
        },
        {
          "output_type": "display_data",
          "data": {
            "text/plain": [
              "<IPython.core.display.Latex object>"
            ],
            "text/latex": "\\text{length = }\\sqrt{\\left(p - q\\right)^{2} \\left(2 p - 3 q\\right)^{2} + \\cos^{2}{\\left(2 p \\right)} + \\cos^{2}{\\left(q \\right)}}"
          },
          "metadata": {}
        },
        {
          "output_type": "display_data",
          "data": {
            "text/plain": [
              "<IPython.core.display.Latex object>"
            ],
            "text/latex": "i: (- \\left(p - q\\right) \\left(2 p - 3 q\\right))\\mathbf{\\hat{i}_{}}\\\\j: (- \\cos{\\left(q \\right)})\\mathbf{\\hat{j}_{}}\\\\k: (- \\cos{\\left(2 p \\right)})\\mathbf{\\hat{k}_{}}"
          },
          "metadata": {}
        }
      ]
    },
    {
      "cell_type": "markdown",
      "metadata": {
        "id": "nOqai9ifCclj"
      },
      "source": [
        "### Задание  4\n",
        "Преобразовать матрицу $\\left(\\begin{matrix}-q\\\\ p\\\\ q + p\\end{matrix}\\right)$ в вектор в системе координат из Заданий 1 и 2."
      ]
    },
    {
      "cell_type": "code",
      "source": [
        "m_vec = Matrix((-q, p, q + p))\n",
        "display(Latex(r\"\\\\\".join(map(\": \".join, zip(\n",
        "  ('1', 'M'),\n",
        "  map(latex, (matrix_to_vector(m_vec, coord_sys), matrix_to_vector(m_vec, M)))\n",
        ")))))"
      ],
      "metadata": {
        "id": "vhDPX2cakd_1",
        "colab": {
          "base_uri": "https://localhost:8080/",
          "height": 62
        },
        "outputId": "4e1bf283-3dc9-4367-c069-ede348f426f4"
      },
      "execution_count": 30,
      "outputs": [
        {
          "output_type": "display_data",
          "data": {
            "text/plain": [
              "<IPython.core.display.Latex object>"
            ],
            "text/latex": "1: (- q)\\mathbf{\\hat{i}_{1}} + (p)\\mathbf{\\hat{j}_{1}} + (p + q)\\mathbf{\\hat{k}_{1}}\\\\M: (- q)\\mathbf{\\hat{i}_{}} + (p)\\mathbf{\\hat{j}_{}} + (p + q)\\mathbf{\\hat{k}_{}}"
          },
          "metadata": {}
        }
      ]
    },
    {
      "cell_type": "markdown",
      "metadata": {
        "id": "hfKN73PnCclj"
      },
      "source": [
        "### Задание 5.\n",
        "Ввести новую систему координат S5, которая получается поворотом системы координат M из Задания 2 на угол $\\pi/4$ относительно оси $j$ по часовой стрелке.\n",
        "Определить вектор b5 на основе матрицы из Задания 4 в соответствии с системой координат M, затем получить представление в матричном виде вектора b5_S5 в системе координат S5.  Вывести на экран матрицу поворота, вектор b5 в системе координат M  и S5."
      ]
    },
    {
      "cell_type": "code",
      "source": [
        "S5 = M.orient_new_axis(name=\"S5\", angle=-Pi/4, axis=M.j)\n",
        "b5 = sympy.simplify(matrix_to_vector(m_vec, M))\n",
        "b5_S5 = sympy.simplify(b5.to_matrix(system=S5))\n",
        "rotate_matrix = M.rotation_matrix(S5)\n",
        "\n",
        "display(Latex(r\"\\\\\".join(map(\": \".join, zip(\n",
        "  (r\"\\text{Rotate matrix}\", r\"\\text{b5 in M}\", r\"\\text{b5 in S5}\"),\n",
        "  map(latex, (rotate_matrix, b5, b5_S5))\n",
        ")))))"
      ],
      "metadata": {
        "id": "1o27xJDLkfO2",
        "colab": {
          "base_uri": "https://localhost:8080/",
          "height": 177
        },
        "outputId": "517fa86c-ca78-45d7-c188-b737197e0492"
      },
      "execution_count": 31,
      "outputs": [
        {
          "output_type": "display_data",
          "data": {
            "text/plain": [
              "<IPython.core.display.Latex object>"
            ],
            "text/latex": "\\text{Rotate matrix}: \\left[\\begin{matrix}\\frac{\\sqrt{2}}{2} & 0 & - \\frac{\\sqrt{2}}{2}\\\\0 & 1 & 0\\\\\\frac{\\sqrt{2}}{2} & 0 & \\frac{\\sqrt{2}}{2}\\end{matrix}\\right]\\\\\\text{b5 in M}: (- q)\\mathbf{\\hat{i}_{}} + (p)\\mathbf{\\hat{j}_{}} + (p + q)\\mathbf{\\hat{k}_{}}\\\\\\text{b5 in S5}: \\left[\\begin{matrix}\\frac{\\sqrt{2} p}{2}\\\\p\\\\\\sqrt{2} \\left(\\frac{p}{2} + q\\right)\\end{matrix}\\right]"
          },
          "metadata": {}
        }
      ]
    },
    {
      "cell_type": "markdown",
      "metadata": {
        "id": "wsupzWmVCclk"
      },
      "source": [
        "### Задание 6.\n",
        "Повернуть систему координат  M  из Задания 2 на $\\pi/4$ по часовой стрелке относительно оси, определяемой вектором $(1, -1, 0)$. Выразить вектор b5 в новой системе координат."
      ]
    },
    {
      "cell_type": "code",
      "source": [
        "S6 = M.orient_new_axis(name=\"S6\", angle=-Pi/4, axis=M.i - M.j)\n",
        "b5_S6 = sympy.simplify(express(b5, S6))\n",
        "display(Latex(fr\"\\text{{b5 in S6: }}{latex(b5_S6)}\"))"
      ],
      "metadata": {
        "id": "wyBDm-0Vkgie",
        "colab": {
          "base_uri": "https://localhost:8080/",
          "height": 42
        },
        "outputId": "9b02a5ce-0c22-4761-9d20-de5477b81582"
      },
      "execution_count": 32,
      "outputs": [
        {
          "output_type": "display_data",
          "data": {
            "text/plain": [
              "<IPython.core.display.Latex object>"
            ],
            "text/latex": "\\text{b5 in S6: }(- p + \\frac{\\sqrt{2} p}{4} - q - \\frac{\\sqrt{2} q}{4})\\mathbf{\\hat{i}_{S6}} + (\\frac{\\sqrt{2} \\left(p - q\\right)}{4})\\mathbf{\\hat{j}_{S6}} + (\\frac{p}{2} - \\frac{q}{2} + \\frac{\\sqrt{2} \\left(p + q\\right)}{2})\\mathbf{\\hat{k}_{S6}}"
          },
          "metadata": {}
        }
      ]
    },
    {
      "cell_type": "markdown",
      "metadata": {
        "id": "LVIOHcc0Ccll"
      },
      "source": [
        "### Индивидуальное задание.\n",
        "Ввести безымянную систему координат XYZ, задать в ней векторы $v_1(-2, 6, a)$ и $v_2(2a, -1, 1)$. Построить новую систему координат XYZ1 с именем Name поворотом  XYZ на $\\pi/3$ против часовой стрелки относительно оси, определяемой вектором $(\\sqrt{3}, 1, 0)$, выразить векторы $v_1$ и $v_2$ в новой системе координат. Найти скалярное и векторное произведение векторов в новой и старой системе координат. Выразить вектор, равный векторному произведению $v_1$ и $v_2$ в старой системе координат через новую систему координат, сравнить с векторным произведением $v_1$ и $v_2$, выраженных в новой системе координат."
      ]
    },
    {
      "cell_type": "markdown",
      "source": [
        "Вариант N 50\n",
        "\n",
        "$v_1 = (-5)\\mathbf{\\hat{i}_{}} + (-4)\\mathbf{\\hat{j}_{}} + (-2)\\mathbf{\\hat{k}_{}}$,\n",
        "\n",
        "$v_2 = (7)\\mathbf{\\hat{i}_{}} + (-3)\\mathbf{\\hat{j}_{}} + (-8)\\mathbf{\\hat{k}_{}}$,\n",
        "\n",
        "Name = S,\n",
        "\n",
        "угол поворота $7 \\pi / 2$,\n",
        "\n",
        "ось $(-6)\\mathbf{\\hat{i}_{}} + (8)\\mathbf{\\hat{j}_{}}$\n"
      ],
      "metadata": {
        "id": "NaF_JF1EHSKP"
      }
    },
    {
      "cell_type": "code",
      "source": [
        "from typing import Iterable, Any\n",
        "\n",
        "\n",
        "def print_latex(l_values: Iterable[str], r_values: Iterable[Any]) -> None:\n",
        "  display(Latex(r\"\\\\\".join(map(\n",
        "      \": \".join,\n",
        "      zip(l_values, map(latex, r_values))\n",
        "  ))))\n",
        "  print()\n",
        "\n",
        "\n",
        "XYZ = CoordSys3D(name=\"XYZ\")\n",
        "i, j, k = XYZ.i, XYZ.j, XYZ.k\n",
        "\n",
        "v1 = -5*i - 4*j - 2*k\n",
        "v2 = 7*i - 3*j - 8*k\n",
        "print_latex((r\"\\text{v1 in XYZ}\", r\"\\text{v2 in XYZ}\"), (v1, v2))\n",
        "\n",
        "XYZ1 = XYZ.orient_new_axis(name=\"S\", angle=7*Pi/2, axis=-6*i + 8*j)\n",
        "v1_XYZ1 = sympy.simplify(express(v1, XYZ1))\n",
        "v2_XYZ1 = sympy.simplify(express(v2, XYZ1))\n",
        "print_latex((r\"\\text{v1 in XYZ1}\", r\"\\text{v2 in XYZ1}\"), (v1_XYZ1, v2_XYZ1))\n",
        "\n",
        "v3 = sympy.simplify(v1 ^ v2)\n",
        "v3_XYZ1 = sympy.simplify(v1_XYZ1 ^ v2_XYZ1)\n",
        "v3_XYZ1_expressed = sympy.simplify(express(v3, XYZ1))\n",
        "print_latex((r\"\\text{[v1 x v2] in XYZ1}\", r\"\\text{[v1 x v2] in XYZ1 expressed}\"), (v3_XYZ1, v3_XYZ1_expressed))"
      ],
      "metadata": {
        "id": "RXhG9Nfnkhr1",
        "colab": {
          "base_uri": "https://localhost:8080/",
          "height": 200
        },
        "outputId": "9c6f9051-daff-4c52-fdaf-c640be791b08"
      },
      "execution_count": 33,
      "outputs": [
        {
          "output_type": "display_data",
          "data": {
            "text/plain": [
              "<IPython.core.display.Latex object>"
            ],
            "text/latex": "\\text{v1 in XYZ}: (-5)\\mathbf{\\hat{i}_{XYZ}} + (-4)\\mathbf{\\hat{j}_{XYZ}} + (-2)\\mathbf{\\hat{k}_{XYZ}}\\\\\\text{v2 in XYZ}: (7)\\mathbf{\\hat{i}_{XYZ}} + (-3)\\mathbf{\\hat{j}_{XYZ}} + (-8)\\mathbf{\\hat{k}_{XYZ}}"
          },
          "metadata": {}
        },
        {
          "output_type": "stream",
          "name": "stdout",
          "text": [
            "\n"
          ]
        },
        {
          "output_type": "display_data",
          "data": {
            "text/plain": [
              "<IPython.core.display.Latex object>"
            ],
            "text/latex": "\\text{v1 in XYZ1}: (- \\frac{37}{25})\\mathbf{\\hat{i}_{S}} + (- \\frac{34}{25})\\mathbf{\\hat{j}_{S}} + (\\frac{32}{5})\\mathbf{\\hat{k}_{S}}\\\\\\text{v2 in XYZ1}: (- \\frac{61}{25})\\mathbf{\\hat{i}_{S}} + (- \\frac{252}{25})\\mathbf{\\hat{j}_{S}} + (- \\frac{19}{5})\\mathbf{\\hat{k}_{S}}"
          },
          "metadata": {}
        },
        {
          "output_type": "stream",
          "name": "stdout",
          "text": [
            "\n"
          ]
        },
        {
          "output_type": "display_data",
          "data": {
            "text/plain": [
              "<IPython.core.display.Latex object>"
            ],
            "text/latex": "\\text{[v1 x v2] in XYZ1}: (\\frac{1742}{25})\\mathbf{\\hat{i}_{S}} + (- \\frac{531}{25})\\mathbf{\\hat{j}_{S}} + (\\frac{58}{5})\\mathbf{\\hat{k}_{S}}\\\\\\text{[v1 x v2] in XYZ1 expressed}: (\\frac{1742}{25})\\mathbf{\\hat{i}_{S}} + (- \\frac{531}{25})\\mathbf{\\hat{j}_{S}} + (\\frac{58}{5})\\mathbf{\\hat{k}_{S}}"
          },
          "metadata": {}
        },
        {
          "output_type": "stream",
          "name": "stdout",
          "text": [
            "\n"
          ]
        }
      ]
    }
  ]
}