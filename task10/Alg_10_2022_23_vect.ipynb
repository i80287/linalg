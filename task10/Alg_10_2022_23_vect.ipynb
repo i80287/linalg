{
  "nbformat": 4,
  "nbformat_minor": 0,
  "metadata": {
    "kernelspec": {
      "display_name": "Python 3",
      "language": "python",
      "name": "python3"
    },
    "language_info": {
      "codemirror_mode": {
        "name": "ipython",
        "version": 3
      },
      "file_extension": ".py",
      "mimetype": "text/x-python",
      "name": "python",
      "nbconvert_exporter": "python",
      "pygments_lexer": "ipython3",
      "version": "3.7.3"
    },
    "colab": {
      "provenance": []
    }
  },
  "cells": [
    {
      "cell_type": "code",
      "metadata": {
        "id": "QY7PEiuD9ZGw"
      },
      "source": [
        "import sympy\n",
        "from sympy import  Matrix, symbols, latex\n",
        "from sympy.vector import Vector, matrix_to_vector, AxisOrienter, express\n",
        "from IPython.display import Latex"
      ],
      "execution_count": 83,
      "outputs": []
    },
    {
      "cell_type": "markdown",
      "metadata": {
        "id": "1t_n8ReV9ZG8"
      },
      "source": [
        "# Практическое занятие 10\n",
        "# Компьютерный практикум по алгебре на Python\n",
        "## Векторы\n",
        "Вектор в линейном пространстве можно представить в виде линейной комбинации базисных векторов. В случае декартовой системы координат (с ортогональной ортонормированной системой базисных векторов) коэффициенты такой линейной комбинации - координаты вектора. Т.к. представление вектора неразрывно связано с координатной системой, то в sympy для работы с векторами необходимо прежде всего ввести систему координат. \n",
        "\n",
        "Система координат трехмерного пространства вводится так:"
      ]
    },
    {
      "cell_type": "code",
      "metadata": {
        "id": "U7y2Yx9k9ZG9",
        "outputId": "f119efd0-d9a6-45d2-9e86-0557c43d577a",
        "colab": {
          "base_uri": "https://localhost:8080/",
          "height": 78
        }
      },
      "source": [
        "from sympy.vector import CoordSys3D\n",
        "N = CoordSys3D('N')\n",
        "display(N)"
      ],
      "execution_count": 143,
      "outputs": [
        {
          "output_type": "display_data",
          "data": {
            "text/plain": [
              "N"
            ],
            "text/latex": "$\\displaystyle CoordSys3D\\left(N, \\left( \\left[\\begin{matrix}1 & 0 & 0\\\\0 & 1 & 0\\\\0 & 0 & 1\\end{matrix}\\right], \\  \\mathbf{\\hat{0}}\\right)\\right)$"
          },
          "metadata": {}
        }
      ]
    },
    {
      "cell_type": "markdown",
      "metadata": {
        "id": "H7GMfUea9ZG_"
      },
      "source": [
        "Имя 'N' используется для в основном для выведения на печать, математический смысл ему не придается.\n",
        "\n",
        "Введя систему кооринат, мы получаем доступ к ее ортам (ортонормированным базисным векторам):"
      ]
    },
    {
      "cell_type": "code",
      "metadata": {
        "id": "1x9s7vvm9ZG_",
        "outputId": "0140a83f-86f1-4347-b431-9024cc71fd83",
        "colab": {
          "base_uri": "https://localhost:8080/",
          "height": 39
        }
      },
      "source": [
        "display(Latex(',\\ '.join((latex(item) for item in (N.i, N.j, N.k, 2 * N.i + 3 * N.j - 5 * N.k)))))"
      ],
      "execution_count": 144,
      "outputs": [
        {
          "output_type": "display_data",
          "data": {
            "text/plain": [
              "<IPython.core.display.Latex object>"
            ],
            "text/latex": "\\mathbf{\\hat{i}_{N}},\\ \\mathbf{\\hat{j}_{N}},\\ \\mathbf{\\hat{k}_{N}},\\ (2)\\mathbf{\\hat{i}_{N}} + (3)\\mathbf{\\hat{j}_{N}} + (-5)\\mathbf{\\hat{k}_{N}}"
          },
          "metadata": {}
        }
      ]
    },
    {
      "cell_type": "markdown",
      "metadata": {
        "id": "QrGKg_Yr9ZHA"
      },
      "source": [
        "Для выведения на экран всех этих математических объектов был использован генератор, создающий представление математического объекта в виде текста формулы в Latex, этот генератор использован в методе join класса str. Напомним, что экземпляр строкового типа, к которому применяется метод  join (в нашем случае ',\\ ') используется в качестве разделителя элементов перечислимого типа, являющегося аргументом  join.\n",
        "\n",
        "Альтернативный способ выведения на экран нескольких математических объектов в строку через разделитель заключается в использовании map-объекта. Как и генератор, map-объект это одноразовая сущность, после первого применения он исчерпан, поэтому редко имеет смысл запоминать такой объект в переменную."
      ]
    },
    {
      "cell_type": "code",
      "source": [
        "display(Latex(',\\ '.join(map(latex, (N.i, N.j, N.k, 2 * N.i + 3 * N.j - 5 * N.k)))))"
      ],
      "metadata": {
        "colab": {
          "base_uri": "https://localhost:8080/",
          "height": 39
        },
        "id": "MulJwPB5aUka",
        "outputId": "c741da07-9ac5-4092-a275-c757ac4efb2e"
      },
      "execution_count": 157,
      "outputs": [
        {
          "output_type": "display_data",
          "data": {
            "text/plain": [
              "<IPython.core.display.Latex object>"
            ],
            "text/latex": "\\mathbf{\\hat{i}_{N}},\\ \\mathbf{\\hat{j}_{N}},\\ \\mathbf{\\hat{k}_{N}},\\ (2)\\mathbf{\\hat{i}_{N}} + (3)\\mathbf{\\hat{j}_{N}} + (-5)\\mathbf{\\hat{k}_{N}}"
          },
          "metadata": {}
        }
      ]
    },
    {
      "cell_type": "markdown",
      "source": [
        "Можно вывести на экран пары из выражения в программе и его отображения на экране:"
      ],
      "metadata": {
        "id": "x1traRdfiKbc"
      }
    },
    {
      "cell_type": "code",
      "source": [
        "display(Latex(',\\ '.join(map(latex,\n",
        "                             zip(('N.i', 'N.j', 'N.k', '2N.i + 3N.j - 5N.k'),\n",
        "                                 (N.i, N.j, N.k, 2 * N.i + 3 * N.j - 5 * N.k))))))"
      ],
      "metadata": {
        "colab": {
          "base_uri": "https://localhost:8080/",
          "height": 47
        },
        "id": "vp7fTA1BfFH2",
        "outputId": "71b73c1a-752b-467b-a41e-6eb71dcb9fde"
      },
      "execution_count": 146,
      "outputs": [
        {
          "output_type": "display_data",
          "data": {
            "text/plain": [
              "<IPython.core.display.Latex object>"
            ],
            "text/latex": "\\left( \\mathtt{\\text{N.i}}, \\  \\mathbf{\\hat{i}_{N}}\\right),\\ \\left( \\mathtt{\\text{N.j}}, \\  \\mathbf{\\hat{j}_{N}}\\right),\\ \\left( \\mathtt{\\text{N.k}}, \\  \\mathbf{\\hat{k}_{N}}\\right),\\ \\left( \\mathtt{\\text{2N.i + 3N.j - 5N.k}}, \\  (2)\\mathbf{\\hat{i}_{N}} + (3)\\mathbf{\\hat{j}_{N}} + (-5)\\mathbf{\\hat{k}_{N}}\\right)"
          },
          "metadata": {}
        }
      ]
    },
    {
      "cell_type": "markdown",
      "source": [
        "здесь использован zip-объект, соединяющий поэлементно итерируемые аргументы, он тоже одноразовый, как map-объект.\n",
        "\n",
        "Еще один вариант:"
      ],
      "metadata": {
        "id": "rb-1awcUiZhx"
      }
    },
    {
      "cell_type": "code",
      "source": [
        "display(Latex(',\\ '.join(map(':\\ '.join,\n",
        "                             zip(('N_i', 'N_j', 'N_k', '2N_i + 3N_j - 5N_k'),\n",
        "                                 map(latex, (N.i, N.j, N.k, 2 * N.i + 3 * N.j - 5 * N.k)))))))"
      ],
      "metadata": {
        "colab": {
          "base_uri": "https://localhost:8080/",
          "height": 40
        },
        "id": "WknphQSUgLxS",
        "outputId": "6e7409a8-d5b4-41ce-f67b-9c4f3687939d"
      },
      "execution_count": 147,
      "outputs": [
        {
          "output_type": "display_data",
          "data": {
            "text/plain": [
              "<IPython.core.display.Latex object>"
            ],
            "text/latex": "N_i:\\ \\mathbf{\\hat{i}_{N}},\\ N_j:\\ \\mathbf{\\hat{j}_{N}},\\ N_k:\\ \\mathbf{\\hat{k}_{N}},\\ 2N_i + 3N_j - 5N_k:\\ (2)\\mathbf{\\hat{i}_{N}} + (3)\\mathbf{\\hat{j}_{N}} + (-5)\\mathbf{\\hat{k}_{N}}"
          },
          "metadata": {}
        }
      ]
    },
    {
      "cell_type": "markdown",
      "source": [
        "здесь из каждой пары имя-значение составили с помощью ':\\ '.join строку, а затем все такие строки соединили в одну с помощью ',\\ '.join."
      ],
      "metadata": {
        "id": "oRod3z6XjLSa"
      }
    },
    {
      "cell_type": "markdown",
      "source": [
        "#Скалярное и векторное произведение\n",
        "В классе векторов есть методы dot (скалярное произведение) и cross (векторное произведение).\n",
        "\n",
        "Нам также понадобится **нулевой вектор** Vector.zero:"
      ],
      "metadata": {
        "id": "UxObJawRaWh4"
      }
    },
    {
      "cell_type": "code",
      "metadata": {
        "id": "nlfo6loB9ZHA",
        "outputId": "66ece4b7-bafc-4263-e5d5-4d24489d3be8",
        "colab": {
          "base_uri": "https://localhost:8080/",
          "height": 38
        }
      },
      "source": [
        "Vector.zero"
      ],
      "execution_count": 148,
      "outputs": [
        {
          "output_type": "execute_result",
          "data": {
            "text/plain": [
              "0"
            ],
            "text/latex": "$\\displaystyle \\mathbf{\\hat{0}}$"
          },
          "metadata": {},
          "execution_count": 148
        }
      ]
    },
    {
      "cell_type": "markdown",
      "metadata": {
        "id": "dw3GeCYK9ZHB"
      },
      "source": [
        "### Пример 1.\n",
        "Найти скалярное и векторное произведение векторов $a(-1, 3, 7)$ и $b(9, -2, 2)$.\n",
        "\n",
        "Зададим векторы в линейных комбинаций ортов, затем воспользуемся dot (скалярное произведение) и cross (векторное произведение):"
      ]
    },
    {
      "cell_type": "code",
      "metadata": {
        "id": "2aIHdIW89ZHB",
        "outputId": "0431611f-e74f-491a-bcf4-5764c2cf1256",
        "colab": {
          "base_uri": "https://localhost:8080/",
          "height": 80
        }
      },
      "source": [
        "a = -N.i + 3 * N.j + 7 * N.k\n",
        "b = 9 * N.i - 2 * N.j + 2 * N.k\n",
        "display(a.dot(b), a.cross(b), b.cross(a))"
      ],
      "execution_count": 149,
      "outputs": [
        {
          "output_type": "display_data",
          "data": {
            "text/plain": [
              "-1"
            ],
            "text/latex": "$\\displaystyle -1$"
          },
          "metadata": {}
        },
        {
          "output_type": "display_data",
          "data": {
            "text/plain": [
              "20*N.i + 65*N.j + (-25)*N.k"
            ],
            "text/latex": "$\\displaystyle (20)\\mathbf{\\hat{i}_{N}} + (65)\\mathbf{\\hat{j}_{N}} + (-25)\\mathbf{\\hat{k}_{N}}$"
          },
          "metadata": {}
        },
        {
          "output_type": "display_data",
          "data": {
            "text/plain": [
              "(-20)*N.i + (-65)*N.j + 25*N.k"
            ],
            "text/latex": "$\\displaystyle (-20)\\mathbf{\\hat{i}_{N}} + (-65)\\mathbf{\\hat{j}_{N}} + (25)\\mathbf{\\hat{k}_{N}}$"
          },
          "metadata": {}
        }
      ]
    },
    {
      "cell_type": "markdown",
      "source": [
        "Для более информативного вывода можно воспользоваться строковым методом format, подставив в качестве аргументов распакованный map-объект, производящий представления в виде формулы в Latex для a.dot(b), a.cross(b), b.cross(a)"
      ],
      "metadata": {
        "id": "v_JehkBom9VU"
      }
    },
    {
      "cell_type": "code",
      "source": [
        "display(Latex(\"\"\"a\\\\cdot b = {0},\\ a\\\\times b = {1},\n",
        "\\ b\\\\times a = {2}\"\"\".format(*map(latex, (a.dot(b), a.cross(b), b.cross(a))))))"
      ],
      "metadata": {
        "colab": {
          "base_uri": "https://localhost:8080/",
          "height": 40
        },
        "id": "qpnL1IDal7Gs",
        "outputId": "2dc28906-6dba-46f1-a7cc-4a71f278b79e"
      },
      "execution_count": 150,
      "outputs": [
        {
          "output_type": "display_data",
          "data": {
            "text/plain": [
              "<IPython.core.display.Latex object>"
            ],
            "text/latex": "a\\cdot b = -1,\\ a\\times b = (20)\\mathbf{\\hat{i}_{N}} + (65)\\mathbf{\\hat{j}_{N}} + (-25)\\mathbf{\\hat{k}_{N}},\n\\ b\\times a = (-20)\\mathbf{\\hat{i}_{N}} + (-65)\\mathbf{\\hat{j}_{N}} + (25)\\mathbf{\\hat{k}_{N}}"
          },
          "metadata": {}
        }
      ]
    },
    {
      "cell_type": "markdown",
      "metadata": {
        "id": "Cf10q3W09ZHB"
      },
      "source": [
        "Для того, чтобы имя системы координат не отражалось индексами ортов, введем безымянную систему координат:"
      ]
    },
    {
      "cell_type": "code",
      "metadata": {
        "id": "ujv9x4Je9ZHC",
        "outputId": "46d8b0b8-ff2e-4aad-94b2-fb51be6ed8f2",
        "colab": {
          "base_uri": "https://localhost:8080/",
          "height": 40
        }
      },
      "source": [
        "M = CoordSys3D('')\n",
        "display(Latex(\"\"\"M_i = {0},\\ M_j = {1},\n",
        "\\ M_k = {2},\\ 2M_i + 3M_j - 5M_k = {3}\"\"\".format(*map(latex, (M.i, M.j, M.k, 2 * M.i + 3 * M.j - 5 * M.k)))))"
      ],
      "execution_count": 158,
      "outputs": [
        {
          "output_type": "display_data",
          "data": {
            "text/plain": [
              "<IPython.core.display.Latex object>"
            ],
            "text/latex": "M_i = \\mathbf{\\hat{i}_{}},\\ M_j = \\mathbf{\\hat{j}_{}},\n\\ M_k = \\mathbf{\\hat{k}_{}},\\ 2M_i + 3M_j - 5M_k = (2)\\mathbf{\\hat{i}_{}} + (3)\\mathbf{\\hat{j}_{}} + (-5)\\mathbf{\\hat{k}_{}}"
          },
          "metadata": {}
        }
      ]
    },
    {
      "cell_type": "markdown",
      "metadata": {
        "id": "Dqa6OJKm9ZHC"
      },
      "source": [
        "Для более компактной записи скалярного и векторного произведения в sympy использована перегрузка операторов & и ^. Эти операторы удобно использовать в громоздких выражениях, а для небольших выражений рекомендуется использовать более понятные средства Примера 1.\n",
        "### Пример 2.\n",
        "Найти  скалярное и векторное произведение векторов $v + u$ и $3v - 2u$, $v(0, -3, 2)$, $u(-9, 2, 1)$.\n",
        "Использовать  & и ^."
      ]
    },
    {
      "cell_type": "code",
      "metadata": {
        "id": "30T6hI4U9ZHC",
        "outputId": "581dc29c-4d1a-4b1a-c54a-90e799e75a58",
        "colab": {
          "base_uri": "https://localhost:8080/",
          "height": 40
        }
      },
      "source": [
        "u = -9 * M.i + 2 * M.j + M.k\n",
        "v = - 3 * M.j + 2 * M.k\n",
        "v_u_expressions_dict = {'(v + u) \\& (3 v - 2 u)': (v + u) & (3 * v - 2 * u),\n",
        "                        '(v + u)\\ \\^{}\\ (3 v - 2 u)': (v + u) ^ (3 * v - 2 * u)}\n",
        "display(Latex(', '.join(map(' = '.join, zip(v_u_expressions_dict.keys(), \n",
        "                                             map(latex,\n",
        "                                                 v_u_expressions_dict.values()))))))"
      ],
      "execution_count": 159,
      "outputs": [
        {
          "output_type": "display_data",
          "data": {
            "text/plain": [
              "<IPython.core.display.Latex object>"
            ],
            "text/latex": "(v + u) \\& (3 v - 2 u) = -137, (v + u)\\ \\^{}\\ (3 v - 2 u) = (35)\\mathbf{\\hat{i}_{}} + (90)\\mathbf{\\hat{j}_{}} + (135)\\mathbf{\\hat{k}_{}}"
          },
          "metadata": {}
        }
      ]
    },
    {
      "cell_type": "markdown",
      "source": [
        "Сложность в том, что в Latex символы & и ^ управляющие, поэтому для вывода на экран их как символов их нужно экранировать с помощью \\, а для ^ еще понадобилось ввести пустую группу, поскольку ^ используется для получения верхнего индекса.\n",
        "\n",
        "К сожалению, пока представление ^ в виде символа с помощью \\textasciicircum здесь не работает."
      ],
      "metadata": {
        "id": "d6GYTmyNAuO5"
      }
    },
    {
      "cell_type": "markdown",
      "metadata": {
        "id": "AHMKiG-49ZHD"
      },
      "source": [
        "## Действия с векторами\n",
        "Разложить на множители координаты вектора можно с помощью factor. Упростить выражения координат, содержащие тригонометрические функции, можно с помощью trigsimp.\n",
        "### Пример 3.\n",
        "Упростить вектор $g(a^3 - 3a^2 + 3a - 1, a^2 - b^2, \\sin^2(a) + \\cos^2(a))$."
      ]
    },
    {
      "cell_type": "code",
      "metadata": {
        "id": "3oIDaEYY9ZHE",
        "outputId": "ae03be31-1dec-4631-f463-07f60798f8bc",
        "colab": {
          "base_uri": "https://localhost:8080/",
          "height": 40
        }
      },
      "source": [
        "from sympy.abc import a, b\n",
        "g = (a ** 3 - 3 * a ** 2 + 3 * a - 1) * M.i + (a ** 2 - b ** 2) * M.j + (sympy.sin(a) ** 2 + sympy.cos(a) ** 2) * M.k\n",
        "display(Latex('g = ' + ' = '.join(map(latex, (g, g.factor().trigsimp())))))"
      ],
      "execution_count": 160,
      "outputs": [
        {
          "output_type": "display_data",
          "data": {
            "text/plain": [
              "<IPython.core.display.Latex object>"
            ],
            "text/latex": "g = (a^{3} - 3 a^{2} + 3 a - 1)\\mathbf{\\hat{i}_{}} + (a^{2} - b^{2})\\mathbf{\\hat{j}_{}} + (\\sin^{2}{\\left(a \\right)} + \\cos^{2}{\\left(a \\right)})\\mathbf{\\hat{k}_{}} = (\\left(a - 1\\right)^{3})\\mathbf{\\hat{i}_{}} + (\\left(a - b\\right) \\left(a + b\\right))\\mathbf{\\hat{j}_{}} + \\mathbf{\\hat{k}_{}}"
          },
          "metadata": {}
        }
      ]
    },
    {
      "cell_type": "markdown",
      "metadata": {
        "id": "qsZhxKH99ZHE"
      },
      "source": [
        "## Преобразование матрицы в вектор\n",
        "Матрицу-столбец из трех элементов можно преобразовать в вектор с помощью matrix_to_vector, параметры этой функции - матрица и система координат.\n",
        "### Пример 4.\n",
        "Преобразовать матрицу $\\left(\\begin{matrix}-1\\\\ 2\\\\ 5\\end{matrix}\\right)$ в вектор в системе координат N и М из Примера 1."
      ]
    },
    {
      "cell_type": "code",
      "metadata": {
        "id": "TTDoL8Ql9ZHE",
        "outputId": "9d690526-5ac6-4830-cef4-b55c1b9055e2",
        "colab": {
          "base_uri": "https://localhost:8080/",
          "height": 62
        }
      },
      "source": [
        "b = Matrix([-1, 2, 5])\n",
        "display(*map(Latex, map(':\\ '.join, zip(('N', 'M'),\n",
        "                                        map(latex, (matrix_to_vector(b, N),\n",
        "                                                    matrix_to_vector(b, M)))))))"
      ],
      "execution_count": 161,
      "outputs": [
        {
          "output_type": "display_data",
          "data": {
            "text/plain": [
              "<IPython.core.display.Latex object>"
            ],
            "text/latex": "N:\\ - \\mathbf{\\hat{i}_{N}} + (2)\\mathbf{\\hat{j}_{N}} + (5)\\mathbf{\\hat{k}_{N}}"
          },
          "metadata": {}
        },
        {
          "output_type": "display_data",
          "data": {
            "text/plain": [
              "<IPython.core.display.Latex object>"
            ],
            "text/latex": "M:\\ - \\mathbf{\\hat{i}_{}} + (2)\\mathbf{\\hat{j}_{}} + (5)\\mathbf{\\hat{k}_{}}"
          },
          "metadata": {}
        }
      ]
    },
    {
      "cell_type": "markdown",
      "metadata": {
        "id": "xq5lmZQp9ZHF"
      },
      "source": [
        "## Преобразование системы координат, преобразование вектора в матрицу  \n",
        "С помощью orient_new_axis получим новую систему координат, которая получается поворотом системы координат на некоторый угол. Для преобразования вектора в матрицу используем метод to_matrix.\n",
        "### Пример 5.\n",
        "Введем новую систему координат Sys5\\_new, которая получается поворотом системы координат Sys5 на угол $\\pi/3$ относительно оси $i$ против часовой стрелки.\n",
        "Определим вектор b5_Sys5 на основе матрицы $b$ Примера 4 в соответствии с системой координат Sys5, затем получим представление в матричном виде вектора b5_Sys5 в системе координат Sys5_new. Получить координаты  вектора b5_Sys5 в системе координат Sys5_new можно с помощью матрицы поворота на угол $\\pi/3$ относительно оси $i$ против часовой стрелки. Роль матрицы поворота играет Sys5.rotation_matrix(Sys5_new), умножая матрицу поворота на b5_Sys5_new получаем матрицу $b$, так что для получения b5_Sys5_new из $b$ можно было бы умножить обратную матрицу к Sys5.rotation_matrix(Sys5_new) на $b$. "
      ]
    },
    {
      "cell_type": "code",
      "metadata": {
        "id": "HXNdsaYK9ZHF",
        "outputId": "863e8d22-9e19-49b0-9b36-bfd6ce734e26",
        "colab": {
          "base_uri": "https://localhost:8080/",
          "height": 237
        }
      },
      "source": [
        "Sys5 = CoordSys3D('S5')\n",
        "Sys5_new = Sys5.orient_new_axis('S5new', sympy.pi / 3, Sys5.i)\n",
        "b5_Sys5 = matrix_to_vector(b, Sys5)\n",
        "b5_Sys5_new = b5_Sys5.to_matrix(Sys5_new)\n",
        "R_matr = Sys5.rotation_matrix(Sys5_new)\n",
        "display(*map(Latex, map('\\ =\\ '.join,\n",
        "                        zip(('R\\_matr', 'b5\\_Sys5', 'b5\\_Sys5\\_new', 'sympy.simplify(R\\_matr*b5\\_Sys5\\_new)'),\n",
        "                            map(latex,\n",
        "                                (R_matr,\n",
        "                                 b5_Sys5,\n",
        "                                 b5_Sys5_new,\n",
        "                                 sympy.simplify(R_matr*b5_Sys5_new)))))))"
      ],
      "execution_count": 162,
      "outputs": [
        {
          "output_type": "display_data",
          "data": {
            "text/plain": [
              "<IPython.core.display.Latex object>"
            ],
            "text/latex": "R\\_matr\\ =\\ \\left[\\begin{matrix}1 & 0 & 0\\\\0 & \\frac{1}{2} & - \\frac{\\sqrt{3}}{2}\\\\0 & \\frac{\\sqrt{3}}{2} & \\frac{1}{2}\\end{matrix}\\right]"
          },
          "metadata": {}
        },
        {
          "output_type": "display_data",
          "data": {
            "text/plain": [
              "<IPython.core.display.Latex object>"
            ],
            "text/latex": "b5\\_Sys5\\ =\\ - \\mathbf{\\hat{i}_{S5}} + (2)\\mathbf{\\hat{j}_{S5}} + (5)\\mathbf{\\hat{k}_{S5}}"
          },
          "metadata": {}
        },
        {
          "output_type": "display_data",
          "data": {
            "text/plain": [
              "<IPython.core.display.Latex object>"
            ],
            "text/latex": "b5\\_Sys5\\_new\\ =\\ \\left[\\begin{matrix}-1\\\\1 + \\frac{5 \\sqrt{3}}{2}\\\\\\frac{5}{2} - \\sqrt{3}\\end{matrix}\\right]"
          },
          "metadata": {}
        },
        {
          "output_type": "display_data",
          "data": {
            "text/plain": [
              "<IPython.core.display.Latex object>"
            ],
            "text/latex": "sympy.simplify(R\\_matr*b5\\_Sys5\\_new)\\ =\\ \\left[\\begin{matrix}-1\\\\2\\\\5\\end{matrix}\\right]"
          },
          "metadata": {}
        }
      ]
    },
    {
      "cell_type": "markdown",
      "metadata": {
        "id": "LMhOkRY99ZHG"
      },
      "source": [
        "## Поворот системы координат на угол относительно произвольной оси\n",
        "осуществляется в помощью метода orient_new_axis, параметры - название новой системы координат, угол и вектор, определяющий ось вращения, выраженный в старой системе координат.\n",
        "### Пример 6.\n",
        "Повернем систему координат  Sys5 на $\\pi/6$ по часовой стрелке ($-\\pi/6$ против часовой стрелки) относительно оси, определяемой вектором $(1, -2, 0)$ (по умолчанию ось проходит через начало координат). Выразим вектор b5_Sys5 в новой системе координат."
      ]
    },
    {
      "cell_type": "code",
      "metadata": {
        "id": "zarm0wTP9ZHG",
        "outputId": "8dbc7aa7-38dd-4b8c-d3b5-6dab51dbdfa8",
        "colab": {
          "base_uri": "https://localhost:8080/",
          "height": 88
        }
      },
      "source": [
        "Sys6 = Sys5.orient_new_axis('S6', -sympy.pi / 6, Sys5.i - 2 * Sys5.j)\n",
        "display(Latex(f'b5\\_Sys5 = {latex(b5_Sys5.to_matrix(Sys6))}'))"
      ],
      "execution_count": 163,
      "outputs": [
        {
          "output_type": "display_data",
          "data": {
            "text/plain": [
              "<IPython.core.display.Latex object>"
            ],
            "text/latex": "b5\\_Sys5 = \\left[\\begin{matrix}- \\sqrt{5} - 1\\\\2 - \\frac{\\sqrt{5}}{2}\\\\\\frac{5 \\sqrt{3}}{2}\\end{matrix}\\right]"
          },
          "metadata": {}
        }
      ]
    },
    {
      "cell_type": "markdown",
      "metadata": {
        "id": "VyKO9_ky9ZHH"
      },
      "source": [
        "### Пример 7.\n",
        "Повернем систему координат  M на $\\pi/4$ против часовой стрелки относительно оси, определяемой вектором $(1, 0, 1)$ (по умолчанию ось проходит через начало координат). Выразим вектор v Примера 2 в новой системе координат, обозначим его v7. Выведем на экран v7 в векторной и матричной записи."
      ]
    },
    {
      "cell_type": "code",
      "metadata": {
        "id": "xA1WWNOS9ZHH",
        "outputId": "f210d8ad-24d0-45f3-b108-c3511a5c5b19",
        "colab": {
          "base_uri": "https://localhost:8080/",
          "height": 88
        }
      },
      "source": [
        "Sys7 = M.orient_new_axis('7', sympy.pi / 4, M.i + M.k)\n",
        "v7 = express(v, Sys7)\n",
        "display(Latex(',\\ '.join(map('\\ =\\ '.join,\n",
        "                        zip(('v_7', 'v.to\\_matrix(Sys7)'),\n",
        "                            map(latex,\n",
        "                                (v7, v.to_matrix(Sys7))))))))"
      ],
      "execution_count": 168,
      "outputs": [
        {
          "output_type": "display_data",
          "data": {
            "text/plain": [
              "<IPython.core.display.Latex object>"
            ],
            "text/latex": "v_7\\ =\\ (- \\frac{\\sqrt{2}}{2} - \\frac{1}{2})\\mathbf{\\hat{i}_{7}} + (1 - \\frac{3 \\sqrt{2}}{2})\\mathbf{\\hat{j}_{7}} + (\\frac{\\sqrt{2}}{2} + \\frac{5}{2})\\mathbf{\\hat{k}_{7}},\\ v.to\\_matrix(Sys7)\\ =\\ \\left[\\begin{matrix}- \\frac{\\sqrt{2}}{2} - \\frac{1}{2}\\\\1 - \\frac{3 \\sqrt{2}}{2}\\\\\\frac{\\sqrt{2}}{2} + \\frac{5}{2}\\end{matrix}\\right]"
          },
          "metadata": {}
        }
      ]
    },
    {
      "cell_type": "markdown",
      "metadata": {
        "id": "rTMBOlzG9ZHI"
      },
      "source": [
        "# Методы класса векторов\n",
        "**components** координаты вектора в виде словаря с ключами - ортами, значениями - координатами\n",
        "\n",
        "**magnitude** длина\n",
        "\n",
        "**normalize** возвращает нормированный вектор (такое же направление, но длина 1) в виде линейной комбинации базисных ортов\n",
        "\n",
        "**projection** проекция на вектор - аргумент, представленная в виде линейной комбинации базисных ортов"
      ]
    },
    {
      "cell_type": "code",
      "source": [
        "display(*map(Latex, map('\\ =\\ '.join,\n",
        "                        zip(('v', 'v.components', 'v.magnitude()', 'v.normalize()', \n",
        "        'M.i.projection(v)', 'M.j.projection(v)', 'M.k.projection(v)',\n",
        "        '(M.i - M.j + 2M.k).projection(v)'),\n",
        "                            map(latex,\n",
        "                                (v, v.components, v.magnitude(), v.normalize(), \n",
        "        M.i.projection(v), M.j.projection(v), M.k.projection(v),\n",
        "        (M.i - M.j + 2 * M.k).projection(v)))))))"
      ],
      "metadata": {
        "colab": {
          "base_uri": "https://localhost:8080/",
          "height": 205
        },
        "id": "KBybRWkKJPeN",
        "outputId": "96253312-3a93-4a2b-f6bc-8839e7f47b7e"
      },
      "execution_count": 169,
      "outputs": [
        {
          "output_type": "display_data",
          "data": {
            "text/plain": [
              "<IPython.core.display.Latex object>"
            ],
            "text/latex": "v\\ =\\ (-3)\\mathbf{\\hat{j}_{}} + (2)\\mathbf{\\hat{k}_{}}"
          },
          "metadata": {}
        },
        {
          "output_type": "display_data",
          "data": {
            "text/plain": [
              "<IPython.core.display.Latex object>"
            ],
            "text/latex": "v.components\\ =\\ \\left\\{ \\mathbf{\\hat{j}_{}} : -3, \\  \\mathbf{\\hat{k}_{}} : 2\\right\\}"
          },
          "metadata": {}
        },
        {
          "output_type": "display_data",
          "data": {
            "text/plain": [
              "<IPython.core.display.Latex object>"
            ],
            "text/latex": "v.magnitude()\\ =\\ \\sqrt{13}"
          },
          "metadata": {}
        },
        {
          "output_type": "display_data",
          "data": {
            "text/plain": [
              "<IPython.core.display.Latex object>"
            ],
            "text/latex": "v.normalize()\\ =\\ (- \\frac{3 \\sqrt{13}}{13})\\mathbf{\\hat{j}_{}} + (\\frac{2 \\sqrt{13}}{13})\\mathbf{\\hat{k}_{}}"
          },
          "metadata": {}
        },
        {
          "output_type": "display_data",
          "data": {
            "text/plain": [
              "<IPython.core.display.Latex object>"
            ],
            "text/latex": "M.i.projection(v)\\ =\\ \\mathbf{\\hat{0}}"
          },
          "metadata": {}
        },
        {
          "output_type": "display_data",
          "data": {
            "text/plain": [
              "<IPython.core.display.Latex object>"
            ],
            "text/latex": "M.j.projection(v)\\ =\\ (-3)\\mathbf{\\hat{j}_{}}"
          },
          "metadata": {}
        },
        {
          "output_type": "display_data",
          "data": {
            "text/plain": [
              "<IPython.core.display.Latex object>"
            ],
            "text/latex": "M.k.projection(v)\\ =\\ (2)\\mathbf{\\hat{k}_{}}"
          },
          "metadata": {}
        },
        {
          "output_type": "display_data",
          "data": {
            "text/plain": [
              "<IPython.core.display.Latex object>"
            ],
            "text/latex": "(M.i - M.j + 2M.k).projection(v)\\ =\\ (\\frac{7}{6})\\mathbf{\\hat{i}_{}} + (- \\frac{7}{6})\\mathbf{\\hat{j}_{}} + (\\frac{7}{3})\\mathbf{\\hat{k}_{}}"
          },
          "metadata": {}
        }
      ]
    }
  ]
}