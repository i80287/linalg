{
  "cells": [
    {
      "cell_type": "markdown",
      "metadata": {
        "id": "c6HyBQxAzvAa"
      },
      "source": [
        "# Практическое занятие 8\n",
        "# Компьютерный практикум по алгебре на Python\n",
        "## Численное решение систем линейных алгебраических уравнений (СЛАУ) с numpy."
      ]
    },
    {
      "cell_type": "markdown",
      "metadata": {
        "id": "H2TtQzFozvAj"
      },
      "source": [
        "https://numpy.org/doc/stable/reference/routines.linalg.html"
      ]
    },
    {
      "cell_type": "code",
      "execution_count": 1,
      "metadata": {
        "id": "Szq1iyf_zvAk"
      },
      "outputs": [],
      "source": [
        "import numpy as np\n",
        "from numpy import linalg"
      ]
    },
    {
      "cell_type": "markdown",
      "metadata": {
        "id": "P4HXR20BDgcu"
      },
      "source": [
        "#Представление матриц в numpy.\n",
        "\n",
        "!!! Сейчас матрицы в numpy рекомендуется представлять в виде структуры данных \"2d numpy.array object\", а не a \"numpy.matrix object\", даже для задач линейной алгебры.\n",
        "\n",
        "2d numpy.array object это вложенный (двумерный) массив, его элементы (в отличие от сисков list) данные одного типа, т.е. все элементы числа int или все комплексные числа и т.п."
      ]
    },
    {
      "cell_type": "code",
      "execution_count": 2,
      "metadata": {
        "colab": {
          "base_uri": "https://localhost:8080/"
        },
        "id": "1F-tKp6qHKxz",
        "outputId": "df79fb87-430d-4f1c-a285-d1bf90aef270"
      },
      "outputs": [
        {
          "data": {
            "text/plain": [
              "array([[1, 2, 3],\n",
              "       [4, 5, 6]])"
            ]
          },
          "execution_count": 2,
          "metadata": {},
          "output_type": "execute_result"
        }
      ],
      "source": [
        "my_matr = np.array([[1, 2, 3], [4, 5, 6]])\n",
        "my_matr"
      ]
    },
    {
      "cell_type": "markdown",
      "metadata": {
        "id": "UOtCEaClHea0"
      },
      "source": [
        "Если конструктору numpy.array передать список, содержащий разные типы чисел, то все числа преобразуются к наиболее общему типу. Например, если в списке есть int и float, то все станут float, а если еще есть комплексные числа, то все будут преобразованы в комплексные числа."
      ]
    },
    {
      "cell_type": "code",
      "execution_count": 3,
      "metadata": {
        "colab": {
          "base_uri": "https://localhost:8080/"
        },
        "id": "pwY3o_GQHdaV",
        "outputId": "0114dc20-0a04-4791-a930-212b28114194"
      },
      "outputs": [
        {
          "name": "stdout",
          "output_type": "stream",
          "text": [
            "[[1.  2.5 3. ]\n",
            " [4.  5.  6. ]]\n",
            "[[1.+0.j 2.+1.j 3.+0.j]\n",
            " [4.+0.j 5.+0.j 6.+0.j]]\n"
          ]
        }
      ],
      "source": [
        "my_matr1 = np.array([[1, 2.5, 3], [4, 5, 6]])\n",
        "my_matr2 = np.array([[1, 2 + 1j, 3], [4, 5, 6]])\n",
        "print(my_matr1, my_matr2, sep='\\n')"
      ]
    },
    {
      "cell_type": "markdown",
      "metadata": {
        "id": "EnfJKQqdIqJp"
      },
      "source": [
        "Для некоторых стандартных видов матриц есть конструкторы, например \n",
        "\n",
        "для **единичной** матрицы numpy.identity(n, dtype=None, *, like=None) и numpy.eye(N, M=None, k=0, dtype=<class 'float'>, order='C', *, like=None)\n",
        "\n",
        "для **матрицы из нулей** numpy.zeros(shape, dtype=float, order='C', *, like=None)"
      ]
    },
    {
      "cell_type": "code",
      "execution_count": 4,
      "metadata": {
        "colab": {
          "base_uri": "https://localhost:8080/"
        },
        "id": "EVBi0pihJKco",
        "outputId": "151034f2-3e66-48aa-85e2-3312f8467a91"
      },
      "outputs": [
        {
          "name": "stdout",
          "output_type": "stream",
          "text": [
            "np.identity(3):\n",
            "[[1. 0. 0.]\n",
            " [0. 1. 0.]\n",
            " [0. 0. 1.]],\n",
            "np.eye(3, 4):\n",
            "[[1. 0. 0. 0.]\n",
            " [0. 1. 0. 0.]\n",
            " [0. 0. 1. 0.]],\n",
            "np.eye(3, 4, dtype=int):\n",
            "[[1 0 0 0]\n",
            " [0 1 0 0]\n",
            " [0 0 1 0]],\n",
            "np.zeros((2, 3)):\n",
            "[[0. 0. 0.]\n",
            " [0. 0. 0.]],\n",
            "np.zeros((2, 3), dtype=complex):\n",
            "[[0.+0.j 0.+0.j 0.+0.j]\n",
            " [0.+0.j 0.+0.j 0.+0.j]].\n"
          ]
        }
      ],
      "source": [
        "print(f\"\"\"np.identity(3):\\n{np.identity(3)},\n",
        "np.eye(3, 4):\\n{np.eye(3, 4)},\n",
        "np.eye(3, 4, dtype=int):\\n{np.eye(3, 4, dtype=int)},\n",
        "np.zeros((2, 3)):\\n{np.zeros((2, 3))},\n",
        "np.zeros((2, 3), dtype=complex):\\n{np.zeros((2, 3), dtype=complex)}.\"\"\", sep='\\n')"
      ]
    },
    {
      "cell_type": "markdown",
      "metadata": {
        "id": "5Y0ARnYvzvAm"
      },
      "source": [
        "## numpy.linalg.solve\n",
        "\n",
        "linalg.solve это решатель СЛАУ из N уравнений от N переменных.Возможное число решений одно, иначе выдается ошибка. \n",
        "\n",
        "### Пример 1. Совместная СЛАУ с единственным решением. \n"
      ]
    },
    {
      "cell_type": "code",
      "execution_count": 5,
      "metadata": {
        "colab": {
          "base_uri": "https://localhost:8080/"
        },
        "id": "SGZ1_0ApzvAw",
        "outputId": "e89e9bd0-607f-454d-92c0-acac427d7115"
      },
      "outputs": [
        {
          "name": "stdout",
          "output_type": "stream",
          "text": [
            "Решение СЛАУ: [1. 2. 3.]\n"
          ]
        }
      ],
      "source": [
        "A = np.array([[2, 3, -1], [3, -2, 1], [1, 1, -1]])\n",
        "b = np.array([5, 2, 0])\n",
        "X = linalg.solve(A, b)\n",
        "print(f'Решение СЛАУ: {X}')"
      ]
    },
    {
      "cell_type": "markdown",
      "metadata": {
        "id": "O0GRY4q_MIoV"
      },
      "source": [
        "Как выполнить проверку? В случае отсутствия ошибок округлений при вычислениях должно выполняться $AX = b$.\n",
        "\n",
        "Для умножения матриц (т.е. array) используется оператор @ или метод matmul (то же, что и @):"
      ]
    },
    {
      "cell_type": "code",
      "execution_count": 6,
      "metadata": {
        "colab": {
          "base_uri": "https://localhost:8080/"
        },
        "id": "PtB7r9tTMeba",
        "outputId": "6f8ccc53-1ded-467c-e687-a73f7f45d0c3"
      },
      "outputs": [
        {
          "data": {
            "text/plain": [
              "array([ True,  True, False])"
            ]
          },
          "execution_count": 6,
          "metadata": {},
          "output_type": "execute_result"
        }
      ],
      "source": [
        "A @ X == b"
      ]
    },
    {
      "cell_type": "markdown",
      "metadata": {
        "id": "GojQVaNwNkc9"
      },
      "source": [
        "Как видим, матрицы-столбцы левой и правой частей совпадают только в одной координате. Почему? По причине округлений при вычислениях. Посмотрим, насколько сильно отличаются левая и правая части:"
      ]
    },
    {
      "cell_type": "code",
      "execution_count": 7,
      "metadata": {
        "colab": {
          "base_uri": "https://localhost:8080/"
        },
        "id": "ZcdEHSPOM-bJ",
        "outputId": "b9322074-9ca3-4178-b644-3b2f9db4722d"
      },
      "outputs": [
        {
          "name": "stdout",
          "output_type": "stream",
          "text": [
            "A @ X = [5.0000000e+00 2.0000000e+00 4.4408921e-16],\n",
            "b = [5 2 0]\n"
          ]
        }
      ],
      "source": [
        "print(f'A @ X = {A @ X},\\nb = {b}')"
      ]
    },
    {
      "cell_type": "markdown",
      "metadata": {
        "id": "DWOKkPJ1OVxT"
      },
      "source": [
        "Поскольку в жизни при использовании приближенных вычислений всегда результат подстановки решения будет несколько отличаться от правой части, то сравнение проводится лишь с некоторой точностью с помощью numpy.allclose(a, b, rtol=1e-05, atol=1e-08, equal_nan=False)\n",
        "\n",
        "https://numpy.org/devdocs/reference/generated/numpy.allclose.html\n",
        "\n",
        "numpy.allclose() сравнивает поэлементно первый и второй свои аргументы и возвращает True, если они все отличаются друг от друга не более чем на допустимую величину, определяемую параметрами rtol (относительная погрешность) и atol (абсолютная погрешность).\n",
        "\n",
        "При сравнении друх чисел $a$ и $b$ вычисляется величина $|a - b|$  и сравнивается с допустимой погрешностью $atol + rtol * |b|$. Если выполняется $|a - b|\\le atol + rtol * |b|$, то считается, что $a$ и $b$ приближенно равны."
      ]
    },
    {
      "cell_type": "code",
      "execution_count": 8,
      "metadata": {
        "colab": {
          "base_uri": "https://localhost:8080/"
        },
        "id": "9UaS_ofINPpK",
        "outputId": "b97bb405-ba5d-4c9a-bf5e-52968b4ecca3"
      },
      "outputs": [
        {
          "data": {
            "text/plain": [
              "True"
            ]
          },
          "execution_count": 8,
          "metadata": {},
          "output_type": "execute_result"
        }
      ],
      "source": [
        "np.allclose(A @ X, b)"
      ]
    },
    {
      "cell_type": "markdown",
      "metadata": {
        "id": "iOc23Ur8zvAy"
      },
      "source": [
        "### Пример 2. Несовместная СЛАУ\n",
        "$$\n",
        "\\left\\{\n",
        "\\begin{matrix}\n",
        "2x + 3y - z = 5\\\\\n",
        "3x - 2y + z = 2\\\\\n",
        "5x + y = 0\n",
        "\\end{matrix}\n",
        "\\right.\n",
        "$$\n",
        "\n",
        "В случае этой несовместной СЛАУ linalg.solve выдает ошибку \"Singular matrix\". Чтобы программа не завершалась ошибкой, будем вычислять определитель левой части (если матрица квадратная) или ранг (в общем случае)."
      ]
    },
    {
      "cell_type": "code",
      "execution_count": 19,
      "metadata": {
        "colab": {
          "base_uri": "https://localhost:8080/"
        },
        "id": "5KBh8u-CbbmV",
        "outputId": "57560a44-eaab-462d-a573-835b0888478a"
      },
      "outputs": [
        {
          "data": {
            "text/plain": [
              "array([[ 2,  3, -1],\n",
              "       [ 3, -2,  1],\n",
              "       [ 5,  1,  0],\n",
              "       [ 5,  1,  0]])"
            ]
          },
          "execution_count": 19,
          "metadata": {},
          "output_type": "execute_result"
        }
      ],
      "source": [
        "A = np.array([[2, 3, -1], [3, -2, 1], [5, 1, 0], [5, 1, 0]])\n",
        "# b = np.array([5, 2, 0])\n",
        "# print(f'Определитель |А| = {linalg.det(A)}, ранг rg(А) = {linalg.matrix_rank(A)}')\n",
        "\n",
        "A"
      ]
    },
    {
      "cell_type": "markdown",
      "metadata": {
        "id": "47OJRpgIgb3G"
      },
      "source": [
        "Для проверки СЛАУ на совместность по теореме Кронекера-Капелли нужно определить ранг расширенной матрицы СЛАУ, а для этого надо эту матрицу составить. Для соединения двух матриц в одну в numpy есть много функций (concatenate, stack, hstack, vstack и т.п), но в нашем случае, когда нужно к двумерному массиву присоединить одномерный столбец, лучше подойдет column_stack()."
      ]
    },
    {
      "cell_type": "code",
      "execution_count": 10,
      "metadata": {
        "colab": {
          "base_uri": "https://localhost:8080/"
        },
        "id": "b6jT5-9nzvA1",
        "outputId": "296629f8-06bb-42eb-ddf4-116f9689a073"
      },
      "outputs": [
        {
          "name": "stdout",
          "output_type": "stream",
          "text": [
            "Ab:\n",
            "[[ 2  3 -1  5]\n",
            " [ 3 -2  1  2]\n",
            " [ 5  1  0  0]]\n",
            "ранг Ab rg(Аb) = 3\n"
          ]
        }
      ],
      "source": [
        "Ab = np.column_stack((A, b))\n",
        "print(f'Ab:\\n{Ab}\\nранг Ab rg(Аb) = {linalg.matrix_rank(Ab)}')"
      ]
    },
    {
      "cell_type": "markdown",
      "metadata": {
        "id": "OMs9VZfJkWQL"
      },
      "source": [
        "Видим, что ранг расширенной матрицы больше, чем ранг левой части, следовательно, СЛАУ несовместна."
      ]
    },
    {
      "cell_type": "markdown",
      "metadata": {
        "id": "WQmibXfLzvA1"
      },
      "source": [
        "### Пример 3. Недоопределенная СЛАУ\n",
        "$$\n",
        "\\left\\{\n",
        "\\begin{matrix}\n",
        "2x + 3y - z = 5\\\\\n",
        "3x - 2y + z = 2\\\\\n",
        "5x + y = 7\n",
        "\\end{matrix}\n",
        "\\right.\n",
        "$$"
      ]
    },
    {
      "cell_type": "code",
      "execution_count": 11,
      "metadata": {
        "colab": {
          "base_uri": "https://localhost:8080/"
        },
        "id": "sybkkYpLzvA2",
        "outputId": "94d1b68a-c084-4d34-91c5-6fdb9b36f5b3"
      },
      "outputs": [
        {
          "name": "stdout",
          "output_type": "stream",
          "text": [
            "ранг A rg(А) = 2, ранг Ab rg(Аb) = 2\n"
          ]
        }
      ],
      "source": [
        "A = np.array([[2, 3, -1], [3, -2, 1], [5, 1, 0]])\n",
        "b = np.array([5, 2, 7])\n",
        "Ab = np.column_stack((A, b))\n",
        "print(f'ранг A rg(А) = {linalg.matrix_rank(A)}, ранг Ab rg(Аb) = {linalg.matrix_rank(Ab)}')"
      ]
    },
    {
      "cell_type": "markdown",
      "metadata": {
        "id": "taEPVqnslVmw"
      },
      "source": [
        "С помощью linalg.solve() такую СЛАУ решить нельзя, поскольку матрица левой части неполного ранга."
      ]
    },
    {
      "cell_type": "markdown",
      "metadata": {
        "id": "FxH4X5T2zvA-"
      },
      "source": [
        "### Выделение строки, столбца и подматрицы в np.array\n",
        "Для выделения части матрицы будем использовать диапазоны (срезы, slice)\n",
        "\n",
        "Напомним, что обращение к элементу матрицы осуществляется указанием в квадратных скобках после имени матрицы номера строки и номера столбца через запятую,\n",
        "\n",
        "например, $А[2, 3]$.\n",
        "\n",
        "Если нужно выделить элементы строки, стоящие в столбцах с 3 до 5 (не включая 5!), то вместо номера столбца указываем диапазон (срез) 3:5,\n",
        "двоеточие обозначает, что берутся и все промежуточные индексы.\n",
        "\n",
        "**!!!ВАЖНО!!!**\n",
        "\n",
        "В диапазонах не учитывается последнее значение,\n",
        "так срез 3:5 не включает элемент с номером 5!"
      ]
    },
    {
      "cell_type": "code",
      "execution_count": 12,
      "metadata": {
        "colab": {
          "base_uri": "https://localhost:8080/"
        },
        "id": "tKtuG-KSzvA_",
        "outputId": "d690240a-e2e7-4249-de2d-01ed326e7dfb"
      },
      "outputs": [
        {
          "data": {
            "text/plain": [
              "array([[ 2,  4,  6,  8, 10, 12, 14, 16],\n",
              "       [ 3,  6,  9, 12, 15, 18, 21, 24],\n",
              "       [ 4,  8, 12, 16, 20, 24, 28, 32],\n",
              "       [ 5, 10, 15, 20, 25, 30, 35, 40],\n",
              "       [ 6, 12, 18, 24, 30, 36, 42, 48],\n",
              "       [ 7, 14, 21, 28, 35, 42, 49, 56]])"
            ]
          },
          "execution_count": 12,
          "metadata": {},
          "output_type": "execute_result"
        }
      ],
      "source": [
        "Qmatr = np.array([[i * j for i in range(1, 9)] for j in range(2, 8)])\n",
        "Qmatr"
      ]
    },
    {
      "cell_type": "markdown",
      "metadata": {
        "id": "0q09ySJIzvA_"
      },
      "source": [
        "Выделим столбец с номером 1 в матрице Qmatr"
      ]
    },
    {
      "cell_type": "code",
      "execution_count": 13,
      "metadata": {
        "colab": {
          "base_uri": "https://localhost:8080/"
        },
        "id": "zfXvXrgCzvA_",
        "outputId": "ea599f06-5746-485c-d088-d7f0844b5590"
      },
      "outputs": [
        {
          "data": {
            "text/plain": [
              "array([ 4,  6,  8, 10, 12, 14])"
            ]
          },
          "execution_count": 13,
          "metadata": {},
          "output_type": "execute_result"
        }
      ],
      "source": [
        "Qmatr[:, 1]"
      ]
    },
    {
      "cell_type": "markdown",
      "metadata": {
        "id": "U_Yf3QnMzvA_"
      },
      "source": [
        "Выделим строку с номером 0 в матрице Qmatr"
      ]
    },
    {
      "cell_type": "code",
      "execution_count": 14,
      "metadata": {
        "colab": {
          "base_uri": "https://localhost:8080/"
        },
        "id": "KEDYWMAxzvBA",
        "outputId": "93c1785f-fb28-498e-bafc-c22fac88b4e2"
      },
      "outputs": [
        {
          "data": {
            "text/plain": [
              "array([ 2,  4,  6,  8, 10, 12, 14, 16])"
            ]
          },
          "execution_count": 14,
          "metadata": {},
          "output_type": "execute_result"
        }
      ],
      "source": [
        "Qmatr[0, :]"
      ]
    },
    {
      "cell_type": "markdown",
      "metadata": {
        "id": "OKmhh0dAzvBA"
      },
      "source": [
        "Допишем снизу к матрице Qmatr ее строку номер 1"
      ]
    },
    {
      "cell_type": "code",
      "execution_count": 15,
      "metadata": {
        "colab": {
          "base_uri": "https://localhost:8080/"
        },
        "id": "HjvqxA11zvBA",
        "outputId": "bc7b1912-efd8-4634-e9bb-b01e2c41e9f5"
      },
      "outputs": [
        {
          "data": {
            "text/plain": [
              "array([[ 2,  4,  6,  8, 10, 12, 14, 16],\n",
              "       [ 3,  6,  9, 12, 15, 18, 21, 24],\n",
              "       [ 4,  8, 12, 16, 20, 24, 28, 32],\n",
              "       [ 5, 10, 15, 20, 25, 30, 35, 40],\n",
              "       [ 6, 12, 18, 24, 30, 36, 42, 48],\n",
              "       [ 7, 14, 21, 28, 35, 42, 49, 56],\n",
              "       [ 3,  6,  9, 12, 15, 18, 21, 24]])"
            ]
          },
          "execution_count": 15,
          "metadata": {},
          "output_type": "execute_result"
        }
      ],
      "source": [
        "np.row_stack((Qmatr, Qmatr[1, :]))"
      ]
    },
    {
      "cell_type": "markdown",
      "metadata": {
        "id": "cnlh9ELSzvBA"
      },
      "source": [
        "Допишем справа к матрице $A$ ее столбец номер 0"
      ]
    },
    {
      "cell_type": "code",
      "execution_count": 16,
      "metadata": {
        "colab": {
          "base_uri": "https://localhost:8080/"
        },
        "id": "da_RdZS7zvBA",
        "outputId": "7408ac79-368f-4f09-f8de-d093375fdc9a"
      },
      "outputs": [
        {
          "data": {
            "text/plain": [
              "array([[ 2,  4,  6,  8, 10, 12, 14, 16,  2],\n",
              "       [ 3,  6,  9, 12, 15, 18, 21, 24,  3],\n",
              "       [ 4,  8, 12, 16, 20, 24, 28, 32,  4],\n",
              "       [ 5, 10, 15, 20, 25, 30, 35, 40,  5],\n",
              "       [ 6, 12, 18, 24, 30, 36, 42, 48,  6],\n",
              "       [ 7, 14, 21, 28, 35, 42, 49, 56,  7]])"
            ]
          },
          "execution_count": 16,
          "metadata": {},
          "output_type": "execute_result"
        }
      ],
      "source": [
        "np.column_stack((Qmatr, Qmatr[:, 0]))"
      ]
    },
    {
      "cell_type": "markdown",
      "metadata": {
        "id": "uYjUFqQk2mxs"
      },
      "source": [
        "**Заметим, что np.row_stack и np.column_stack возвращают результат, не меняя саму матрицу.**"
      ]
    },
    {
      "cell_type": "markdown",
      "metadata": {
        "id": "ZmctpRsxzvBD"
      },
      "source": [
        "### Транспонирование\n",
        "Транспонируем Qmatr с помощью transpose()."
      ]
    },
    {
      "cell_type": "code",
      "execution_count": 17,
      "metadata": {
        "colab": {
          "base_uri": "https://localhost:8080/"
        },
        "id": "IHRiq2GizvBD",
        "outputId": "afa95987-2ffa-4300-af2a-c8aa50294510"
      },
      "outputs": [
        {
          "data": {
            "text/plain": [
              "array([[ 2,  3,  4,  5,  6,  7],\n",
              "       [ 4,  6,  8, 10, 12, 14],\n",
              "       [ 6,  9, 12, 15, 18, 21],\n",
              "       [ 8, 12, 16, 20, 24, 28],\n",
              "       [10, 15, 20, 25, 30, 35],\n",
              "       [12, 18, 24, 30, 36, 42],\n",
              "       [14, 21, 28, 35, 42, 49],\n",
              "       [16, 24, 32, 40, 48, 56]])"
            ]
          },
          "execution_count": 17,
          "metadata": {},
          "output_type": "execute_result"
        }
      ],
      "source": [
        "np.transpose(Qmatr)"
      ]
    }
  ],
  "metadata": {
    "colab": {
      "provenance": []
    },
    "kernelspec": {
      "display_name": ".venv",
      "language": "python",
      "name": "python3"
    },
    "language_info": {
      "codemirror_mode": {
        "name": "ipython",
        "version": 3
      },
      "file_extension": ".py",
      "mimetype": "text/x-python",
      "name": "python",
      "nbconvert_exporter": "python",
      "pygments_lexer": "ipython3",
      "version": "3.11.0"
    },
    "vscode": {
      "interpreter": {
        "hash": "15070b5f4c01a16be65f6048f4eea768aba9ae68ce711f49339836ef743d1529"
      }
    }
  },
  "nbformat": 4,
  "nbformat_minor": 0
}
