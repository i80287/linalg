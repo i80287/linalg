{
  "nbformat": 4,
  "nbformat_minor": 0,
  "metadata": {
    "kernelspec": {
      "display_name": "Python 3",
      "language": "python",
      "name": "python3"
    },
    "language_info": {
      "codemirror_mode": {
        "name": "ipython",
        "version": 3
      },
      "file_extension": ".py",
      "mimetype": "text/x-python",
      "name": "python",
      "nbconvert_exporter": "python",
      "pygments_lexer": "ipython3",
      "version": "3.7.3"
    },
    "colab": {
      "provenance": []
    }
  },
  "cells": [
    {
      "cell_type": "markdown",
      "metadata": {
        "id": "KqMzidc80GGB"
      },
      "source": [
        "# Практическое занятие 8\n",
        "# Компьютерный практикум по алгебре на Python\n",
        "## Численное решение систем линейных алгебраических уравнений (СЛАУ) с numpy."
      ]
    },
    {
      "cell_type": "markdown",
      "metadata": {
        "id": "675Fb5ND0GGK"
      },
      "source": [
        "https://numpy.org/doc/stable/reference/routines.linalg.html"
      ]
    },
    {
      "cell_type": "code",
      "metadata": {
        "id": "TNk5d0Si0GGK"
      },
      "source": [
        "import numpy as np\n",
        "from numpy import linalg"
      ],
      "execution_count": null,
      "outputs": []
    },
    {
      "cell_type": "markdown",
      "metadata": {
        "id": "dMGJ1uQC0GGM"
      },
      "source": [
        "### Задание 1.\n",
        "Решить СЛАУ с помощью linalg.solve() и выполнить проверку.\n",
        "$$\n",
        "\\left\\{\n",
        "\\begin{matrix}\n",
        "-x+5y-3z=8\\\\\n",
        "4x-y+5z=-1\\\\\n",
        "3x+4y+5z=10\n",
        "\\end{matrix}\n",
        "\\right.\n",
        "$$"
      ]
    },
    {
      "cell_type": "code",
      "source": [
        "def main():\n",
        "  a_matrix = np.array((\n",
        "      (-1, 5, -3),\n",
        "      (4, -1, 5),\n",
        "      (3, 4, 5),\n",
        "  ))\n",
        "  b_matrix = np.array([8, -1, 10])\n",
        "  print(f\"Решения: {tuple(linalg.solve(a_matrix, b_matrix))}\")\n",
        "\n",
        "if __name__ == \"__main__\":\n",
        "  main()"
      ],
      "metadata": {
        "id": "lrU1XWLhNBjz",
        "colab": {
          "base_uri": "https://localhost:8080/"
        },
        "outputId": "c85b0cba-a361-4284-c1e1-c02631bc59cd"
      },
      "execution_count": null,
      "outputs": [
        {
          "output_type": "stream",
          "name": "stdout",
          "text": [
            "Решения: (-1.0, 2.0, 1.0)\n"
          ]
        }
      ]
    },
    {
      "cell_type": "markdown",
      "source": [
        "### Задание 2.\n",
        "Определить с помощью Теоремы Кронекера-Капелли и linalg.matrix_rank, совместна ли СЛАУ\n",
        "$$\n",
        "\\left\\{\n",
        "\\begin{matrix}\n",
        "-x+5y-3z=8\\\\\n",
        "4x-y+5z=-1\\\\\n",
        "3x+4y+2z=7\n",
        "\\end{matrix}\n",
        "\\right.\n",
        "$$\n",
        "\n",
        "Сделать вывод о числе решений (текстом)"
      ],
      "metadata": {
        "id": "E6-UJMGKB8Ej"
      }
    },
    {
      "cell_type": "code",
      "source": [
        "def main():\n",
        "  a_matrix = np.array((\n",
        "      (-1, 5, -3),\n",
        "      (4, -1, 5),\n",
        "      (3, 4, 2),\n",
        "  ))\n",
        "  b_matrix = np.array([8, -1, 7])\n",
        "  ab_matrix = np.column_stack((a_matrix, b_matrix))\n",
        "\n",
        "  print(f\"Ранг rk(А) = {linalg.matrix_rank(a_matrix)}\")\n",
        "  print(f\"Ранг rk(Аb) = {linalg.matrix_rank(ab_matrix)}\")\n",
        "  print(\"=> по теореме Кронекера-Капелли СЛАУ имеет решение\")\n",
        "  print(f\"Матрица имеет {'1 решение' if a_matrix.shape[1] == linalg.matrix_rank(a_matrix) else 'бесконечно много решений'}\")\n",
        "\n",
        "if __name__ == \"__main__\":\n",
        "  main()"
      ],
      "metadata": {
        "id": "aFuOUEgNNCj8",
        "colab": {
          "base_uri": "https://localhost:8080/"
        },
        "outputId": "31e4a253-00ab-4422-d007-cfbb5914610c"
      },
      "execution_count": null,
      "outputs": [
        {
          "output_type": "stream",
          "name": "stdout",
          "text": [
            "Ранг rk(А) = 2\n",
            "Ранг rk(Аb) = 2\n",
            "=> по теореме Кронекера-Капелли СЛАУ имеет решение\n",
            "Матрица имеет бесконечно много решений\n"
          ]
        }
      ]
    },
    {
      "cell_type": "markdown",
      "metadata": {
        "id": "sJLNktgn0GGO"
      },
      "source": [
        "### Задание 3.\n",
        "Исследовать на совместность СЛАУ с параметром $a$ при значениях параметра $a=1$ и $a=-1$ и найти решение, если оно единственно и провести проверку подстановкой.\n",
        "$$\n",
        "\\left\\{\n",
        "\\begin{matrix}\n",
        "-x+5y-3z=8a\\\\\n",
        "4x-ay+5z=-a\\\\\n",
        "3x+4y+2z=5a\n",
        "\\end{matrix}\n",
        "\\right.\n",
        "$$"
      ]
    },
    {
      "cell_type": "code",
      "source": [
        "def solve_matrix(a: int):\n",
        "  a_matrix = np.array((\n",
        "    (-1, 5, -3),\n",
        "    (4, -a, 5),\n",
        "    (3, 4, 2),\n",
        "  ))\n",
        "  b_matrix = np.array([8*a, -a, 5*a])\n",
        "  ab_matrix = np.column_stack((a_matrix, b_matrix))\n",
        "\n",
        "  print(f\"При a = {a}:\")\n",
        "  rk_a = linalg.matrix_rank(a_matrix)\n",
        "  rk_ab = linalg.matrix_rank(ab_matrix)\n",
        "  if rk_a == rk_ab:\n",
        "    print(f\"Матрица имеет решения\")\n",
        "    if a_matrix.shape[1] == rk_a:\n",
        "      print(f\"Матрица имеет единственное решение:\")\n",
        "      print(tuple(linalg.solve(a_matrix, b_matrix)))\n",
        "    else:\n",
        "      print(f\"Матрица имеет более 1 решения\")\n",
        "  else:\n",
        "    print(f\"Матрица не имеет решений\")\n",
        "  print()\n",
        "\n",
        "def main():\n",
        "  for a in (-1, 1):\n",
        "    solve_matrix(a)\n",
        "\n",
        "if __name__ == \"__main__\":\n",
        "  main()"
      ],
      "metadata": {
        "id": "ivlQWvIbNEGO",
        "colab": {
          "base_uri": "https://localhost:8080/"
        },
        "outputId": "23a1344d-6de7-4fb9-8d38-7d50d0798b77"
      },
      "execution_count": null,
      "outputs": [
        {
          "output_type": "stream",
          "name": "stdout",
          "text": [
            "При a = -1:\n",
            "Матрица имеет решения\n",
            "Матрица имеет единственное решение:\n",
            "(-1.2857142857142863, -0.9999999999999998, 1.428571428571429)\n",
            "\n",
            "При a = 1:\n",
            "Матрица не имеет решений\n",
            "\n"
          ]
        }
      ]
    },
    {
      "cell_type": "markdown",
      "metadata": {
        "id": "m8SPA6yz0GGP"
      },
      "source": [
        "### Задание 4\n",
        "В расширенной матрице СЛАУ из Задания 2 \n",
        "\n",
        "1) выделить матрицу левой части\n",
        "\n",
        "2) выделить столбец правой части\n",
        "\n",
        "3) транспонировать матрицу, полученную в 1)\n",
        "\n",
        "4) получить расширенную матрицу из матрицы 3) и столбца 2)\n",
        "\n",
        "5) создать на основе списочного выражения np.array $3\\times 4$ из расположенных в шахматном порядке чисел 1 и $-1$."
      ]
    },
    {
      "cell_type": "code",
      "source": [
        "def main():\n",
        "  ab_matrix = np.array((\n",
        "      (-1, 5, -3, 8),\n",
        "      (4, -1, 5, -1),\n",
        "      (3, 4, 2, 7),\n",
        "  ))\n",
        "\n",
        "  left_matrix = ab_matrix[:, :-1]\n",
        "  print(f\"Матрица левой части:\\n{left_matrix}\")\n",
        "  \n",
        "  right_column = ab_matrix[:, -1]\n",
        "  print(f\"Столбец правой части:\\n{right_column}\")\n",
        "\n",
        "  transposed_l_matrix = np.transpose(left_matrix)\n",
        "  print(f\"Транспонированная матрица левой части:\\n{transposed_l_matrix}\")\n",
        "\n",
        "  extended_matrix = np.column_stack((transposed_l_matrix, right_column))\n",
        "  print(f\"Новая расширенная матрица:\\n{extended_matrix}\")\n",
        "\n",
        "  n, m = 3, 4\n",
        "  # Также можно написать (-1)**(i + j), но возведение в степень происходить дольше.\n",
        "  chess_order_matrix = np.array([[1 - 2 * ((i + j) % 2) for j in range(m)] for i in range(n)])\n",
        "  print(f\"Матрица {n} x {m} из чисел -1 и 1 в шахматном порядке:\\n{chess_order_matrix}\")\n",
        "\n",
        "if __name__ == \"__main__\":\n",
        "  main()"
      ],
      "metadata": {
        "id": "b_uq1uABNFTI",
        "colab": {
          "base_uri": "https://localhost:8080/"
        },
        "outputId": "9c6ded1b-35f3-46f5-e13b-935e40d0360b"
      },
      "execution_count": null,
      "outputs": [
        {
          "output_type": "stream",
          "name": "stdout",
          "text": [
            "Матрица левой части:\n",
            "[[-1  5 -3]\n",
            " [ 4 -1  5]\n",
            " [ 3  4  2]]\n",
            "Столбец правой части:\n",
            "[ 8 -1  7]\n",
            "Транспонированная матрица левой части:\n",
            "[[-1  4  3]\n",
            " [ 5 -1  4]\n",
            " [-3  5  2]]\n",
            "Новая расширенная матрица:\n",
            "[[-1  4  3  8]\n",
            " [ 5 -1  4 -1]\n",
            " [-3  5  2  7]]\n",
            "Матрица 3 x 4 из чисел -1 и 1 в шахматном порядке:\n",
            "[[ 1 -1  1 -1]\n",
            " [-1  1 -1  1]\n",
            " [ 1 -1  1 -1]]\n"
          ]
        }
      ]
    },
    {
      "cell_type": "markdown",
      "metadata": {
        "id": "PtPxOU3a0GGR"
      },
      "source": [
        "### Индивидуальное задание.\n",
        "Исследовать на совместность СЛАУ с параметром $a$ при заданных значениях параметра $a$ и найти решение, если оно единственно и провести проверку подстановкой.\n",
        " "
      ]
    },
    {
      "cell_type": "markdown",
      "source": [
        "N 50\n",
        "\\begin{align*}\n",
        " A = \\left[\\begin{matrix}9 & -1 & a & 4\\\\1 & -7 & -7 & 9\\\\8 & 2 & -1 & 6\\\\-10 & 4 & -9 & -2\\end{matrix}\\right],\n",
        "    \\qquad b = \\left[\\begin{matrix}43\\\\-125\\\\-9\\\\-77\\end{matrix}\\right], \\alpha = 4, \\alpha = 5. \n",
        " \\end{align*}"
      ],
      "metadata": {
        "id": "sbde3CDNMSy_"
      }
    },
    {
      "cell_type": "code",
      "source": [
        "def solve_matrix(a: int):\n",
        "  a_matrix = np.array((\n",
        "      (9, -1, a, 4),\n",
        "      (1, -7, -7, 9),\n",
        "      (8, 2, -1, 6),\n",
        "      (-10, 4, -9, -2)\n",
        "  ))\n",
        "  b_column = np.array([43, -125, -9, -77])\n",
        "  ab_matrix = np.column_stack((a_matrix, b_column))\n",
        "\n",
        "  print(f\"При a = {a}:\")\n",
        "  rk_a = linalg.matrix_rank(a_matrix)\n",
        "  rk_ab = linalg.matrix_rank(ab_matrix)\n",
        "  print(f\"Ранг rk(A) = {rk_a}.\\tРанг rk(Ab) = {rk_ab}\")\n",
        "  \n",
        "  if rk_a != rk_ab:\n",
        "    print(\"СЛАУ несовместна\\n\")\n",
        "    return\n",
        "  \n",
        "  if a_matrix.shape[1] != rk_a:\n",
        "    print(\"СЛАУ имеет более 1 решения\\n\")\n",
        "    return\n",
        "\n",
        "  print(\"СЛАУ имеет 1 решение:\")\n",
        "  print(linalg.solve(a_matrix, b_column))\n",
        "\n",
        "def main():\n",
        "  for a in (4, 5):\n",
        "    solve_matrix(a)\n",
        "\n",
        "if __name__ == \"__main__\":\n",
        "  main()"
      ],
      "metadata": {
        "id": "5R4UrvPjNGqf",
        "colab": {
          "base_uri": "https://localhost:8080/"
        },
        "outputId": "99e77fa8-d41f-4e0a-89e1-26d19e7f8fa6"
      },
      "execution_count": null,
      "outputs": [
        {
          "output_type": "stream",
          "name": "stdout",
          "text": [
            "При a = 4:\n",
            "Ранг rk(A) = 3.\tРанг rk(Ab) = 4\n",
            "СЛАУ несовместна\n",
            "\n",
            "При a = 5:\n",
            "Ранг rk(A) = 4.\tРанг rk(Ab) = 4\n",
            "СЛАУ имеет 1 решение:\n",
            "[ 2.  4.  9. -4.]\n"
          ]
        }
      ]
    }
  ]
}