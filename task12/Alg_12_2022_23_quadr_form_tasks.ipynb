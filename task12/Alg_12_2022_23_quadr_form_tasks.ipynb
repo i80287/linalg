{
  "cells": [
    {
      "cell_type": "code",
      "execution_count": null,
      "metadata": {
        "id": "nVsRFN7HPrjP"
      },
      "outputs": [],
      "source": [
        "import sympy\n",
        "from sympy import Eq, S, latex, plot_implicit, Matrix, symbols\n",
        "from sympy import simplify, expand, collect, solve, solveset\n",
        "from sympy import pi as Pi\n",
        "from sympy import cos as Cos\n",
        "from sympy import sin as Sin\n",
        "from IPython.display import Latex"
      ]
    },
    {
      "cell_type": "markdown",
      "metadata": {
        "id": "iy2K466yPrjR"
      },
      "source": [
        "# Практическое занятие 12\n",
        "# Компьютерный практикум по алгебре на Python\n",
        "### Задание 1.\n",
        "Составить матрицу квадратичной формы $7x^2+10\\sqrt{3}xy-3y^2−20z^2$, проверить, что она определяет именно заданное уравнение. Найти и вывести на экран собственные числа и собственные векторы матрицы квадратичной формы. "
      ]
    },
    {
      "cell_type": "code",
      "source": [],
      "metadata": {
        "id": "1CYanPco8FlA"
      },
      "execution_count": null,
      "outputs": []
    },
    {
      "cell_type": "markdown",
      "metadata": {
        "id": "9UM-8WNdPrjW"
      },
      "source": [
        "### Задание 2.\n",
        "Привести квадратичную форму Примера 1 к каноническому виду с помощью перехода к новому базису из собственных векторов."
      ]
    },
    {
      "cell_type": "code",
      "source": [],
      "metadata": {
        "id": "MyFWP3yP8Gmf"
      },
      "execution_count": null,
      "outputs": []
    },
    {
      "cell_type": "markdown",
      "metadata": {
        "id": "D7VmR2N5PrjY"
      },
      "source": [
        "### Задание 3.\n",
        "Определить тип кривой второго порядка, заданной уравнением\n",
        "$$\n",
        "97x^2 - 144xy + 97y^2 + 482x - 532y = 3452\n",
        "$$\n",
        "Построить в одной координатной плоскости график заданного уравнения и канонического уравнения соответствующей кривой, каноническое уравнение сделать названием графика. "
      ]
    },
    {
      "cell_type": "code",
      "source": [],
      "metadata": {
        "id": "3RLRUbT58HuG"
      },
      "execution_count": null,
      "outputs": []
    },
    {
      "cell_type": "markdown",
      "metadata": {
        "id": "goIfBxdUPrja"
      },
      "source": [
        "### Задание 4.\n",
        "Определить тип кривой второго порядка, заданной уравнением\n",
        "$$\n",
        "x^2+2xy+y^2-4x+4y=4\n",
        "$$\n",
        "Построить в одной координатной плоскости график заданного уравнения и канонического уравнения соответствующей кривой, каноническое уравнение сделать названием графика. \n",
        "\n",
        "Указание: каноническое уравнение параболы $y^2 = 2px$ или $x^2 = 2py$; для того, чтобы выразить $x$ или $y$ можно воспользоваться solve или solveset."
      ]
    },
    {
      "cell_type": "code",
      "source": [],
      "metadata": {
        "id": "K0D6Tn7b8JHn"
      },
      "execution_count": null,
      "outputs": []
    },
    {
      "cell_type": "markdown",
      "metadata": {
        "id": "WM4LDoZIPrjc"
      },
      "source": [
        "###  Индивидуальное задание\n",
        "Составить матрицу квадратичной формы и привести ее к каноническому виду с помощью перехода к новому базису из собственных векторов. Векторы выводить на экран не нужно. Вывести на экран матрицу в исходном виде и канонической форме, а также саму квадратичную форму в каноническом виде."
      ]
    },
    {
      "cell_type": "code",
      "source": [],
      "metadata": {
        "id": "cRLl3w7V8K1v"
      },
      "execution_count": null,
      "outputs": []
    }
  ],
  "metadata": {
    "kernelspec": {
      "display_name": "Python 3",
      "language": "python",
      "name": "python3"
    },
    "language_info": {
      "codemirror_mode": {
        "name": "ipython",
        "version": 3
      },
      "file_extension": ".py",
      "mimetype": "text/x-python",
      "name": "python",
      "nbconvert_exporter": "python",
      "pygments_lexer": "ipython3",
      "version": "3.7.3"
    },
    "colab": {
      "provenance": []
    }
  },
  "nbformat": 4,
  "nbformat_minor": 0
}