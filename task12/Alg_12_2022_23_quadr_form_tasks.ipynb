{
  "cells": [
    {
      "cell_type": "code",
      "execution_count": 1,
      "metadata": {
        "id": "nVsRFN7HPrjP"
      },
      "outputs": [],
      "source": [
        "from typing import Any, List, Tuple, LiteralString\n",
        "\n",
        "import sympy\n",
        "from sympy import Eq, latex, plot, plot_implicit, Matrix, simplify, expand, collect\n",
        "from sympy import pi as Pi\n",
        "from sympy import cos as Cos\n",
        "from sympy import sin as Sin\n",
        "from IPython.display import Latex"
      ]
    },
    {
      "cell_type": "markdown",
      "metadata": {
        "id": "iy2K466yPrjR"
      },
      "source": [
        "# Практическое занятие 12\n",
        "# Компьютерный практикум по алгебре на Python\n",
        "### Задание 1.\n",
        "Составить матрицу квадратичной формы $7x^2+10\\sqrt{3}xy-3y^2−20z^2$, проверить, что она определяет именно заданное уравнение. Найти и вывести на экран собственные числа и собственные векторы матрицы квадратичной формы. "
      ]
    },
    {
      "cell_type": "code",
      "execution_count": 2,
      "metadata": {
        "id": "1CYanPco8FlA"
      },
      "outputs": [
        {
          "data": {
            "text/latex": [
              "$\\text{Исходная квадратичная форма u:}$ $7 x^{2} + 10 \\sqrt{3} x y - 3 y^{2} - 20 z^{2}$"
            ],
            "text/plain": [
              "<IPython.core.display.Latex object>"
            ]
          },
          "metadata": {},
          "output_type": "display_data"
        },
        {
          "data": {
            "text/latex": [
              "$\\text{Квадратичная форма при помощи матрицы }$ $X^T A X: 7 x^{2} + 10 \\sqrt{3} x y - 3 y^{2} - 20 z^{2}$"
            ],
            "text/plain": [
              "<IPython.core.display.Latex object>"
            ]
          },
          "metadata": {},
          "output_type": "display_data"
        },
        {
          "data": {
            "text/latex": [
              "$X^T A X - u = 0$"
            ],
            "text/plain": [
              "<IPython.core.display.Latex object>"
            ]
          },
          "metadata": {},
          "output_type": "display_data"
        },
        {
          "data": {
            "text/latex": [
              "$\\text{Собственное число:}$ $7 x^{2} + 10 \\sqrt{3} x y - 3 y^{2} - 20 z^{2}$"
            ],
            "text/plain": [
              "<IPython.core.display.Latex object>"
            ]
          },
          "metadata": {},
          "output_type": "display_data"
        },
        {
          "data": {
            "text/latex": [
              "$\\text{Соответствующий собственный вектор:}$ $\\left[\\begin{matrix}1\\end{matrix}\\right]$"
            ],
            "text/plain": [
              "<IPython.core.display.Latex object>"
            ]
          },
          "metadata": {},
          "output_type": "display_data"
        }
      ],
      "source": [
        "from sympy.abc import x, y, z\n",
        "from typing import overload\n",
        "\n",
        "@overload\n",
        "def print_expr(text: str | None = None, expression: str | sympy.AtomicExpr | None = None, raw: bool = True) -> None:\n",
        "    ...\n",
        "\n",
        "def print_expr(*args, **kwargs) -> None:\n",
        "    text: str | None = kwargs.get(\"text\", None)\n",
        "    expression: Any | str | None = kwargs.get(\"expression\", None)\n",
        "\n",
        "    if text is None and args:\n",
        "        text = args[0]\n",
        "    \n",
        "    if expression is None:\n",
        "        if len(args) > 1:\n",
        "            expression = args[1]\n",
        "        else:\n",
        "            if text is not None:\n",
        "                display(Latex(\"$\\\\text{\" + text + \"}$\"))         \n",
        "            return\n",
        "\n",
        "    if kwargs.get(\"raw\", True):\n",
        "        expression = latex(expression)\n",
        "    \n",
        "    expression = '$' + expression + '$'\n",
        "    if text is not None:\n",
        "        expression = \"$\\\\text{\" + text + \"}$ \" + expression\n",
        "\n",
        "    display(Latex(expression))\n",
        "\n",
        "u = 7*x*x + 10*sympy.sqrt(3)*x*y - 3*y*y - 20*z*z\n",
        "A: Matrix = sympy.Matrix([\n",
        "    [7, 5*sympy.sqrt(3), 0],\n",
        "    [5*sympy.sqrt(3), -3, 0],\n",
        "    [0, 0, -20],\n",
        "])\n",
        "X: Matrix = Matrix([x, y, z])\n",
        "quad_form_matrix: Matrix = X.T * A * X\n",
        "quadr_form = sympy.expand(quad_form_matrix[0])\n",
        "\n",
        "print_expr(\"Исходная квадратичная форма u:\", u)\n",
        "print_expr(\"Квадратичная форма при помощи матрицы \", f\"X^T A X: {latex(quadr_form)}\", raw=False)\n",
        "print_expr(expression=f\"X^T A X - u = {latex(quadr_form - u)}\", raw=False)\n",
        "\n",
        "for lambd, mult, vects in quad_form_matrix.eigenvects():\n",
        "    print_expr(\"Собственное число:\", sympy.simplify(lambd))\n",
        "    print_expr(\"Соответствующий собственный вектор:\", vects[0])"
      ]
    },
    {
      "cell_type": "markdown",
      "metadata": {
        "id": "9UM-8WNdPrjW"
      },
      "source": [
        "### Задание 2.\n",
        "Привести квадратичную форму Примера 1 к каноническому виду с помощью перехода к новому базису из собственных векторов."
      ]
    },
    {
      "cell_type": "code",
      "execution_count": 3,
      "metadata": {
        "id": "MyFWP3yP8Gmf"
      },
      "outputs": [
        {
          "data": {
            "text/latex": [
              "$\\text{Матрица перехода:}$ $\\left[\\begin{matrix}0 & - \\frac{1}{2} & \\frac{\\sqrt{3}}{2}\\\\0 & \\frac{\\sqrt{3}}{2} & \\frac{1}{2}\\\\1 & 0 & 0\\end{matrix}\\right]$"
            ],
            "text/plain": [
              "<IPython.core.display.Latex object>"
            ]
          },
          "metadata": {},
          "output_type": "display_data"
        },
        {
          "data": {
            "text/latex": [
              "$\\text{Матрица квадратичной формы в каноническом виде:}$ $\\left[\\begin{matrix}-20 & 0 & 0\\\\0 & -8 & 0\\\\0 & 0 & 12\\end{matrix}\\right]$"
            ],
            "text/plain": [
              "<IPython.core.display.Latex object>"
            ]
          },
          "metadata": {},
          "output_type": "display_data"
        },
        {
          "data": {
            "text/latex": [
              "$\\text{Квадратичная форма в каноническом виде:}$ $20 x^{2} + 8 y^{2} - 12 z^{2} = 0$"
            ],
            "text/plain": [
              "<IPython.core.display.Latex object>"
            ]
          },
          "metadata": {},
          "output_type": "display_data"
        }
      ],
      "source": [
        "P: Matrix = Matrix([Matrix([vect.normalized() for vect in vects]).T for _, _, vects in A.eigenvects()]).T\n",
        "print_expr(\"Матрица перехода:\", P)\n",
        "\n",
        "A_new: Matrix = P**(-1) * A * P\n",
        "print_expr(\"Матрица квадратичной формы в каноническом виде:\", A_new)\n",
        "print_expr(\"Квадратичная форма в каноническом виде:\", simplify(Eq((X.T * A_new * X)[0], 0)))"
      ]
    },
    {
      "cell_type": "markdown",
      "metadata": {
        "id": "D7VmR2N5PrjY"
      },
      "source": [
        "### Задание 3.\n",
        "Определить тип кривой второго порядка, заданной уравнением\n",
        "$$\n",
        "97x^2 - 144xy + 97y^2 + 482x - 532y = 3452\n",
        "$$\n",
        "Построить в одной координатной плоскости график заданного уравнения и канонического уравнения соответствующей кривой, каноническое уравнение сделать названием графика. "
      ]
    },
    {
      "cell_type": "code",
      "execution_count": 4,
      "metadata": {
        "id": "3RLRUbT58HuG"
      },
      "outputs": [
        {
          "data": {
            "text/latex": [
              "$\\text{Матрица квадратичной формы:}$ $\\left[\\begin{matrix}97 & -72 & 241\\\\-72 & 97 & -266\\\\241 & -266 & -3452\\end{matrix}\\right]$"
            ],
            "text/plain": [
              "<IPython.core.display.Latex object>"
            ]
          },
          "metadata": {},
          "output_type": "display_data"
        },
        {
          "data": {
            "text/latex": [
              "$X^T A X = 97 x^{2} - 144 x y + 482 x + 97 y^{2} - 532 y - 3452 = 0$"
            ],
            "text/plain": [
              "<IPython.core.display.Latex object>"
            ]
          },
          "metadata": {},
          "output_type": "display_data"
        },
        {
          "data": {
            "text/latex": [
              "$\\text{Матрица поворота:}$ $\\left[\\begin{matrix}\\frac{\\sqrt{2}}{2} & - \\frac{\\sqrt{2}}{2} & 0\\\\\\frac{\\sqrt{2}}{2} & \\frac{\\sqrt{2}}{2} & 0\\\\0 & 0 & 1\\end{matrix}\\right]$"
            ],
            "text/plain": [
              "<IPython.core.display.Latex object>"
            ]
          },
          "metadata": {},
          "output_type": "display_data"
        },
        {
          "data": {
            "text/latex": [
              "$\\text{Уравнение кривой:}$ $25 X^{2} - 25 \\sqrt{2} X + 169 Y^{2} - 507 \\sqrt{2} Y - 3452 = 0$"
            ],
            "text/plain": [
              "<IPython.core.display.Latex object>"
            ]
          },
          "metadata": {},
          "output_type": "display_data"
        },
        {
          "data": {
            "text/latex": [
              "$\\text{Уравнение кривой после замены и преобразование:}$ $\\frac{x^{2}}{169} + \\frac{y^{2}}{25} = 1$"
            ],
            "text/plain": [
              "<IPython.core.display.Latex object>"
            ]
          },
          "metadata": {},
          "output_type": "display_data"
        },
        {
          "data": {
            "image/png": "[encoded data removed]",
            "text/plain": [
              "<Figure size 600x600 with 1 Axes>"
            ]
          },
          "metadata": {},
          "output_type": "display_data"
        }
      ],
      "source": [
        "from sympy.abc import x, y, X, Y\n",
        "\n",
        "A: Matrix = Matrix([\n",
        "    [97, -72, 241],\n",
        "    [-72, 97, -266],\n",
        "    [241, -266, -3452]\n",
        "])\n",
        "X_vars: Matrix = Matrix([x, y, 1])\n",
        "print_expr(\"Матрица квадратичной формы:\", A)\n",
        "eq = Eq(expand(X_vars.T * A * X_vars)[0], 0)\n",
        "print_expr(expression=f\"X^T A X = {latex(eq)}\", raw=False)\n",
        "\n",
        "alpha = sympy.acot((A[0, 0] - A[1, 1]) / (2 * A[0, 1])) / 2\n",
        "P: Matrix = simplify(Matrix([\n",
        "    [Cos(alpha), -Sin(alpha), 0],\n",
        "    [Sin(alpha), Cos(alpha), 0],\n",
        "    [0, 0, 1]\n",
        "]))\n",
        "print_expr(\"Матрица поворота:\", P)\n",
        "A_new: Matrix = simplify(P.T * A * P)\n",
        "X_vars = Matrix([X, Y, 1])\n",
        "eq1 = expand((X_vars.T * A_new * X_vars)[0])\n",
        "print_expr(\"Уравнение кривой:\", Eq(eq1, 0))\n",
        "\n",
        "X_vars_new: Matrix = Matrix((X - A_new[0, 2] / A_new[0, 0], Y - A_new[1, 2] / A_new[1, 1], 1))\n",
        "eq_new = simplify(expand((X_vars_new.T * A_new * X_vars_new)[0]))\n",
        "eq_new = eq_new / -eq_new.subs({X: 0, Y: 0}) + 1\n",
        "eq_new_xy = Eq(eq_new.subs({X: x, Y: y}), 1)\n",
        "print_expr(\"Уравнение кривой после замены и преобразование:\", eq_new_xy)\n",
        "\n",
        "x_label_align: LiteralString = \"\\t\\t\\t\\t\\t\\t\\t\\t\\t\\t\\t\\t\"\n",
        "y_label_align: LiteralString = \"\\t\\t\\t\\t\\t\\t\\t\\t\\t\\t\\t\\t\"\n",
        "p = plot_implicit(\n",
        "    eq,\n",
        "    (x, -15, 15),\n",
        "    (y, -10, 15),\n",
        "    line_color='r',\n",
        "    aspect_ratio=(1, 1),\n",
        "    adaptive=False,\n",
        "    show=False,\n",
        "    title='$' + latex(eq_new_xy) + '$',\n",
        "    xlabel=x_label_align + \"$x$\",\n",
        "    ylabel=y_label_align + \"$y$\",\n",
        "    size=(6, 6),\n",
        ")\n",
        "p.extend(plot_implicit(\n",
        "    eq_new_xy,\n",
        "    (x, -15, 15),\n",
        "    (y, -10, 15),\n",
        "    line_color='m',\n",
        "    aspect_ratio=(1, 1),\n",
        "    adaptive=False,\n",
        "    show=False\n",
        "))\n",
        "p.show()"
      ]
    },
    {
      "cell_type": "markdown",
      "metadata": {
        "id": "goIfBxdUPrja"
      },
      "source": [
        "### Задание 4.\n",
        "Определить тип кривой второго порядка, заданной уравнением\n",
        "$$\n",
        "x^2+2xy+y^2-4x+4y=4\n",
        "$$\n",
        "Построить в одной координатной плоскости график заданного уравнения и канонического уравнения соответствующей кривой, каноническое уравнение сделать названием графика. \n",
        "\n",
        "Указание: каноническое уравнение параболы $y^2 = 2px$ или $x^2 = 2py$; для того, чтобы выразить $x$ или $y$ можно воспользоваться solve или solveset."
      ]
    },
    {
      "cell_type": "code",
      "execution_count": 5,
      "metadata": {
        "id": "K0D6Tn7b8JHn"
      },
      "outputs": [
        {
          "data": {
            "text/latex": [
              "$\\text{Матрица квадратичной формы:}$ $\\left[\\begin{matrix}1 & 1 & -2\\\\1 & 1 & 2\\\\-2 & 2 & -4\\end{matrix}\\right]$"
            ],
            "text/plain": [
              "<IPython.core.display.Latex object>"
            ]
          },
          "metadata": {},
          "output_type": "display_data"
        },
        {
          "data": {
            "text/latex": [
              "$X^T A X = x^{2} + 2 x y - 4 x + y^{2} + 4 y - 4 = 0$"
            ],
            "text/plain": [
              "<IPython.core.display.Latex object>"
            ]
          },
          "metadata": {},
          "output_type": "display_data"
        },
        {
          "data": {
            "text/latex": [
              "$\\text{Матрица поворота:}$ $\\left[\\begin{matrix}\\frac{\\sqrt{2}}{2} & - \\frac{\\sqrt{2}}{2} & 0\\\\\\frac{\\sqrt{2}}{2} & \\frac{\\sqrt{2}}{2} & 0\\\\0 & 0 & 1\\end{matrix}\\right]$"
            ],
            "text/plain": [
              "<IPython.core.display.Latex object>"
            ]
          },
          "metadata": {},
          "output_type": "display_data"
        },
        {
          "data": {
            "text/latex": [
              "$\\text{Новая матрица квадратичной формы:}$ $\\left[\\begin{matrix}2 & 0 & 0\\\\0 & 0 & 2 \\sqrt{2}\\\\0 & 2 \\sqrt{2} & -4\\end{matrix}\\right]$"
            ],
            "text/plain": [
              "<IPython.core.display.Latex object>"
            ]
          },
          "metadata": {},
          "output_type": "display_data"
        },
        {
          "data": {
            "text/latex": [
              "$\\text{Уравнение кривой:}$ $25 X^{2} - 25 \\sqrt{2} X + 169 Y^{2} - 507 \\sqrt{2} Y - 3452 = 0$"
            ],
            "text/plain": [
              "<IPython.core.display.Latex object>"
            ]
          },
          "metadata": {},
          "output_type": "display_data"
        },
        {
          "data": {
            "text/latex": [
              "$\\text{Уравнение кривой после преобразований:}$ $x^{2} = - 2 \\sqrt{2} y$"
            ],
            "text/plain": [
              "<IPython.core.display.Latex object>"
            ]
          },
          "metadata": {},
          "output_type": "display_data"
        },
        {
          "data": {
            "image/png": "[encoded data removed]",
            "text/plain": [
              "<Figure size 600x600 with 1 Axes>"
            ]
          },
          "metadata": {},
          "output_type": "display_data"
        }
      ],
      "source": [
        "from sympy.abc import x, y, X, Y\n",
        "\n",
        "A: Matrix = Matrix([\n",
        "    [1, 1, -2],\n",
        "    [1, 1, 2],\n",
        "    [-2, 2, -4]\n",
        "])\n",
        "X_vars: Matrix = Matrix([x, y, 1])\n",
        "print_expr(\"Матрица квадратичной формы:\", A)\n",
        "eq = Eq(expand(X_vars.T * A * X_vars)[0], 0)\n",
        "print_expr(expression=f\"X^T A X = {latex(eq)}\", raw=False)\n",
        "\n",
        "alpha = sympy.acot((A[0, 0] - A[1, 1]) / (2 * A[0, 1])) / 2\n",
        "P: Matrix = Matrix([\n",
        "    [Cos(alpha), -Sin(alpha), 0],\n",
        "    [Sin(alpha), Cos(alpha), 0],\n",
        "    [0, 0, 1]\n",
        "])\n",
        "print_expr(\"Матрица поворота:\", P)\n",
        "\n",
        "A_new: Matrix = simplify(P.T * A * P)\n",
        "print_expr(\"Новая матрица квадратичной формы:\", A_new)\n",
        "\n",
        "X_vars = Matrix([X, Y, 1])\n",
        "eq_new = expand((X_vars.T * A_new * X_vars)[0])\n",
        "print_expr(\"Уравнение кривой:\", Eq(eq1, 0))\n",
        "\n",
        "X_vars_new: Matrix = Matrix([X, Y - A_new[1, 2] / A_new[2, 2], 1])\n",
        "eq_new = simplify((X_vars_new.T * A_new * X_vars_new)[0] / 2)\n",
        "eq_new_xy = Eq(x*x, sympy.solve(eq_new, X*X)[0].subs({Y: y}))\n",
        "print_expr(\"Уравнение кривой после преобразований:\", eq_new_xy)\n",
        "\n",
        "x_label_align: LiteralString = \"\\t\\t\\t\\t\\t\\t\\t\\t\\t\\t\\t\\t\\t\\t\"\n",
        "y_label_align: LiteralString = \"\\t\\t\\t\\t\\t\\t\\t\\t\\t\\t\\t\\t\"\n",
        "p = plot_implicit(\n",
        "    eq,\n",
        "    (x, -7, 15),\n",
        "    (y, -15, 3),\n",
        "    line_color='r',\n",
        "    aspect_ratio=(1, 1),\n",
        "    adaptive=False,\n",
        "    show=False,\n",
        "    title='$' + latex(eq_new_xy) + '$',\n",
        "    xlabel=x_label_align + \"$x$\",\n",
        "    ylabel=y_label_align + \"$y$\",\n",
        "    size=(6, 6),\n",
        ")\n",
        "p.extend(plot_implicit(\n",
        "    eq_new_xy,\n",
        "    (x, -7, 15),\n",
        "    (y, -15, 3),\n",
        "    line_color='m',\n",
        "    aspect_ratio=(1, 1),\n",
        "    adaptive=False,\n",
        "    show=False\n",
        "))\n",
        "p.show()"
      ]
    },
    {
      "cell_type": "markdown",
      "metadata": {
        "id": "WM4LDoZIPrjc"
      },
      "source": [
        "###  Индивидуальное задание\n",
        "Составить матрицу квадратичной формы и привести ее к каноническому виду с помощью перехода к новому базису из собственных векторов. Векторы выводить на экран не нужно. Вывести на экран матрицу в исходном виде и канонической форме, а также саму квадратичную форму в каноническом виде."
      ]
    },
    {
      "cell_type": "code",
      "execution_count": 6,
      "metadata": {
        "id": "cRLl3w7V8K1v"
      },
      "outputs": [
        {
          "data": {
            "text/latex": [
              "$\\text{Матрица квадратичной формы:}$ $\\left[\\begin{matrix}2791 & 54 \\sqrt{11} & 209 \\sqrt{3}\\\\54 \\sqrt{11} & -1364 & - 54 \\sqrt{33}\\\\209 \\sqrt{3} & - 54 \\sqrt{33} & 2373\\end{matrix}\\right]$"
            ],
            "text/plain": [
              "<IPython.core.display.Latex object>"
            ]
          },
          "metadata": {},
          "output_type": "display_data"
        },
        {
          "data": {
            "text/latex": [
              "$\\text{Квадратичная форма при помощи матрицы }$ $X^T A X: 2791 x^{2} + 108 \\sqrt{11} x y + 418 \\sqrt{3} x z - 1364 y^{2} - 108 \\sqrt{33} y z + 2373 z^{2}$"
            ],
            "text/plain": [
              "<IPython.core.display.Latex object>"
            ]
          },
          "metadata": {},
          "output_type": "display_data"
        },
        {
          "data": {
            "text/latex": [
              "$X^T A X - Q = 0$"
            ],
            "text/plain": [
              "<IPython.core.display.Latex object>"
            ]
          },
          "metadata": {},
          "output_type": "display_data"
        },
        {
          "data": {
            "text/latex": [
              "$\\text{Матрица перехода:}$ $\\left[\\begin{matrix}- \\frac{1}{20} & - \\frac{3 \\sqrt{11}}{20} & \\frac{\\sqrt{3}}{2}\\\\\\frac{3 \\sqrt{11}}{10} & - \\frac{1}{10} & 0\\\\\\frac{\\sqrt{3}}{20} & \\frac{3 \\sqrt{33}}{20} & \\frac{1}{2}\\end{matrix}\\right]$"
            ],
            "text/plain": [
              "<IPython.core.display.Latex object>"
            ]
          },
          "metadata": {},
          "output_type": "display_data"
        },
        {
          "data": {
            "text/latex": [
              "$\\text{Матрица квадратичной формы в каноническом виде:}$ $\\left[\\begin{matrix}-1400 & 0 & 0\\\\0 & 2200 & 0\\\\0 & 0 & 3000\\end{matrix}\\right]$"
            ],
            "text/plain": [
              "<IPython.core.display.Latex object>"
            ]
          },
          "metadata": {},
          "output_type": "display_data"
        },
        {
          "data": {
            "text/latex": [
              "$\\text{Квадратичная форма в каноническом виде:}$ $- 1400 x^{2} + 2200 y^{2} + 3000 z^{2} = 0$"
            ],
            "text/plain": [
              "<IPython.core.display.Latex object>"
            ]
          },
          "metadata": {},
          "output_type": "display_data"
        }
      ],
      "source": [
        "from sympy.abc import x, y\n",
        "from sympy import sqrt\n",
        "\n",
        "Q = 2791*x*x + 108*sqrt(11)*x*y + 418*sqrt(3)*x*z - 1364*y*y - 108*sqrt(33)*y*z + 2373*z*z\n",
        "A: Matrix = sympy.Matrix([\n",
        "    [2791, 54*sqrt(11), 209*sqrt(3)],\n",
        "    [54*sqrt(11), -1364, -54*sqrt(33)],\n",
        "    [209*sqrt(3), -54*sqrt(33), 2373],\n",
        "])\n",
        "\n",
        "print_expr(\"Матрица квадратичной формы:\", A)\n",
        "\n",
        "X: Matrix = Matrix([x, y, z])\n",
        "quad_form_matrix: Matrix = X.T * A * X\n",
        "quadr_form = sympy.expand(quad_form_matrix[0])\n",
        "\n",
        "print_expr(\"Квадратичная форма при помощи матрицы \", f\"X^T A X: {latex(quadr_form)}\", raw=False)\n",
        "print_expr(expression=f\"X^T A X - Q = {latex(quadr_form - Q)}\", raw=False)\n",
        "\n",
        "P: Matrix = Matrix([Matrix([vect.normalized() for vect in vects]).T for _, _, vects in A.eigenvects()]).T\n",
        "print_expr(\"Матрица перехода:\", P)\n",
        "A_new: Matrix = P**(-1) * A * P\n",
        "print_expr(\"Матрица квадратичной формы в каноническом виде:\", A_new)\n",
        "print_expr(\"Квадратичная форма в каноническом виде:\", simplify(Eq((X.T * A_new * X)[0], 0)))"
      ]
    }
  ],
  "metadata": {
    "colab": {
      "provenance": []
    },
    "kernelspec": {
      "display_name": ".venv",
      "language": "python",
      "name": "python3"
    },
    "language_info": {
      "codemirror_mode": {
        "name": "ipython",
        "version": 3
      },
      "file_extension": ".py",
      "mimetype": "text/x-python",
      "name": "python",
      "nbconvert_exporter": "python",
      "pygments_lexer": "ipython3",
      "version": "3.11.0"
    },
    "vscode": {
      "interpreter": {
        "hash": "15070b5f4c01a16be65f6048f4eea768aba9ae68ce711f49339836ef743d1529"
      }
    }
  },
  "nbformat": 4,
  "nbformat_minor": 0
}
