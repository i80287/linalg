{
  "cells": [
    {
      "cell_type": "code",
      "execution_count": 1,
      "metadata": {
        "id": "DmiM6WiGI5ZJ"
      },
      "outputs": [],
      "source": [
        "import sympy\n",
        "from sympy import Eq, latex, plot_implicit, Matrix, simplify, expand, collect\n",
        "from sympy import pi as Pi\n",
        "from sympy import cos as Cos\n",
        "from sympy import sin as Sin\n",
        "from IPython.display import Latex"
      ]
    },
    {
      "cell_type": "markdown",
      "metadata": {
        "id": "9mGphMSHI5ZP"
      },
      "source": [
        "# Практическое занятие 12\n",
        "# Компьютерный практикум по алгебре на Python\n",
        "## Квадратичные формы\n",
        "Квадратичной формой нескольких переменных $x_1,x_2,...,x_n$ называют однородный многочлен второй степени\n",
        "$$\n",
        "\\sum_{i,j=1}^na_{ij}x_ix_j=\\sum_{i=1}^na_{ii}x_i^2+2\\sum_{i=1}^n\\sum_{j=i+1}^na_{ij}x_ix_j. \n",
        "$$\n",
        "В частности, квадратичные формы двух и трех переменных можно записать в виде:\n",
        "$$\n",
        "a_{11}x^2+2a_{12}xy+a_{22}y^2,\\qquad a_{11}x^2+a_{22}y^2+a_{33}z^2+2a_{12}xy+2a_{13}xz+2a_{23}yz.\n",
        "$$\n",
        "\n",
        "Удобнее записывать квадратичные формы в матричном виде:\n",
        "$$\n",
        "X^TAX,\\quad X=\\left(\\begin{matrix}x\\\\y\\end{matrix}\\right),\\quad A=\\left(\\begin{matrix}a_{11}&a_{12}\\\\a_{12}&a_{22}\\end{matrix}\\right).\n",
        "$$\n",
        "\n",
        "**Особенности матрицы квадратичной формы**\n",
        "\n",
        "Матрица квадратичной формы всегда ***симметрична***. Внедиагональные элементы матрицы квадратичной формы равны половине коэффициента произведения переменных $x_ix_j$, $i\\neq j$.\n",
        "\n",
        "При переходе к новому базису матрица квадратичной формы изменяется по формуле\n",
        "$$\n",
        "A'=P^{T}AP,\n",
        "$$\n",
        "где $P$ ортогональная матрица.\n",
        "\n",
        "В **ортонормированном** базисе из ОРТОГОНАЛИЗИРОВАННЫХ и НОРМИРОВАННЫХ собственных векторов, соответствующих матрице $A$, матрица квадратичной формы имеет диагональный вид,\n",
        "на диагонали собственные значения.\n",
        "\n",
        "Уточнение: если есть кратные собственные числа, то соответствующие такому собственному числу собственные векторы могут не быть ортогональны, в этом случае для построения ортогональной матрицы перехода нужно проводить ортогонализацию. \n",
        "\n",
        "Такой вид квадратичной формы, в котором матрица диагональная, называется каноническим видом квадратичной формы. Приведение квадратичной формы к каноническому виду позволяет определить тип кривой или поверхности второго порядка. Канонический вид определен неоднозначно, т.е. у одной и той же квадратичной формы может быть несколько канонических видов, но выполняется \n",
        "\n",
        "**Закон инерции квадратичной формы**\n",
        "\n",
        "Число слагаемых с положительными (отрицательными) каноническими коэффициентами в каноническом виде квадратичной формы не зависит от способа приведения квадратичной формы к каноническому виду.\n",
        "\n",
        "### Пример 1.\n",
        "\n",
        "Построить матрицу квадратичной формы $u=-x^2-y^2-z^2+2xy+4xz$ и привести ее к каноническому виду. Вначале построим матрицу: \n",
        "$$\n",
        "A\\left(\\begin{matrix}-1&1&2\\\\1&-1&0\\\\2&0&-1\\end{matrix}\\right).\n",
        "$$\n",
        "Проверим, что эта матрица задает нашу квадратичную форму, для этого вычислим\n",
        "$$\n",
        "X^TAX-u,\\quad X=\\left(\\begin{matrix}x\\\\y\\\\z\\end{matrix}\\right). \n",
        "$$"
      ]
    },
    {
      "cell_type": "code",
      "execution_count": 2,
      "metadata": {
        "colab": {
          "base_uri": "https://localhost:8080/",
          "height": 78
        },
        "id": "H6UbNx1QI5ZV",
        "outputId": "1fd931ae-5474-4afb-a086-70d1dc9f9ce8"
      },
      "outputs": [
        {
          "output_type": "display_data",
          "data": {
            "text/plain": [
              "<IPython.core.display.Latex object>"
            ],
            "text/latex": "X = \\left[\\begin{matrix}x\\\\y\\\\z\\end{matrix}\\right],\\ X^T  A  X = - x^{2} + 2 x y + 4 x z - y^{2} - z^{2},\\ X^T  A  X - u = 0"
          },
          "metadata": {}
        }
      ],
      "source": [
        "from sympy.abc import x, y, z\n",
        "u = -x ** 2 - y ** 2 - z ** 2 + 2 * x * y + 4 * x * z\n",
        "A = Matrix([[-1, 1, 2], [1, -1, 0], [2, 0, -1]])\n",
        "X = Matrix([x, y, z])\n",
        "res = X.T * A * X\n",
        "quadr_form = simplify(expand(res[0]))\n",
        "display(Latex(f'X = {latex(X)},\\ X^T  A  X = {latex(quadr_form)},\\ \\\n",
        "X^T  A  X - u = {latex(quadr_form - u)}'))"
      ]
    },
    {
      "cell_type": "markdown",
      "metadata": {
        "id": "5TUcUBMrI5ZX"
      },
      "source": [
        "Обратим внимание, что при умножении матриц $X^TAX$ получается не число, а матрица, состоящая из одного элемента!\n",
        "\n",
        "Найдем собственные векторы матрицы $A$, нормируем их и составим из них матрицу перехода $P$:"
      ]
    },
    {
      "cell_type": "code",
      "source": [
        "ev = A.eigenvects()\n",
        "P = Matrix([Matrix([vect.normalized() for vect in vects]).T for num, multipl, vects in ev]).T\n",
        "display(Latex(f'P = {latex(P)}'))"
      ],
      "metadata": {
        "colab": {
          "base_uri": "https://localhost:8080/",
          "height": 88
        },
        "id": "Qvje47DXsz4Y",
        "outputId": "0bf63e32-d054-437b-dbfb-40a90c1e44f9"
      },
      "execution_count": 3,
      "outputs": [
        {
          "output_type": "display_data",
          "data": {
            "text/plain": [
              "<IPython.core.display.Latex object>"
            ],
            "text/latex": "P = \\left[\\begin{matrix}0 & \\frac{\\sqrt{2}}{2} & - \\frac{\\sqrt{2}}{2}\\\\- \\frac{2 \\sqrt{5}}{5} & \\frac{\\sqrt{10}}{10} & \\frac{\\sqrt{10}}{10}\\\\\\frac{\\sqrt{5}}{5} & \\frac{\\sqrt{10}}{5} & \\frac{\\sqrt{10}}{5}\\end{matrix}\\right]"
          },
          "metadata": {}
        }
      ]
    },
    {
      "cell_type": "markdown",
      "metadata": {
        "id": "dsUQl_8FI5ZZ"
      },
      "source": [
        "Найдем матрицу квадратичной формы в новом базисе:"
      ]
    },
    {
      "cell_type": "code",
      "execution_count": 4,
      "metadata": {
        "colab": {
          "base_uri": "https://localhost:8080/",
          "height": 80
        },
        "id": "0F98PwTgI5Zb",
        "outputId": "30ae399f-881c-4694-d4a6-43fb931945ea"
      },
      "outputs": [
        {
          "output_type": "display_data",
          "data": {
            "text/plain": [
              "Matrix([\n",
              "[-1,            0,            0],\n",
              "[ 0, -1 + sqrt(5),            0],\n",
              "[ 0,            0, -sqrt(5) - 1]])"
            ],
            "text/latex": "$\\displaystyle \\left[\\begin{matrix}-1 & 0 & 0\\\\0 & -1 + \\sqrt{5} & 0\\\\0 & 0 & - \\sqrt{5} - 1\\end{matrix}\\right]$"
          },
          "metadata": {}
        }
      ],
      "source": [
        "A_new = P.T * A * P\n",
        "display(simplify(A_new))"
      ]
    },
    {
      "cell_type": "code",
      "source": [
        "display(Latex(f'Собственные\\ числа\\ {latex([num for num, mult, vects in ev])}'))"
      ],
      "metadata": {
        "colab": {
          "base_uri": "https://localhost:8080/",
          "height": 38
        },
        "id": "-hNd-4u7vn2K",
        "outputId": "47c58b66-f417-49db-b8df-6146e6e17eaa"
      },
      "execution_count": 5,
      "outputs": [
        {
          "output_type": "display_data",
          "data": {
            "text/plain": [
              "<IPython.core.display.Latex object>"
            ],
            "text/latex": "Собственные\\ числа\\ \\left[ -1, \\  -1 + \\sqrt{5}, \\  - \\sqrt{5} - 1\\right]"
          },
          "metadata": {}
        }
      ]
    },
    {
      "cell_type": "markdown",
      "source": [
        "Если матрица перехода не ортогональная, то формула для матрицы квадратичной формы в новом базисе $P^{-1}AP$."
      ],
      "metadata": {
        "id": "HYxW79Nmy3P9"
      }
    },
    {
      "cell_type": "code",
      "source": [
        "P1 = Matrix([Matrix(vects).T for num, multipl, vects in ev]).T\n",
        "A_new1 = P1 ** -1 * A * P1\n",
        "display(Latex(f'P_1 = {latex(P1)},\\ A_{{new}} = {latex(simplify(A_new1))}'))"
      ],
      "metadata": {
        "colab": {
          "base_uri": "https://localhost:8080/",
          "height": 81
        },
        "id": "w_jbr_4UwJ63",
        "outputId": "2d45fca3-3160-40d8-a233-8a5e99f1df09"
      },
      "execution_count": 6,
      "outputs": [
        {
          "output_type": "display_data",
          "data": {
            "text/plain": [
              "<IPython.core.display.Latex object>"
            ],
            "text/latex": "P_1 = \\left[\\begin{matrix}0 & \\frac{\\sqrt{5}}{2} & - \\frac{\\sqrt{5}}{2}\\\\-2 & \\frac{1}{2} & \\frac{1}{2}\\\\1 & 1 & 1\\end{matrix}\\right],\\ A_{new} = \\left[\\begin{matrix}-1 & 0 & 0\\\\0 & -1 + \\sqrt{5} & 0\\\\0 & 0 & - \\sqrt{5} - 1\\end{matrix}\\right]"
          },
          "metadata": {}
        }
      ]
    },
    {
      "cell_type": "markdown",
      "metadata": {
        "id": "fwbF-ChzI5Zc"
      },
      "source": [
        "Получим квадратичную форму в виде многочлена:"
      ]
    },
    {
      "cell_type": "code",
      "execution_count": 7,
      "metadata": {
        "colab": {
          "base_uri": "https://localhost:8080/",
          "height": 39
        },
        "id": "WNo6qKTxI5Zf",
        "outputId": "59bc2396-4897-424a-c93a-ee83594f3971"
      },
      "outputs": [
        {
          "output_type": "display_data",
          "data": {
            "text/plain": [
              "-x**2 - y**2 + sqrt(5)*y**2 - sqrt(5)*z**2 - z**2"
            ],
            "text/latex": "$\\displaystyle - x^{2} - y^{2} + \\sqrt{5} y^{2} - \\sqrt{5} z^{2} - z^{2}$"
          },
          "metadata": {}
        }
      ],
      "source": [
        "res = simplify(expand(X.T * A_new * X))[0]\n",
        "display(res)"
      ]
    },
    {
      "cell_type": "markdown",
      "metadata": {
        "id": "jtEWyvC1I5Zg"
      },
      "source": [
        "Сгруппируем слагаемые с помощью collect:"
      ]
    },
    {
      "cell_type": "code",
      "execution_count": 8,
      "metadata": {
        "colab": {
          "base_uri": "https://localhost:8080/",
          "height": 47
        },
        "id": "qjwbyXIHI5Zh",
        "outputId": "a1c727a9-b2d8-4ed9-fa84-3188c49f91df"
      },
      "outputs": [
        {
          "output_type": "execute_result",
          "data": {
            "text/plain": [
              "-x**2 + y**2*(-1 + sqrt(5)) + z**2*(-sqrt(5) - 1)"
            ],
            "text/latex": "$\\displaystyle - x^{2} + y^{2} \\left(-1 + \\sqrt{5}\\right) + z^{2} \\left(- \\sqrt{5} - 1\\right)$"
          },
          "metadata": {},
          "execution_count": 8
        }
      ],
      "source": [
        "collect(res, [x, y, z])"
      ]
    },
    {
      "cell_type": "markdown",
      "metadata": {
        "id": "pKKAqtUEI5Zi"
      },
      "source": [
        "Каноническая форма содержит квадраты переменных $x$ и $z$ с отрицательными коэффициентами, а квадрат $y$ - с положительным."
      ]
    },
    {
      "cell_type": "markdown",
      "metadata": {
        "id": "rdcQysuKI5Zj"
      },
      "source": [
        "### Пример 2.\n",
        "\n",
        "Привести матрицу квадратичной формы $u=-x^2-y^2-z^2+2xy+4xz$ из Примера 1 к каноническому виду методом выделения полных квадратов. Проверить выполнение Закона инерции.\n",
        "\n",
        "**План выделения полных квадратов:**\n",
        "\n",
        "заметим, что $y$ входит только в одно произведение разных переменных, а именно, в $2xy$, поэтому будем выделять полный квадрат так, чтобы в него вошли все слагаемые с $y$, т.е. $2xy$ и $-y^2$. До полного квадрата эти слагаемые дополняются с помощью $-x^2$, получим $-(x-y)^2$ (или $-(y-x)^2$). Делаем замену переменных $Y=y-x$, что эквивалентно $y=Y+x$:"
      ]
    },
    {
      "cell_type": "code",
      "execution_count": 9,
      "metadata": {
        "colab": {
          "base_uri": "https://localhost:8080/",
          "height": 38
        },
        "id": "Ds7FlR3KI5Zj",
        "outputId": "ec553b56-bdbf-4674-877a-269eb2af4802"
      },
      "outputs": [
        {
          "output_type": "display_data",
          "data": {
            "text/plain": [
              "<IPython.core.display.Latex object>"
            ],
            "text/latex": "u = - x^{2} + 2 x y + 4 x z - y^{2} - z^{2}, u_1 = - Y^{2} + 4 x z - z^{2}"
          },
          "metadata": {}
        }
      ],
      "source": [
        "from sympy.abc import Y, Z\n",
        "u1 = simplify(expand(u.subs(y, Y + x)))\n",
        "display(Latex(f'u = {latex(u)}, u_1 = {latex(u1)}'))"
      ]
    },
    {
      "cell_type": "markdown",
      "metadata": {
        "id": "aD55JR-4I5Zk"
      },
      "source": [
        "Видим, что $z$ входит только в одно произведение разных переменных, а именно, в $4xz$, поэтому будем выделять полный квадрат так, чтобы в него вошли все слагаемые с $z$, т.е. $4xz$ и $-z^2$. До полного квадрата эти слагаемые дополняются с помощью $-4x^2$, получим $-(2x-z)^2$ (или $-(z-2x)^2$). Делаем замену переменных $Z=z-2x$, что эквивалентно $z=Z+2x$:"
      ]
    },
    {
      "cell_type": "code",
      "execution_count": 10,
      "metadata": {
        "colab": {
          "base_uri": "https://localhost:8080/",
          "height": 38
        },
        "id": "h-vaSsO-I5Zl",
        "outputId": "52901a2b-58bc-467f-fd9b-6b0105ff7e96"
      },
      "outputs": [
        {
          "output_type": "display_data",
          "data": {
            "text/plain": [
              "<IPython.core.display.Latex object>"
            ],
            "text/latex": "u_2 = - Y^{2} - Z^{2} + 4 x^{2}"
          },
          "metadata": {}
        }
      ],
      "source": [
        "u2 = simplify(expand(u1.subs(z, Z + 2 * x)))\n",
        "display(Latex(f'u_2 = {latex(u2)}'))"
      ]
    },
    {
      "cell_type": "markdown",
      "metadata": {
        "id": "wkugKglgI5Zm"
      },
      "source": [
        "Как и в примере 1, в каноническом виде два отрицательных квадрата и один положительный, Закон инерции выполняется.\n",
        "\n",
        "## Классификация кривых второго порядка\n",
        "\n",
        "Все кривые второго порядка на плоскости описываются уравнением вида\n",
        "$$\n",
        "a_{11}x^2+2a_{12}xy+a_{22}y^2+2a_1x+2a_2y+a_0=0\\qquad(1)\n",
        "$$\n",
        "\n",
        "Невырожденные кривые второго порядка - эллипс, гипербола и парабола.\n",
        "\n",
        "Для классификации кривых нужно привести уравнение (1) к каноническому виду.\n",
        "\n",
        "Пусть $a_{12}\\neq0$.\n",
        "\n",
        "Вначале приведем к каноническому виду квадратичную форму из уравнения (1), в качестве матрицы перехода к новому базису можно использовать матрицу поворота на угол $\\alpha$:\n",
        "$$\n",
        "\\left(\\begin{matrix}\\cos\\alpha&-\\sin\\alpha\\\\ \\sin\\alpha&\\cos\\alpha\\end{matrix}\\right)\n",
        "$$\n",
        "угол $\\alpha$ находится из условия \n",
        "$$\n",
        "{\\rm ctg}(2\\alpha)=\\frac{a_{11}-a_{22}}{2a_{12}}\n",
        "$$\n",
        "\n",
        "В результате получаем уравнение вида (1), но с нулевым коэффициентом при $xy$.\n",
        "\n",
        "Рассмотрим разные случаи:\n",
        "\n",
        "1) если $a_{11}\\neq0$, $a_{22}\\neq0$, то от слагаемых $a_1x$ и $a_2y$ можно избавиться переносом начала координат, соответствующая замена переменных \n",
        "$$\n",
        "x=x'-\\frac{a_1}{a_{11}},\\quad y=y'-\\frac{a_2}{a_{22}}\\qquad(2)\n",
        "$$\n",
        "\n",
        "После такой замены уравнение кривой примет вид\n",
        "$$\n",
        "a_{11}x^2+a_{22}y^2+a_0=0\\qquad(3)\n",
        "$$\n",
        "\n",
        "Если $a_{11}a_{22}>0$, причем $a_{11} a_0<0$, то кривая - эллипс или окружность.\n",
        "\n",
        "Если $a_{11}a_{22}<0$, причем $a_0\\neq 0$, то кривая - гипербола.\n",
        "\n",
        "Остальные варианты случая 1)  вырожденные  (прямые, точки, пустое множество).\n",
        "\n",
        "2) если $a_{11}\\neq0$, $a_{22}=0$ ($a_{11}=0$, $a_{22}\\neq0$), тогда в уравнении (1) с нулевым коэффициентом при $xy$ можно избавиться от $a_1x$ ($a_2y$) переносом начала координат.\n",
        "\n",
        "После переноса получаем каноническое уравнение параболы или вырожденный случай.\n",
        "### Пример 3.\n",
        "Определить тип кривой второго порядка, заданной уравнением\n",
        "$$\n",
        "x^2-2xy-y^2+4x-2=0\n",
        "$$\n",
        "Составляем матрицу  $A3$ из коэффициентов уравнения, коэффициенты при $xy$, $x$ и $y$ делим на 2 и располагаем в симметричных относительно главной диагонила позициях. Вектор переменных состоит из трех координат, последняя координата 1, она нужна для слагаемых первого и нулевого порядков:"
      ]
    },
    {
      "cell_type": "code",
      "execution_count": 11,
      "metadata": {
        "colab": {
          "base_uri": "https://localhost:8080/",
          "height": 78
        },
        "id": "hs366pDVI5Zn",
        "outputId": "09066a95-7a48-453d-9638-c97c788ee543"
      },
      "outputs": [
        {
          "output_type": "display_data",
          "data": {
            "text/plain": [
              "<IPython.core.display.Latex object>"
            ],
            "text/latex": "A_3 = \\left[\\begin{matrix}1 & -1 & 2\\\\-1 & -1 & 0\\\\2 & 0 & -2\\end{matrix}\\right], X_3 = \\left[\\begin{matrix}x\\\\y\\\\1\\end{matrix}\\right]"
          },
          "metadata": {}
        }
      ],
      "source": [
        "A3 = Matrix([[1, -1, 2], [-1, -1, 0], [2, 0, -2]])\n",
        "X3 = Matrix([x, y, 1])\n",
        "display(Latex(f'A_3 = {latex(A3)}, X_3 = {latex(X3)}'))"
      ]
    },
    {
      "cell_type": "markdown",
      "metadata": {
        "id": "3C_NqBBJI5Zn"
      },
      "source": [
        "Убедимся, что эта матрица действительно определяет наше уравнение:"
      ]
    },
    {
      "cell_type": "code",
      "execution_count": 12,
      "metadata": {
        "colab": {
          "base_uri": "https://localhost:8080/",
          "height": 38
        },
        "id": "ONCuHg34I5Zo",
        "outputId": "9ca331f4-3092-4d7f-f799-9200bdb463ed"
      },
      "outputs": [
        {
          "output_type": "display_data",
          "data": {
            "text/plain": [
              "Eq(x**2 - 2*x*y + 4*x - y**2 - 2, 0)"
            ],
            "text/latex": "$\\displaystyle x^{2} - 2 x y + 4 x - y^{2} - 2 = 0$"
          },
          "metadata": {}
        }
      ],
      "source": [
        "eq3 = Eq(simplify(expand(X3.T * A3 * X3))[0], 0)\n",
        "display(eq3)"
      ]
    },
    {
      "cell_type": "markdown",
      "metadata": {
        "id": "TXbTYhxfI5Zo"
      },
      "source": [
        "Теперь составим матрицу поворота, матрица третьего порядка, правый нижний элемент равен 1, это матрица поворота в трехмерном пространстве в плоскости XY. "
      ]
    },
    {
      "cell_type": "code",
      "execution_count": 13,
      "metadata": {
        "colab": {
          "base_uri": "https://localhost:8080/",
          "height": 95
        },
        "id": "mG8VLoxDI5Zp",
        "outputId": "8da0e631-82f8-442c-9bd8-6c8c646dcf9b"
      },
      "outputs": [
        {
          "output_type": "display_data",
          "data": {
            "text/plain": [
              "Matrix([\n",
              "[ sqrt(sqrt(2) + 2)/2, sqrt(2 - sqrt(2))/2, 0],\n",
              "[-sqrt(2 - sqrt(2))/2, sqrt(sqrt(2) + 2)/2, 0],\n",
              "[                   0,                   0, 1]])"
            ],
            "text/latex": "$\\displaystyle \\left[\\begin{matrix}\\frac{\\sqrt{\\sqrt{2} + 2}}{2} & \\frac{\\sqrt{2 - \\sqrt{2}}}{2} & 0\\\\- \\frac{\\sqrt{2 - \\sqrt{2}}}{2} & \\frac{\\sqrt{\\sqrt{2} + 2}}{2} & 0\\\\0 & 0 & 1\\end{matrix}\\right]$"
          },
          "metadata": {}
        }
      ],
      "source": [
        "alpha = sympy.acot((A3[0, 0] - A3[1, 1]) / (2 * A3[0, 1])) / 2\n",
        "P = Matrix([[Cos(alpha), -Sin(alpha), 0],\n",
        "            [Sin(alpha), Cos(alpha), 0],\n",
        "            [0, 0, 1]])\n",
        "P.simplify()\n",
        "display(P)"
      ]
    },
    {
      "cell_type": "markdown",
      "metadata": {
        "id": "sq_0rHNsI5Zp"
      },
      "source": [
        "После поворота (уже в новых координатах $x_1$, $y_1$) наша матрица примет вид"
      ]
    },
    {
      "cell_type": "code",
      "source": [
        "A3_new = P.T * A3 * P\n",
        "A3_new.simplify()\n",
        "display(A3_new)"
      ],
      "metadata": {
        "colab": {
          "base_uri": "https://localhost:8080/",
          "height": 90
        },
        "id": "C3Dbgfv30RQs",
        "outputId": "35d61875-e0d2-43dd-96dc-0a0a1ae420b0"
      },
      "execution_count": 14,
      "outputs": [
        {
          "output_type": "display_data",
          "data": {
            "text/plain": [
              "Matrix([\n",
              "[          sqrt(2),                 0, sqrt(sqrt(2) + 2)],\n",
              "[                0,          -sqrt(2), sqrt(2 - sqrt(2))],\n",
              "[sqrt(sqrt(2) + 2), sqrt(2 - sqrt(2)),                -2]])"
            ],
            "text/latex": "$\\displaystyle \\left[\\begin{matrix}\\sqrt{2} & 0 & \\sqrt{\\sqrt{2} + 2}\\\\0 & - \\sqrt{2} & \\sqrt{2 - \\sqrt{2}}\\\\\\sqrt{\\sqrt{2} + 2} & \\sqrt{2 - \\sqrt{2}} & -2\\end{matrix}\\right]$"
          },
          "metadata": {}
        }
      ]
    },
    {
      "cell_type": "markdown",
      "metadata": {
        "id": "AP-ibaHWI5Zq"
      },
      "source": [
        "Запишем получившееся уравнение"
      ]
    },
    {
      "cell_type": "code",
      "execution_count": 15,
      "metadata": {
        "colab": {
          "base_uri": "https://localhost:8080/",
          "height": 48
        },
        "id": "OmAQ99mHI5Zq",
        "outputId": "93de90e8-69d1-4ea9-f030-cc5d301706dc"
      },
      "outputs": [
        {
          "output_type": "execute_result",
          "data": {
            "text/plain": [
              "sqrt(2)*X**2 + 2*X*sqrt(sqrt(2) + 2) - sqrt(2)*Y**2 + 2*Y*sqrt(2 - sqrt(2)) - 2"
            ],
            "text/latex": "$\\displaystyle \\sqrt{2} X^{2} + 2 X \\sqrt{\\sqrt{2} + 2} - \\sqrt{2} Y^{2} + 2 Y \\sqrt{2 - \\sqrt{2}} - 2$"
          },
          "metadata": {},
          "execution_count": 15
        }
      ],
      "source": [
        "from sympy.abc import X, Y, Z\n",
        "X3 = Matrix((X, Y, 1))\n",
        "simplify(expand((X3.T * A3_new * X3)[0]))"
      ]
    },
    {
      "cell_type": "markdown",
      "metadata": {
        "id": "JmNQKVqjI5Zq"
      },
      "source": [
        "Осталось перенести начало координат так, чтобы исчезли слагаемые с $X$ и $Y$. Соответствующая замена имеет вид (2):\n",
        "$$\n",
        "X=X'-\\frac{a_1}{a_{11}},\\quad Y=Y'-\\frac{a_2}{a_{22}}\n",
        "$$"
      ]
    },
    {
      "cell_type": "code",
      "execution_count": 16,
      "metadata": {
        "colab": {
          "base_uri": "https://localhost:8080/",
          "height": 95
        },
        "id": "GP2m7w7eI5Zq",
        "outputId": "ecae9f7a-312c-4564-d5ec-b14abc1641e4"
      },
      "outputs": [
        {
          "output_type": "display_data",
          "data": {
            "text/plain": [
              "<IPython.core.display.Latex object>"
            ],
            "text/latex": "X_{3\\ new} = \\left[\\begin{matrix}X - \\frac{\\sqrt{2} \\sqrt{\\sqrt{2} + 2}}{2}\\\\Y + \\frac{\\sqrt{2} \\sqrt{2 - \\sqrt{2}}}{2}\\\\1\\end{matrix}\\right],\\ eq_{3\\ new} = \\sqrt{2} X^{2} - \\sqrt{2} Y^{2} - 4"
          },
          "metadata": {}
        }
      ],
      "source": [
        "X3_new = Matrix((X - A3_new[0, 2] / A3_new[0, 0],\n",
        "                 Y - A3_new[1, 2] / A3_new[1, 1],\n",
        "                 1))\n",
        "eq3_new = simplify(expand(X3_new.T * A3_new * X3_new))[0]\n",
        "display(Latex(f'X_{{3\\ new}} = {latex(X3_new)},\\ \\\n",
        "eq_{{3\\ new}} = {latex(eq3_new)}'))"
      ]
    },
    {
      "cell_type": "markdown",
      "metadata": {
        "id": "c7HLZeA4I5Zr"
      },
      "source": [
        "Осталось поделить выражение на 4 и перенести свободный член в правую часть:"
      ]
    },
    {
      "cell_type": "code",
      "execution_count": 17,
      "metadata": {
        "colab": {
          "base_uri": "https://localhost:8080/",
          "height": 55
        },
        "id": "KNgo-mlFI5Zr",
        "outputId": "0807b6f9-ee2b-4643-9a0f-c44cd0771a92"
      },
      "outputs": [
        {
          "output_type": "execute_result",
          "data": {
            "text/plain": [
              "Eq(sqrt(2)*X**2/4 - sqrt(2)*Y**2/4, 1)"
            ],
            "text/latex": "$\\displaystyle \\frac{\\sqrt{2} X^{2}}{4} - \\frac{\\sqrt{2} Y^{2}}{4} = 1$"
          },
          "metadata": {},
          "execution_count": 17
        }
      ],
      "source": [
        "free = eq3_new.subs({X: 0, Y: 0})\n",
        "eq3_last = eq3_new / (-free) + 1\n",
        "Eq(eq3_last, 1)"
      ]
    },
    {
      "cell_type": "markdown",
      "metadata": {
        "id": "q3QR3BSQI5Zs"
      },
      "source": [
        "Заменим переменные $X$ и $Y$ на $x$, $y$, чтобы изобразить получившуюся гиперболу на одной координатной плоскости с графиком исходного уравнения."
      ]
    },
    {
      "cell_type": "code",
      "execution_count": 18,
      "metadata": {
        "colab": {
          "base_uri": "https://localhost:8080/",
          "height": 55
        },
        "id": "t9-14fD2I5Zs",
        "outputId": "27e8a318-caed-4096-80b1-97d4ea3484ca"
      },
      "outputs": [
        {
          "output_type": "display_data",
          "data": {
            "text/plain": [
              "Eq(sqrt(2)*x**2/4 - sqrt(2)*y**2/4, 1)"
            ],
            "text/latex": "$\\displaystyle \\frac{\\sqrt{2} x^{2}}{4} - \\frac{\\sqrt{2} y^{2}}{4} = 1$"
          },
          "metadata": {}
        }
      ],
      "source": [
        "eq3_last_xy = Eq(eq3_last.subs({X: x, Y: y}), 1)\n",
        "display(eq3_last_xy)"
      ]
    },
    {
      "cell_type": "markdown",
      "metadata": {
        "id": "mGh8RtrwI5Zt"
      },
      "source": [
        "Изобразим на графике исходную кривую и получившуюся гиперболу."
      ]
    },
    {
      "cell_type": "code",
      "execution_count": 19,
      "metadata": {
        "colab": {
          "base_uri": "https://localhost:8080/",
          "height": 297
        },
        "id": "QDRiv0bLI5Zu",
        "outputId": "052c3faf-5ac8-46a6-85f9-2baf3f3b37a9"
      },
      "outputs": [
        {
          "output_type": "display_data",
          "data": {
            "text/plain": [
              "<Figure size 432x288 with 1 Axes>"
            ],
            "image/png": "[encoded data removed]"
          },
          "metadata": {
            "needs_background": "light"
          }
        }
      ],
      "source": [
        "p = plot_implicit(eq3, line_color='g', aspect_ratio=(1, 1),\n",
        "                  xlabel='$x$', ylabel='$y$', \n",
        "                   title=f'{latex(eq3_last_xy, mode=\"inline\")}\\n',\n",
        "                   adaptive=False, show=False)\n",
        "p.extend(plot_implicit(eq3_last_xy, (x, -10, 10), line_color='m',\n",
        "                       aspect_ratio=(1, 1), adaptive=False, show=False))\n",
        "p.show()"
      ]
    }
  ],
  "metadata": {
    "kernelspec": {
      "display_name": "Python 3",
      "language": "python",
      "name": "python3"
    },
    "language_info": {
      "codemirror_mode": {
        "name": "ipython",
        "version": 3
      },
      "file_extension": ".py",
      "mimetype": "text/x-python",
      "name": "python",
      "nbconvert_exporter": "python",
      "pygments_lexer": "ipython3",
      "version": "3.7.3"
    },
    "colab": {
      "provenance": []
    }
  },
  "nbformat": 4,
  "nbformat_minor": 0
}