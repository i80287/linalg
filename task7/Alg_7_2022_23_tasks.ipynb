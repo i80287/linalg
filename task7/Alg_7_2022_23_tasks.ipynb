{
  "nbformat": 4,
  "nbformat_minor": 0,
  "metadata": {
    "kernelspec": {
      "display_name": "Python 3",
      "language": "python",
      "name": "python3"
    },
    "language_info": {
      "codemirror_mode": {
        "name": "ipython",
        "version": 3
      },
      "file_extension": ".py",
      "mimetype": "text/x-python",
      "name": "python",
      "nbconvert_exporter": "python",
      "pygments_lexer": "ipython3",
      "version": "3.7.3"
    },
    "colab": {
      "provenance": []
    }
  },
  "cells": [
    {
      "cell_type": "code",
      "metadata": {
        "id": "8eFsGTqm2yYh"
      },
      "source": [
        "import sympy\n",
        "from sympy import  Point, Line, Plane, Point3D, Eq, Matrix, S, Symbol, symbols, latex\n",
        "from IPython.display import display, Latex"
      ],
      "execution_count": null,
      "outputs": []
    },
    {
      "cell_type": "markdown",
      "metadata": {
        "id": "QsFfXQQN2yYq"
      },
      "source": [
        "# Практическое занятие 7\n",
        "# Компьютерный практикум по алгебре на Python\n",
        "https://docs.sympy.org/latest/search.html?q=geometry\n",
        "\n",
        "## Прямые и плоскости в пространстве. Модуль Geometry\n",
        "### Задание 1.\n",
        "Даны точки: $A(3, -2, 3)$,  $B(-2, 3, 1)$, $C(1, -8, 6)$, $D(1, 2, 4)$, $F(-7, 8, -1)$.\n",
        "\n",
        "Составить словарь точек (ключи - точки, значения - имена точек).\n",
        "\n",
        "Вывести на экран значения записей словаря (т.е. имена точек).\n",
        "\n",
        "Проверить, различны ли прямые $AB$ и $AF$, $AB$ и $AC$, $ABC$ и $ACF$, $ABC$ и $ACD$. \n",
        "\n",
        "Вывести на экран текст вида \"$AB$ и $AF$ одинаковы\" (или \"не одинаковы\")."
      ]
    },
    {
      "cell_type": "code",
      "source": [],
      "metadata": {
        "id": "t7ldDcHRZNjD"
      },
      "execution_count": null,
      "outputs": []
    },
    {
      "cell_type": "markdown",
      "metadata": {
        "id": "DFLIFpCO2yYz"
      },
      "source": [
        "###  Задание 2\n",
        "Вывести на экран уравнение плоскости ACD и расстояние от оставшихся точек до этой плоскости. "
      ]
    },
    {
      "cell_type": "code",
      "source": [],
      "metadata": {
        "id": "EDozYpORZPSo"
      },
      "execution_count": null,
      "outputs": []
    },
    {
      "cell_type": "markdown",
      "source": [
        "###  Задание 2*\n",
        "Вывести на экран уравнения плоскостей, в которых лежит ровно три точки из Задания 1. Затем вывести на экран расстояние от оставшихся точек до каждой их этих плоскостей. \n",
        "\n",
        "Можно по желанию воспользоваться результатами Задания 1 для упрощения поиска."
      ],
      "metadata": {
        "id": "szAjbRFeJ724"
      }
    },
    {
      "cell_type": "code",
      "source": [],
      "metadata": {
        "id": "qF1SpcLDZQzU"
      },
      "execution_count": null,
      "outputs": []
    },
    {
      "cell_type": "markdown",
      "metadata": {
        "id": "Y9SJb76H2yY1"
      },
      "source": [
        "###  Задание 3\n",
        "Построить плоскость, перпендикулярную плоскости $ABC$, проходящую через $D$ и начало координат. Найти линию пересечения $ABC$ и этой плоскости.\n",
        "\n",
        "Вывести на экран уравнение полученной плоскости и уравнения линии пересечения $ABC$ и этой плоскости."
      ]
    },
    {
      "cell_type": "code",
      "source": [],
      "metadata": {
        "id": "ubQfFqD-ZSjW"
      },
      "execution_count": null,
      "outputs": []
    },
    {
      "cell_type": "markdown",
      "metadata": {
        "id": "rBqOF-CW2yY3"
      },
      "source": [
        "###  Задание 4\n",
        "Найти пересечение плоскости $ABC$ и прямой $DK$, где $K(3,-2, 3)$. Проверить с помощью словаря точек, не является ли точка пересечения одной из заданных точек."
      ]
    },
    {
      "cell_type": "code",
      "source": [],
      "metadata": {
        "id": "XFlIKPA_ZUIZ"
      },
      "execution_count": null,
      "outputs": []
    },
    {
      "cell_type": "markdown",
      "metadata": {
        "id": "R5udVUCQ2yY5"
      },
      "source": [
        "###  Задание 5\n",
        "Построить плоскость, параллельную плоскости $ABC$, проходящую через точку $M(-1, 6, 3)$, вывести на экран ее уравнение.\n",
        "\n",
        "Найти и вывести на экран расстояние от прямой $AB$ до построенной плоскости."
      ]
    },
    {
      "cell_type": "code",
      "source": [],
      "metadata": {
        "id": "clYFbQAhZX8x"
      },
      "execution_count": null,
      "outputs": []
    },
    {
      "cell_type": "markdown",
      "metadata": {
        "id": "YQtDk8082yY6"
      },
      "source": [
        "###  Задание 6*\n",
        "Даны точки: $A(3, -2, 3)$,  $B(-2, 3, 1)$, $C(1, -8, 6)$, $D(1, 2, 4)$, $F(-7, 8, -1)$.\n",
        "\n",
        "Составить словарь всех прямых (в нем должны быть и прямая $AB$, и $BA$!), каждая из которых проходит хотя бы через две заданные точки, ключ - сама прямая (Line), значение - список из имен ВСЕХ точек, лежащих на этой прямой. Вывести на экран имена только тех прямых, на которых лежит не менее трех точек из условия, а также список точек, лежащих на прямой."
      ]
    },
    {
      "cell_type": "code",
      "source": [],
      "metadata": {
        "id": "uqVVZMPKZaWr"
      },
      "execution_count": null,
      "outputs": []
    },
    {
      "cell_type": "markdown",
      "metadata": {
        "id": "RyK8Ftfp2yY7"
      },
      "source": [
        "### Индивидуальное задание\n",
        "\n",
        "Даны точки: $A(3, 2, 1)$,  $B(2, -3, 1)$, $C(0, -4, 6)$, $D(4, 7, 1)$, $F(1, -8, 1)$.\n",
        "\n",
        "Составить словарь с ключами - точками (например, Point3D(3, 2, 1)) и значениями - именами точек ('A', 'B' и т.д.). Найти и вывести на экран\n",
        "\n",
        ">расстояние от точек $D$ и $F$ до плоскости $ABC$, \n",
        "\n",
        ">уравнение плоскости $ABC$, \n",
        "\n",
        ">параметрические уравнения прямой $DF$.\n",
        "\n",
        "Определить и вывести на экран, какие 4 из заданных точек лежат в одной плоскости (пользуясь словарем точек, вывести имена точек).\n",
        "\n",
        "Определить и вывести на экран, какие 3 из заданных точек лежат на одной прямой (пользуясь словарем точек, вывести имена точек)."
      ]
    },
    {
      "cell_type": "code",
      "source": [],
      "metadata": {
        "id": "1-0vauDkZbwf"
      },
      "execution_count": null,
      "outputs": []
    }
  ]
}