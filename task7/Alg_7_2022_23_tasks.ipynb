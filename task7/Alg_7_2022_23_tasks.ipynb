{
  "cells": [
    {
      "cell_type": "code",
      "execution_count": 1,
      "metadata": {
        "id": "8eFsGTqm2yYh"
      },
      "outputs": [],
      "source": [
        "import sympy\n",
        "from sympy import  Point, Line, Plane, Point3D, Eq, Matrix, S, Symbol, symbols, latex\n",
        "from IPython.display import display, Latex"
      ]
    },
    {
      "cell_type": "markdown",
      "metadata": {
        "id": "QsFfXQQN2yYq"
      },
      "source": [
        "# Практическое занятие 7\n",
        "# Компьютерный практикум по алгебре на Python\n",
        "https://docs.sympy.org/latest/search.html?q=geometry\n",
        "\n",
        "## Прямые и плоскости в пространстве. Модуль Geometry\n",
        "### Задание 1.\n",
        "Даны точки: $A(3, -2, 3)$,  $B(-2, 3, 1)$, $C(1, -8, 6)$, $D(1, 2, 4)$, $F(-7, 8, -1)$.\n",
        "\n",
        "Составить словарь точек (ключи - точки, значения - имена точек).\n",
        "\n",
        "Вывести на экран значения записей словаря (т.е. имена точек).\n",
        "\n",
        "Проверить, различны ли прямые $AB$ и $AF$, $AB$ и $AC$, $ABC$ и $ACF$, $ABC$ и $ACD$. \n",
        "\n",
        "Вывести на экран текст вида \"$AB$ и $AF$ одинаковы\" (или \"не одинаковы\")."
      ]
    },
    {
      "cell_type": "code",
      "execution_count": 2,
      "metadata": {
        "colab": {
          "base_uri": "https://localhost:8080/",
          "height": 153
        },
        "id": "t7ldDcHRZNjD",
        "outputId": "82400d7b-32c3-438f-bd70-81a998a20670"
      },
      "outputs": [
        {
          "data": {
            "text/latex": [
              "\\text{Points names:}"
            ],
            "text/plain": [
              "<IPython.core.display.Latex object>"
            ]
          },
          "metadata": {},
          "output_type": "display_data"
        },
        {
          "name": "stdout",
          "output_type": "stream",
          "text": [
            "A, B, C, D, F\n",
            "\n"
          ]
        },
        {
          "data": {
            "text/latex": [
              "\\text{AB и AF одинаковы}"
            ],
            "text/plain": [
              "<IPython.core.display.Latex object>"
            ]
          },
          "metadata": {},
          "output_type": "display_data"
        },
        {
          "data": {
            "text/latex": [
              "\\text{AB и AC не одинаковы}"
            ],
            "text/plain": [
              "<IPython.core.display.Latex object>"
            ]
          },
          "metadata": {},
          "output_type": "display_data"
        },
        {
          "data": {
            "text/latex": [
              "\\text{ABC и ACF одинаковы}"
            ],
            "text/plain": [
              "<IPython.core.display.Latex object>"
            ]
          },
          "metadata": {},
          "output_type": "display_data"
        },
        {
          "data": {
            "text/latex": [
              "\\text{ABC и ACD не одинаковы}"
            ],
            "text/plain": [
              "<IPython.core.display.Latex object>"
            ]
          },
          "metadata": {},
          "output_type": "display_data"
        }
      ],
      "source": [
        "from sympy import Line3D\n",
        "from typing import List, Dict\n",
        "\n",
        "def main():\n",
        "    points: List[Point] = [\n",
        "        Point(3, -2, 3) ,\n",
        "        Point(-2, 3, 1),\n",
        "        Point(1, -8, 6),\n",
        "        Point(1, 2, 4),\n",
        "        Point(-7, 8, -1),\n",
        "    ]\n",
        "    names = ['A', 'B', 'C', 'D', 'F']\n",
        "    \n",
        "    points_dict: Dict[Point, str] = \\\n",
        "        {p: names[i] for i, p in enumerate(points)}\n",
        "    display(Latex(r\"\\text{Points names:}\"))\n",
        "    print(*points_dict.values(), sep=', ', end='\\n\\n')\n",
        "    \n",
        "    ab_line: Line3D = Line(points[0], points[1])\n",
        "    ac_line: Line3D = Line(points[0], points[2])\n",
        "    af_line: Line3D = Line(points[0], points[-1])\n",
        "    display(Latex(rf\"\"\"\\text{{AB и AF {\"не \" * (not ab_line.equals(af_line))}одинаковы}}\"\"\"))\n",
        "    display(Latex(rf\"\"\"\\text{{AB и AC {\"не \" * (not ab_line.equals(ac_line))}одинаковы}}\"\"\"))\n",
        "\n",
        "    abc_plane: Plane = Plane(*points[:3])\n",
        "    acf_plane: Plane = Plane(points[0], points[2], points[-1])\n",
        "    acd_plane: Plane = Plane(points[0], points[2], points[3])\n",
        "    display(Latex(rf\"\"\"\\text{{ABC и ACF {\"не \" * (not abc_plane.equals(acf_plane))}одинаковы}}\"\"\"))\n",
        "    display(Latex(rf\"\"\"\\text{{ABC и ACD {\"не \" * (not abc_plane.equals(acd_plane))}одинаковы}}\"\"\"))\n",
        "\n",
        "\n",
        "if __name__ == \"__main__\":\n",
        "    main()"
      ]
    },
    {
      "cell_type": "markdown",
      "metadata": {
        "id": "DFLIFpCO2yYz"
      },
      "source": [
        "###  Задание 2\n",
        "Вывести на экран уравнение плоскости ACD и расстояние от оставшихся точек до этой плоскости. "
      ]
    },
    {
      "cell_type": "code",
      "execution_count": 3,
      "metadata": {
        "colab": {
          "base_uri": "https://localhost:8080/",
          "height": 177
        },
        "id": "EDozYpORZPSo",
        "outputId": "bd8c687b-782c-447b-e2a3-11ee1def4511"
      },
      "outputs": [
        {
          "data": {
            "text/latex": [
              "\\text{Уравнение плоскости ACD: - 18 x - 4 y - 20 z + 106 = 0}"
            ],
            "text/plain": [
              "<IPython.core.display.Latex object>"
            ]
          },
          "metadata": {},
          "output_type": "display_data"
        },
        {
          "name": "stdout",
          "output_type": "stream",
          "text": [
            "\n"
          ]
        },
        {
          "data": {
            "text/latex": [
              "\\text{Расстояние от ACD до точки B:}\\frac{11 \\sqrt{185}}{37}"
            ],
            "text/plain": [
              "<IPython.core.display.Latex object>"
            ]
          },
          "metadata": {},
          "output_type": "display_data"
        },
        {
          "data": {
            "text/latex": [
              "\\text{Округление: 4.043680}"
            ],
            "text/plain": [
              "<IPython.core.display.Latex object>"
            ]
          },
          "metadata": {},
          "output_type": "display_data"
        },
        {
          "name": "stdout",
          "output_type": "stream",
          "text": [
            "\n"
          ]
        },
        {
          "data": {
            "text/latex": [
              "\\text{Расстояние от ACD до точки F:}\\frac{22 \\sqrt{185}}{37}"
            ],
            "text/plain": [
              "<IPython.core.display.Latex object>"
            ]
          },
          "metadata": {},
          "output_type": "display_data"
        },
        {
          "data": {
            "text/latex": [
              "\\text{Округление: 8.087361}"
            ],
            "text/plain": [
              "<IPython.core.display.Latex object>"
            ]
          },
          "metadata": {},
          "output_type": "display_data"
        },
        {
          "name": "stdout",
          "output_type": "stream",
          "text": [
            "\n"
          ]
        }
      ],
      "source": [
        "from typing import List, Dict, Any\n",
        "\n",
        "def print_in_latex_format(text: str, additional: Any = \"\", end: str = '\\n'):\n",
        "    display(Latex(rf\"\\text{{{text}}}{additional}\"))\n",
        "    print(end, end='')\n",
        "\n",
        "def main():\n",
        "    points: List[Point] = [\n",
        "        Point(3, -2, 3),\n",
        "        Point(-2, 3, 1),\n",
        "        Point(1, -8, 6),\n",
        "        Point(1, 2, 4),\n",
        "        Point(-7, 8, -1),\n",
        "    ]\n",
        "    names = ['A', 'B', 'C', 'D', 'F']\n",
        "    \n",
        "    acd_plane: Plane = Plane(points[0], points[2], points[3])\n",
        "    print_in_latex_format(f\"Уравнение плоскости ACD: {latex(acd_plane.equation())} = 0\")\n",
        "    for i in (1, 4):\n",
        "        distance = acd_plane.distance(points[i])\n",
        "        print_in_latex_format(f\"Расстояние от ACD до точки {names[i]}:\", latex(distance), end='')\n",
        "        print_in_latex_format(f\"Округление: {round(distance, 6)}\")\n",
        "\n",
        "if __name__ == \"__main__\":\n",
        "    main()\n"
      ]
    },
    {
      "cell_type": "markdown",
      "metadata": {
        "id": "szAjbRFeJ724"
      },
      "source": [
        "###  Задание 2*\n",
        "Вывести на экран уравнения плоскостей, в которых лежит ровно три точки из Задания 1. Затем вывести на экран расстояние от оставшихся точек до каждой их этих плоскостей. \n",
        "\n",
        "Можно по желанию воспользоваться результатами Задания 1 для упрощения поиска."
      ]
    },
    {
      "cell_type": "code",
      "execution_count": 4,
      "metadata": {
        "colab": {
          "base_uri": "https://localhost:8080/",
          "height": 130
        },
        "id": "qF1SpcLDZQzU",
        "outputId": "fe872c92-91b5-48a5-8ac8-97576a7bcd72"
      },
      "outputs": [
        {
          "data": {
            "text/latex": [
              "\\text{Плоскость, в которой лежит только 3 из всех данных точек: ACD}"
            ],
            "text/plain": [
              "<IPython.core.display.Latex object>"
            ]
          },
          "metadata": {},
          "output_type": "display_data"
        },
        {
          "name": "stdout",
          "output_type": "stream",
          "text": [
            "\n"
          ]
        },
        {
          "data": {
            "text/latex": [
              "\\text{Плоскость, в которой лежит только 3 из всех данных точек: BCD}"
            ],
            "text/plain": [
              "<IPython.core.display.Latex object>"
            ]
          },
          "metadata": {},
          "output_type": "display_data"
        },
        {
          "name": "stdout",
          "output_type": "stream",
          "text": [
            "\n"
          ]
        },
        {
          "data": {
            "text/latex": [
              "\\text{Плоскость, в которой лежит только 3 из всех данных точек: CDF}"
            ],
            "text/plain": [
              "<IPython.core.display.Latex object>"
            ]
          },
          "metadata": {},
          "output_type": "display_data"
        },
        {
          "name": "stdout",
          "output_type": "stream",
          "text": [
            "\n"
          ]
        }
      ],
      "source": [
        "from itertools import combinations\n",
        "from typing import List, Dict, Set\n",
        "\n",
        "from sympy import Line3D\n",
        "\n",
        "\n",
        "def print_in_latex_format(text: str, end: str = '\\n'):\n",
        "    display(Latex(rf\"\\text{{{text}}}\"))\n",
        "    print(end, end='')\n",
        "\n",
        "\n",
        "def main():\n",
        "    points: List[Point] = [\n",
        "        Point(3, -2, 3) ,\n",
        "        Point(-2, 3, 1),\n",
        "        Point(1, -8, 6),\n",
        "        Point(1, 2, 4),\n",
        "        Point(-7, 8, -1),\n",
        "    ]\n",
        "    points_indexes: Set[int] = set(range(len(points)))\n",
        "    names = ['A', 'B', 'C', 'D', 'F']\n",
        "\n",
        "    for i1, i2, i3 in combinations(range(len(points)), 3):\n",
        "        p1, p2, p3 = points[i1], points[i2], points[i3]\n",
        "        if Point3D.are_collinear(p1, p2, p3):\n",
        "            continue\n",
        "        plane: Plane = Plane(p1, p2, p3)\n",
        "        plane_name = f\"{names[i1]}{names[i2]}{names[i3]}\"\n",
        "        other_points: Set[int] = points_indexes.difference({i1, i2, i3})\n",
        "        distances = (plane.distance(points[j]) for j in other_points)\n",
        "        if all(dist != 0 for dist in distances):\n",
        "            print_in_latex_format(f\"Плоскость, в которой лежит только 3 из всех данных точек: {plane_name}\") \n",
        "\n",
        "\n",
        "if __name__ == \"__main__\":\n",
        "    main()"
      ]
    },
    {
      "cell_type": "markdown",
      "metadata": {
        "id": "Y9SJb76H2yY1"
      },
      "source": [
        "###  Задание 3\n",
        "Построить плоскость, перпендикулярную плоскости $ABC$, проходящую через $D$ и начало координат. Найти линию пересечения $ABC$ и этой плоскости.\n",
        "\n",
        "Вывести на экран уравнение полученной плоскости и уравнения линии пересечения $ABC$ и этой плоскости."
      ]
    },
    {
      "cell_type": "code",
      "execution_count": 5,
      "metadata": {
        "colab": {
          "base_uri": "https://localhost:8080/",
          "height": 122
        },
        "id": "ubQfFqD-ZSjW",
        "outputId": "0f071b72-b184-49d4-cdfd-4754e61bc129"
      },
      "outputs": [
        {
          "data": {
            "text/latex": [
              "\\text{Уравнение плоскости:}"
            ],
            "text/plain": [
              "<IPython.core.display.Latex object>"
            ]
          },
          "metadata": {},
          "output_type": "display_data"
        },
        {
          "data": {
            "text/latex": [
              "- 4 x + 28 y - 13 z = 0"
            ],
            "text/plain": [
              "<IPython.core.display.Latex object>"
            ]
          },
          "metadata": {},
          "output_type": "display_data"
        },
        {
          "data": {
            "text/latex": [
              "\\text{Уравнения прямой пересечения плоскостей:}"
            ],
            "text/plain": [
              "<IPython.core.display.Latex object>"
            ]
          },
          "metadata": {},
          "output_type": "display_data"
        },
        {
          "data": {
            "text/latex": [
              "- 121 x + 1367 y - 1183 = 0\n"
            ],
            "text/plain": [
              "<IPython.core.display.Latex object>"
            ]
          },
          "metadata": {},
          "output_type": "display_data"
        },
        {
          "data": {
            "text/latex": [
              "160 x + 1367 z - 2548 = 0\n"
            ],
            "text/plain": [
              "<IPython.core.display.Latex object>"
            ]
          },
          "metadata": {},
          "output_type": "display_data"
        }
      ],
      "source": [
        "from sympy import Line3D\n",
        "from typing import List, Dict\n",
        "\n",
        "def main():\n",
        "    points: List[Point] = [\n",
        "        Point(3, -2, 3) ,\n",
        "        Point(-2, 3, 1),\n",
        "        Point(1, -8, 6),\n",
        "        Point(1, 2, 4),\n",
        "        Point(-7, 8, -1),\n",
        "    ]\n",
        "    names = ['A', 'B', 'C', 'D', 'F']\n",
        "    o_point: Point3D = Point(0, 0, 0)\n",
        "\n",
        "    abc_plane: Plane = Plane(*points[:3])\n",
        "    perpend_plane = abc_plane.perpendicular_plane(points[3], o_point)\n",
        "    display(Latex(r\"\\text{Уравнение плоскости:}\"))\n",
        "    display(Latex(f\"{latex(perpend_plane.equation())} = 0\"))\n",
        "    \n",
        "    intersect_line: Line3D = abc_plane.intersection(perpend_plane)[0]\n",
        "    display(Latex(r\"\\text{Уравнения прямой пересечения плоскостей:}\"))\n",
        "    display(*(Latex(f\"{latex(eq)} = 0\\n\") for eq in intersect_line.equation()))\n",
        "\n",
        "\n",
        "if __name__ == \"__main__\":\n",
        "    main()"
      ]
    },
    {
      "cell_type": "markdown",
      "metadata": {
        "id": "rBqOF-CW2yY3"
      },
      "source": [
        "###  Задание 4\n",
        "Найти пересечение плоскости $ABC$ и прямой $DK$, где $K(3,-2, 3)$. Проверить с помощью словаря точек, не является ли точка пересечения одной из заданных точек."
      ]
    },
    {
      "cell_type": "code",
      "execution_count": 6,
      "metadata": {
        "colab": {
          "base_uri": "https://localhost:8080/",
          "height": 79
        },
        "id": "XFlIKPA_ZUIZ",
        "outputId": "817a0525-666a-4319-a33d-35e000bae35e"
      },
      "outputs": [
        {
          "data": {
            "text/latex": [
              "\\text{Точка пересечения:}"
            ],
            "text/plain": [
              "<IPython.core.display.Latex object>"
            ]
          },
          "metadata": {},
          "output_type": "display_data"
        },
        {
          "data": {
            "text/latex": [
              "$\\displaystyle Point3D\\left(3, -2, 3\\right)$"
            ],
            "text/plain": [
              "Point3D(3, -2, 3)"
            ]
          },
          "metadata": {},
          "output_type": "display_data"
        },
        {
          "data": {
            "text/latex": [
              "\\text{Точка совпадает с A}"
            ],
            "text/plain": [
              "<IPython.core.display.Latex object>"
            ]
          },
          "metadata": {},
          "output_type": "display_data"
        }
      ],
      "source": [
        "from sympy import Line3D\n",
        "from typing import List, Dict\n",
        "\n",
        "def main():\n",
        "    points: List[Point] = [\n",
        "        Point(3, -2, 3) ,\n",
        "        Point(-2, 3, 1),\n",
        "        Point(1, -8, 6),\n",
        "        Point(1, 2, 4),\n",
        "        Point(-7, 8, -1),\n",
        "    ]\n",
        "    names = ['A', 'B', 'C', 'D', 'F']\n",
        "    k_point: Point3D = Point(3, -2, 3)\n",
        "    points_dict: Dict[Point, str] = \\\n",
        "        {p: names[i] for i, p in enumerate(points)}\n",
        "    abc_plane: Plane = Plane(*points[:3])\n",
        "    dk_line: Line3D = Line(points[3], k_point)\n",
        "\n",
        "    intersect_point = abc_plane.intersection(dk_line)[0]\n",
        "    display(Latex(r\"\\text{Точка пересечения:}\"))\n",
        "    display(intersect_point)\n",
        "\n",
        "    if intersect_point in points_dict.keys():\n",
        "        display(Latex(fr\"\"\"\\text{{Точка совпадает с {points_dict[intersect_point]}}}\"\"\"))\n",
        "    else:\n",
        "        display(Latex(\"\\text{Точка не совпадает с данными точками}\"))\n",
        "\n",
        "if __name__ == \"__main__\":\n",
        "    main()"
      ]
    },
    {
      "cell_type": "markdown",
      "metadata": {
        "id": "R5udVUCQ2yY5"
      },
      "source": [
        "###  Задание 5\n",
        "Построить плоскость, параллельную плоскости $ABC$, проходящую через точку $M(-1, 6, 3)$, вывести на экран ее уравнение.\n",
        "\n",
        "Найти и вывести на экран расстояние от прямой $AB$ до построенной плоскости."
      ]
    },
    {
      "cell_type": "code",
      "execution_count": 7,
      "metadata": {
        "id": "clYFbQAhZX8x"
      },
      "outputs": [
        {
          "name": "stdout",
          "output_type": "stream",
          "text": [
            "Parallel plane equation:\n"
          ]
        },
        {
          "data": {
            "text/latex": [
              "$\\displaystyle 3 x + 19 y + 40 z - 231$"
            ],
            "text/plain": [
              "3*x + 19*y + 40*z - 231"
            ]
          },
          "metadata": {},
          "output_type": "display_data"
        },
        {
          "name": "stdout",
          "output_type": "stream",
          "text": [
            "Distance between line AB and parallel plane:\n"
          ]
        },
        {
          "data": {
            "text/latex": [
              "$\\displaystyle \\frac{14 \\sqrt{1970}}{197}$"
            ],
            "text/plain": [
              "14*sqrt(1970)/197"
            ]
          },
          "metadata": {},
          "output_type": "display_data"
        },
        {
          "name": "stdout",
          "output_type": "stream",
          "text": [
            "Approximation:\n"
          ]
        },
        {
          "data": {
            "text/latex": [
              "$\\displaystyle 3.1542$"
            ],
            "text/plain": [
              "3.1542"
            ]
          },
          "metadata": {},
          "output_type": "display_data"
        }
      ],
      "source": [
        "from typing import List, Dict\n",
        "\n",
        "def main():\n",
        "    points: List[Point3D] = [\n",
        "        Point(3, -2, 3),\n",
        "        Point(-2, 3, 1),\n",
        "        Point(1, -8, 6),\n",
        "        Point(1, 2, 4),\n",
        "        Point(-7, 8, -1),\n",
        "    ]\n",
        "    names = ['A', 'B', 'C', 'D', 'F']\n",
        "    abc_plane: Plane = Plane(*points[:3])\n",
        "    m_point: Point3D = Point(-1, 6, 3)\n",
        "    \n",
        "    parallel_plane: Plane = abc_plane.parallel_plane(m_point)\n",
        "    print(\"Parallel plane equation:\")\n",
        "    display(parallel_plane.equation())\n",
        "\n",
        "    ab_line: Line3D = Line(points[0], points[1])\n",
        "    distance = parallel_plane.distance(ab_line)\n",
        "    print(\"Distance between line AB and parallel plane:\")\n",
        "    display(distance)\n",
        "    print(\"Approximation:\")\n",
        "    display(round(distance, 4))\n",
        "\n",
        "\n",
        "if __name__ == \"__main__\":\n",
        "    main()"
      ]
    },
    {
      "cell_type": "markdown",
      "metadata": {
        "id": "YQtDk8082yY6"
      },
      "source": [
        "###  Задание 6*\n",
        "Даны точки: $A(3, -2, 3)$,  $B(-2, 3, 1)$, $C(1, -8, 6)$, $D(1, 2, 4)$, $F(-7, 8, -1)$.\n",
        "\n",
        "Составить словарь всех прямых (в нем должны быть и прямая $AB$, и $BA$!), каждая из которых проходит хотя бы через две заданные точки, ключ - сама прямая (Line), значение - список из имен ВСЕХ точек, лежащих на этой прямой. Вывести на экран имена только тех прямых, на которых лежит не менее трех точек из условия, а также список точек, лежащих на прямой."
      ]
    },
    {
      "cell_type": "code",
      "execution_count": 8,
      "metadata": {
        "id": "uqVVZMPKZaWr"
      },
      "outputs": [
        {
          "name": "stdout",
          "output_type": "stream",
          "text": [
            "Line: AB\n",
            "Points on line: F, B, A\n",
            "Line: AF\n",
            "Points on line: F, B, A\n",
            "Line: BA\n",
            "Points on line: F, B, A\n",
            "Line: BF\n",
            "Points on line: F, B, A\n",
            "Line: FA\n",
            "Points on line: F, B, A\n",
            "Line: FB\n",
            "Points on line: F, B, A\n"
          ]
        }
      ],
      "source": [
        "from typing import List, Dict\n",
        "from itertools import permutations\n",
        "\n",
        "def main():\n",
        "    points: list[tuple[Point3D, str]] = [\n",
        "        (Point(3, -2, 3), 'A'),\n",
        "        (Point(-2, 3, 1), 'B'),\n",
        "        (Point(1, -8, 6), 'C'),\n",
        "        (Point(1, 2, 4), 'D'),\n",
        "        (Point(-7, 8, -1), 'F')\n",
        "    ]\n",
        "\n",
        "    \n",
        "    lines: dict[Line3D, tuple[str, list[str]]] = \\\n",
        "        {Line(p1[0], p2[0]): (f\"{p1[1]}{p2[1]}\", list({p[1] for p in points if Point3D.are_collinear(p1[0], p2[0], p[0])})) \\\n",
        "            for p1, p2 in permutations(points, r=2)}\n",
        "    \n",
        "    for line, line_name_andpoints in lines.items():\n",
        "        line_points = line_name_andpoints[1]\n",
        "        if len(line_points) >= 3:\n",
        "            print(f\"Line: {line_name_andpoints[0]}\")\n",
        "            print(f\"Points on line: {', '.join(line_points)}\")\n",
        "\n",
        "if __name__ == \"__main__\":\n",
        "    main()"
      ]
    },
    {
      "cell_type": "markdown",
      "metadata": {
        "id": "RyK8Ftfp2yY7"
      },
      "source": [
        "### Индивидуальное задание\n",
        "\n",
        "Даны точки: $A(3, 2, 1)$,  $B(2, -3, 1)$, $C(0, -4, 6)$, $D(4, 7, 1)$, $F(1, -8, 1)$.\n",
        "\n",
        "Составить словарь с ключами - точками (например, Point3D(3, 2, 1)) и значениями - именами точек ('A', 'B' и т.д.). Найти и вывести на экран\n",
        "\n",
        ">расстояние от точек $D$ и $F$ до плоскости $ABC$, \n",
        "\n",
        ">уравнение плоскости $ABC$, \n",
        "\n",
        ">параметрические уравнения прямой $DF$.\n",
        "\n",
        "Определить и вывести на экран, какие 4 из заданных точек лежат в одной плоскости (пользуясь словарем точек, вывести имена точек).\n",
        "\n",
        "Определить и вывести на экран, какие 3 из заданных точек лежат на одной прямой (пользуясь словарем точек, вывести имена точек)."
      ]
    },
    {
      "attachments": {},
      "cell_type": "markdown",
      "metadata": {},
      "source": [
        "##### Вариант N 50\n",
        "Даны точки: $G (4, 2, -3), H (0, 5, -3), J (-8, 23, -11), L (1, -1, 4), T (4, -4, 1)$\n",
        "\n",
        "Составить словарь с ключами - точками (например, Point3D(3, 2, 1)) и значениями - именами точек (G, H и т.д.).\n",
        "\n",
        "Найти и вывести на экран \n",
        "\n",
        ">расстояние от точек $L$ и $J$ до плоскости $GHT$\n",
        "\n",
        ">уравнение плоскости $GHT$,\n",
        "\n",
        "> параметрические уравнения прямой $LJ$\n",
        "\n",
        "Определить и вывести на экран, какие 4 из заданных точек лежат в одной плоскости (пользуясь словарем точек, вывести имена точек).\n",
        "\n",
        "Определить и вывести на экран, какие 3 из заданных точек лежат на одной прямой (пользуясь словарем точек, вывести имена точек)."
      ]
    },
    {
      "cell_type": "code",
      "execution_count": 30,
      "metadata": {
        "id": "1-0vauDkZbwf"
      },
      "outputs": [
        {
          "name": "stdout",
          "output_type": "stream",
          "text": [
            "Distance between L point in GHT plane:\n",
            "\t21*sqrt(61)/61\n",
            "Approximate:\n",
            "\t2.6888\n",
            "Distance between J point in GHT plane:\n",
            "\t0\n",
            "Equation of GHT plane:\n",
            "\t12*x + 16*y + 24*z - 8 = 0\n",
            "Equations of the line LJ:\n"
          ]
        },
        {
          "data": {
            "text/latex": [
              "$\\displaystyle x = \\frac{3 t}{5} - \\frac{7}{5}$"
            ],
            "text/plain": [
              "Eq(x, 3*t/5 - 7/5)"
            ]
          },
          "metadata": {},
          "output_type": "display_data"
        },
        {
          "data": {
            "text/latex": [
              "$\\displaystyle y = \\frac{27}{5} - \\frac{8 t}{5}$"
            ],
            "text/plain": [
              "Eq(y, 27/5 - 8*t/5)"
            ]
          },
          "metadata": {},
          "output_type": "display_data"
        },
        {
          "data": {
            "text/latex": [
              "$\\displaystyle z = t$"
            ],
            "text/plain": [
              "Eq(z, t)"
            ]
          },
          "metadata": {},
          "output_type": "display_data"
        },
        {
          "name": "stdout",
          "output_type": "stream",
          "text": [
            "4 coplanar points:\n",
            "\tG, H, J, T\n",
            "4 coplanar points:\n",
            "\tH, J, L, T\n",
            "3 collinear points:\n",
            "\tH, J, T\n"
          ]
        }
      ],
      "source": [
        "from typing import List, Dict\n",
        "from itertools import combinations\n",
        "\n",
        "def main():\n",
        "    points: Dict[Point3D, str] = {\n",
        "        Point(4, 2, -3): 'G',\n",
        "        Point(0, 5, -3): 'H',\n",
        "        Point(-8, 23, -11): 'J',\n",
        "        Point(1, -1, 4): 'L',\n",
        "        Point(4, -4, 1): 'T'\n",
        "    }\n",
        "    points_list: List[Point3D] = [\n",
        "        Point(4, 2, -3),\n",
        "        Point(0, 5, -3),\n",
        "        Point(-8, 23, -11),\n",
        "        Point(1, -1, 4),\n",
        "        Point(4, -4, 1)\n",
        "    ]\n",
        "    ght_plane: Plane = Plane(points_list[0], points_list[1], points_list[4])\n",
        "    \n",
        "    distance_betw_ght_l = ght_plane.distance(points_list[3])\n",
        "    print(f\"Distance between L point in GHT plane:\\n\\t{distance_betw_ght_l}\")\n",
        "    print(f\"Approximate:\\n\\t{round(distance_betw_ght_l, 4)}\")\n",
        "\n",
        "    distance_betw_ght_j = ght_plane.distance(points_list[2])\n",
        "    print(f\"Distance between J point in GHT plane:\\n\\t{distance_betw_ght_j}\")\n",
        "    \n",
        "    print(f\"Equation of GHT plane:\\n\\t{ght_plane.equation()} = 0\")\n",
        "\n",
        "    lj_line: Line3D = Line(points_list[2], points_list[3])\n",
        "    x, y, t = symbols(\"x y t\")\n",
        "    equations_solutions = [solution for solution in sympy.linsolve(lj_line.equation(x, y, t), x, y, t)][0]\n",
        "    symbs = symbols(\"x y z\")\n",
        "    equations = [sympy.Eq(symbs[i], solution, evaluate=False) for i, solution in enumerate(equations_solutions)]\n",
        "    print(\"Equations of the line LJ:\")\n",
        "    display(*equations)\n",
        "\n",
        "    for four_points in combinations(points, 4):\n",
        "        four_points: tuple[Point3D, Point3D, Point3D, Point3D]\n",
        "        if Point3D.are_coplanar(*(p for p in four_points)):\n",
        "           print(f\"4 coplanar points:\\n\\t\", end=\"\")\n",
        "           print(*(points[p] for p in four_points), sep=\", \")\n",
        "\n",
        "    for three_points in combinations(points, 3):\n",
        "        three_points: tuple[Point3D, Point3D, Point3D]\n",
        "        if Point3D.are_collinear(*(p for p in three_points)):\n",
        "           print(f\"3 collinear points:\\n\\t\", end=\"\")\n",
        "           print(*(points[p] for p in three_points), sep=\", \")\n",
        "\n",
        "if __name__ == \"__main__\":\n",
        "    main()"
      ]
    }
  ],
  "metadata": {
    "colab": {
      "provenance": []
    },
    "kernelspec": {
      "display_name": ".venv",
      "language": "python",
      "name": "python3"
    },
    "language_info": {
      "codemirror_mode": {
        "name": "ipython",
        "version": 3
      },
      "file_extension": ".py",
      "mimetype": "text/x-python",
      "name": "python",
      "nbconvert_exporter": "python",
      "pygments_lexer": "ipython3",
      "version": "3.11.0"
    },
    "vscode": {
      "interpreter": {
        "hash": "15070b5f4c01a16be65f6048f4eea768aba9ae68ce711f49339836ef743d1529"
      }
    }
  },
  "nbformat": 4,
  "nbformat_minor": 0
}
