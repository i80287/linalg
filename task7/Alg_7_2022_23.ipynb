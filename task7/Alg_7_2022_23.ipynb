{
  "nbformat": 4,
  "nbformat_minor": 0,
  "metadata": {
    "kernelspec": {
      "display_name": "Python 3",
      "language": "python",
      "name": "python3"
    },
    "language_info": {
      "codemirror_mode": {
        "name": "ipython",
        "version": 3
      },
      "file_extension": ".py",
      "mimetype": "text/x-python",
      "name": "python",
      "nbconvert_exporter": "python",
      "pygments_lexer": "ipython3",
      "version": "3.7.3"
    },
    "colab": {
      "provenance": []
    }
  },
  "cells": [
    {
      "cell_type": "code",
      "metadata": {
        "id": "4-Qm7g-LyTuh"
      },
      "source": [
        "import sympy\n",
        "from sympy import  Point, Line, Plane, Point3D, latex\n",
        "from IPython.display import display, Latex"
      ],
      "execution_count": 2,
      "outputs": []
    },
    {
      "cell_type": "markdown",
      "metadata": {
        "id": "aMjWpVeMyTum"
      },
      "source": [
        "# Практическое занятие 7\n",
        "# Компьютерный практикум по алгебре на Python\n",
        "https://docs.sympy.org/latest/search.html?q=geometry\n",
        "\n",
        "## Взаимное расположение прямых и плоскостей в пространстве\n",
        "\n",
        "Методы для изучения:\n",
        "\n",
        "**are_concurrent(*planes)** определяет, пересекаются ли все плоскости по одной прямой, число плоскостей произвольное\n",
        "\n",
        "**are_concurrent(*lines)** определяет, пересекаются ли все прямые в одной точке, число прямых произвольное\n",
        "\n",
        "**distance(o)**   расстояние между плоскостью и другим геометрическим объектом\n",
        "\n",
        "**equals(o)**   возвращает True, если self и o одинаковые математические объекты\n",
        "\n",
        "**intersection(o)**  пересечение с геометрическим объектом o  \n",
        " \n",
        " \n",
        "### Пример 1.\n",
        "\n",
        "Даны точки: $A(1, 2, 3)$,  $B(-5, 1, 7)$, \n",
        "$C(3, -2, 6)$, \n",
        "$D(-1, 2, 4)$, \n",
        "$F(5, 1, 7)$, \n",
        "$K(8, 27, 33)$, \n",
        "$M(16, 24, 32)$,\n",
        "$P(14, 28, 29)$.\n",
        "\n",
        "Определить, пересекаются ли по общей прямой плоскости \n",
        "\n",
        "а) $ABC$, $ABK$ и $ABF$\n",
        "\n",
        "б) $ABC$ и $AFK$\n",
        "\n",
        "Определить, пересекаются ли в одной точке прямые \n",
        "\n",
        "а) $AB$ и $CD$\n",
        "\n",
        "б) $AB$ и $FK$"
      ]
    },
    {
      "cell_type": "code",
      "metadata": {
        "id": "JHyb6pZ-yTup",
        "colab": {
          "base_uri": "https://localhost:8080/"
        },
        "outputId": "e03e0ac8-4561-48ab-c1d5-1e40a9af3516"
      },
      "source": [
        "A = Point(1, 2, 3)\n",
        "B = Point(-5, 1, 7)\n",
        "C = Point(3, -2, 6)\n",
        "ABC = Plane(A, B, C)\n",
        "D = Point(-1, 2, 4)\n",
        "F = Point(5, 1, 7)\n",
        "K = Point(8, 27, 33) \n",
        "M = Point(16, 24, 32)\n",
        "P = Point(14, 28, 29)\n",
        "ABD = Plane(A, B, D)\n",
        "ABF = Plane(A, B, F)\n",
        "ABK = Plane(A, B, K)\n",
        "AFK = Plane(A, F, K)\n",
        "PKM = Plane(P, K, M)\n",
        "AB = Line(A, B)\n",
        "CD = Line(C, D)\n",
        "FK = Line(F, K)\n",
        "print('Пересекаются ли по общей прямой ABC, ABK и ABF?',\n",
        "      Plane.are_concurrent(ABC, ABK, ABF))\n",
        "print('Пересекаются ли по общей прямой ABC и PKM?',\n",
        "      Plane.are_concurrent(ABC, PKM))\n",
        "print('Пересекаются ли в одной точке прямые  AB и СD?',\n",
        "      Line.are_concurrent(AB, CD))\n",
        "print('Пересекаются ли в одной точке прямые  AB и FK?',\n",
        "      Line.are_concurrent(AB, FK))"
      ],
      "execution_count": 3,
      "outputs": [
        {
          "output_type": "stream",
          "name": "stdout",
          "text": [
            "Пересекаются ли по общей прямой ABC, ABK и ABF? True\n",
            "Пересекаются ли по общей прямой ABC и PKM? False\n",
            "Пересекаются ли в одной точке прямые  AB и СD? True\n",
            "Пересекаются ли в одной точке прямые  AB и FK? False\n"
          ]
        }
      ]
    },
    {
      "cell_type": "markdown",
      "metadata": {
        "id": "vg22dtc-yTus"
      },
      "source": [
        "### Пример 2\n",
        "Найти расстояние до плоскости $ABC$\n",
        "\n",
        "а) от точки $F$,\n",
        "\n",
        "б) от прямой $KM$,\n",
        "\n",
        "в) от плоскости $PKM$."
      ]
    },
    {
      "cell_type": "code",
      "metadata": {
        "id": "ii25Qbi-yTut",
        "colab": {
          "base_uri": "https://localhost:8080/",
          "height": 79
        },
        "outputId": "fabed23c-3ac5-4af3-8601-ae3f4e4e7b3f"
      },
      "source": [
        "display(Latex(f'\\\\text{{Расстояние от расстояние от  F до  ABC: }}{latex(ABC.distance(F))}'))\n",
        "KM = Line(K, M)\n",
        "display(Latex(f'\\\\text{{Расстояние от расстояние от  KM до  ABC: }}{latex(ABC.distance(KM))}'))\n",
        "display(Latex(f'\\\\text{{Расстояние от расстояние от  PKM до  ABC: }}{latex(ABC.distance(PKM))}'))"
      ],
      "execution_count": 4,
      "outputs": [
        {
          "output_type": "display_data",
          "data": {
            "text/plain": [
              "<IPython.core.display.Latex object>"
            ],
            "text/latex": "\\text{Расстояние от расстояние от  F до  ABC: }\\frac{10}{3}"
          },
          "metadata": {}
        },
        {
          "output_type": "display_data",
          "data": {
            "text/plain": [
              "<IPython.core.display.Latex object>"
            ],
            "text/latex": "\\text{Расстояние от расстояние от  KM до  ABC: }39"
          },
          "metadata": {}
        },
        {
          "output_type": "display_data",
          "data": {
            "text/plain": [
              "<IPython.core.display.Latex object>"
            ],
            "text/latex": "\\text{Расстояние от расстояние от  PKM до  ABC: }39"
          },
          "metadata": {}
        }
      ]
    },
    {
      "cell_type": "markdown",
      "metadata": {
        "id": "HUfCtoIWyTut"
      },
      "source": [
        "### Пример 3\n",
        "Определить, совпадают ли плоскости \n",
        "\n",
        "a) $ABD$ и $ABC$\n",
        "\n",
        "б) $ABD$ и $ABF$"
      ]
    },
    {
      "cell_type": "code",
      "metadata": {
        "id": "IADg9JsuyTuu",
        "colab": {
          "base_uri": "https://localhost:8080/"
        },
        "outputId": "96e60b61-a6f3-4a41-9922-aa4d7d51cb8e"
      },
      "source": [
        "for i, item in enumerate((ABD.equals(ABC), ABD.equals(ABF))):\n",
        "    print(f'{chr(ord(\"a\") + i)}) {\"не \" * (not item)}совпадают')"
      ],
      "execution_count": 4,
      "outputs": [
        {
          "output_type": "stream",
          "name": "stdout",
          "text": [
            "a) совпадают\n",
            "b) не совпадают\n"
          ]
        }
      ]
    },
    {
      "cell_type": "markdown",
      "metadata": {
        "id": "TJj7ZAbFyTuv"
      },
      "source": [
        "### Пример 4\n",
        "Найти пересечение:\n",
        "\n",
        "a) плоскостей ABD и СКМ\n",
        "\n",
        "b) плоскости ABD и прямой FK\n",
        "\n",
        "c) плоскости ABD и прямой KM\n",
        "\n",
        "d) прямых AB и CD"
      ]
    },
    {
      "cell_type": "code",
      "metadata": {
        "id": "5OKdIIjdyTuw",
        "colab": {
          "base_uri": "https://localhost:8080/",
          "height": 102
        },
        "outputId": "bf7a8290-149f-433c-bfcf-333af2cfccc7"
      },
      "source": [
        "CKM = Plane(C, K, M)\n",
        "KM = Line(K, M)\n",
        "display(Latex(f'\\\\text{{ABD.intersection(CKM): }}{latex(ABD.intersection(CKM))}'))\n",
        "display(Latex(f'\\\\text{{ABD.intersection(FK): }}{latex(ABD.intersection(FK))}'))\n",
        "display(Latex(f'\\\\text{{ABD.intersection(KM): }}{latex(ABD.intersection(KM))}'))\n",
        "display(Latex(f'\\\\text{{AB.intersection(CD): }}{latex(AB.intersection(CD))}'))"
      ],
      "execution_count": 6,
      "outputs": [
        {
          "output_type": "display_data",
          "data": {
            "text/plain": [
              "<IPython.core.display.Latex object>"
            ],
            "text/latex": "\\text{ABD.intersection(CKM): }\\left[ Line3D\\left(Point3D\\left(51, -20, 0\\right), Point3D\\left(987, -371, -117\\right)\\right)\\right]"
          },
          "metadata": {}
        },
        {
          "output_type": "display_data",
          "data": {
            "text/plain": [
              "<IPython.core.display.Latex object>"
            ],
            "text/latex": "\\text{ABD.intersection(FK): }\\left[ Point3D\\left(\\frac{505}{107}, - \\frac{153}{107}, \\frac{489}{107}\\right)\\right]"
          },
          "metadata": {}
        },
        {
          "output_type": "display_data",
          "data": {
            "text/plain": [
              "<IPython.core.display.Latex object>"
            ],
            "text/latex": "\\text{ABD.intersection(KM): }\\left[ \\right]"
          },
          "metadata": {}
        },
        {
          "output_type": "display_data",
          "data": {
            "text/plain": [
              "<IPython.core.display.Latex object>"
            ],
            "text/latex": "\\text{AB.intersection(CD): }\\left[ Point3D\\left(- \\frac{5}{7}, \\frac{12}{7}, \\frac{29}{7}\\right)\\right]"
          },
          "metadata": {}
        }
      ]
    },
    {
      "cell_type": "markdown",
      "metadata": {
        "id": "dGmUHDYZyTux"
      },
      "source": [
        "Плоскости ABD и CKM пересекаются по прямой, прямая FK пересекает плоскость ABD в точке, плоскость  ABD не пересекается прямой KM, прямые AB и CD пересекаются в точке.\n",
        "\n",
        "Проверим, что KM параллельна плоскости  ABD:"
      ]
    },
    {
      "cell_type": "code",
      "metadata": {
        "id": "MnIruYmAyTux",
        "colab": {
          "base_uri": "https://localhost:8080/"
        },
        "outputId": "9a7e1834-991f-46be-8e12-4f84f96e808d"
      },
      "source": [
        "print(f'ABD параллельна KM? {\" не \" * (not ABD.is_parallel(KM))}параллельна')"
      ],
      "execution_count": 7,
      "outputs": [
        {
          "output_type": "stream",
          "name": "stdout",
          "text": [
            "ABD параллельна KM? параллельна\n"
          ]
        }
      ]
    },
    {
      "cell_type": "markdown",
      "metadata": {
        "id": "t7UMdYxryTuy"
      },
      "source": [
        "### Пример 5\n",
        "\n",
        "### Работа со словарями\n",
        "https://docs.python.org/3/library/stdtypes.html#dict\n",
        "\n",
        "**Пример словаря:**\n",
        "\n",
        "создадим словари\n",
        "\n",
        "а) всех точек\n",
        "\n",
        "б) прямых, проходящих через эти точки"
      ]
    },
    {
      "cell_type": "code",
      "metadata": {
        "id": "F-7s_SOCyTuy",
        "colab": {
          "base_uri": "https://localhost:8080/"
        },
        "outputId": "0000e7e4-e77b-44d3-8d27-ed30bc8faa87"
      },
      "source": [
        "Points_list = [A, B, C, D]\n",
        "Point_names = ['A','B','C','D']\n",
        "points_numbers = range(len(Point_names))\n",
        "Points = {Point_names[i]: Points_list[i] for i in points_numbers}\n",
        "#Points = dict([(Point_names[i], Points_list[i]) for i in points_numbers])\n",
        "Points"
      ],
      "execution_count": 8,
      "outputs": [
        {
          "output_type": "execute_result",
          "data": {
            "text/plain": [
              "{'A': Point3D(1, 2, 3),\n",
              " 'B': Point3D(-5, 1, 7),\n",
              " 'C': Point3D(3, -2, 6),\n",
              " 'D': Point3D(-1, 2, 4)}"
            ]
          },
          "metadata": {},
          "execution_count": 8
        }
      ]
    },
    {
      "cell_type": "markdown",
      "metadata": {
        "id": "NNjDcgyzyTuz"
      },
      "source": [
        "Вызовем точку А по ее имени (обращение к записи по ключу):"
      ]
    },
    {
      "cell_type": "code",
      "metadata": {
        "id": "UbTz5txmyTuz",
        "colab": {
          "base_uri": "https://localhost:8080/",
          "height": 38
        },
        "outputId": "8dc4dc85-0f3c-4197-f8a1-02fa9645a096"
      },
      "source": [
        "Points['A']"
      ],
      "execution_count": 9,
      "outputs": [
        {
          "output_type": "execute_result",
          "data": {
            "text/plain": [
              "Point3D(1, 2, 3)"
            ],
            "text/latex": "$\\displaystyle Point3D\\left(1, 2, 3\\right)$"
          },
          "metadata": {},
          "execution_count": 9
        }
      ]
    },
    {
      "cell_type": "markdown",
      "metadata": {
        "id": "UU-_EJXOyTu0"
      },
      "source": [
        "Построим словарь прямых, проходящих через точки, используя присвоение по ключу.\n",
        "\n",
        "(Присвоение по существующему ключу перезаписывает значение элемента словаря, \n",
        "\n",
        "присвоение по несуществующему ключу добавляет новую запись в словарь)"
      ]
    },
    {
      "cell_type": "code",
      "metadata": {
        "id": "8-ksiyTxyTu0",
        "colab": {
          "base_uri": "https://localhost:8080/"
        },
        "outputId": "6a9ccb62-9b55-4b20-db3f-25d62e0534dc"
      },
      "source": [
        "Points.keys()"
      ],
      "execution_count": 10,
      "outputs": [
        {
          "output_type": "execute_result",
          "data": {
            "text/plain": [
              "dict_keys(['A', 'B', 'C', 'D'])"
            ]
          },
          "metadata": {},
          "execution_count": 10
        }
      ]
    },
    {
      "cell_type": "code",
      "metadata": {
        "id": "JLJVTE2GyTu0",
        "colab": {
          "base_uri": "https://localhost:8080/",
          "height": 121
        },
        "outputId": "001e4cb3-8ff5-49f6-e32f-c1ab74e88bd1"
      },
      "source": [
        "lines = {P1 + P2: Line(Points[P1], Points[P2]) for P1 in Points.keys() for P2 in Points.keys() if P1 < P2}\n",
        "display(lines) "
      ],
      "execution_count": 11,
      "outputs": [
        {
          "output_type": "display_data",
          "data": {
            "text/plain": [
              "{'AB': Line3D(Point3D(1, 2, 3), Point3D(-5, 1, 7)),\n",
              " 'AC': Line3D(Point3D(1, 2, 3), Point3D(3, -2, 6)),\n",
              " 'AD': Line3D(Point3D(1, 2, 3), Point3D(-1, 2, 4)),\n",
              " 'BC': Line3D(Point3D(-5, 1, 7), Point3D(3, -2, 6)),\n",
              " 'BD': Line3D(Point3D(-5, 1, 7), Point3D(-1, 2, 4)),\n",
              " 'CD': Line3D(Point3D(3, -2, 6), Point3D(-1, 2, 4))}"
            ]
          },
          "metadata": {}
        }
      ]
    },
    {
      "cell_type": "markdown",
      "metadata": {
        "id": "iwi_ahanyTu1"
      },
      "source": [
        "### Пример 6\n",
        "Даны точки  пространстве\n",
        "$A(-2, 7, -5)$, $B(6, 2, -4)$, $C(14, -3, -2)$, $D(22, -8, -2)$, $K(30, -7, -4)$,\n",
        "$M(94, -35, -2)$.\n",
        "\n",
        "Определить, какие тройки точек лежат на одной прямой, составить словарь с ключами - множествами из трех точек, значениями - прямыми Line.\n",
        "\n",
        "Для проверки того, что три точки лежат на одной прямой используем Point3D.are_collinear.\n",
        "\n",
        "Для иллюстрации возможности перебора по множеству будем выбирать первую точку из множества всех ключей словаря Points, вторую - из всех остальных точек, третью - из всех точек, кроме первой и второй. Если имена точек идут в лексикографическом порядке, и точки лежат на одной прямой, в словарь three_points включаем запись с ключом - tuple из имен трех точек, значением - прямой, проходящей через две из этих точек."
      ]
    },
    {
      "cell_type": "code",
      "metadata": {
        "id": "otBhdKfdyTu1",
        "colab": {
          "base_uri": "https://localhost:8080/"
        },
        "outputId": "ef041dd3-5d73-40be-85ad-5f846f811e8b"
      },
      "source": [
        "A = Point(-2, 7, -5)\n",
        "B = Point(6, 2, -4)\n",
        "C = Point(14, -3, -2)\n",
        "D = Point(22, -8, -2) \n",
        "F = Point(14, -3, -3)\n",
        "K = Point(30, -7, -4)\n",
        "M = Point(94, -35, -2)\n",
        "Points = {A: 'A', B: 'B', C: 'C', D: 'D', F: 'F', K: 'K', M: 'M'}\n",
        "three_points = {}\n",
        "for P1 in Points.keys():\n",
        "    for P2 in Points.keys() - {P1}:\n",
        "        for P3 in Points.keys() - {P1} - {P2}:\n",
        "            P_name1, P_name2, P_name3 = [Points[P] for P in (P1, P2, P3)]\n",
        "            if P_name1 < P_name2 and P_name2 < P_name3:\n",
        "                 if Point3D.are_collinear(P1, P2, P3):\n",
        "                        three_points[(P_name1, P_name2, P_name3)] = Line(P1, P2)\n",
        "three_points       "
      ],
      "execution_count": 12,
      "outputs": [
        {
          "output_type": "execute_result",
          "data": {
            "text/plain": [
              "{('A', 'K', 'M'): Line3D(Point3D(-2, 7, -5), Point3D(30, -7, -4)),\n",
              " ('A', 'B', 'F'): Line3D(Point3D(-2, 7, -5), Point3D(6, 2, -4)),\n",
              " ('A', 'B', 'D'): Line3D(Point3D(-2, 7, -5), Point3D(6, 2, -4)),\n",
              " ('A', 'D', 'F'): Line3D(Point3D(-2, 7, -5), Point3D(22, -8, -2)),\n",
              " ('B', 'D', 'F'): Line3D(Point3D(6, 2, -4), Point3D(22, -8, -2))}"
            ]
          },
          "metadata": {},
          "execution_count": 12
        }
      ]
    },
    {
      "cell_type": "markdown",
      "metadata": {
        "id": "-zb8d9c1yTu2"
      },
      "source": [
        "Более оптимальный перебор вариантов с меньшим числом сравнений:"
      ]
    },
    {
      "cell_type": "code",
      "metadata": {
        "id": "Tz2pIbvhyTu2",
        "colab": {
          "base_uri": "https://localhost:8080/"
        },
        "outputId": "8cff69cb-19e2-4abd-e50d-267ffe8fcb08"
      },
      "source": [
        "A = Point(-2, 7, -5)\n",
        "B = Point(6, 2, -4)\n",
        "C = Point(14, -3, -2)\n",
        "D = Point(22, -8, -2) \n",
        "F = Point(14, -3, -3)\n",
        "K = Point(30, -7, -4)\n",
        "M = Point(94, -35, -2)\n",
        "Points_dict = {A: 'A', B: 'B', C: 'C', D: 'D', F: 'F', K: 'K', M: 'M'}\n",
        "Points = tuple(Points_dict.keys())\n",
        "num = len(Points)\n",
        "three_points = {}\n",
        "\n",
        "for i in range(num):\n",
        "    P1 = Points[i]\n",
        "    for j in range(i + 1, num):\n",
        "        P2 = Points[j]\n",
        "        for k in range(j + 1, num):\n",
        "            P3 = Points[k]\n",
        "            P_name1, P_name2, P_name3 = [Points_dict[P] for P in (P1, P2, P3)]\n",
        "            if P_name1 < P_name2 and P_name2 < P_name3:\n",
        "                 if Point3D.are_collinear(P1, P2, P3):\n",
        "                        three_points[(P_name1, P_name2, P_name3)] = Line(P1, P2)\n",
        "\n",
        "print('Точки на одной прямой', *three_points)                                                     "
      ],
      "execution_count": 13,
      "outputs": [
        {
          "output_type": "stream",
          "name": "stdout",
          "text": [
            "Точки на одной прямой ('A', 'B', 'D') ('A', 'B', 'F') ('A', 'D', 'F') ('A', 'K', 'M') ('B', 'D', 'F')\n"
          ]
        }
      ]
    }
  ]
}