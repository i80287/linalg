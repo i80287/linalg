{
  "cells": [
    {
      "cell_type": "code",
      "execution_count": 64,
      "metadata": {
        "id": "DnGK4caeH1Vr"
      },
      "outputs": [],
      "source": [
        "from typing import Tuple, Union, Dict, Optional, Iterator, Literal\n",
        "\n",
        "import numpy as np\n",
        "import sympy\n",
        "from sympy import Basic, Pow, Symbol\n",
        "from sympy import Expr, Eq, latex, plot_implicit, tan, cot, Ellipse\n",
        "from sympy.core import S, pi, sympify, Equality\n",
        "from sympy.core.logic import fuzzy_bool\n",
        "from sympy.core.numbers import Rational, oo\n",
        "from sympy.core.compatibility import ordered\n",
        "from sympy.core.symbol import Dummy, _uniquely_named_symbol, _symbol\n",
        "from sympy.simplify import simplify, trigsimp\n",
        "from sympy.functions.elementary.miscellaneous import sqrt, Max\n",
        "from sympy.functions.elementary.trigonometric import cos, sin\n",
        "from sympy.functions.special.elliptic_integrals import elliptic_e\n",
        "from sympy.geometry.exceptions import GeometryError\n",
        "from sympy.geometry.line import Ray2D, Segment2D, Line2D, LinearEntity3D\n",
        "from sympy.polys import DomainError, Poly, PolynomialError\n",
        "from sympy.polys.polyutils import _not_a_coeff, _nsort\n",
        "from sympy.solvers import solve\n",
        "from sympy.solvers.solveset import linear_coeffs\n",
        "from sympy.utilities.misc import filldedent, func_name\n",
        "from sympy.geometry.entity import GeometryEntity, GeometrySet\n",
        "from sympy.geometry.point import Point, Point2D, Point3D\n",
        "from sympy.geometry.line import Line, Segment\n",
        "from sympy.geometry.util import idiff\n",
        "from sympy.plotting.plot import Plot\n",
        "import matplotlib.pyplot as plt\n",
        "from IPython.display import Math, Latex"
      ]
    },
    {
      "cell_type": "markdown",
      "metadata": {
        "id": "6qGONNAQH1Vw"
      },
      "source": [
        "# Практическое занятие 14\n",
        "# Компьютерный практикум по алгебре на Python\n",
        "## Кривые второго порядка на плоскости: гипербола"
      ]
    },
    {
      "cell_type": "code",
      "execution_count": 65,
      "metadata": {
        "id": "7RFTEmNDH1Vx"
      },
      "outputs": [],
      "source": [
        "class Hyperbola(GeometrySet):\n",
        "    \"\"\"\n",
        "     Attributes\n",
        "    ==========\n",
        "    center\n",
        "    hradius\n",
        "    vradius\n",
        "    eccentricity\n",
        "    periapsis\n",
        "    focus_distance\n",
        "    foci\n",
        "    ==========\n",
        "    конструктор __new__\n",
        "    скопирован из Эллипса,\n",
        "    изменена формула для  hradius и vradius через эсцентриситет\n",
        "    \"\"\"\n",
        "    def __new__(\n",
        "        cls, center=None, hradius=None, vradius=None, eccentricity=None, **kwargs):\n",
        "        hradius = sympify(hradius)\n",
        "        vradius = sympify(vradius)\n",
        "\n",
        "        eccentricity = sympify(eccentricity)\n",
        "\n",
        "        if center is None:\n",
        "            center = Point(0, 0)\n",
        "        else:\n",
        "            center = Point(center, dim=2)\n",
        "\n",
        "        if len(center) != 2:\n",
        "            raise ValueError('The center of \"{0}\" must be a two dimensional point'.format(cls))\n",
        "\n",
        "        if len(list(filter(lambda x: x is not None, (hradius, vradius, eccentricity)))) != 2:\n",
        "            raise ValueError(filldedent('''\n",
        "                Exactly two arguments of \"hradius\", \"vradius\", and\n",
        "                \"eccentricity\" must not be None.'''))\n",
        "\n",
        "        if eccentricity is not None:\n",
        "            if hradius is None:\n",
        "                hradius = vradius/sqrt( eccentricity**2 - 1)\n",
        "            elif vradius is None:\n",
        "                vradius = hradius*sqrt( eccentricity**2 - 1)\n",
        "\n",
        "        if hradius == 0:\n",
        "            return \"Line\"\n",
        "        if vradius == 0:\n",
        "            return \"Rays\"\n",
        "        return GeometryEntity.__new__(cls, center, hradius, vradius, **kwargs)\n",
        "    \n",
        "    @property\n",
        "    def ambient_dimension(self):\n",
        "        return 2\n",
        "    \n",
        "    @property\n",
        "    def center(self) -> Point:\n",
        "        return self.args[0]\n",
        "\n",
        "    @property\n",
        "    def hradius(self) -> Expr:\n",
        "        return self.args[1]\n",
        "    \n",
        "    @property\n",
        "    def vradius(self) -> Expr:\n",
        "        return self.args[2]\n",
        "    @property\n",
        "    def focus_distance(self) -> Expr:\n",
        "        return sqrt(self.hradius**2 + self.vradius**2)\n",
        "    \n",
        "    @property\n",
        "    def eccentricity(self) -> Expr:\n",
        "        \"\"\"The eccentricity of the ellipse.\"\"\"\n",
        "        return self.focus_distance/self.hradius\n",
        "    \n",
        "    @property\n",
        "    def periapsis(self) -> Expr:\n",
        "        \"\"\"The apoapsis of the hyperbola.\n",
        "        The smallest distance between the focus and the contour.\"\"\"\n",
        "        return self.focus_distance-self.hradius\n",
        "    @property\n",
        "    def foci(self) -> Tuple[Point, Point]:\n",
        "        return (self.center + Point(-self.focus_distance, 0), self.center + Point(self.focus_distance, 0))\n",
        "    \n",
        "    @property\n",
        "    def major(self) -> Expr:\n",
        "        return self.hradius\n",
        "    \n",
        "    @property\n",
        "    def minor(self) -> Expr:\n",
        "        return self.vradius\n",
        "    \n",
        "    def equation(self, x='x', y='y', _slope=None, equation=False):\n",
        "        \"\"\"\n",
        "        Returns the equation of a hyperbola aligned with the x and y axes;\n",
        "        when slope is given, the equation returned corresponds to a hyperbola \n",
        "        with a major axis having that slope.\n",
        "        Parameters\n",
        "        ==========\n",
        "        x : str, optional\n",
        "            Label for the x-axis. Default value is 'x'.\n",
        "        y : str, optional\n",
        "            Label for the y-axis. Default value is 'y'.\n",
        "        _slope : Expr, optional\n",
        "                The slope of the major axis. Ignored when 'None'.\n",
        "        Returns\n",
        "        =======\n",
        "        equation : sympy expression   \"\"\"\n",
        "\n",
        "        x: Union[Expr, Symbol] = _symbol(x, real=True)\n",
        "        y: Union[Expr, Symbol] = _symbol(y, real=True)\n",
        "\n",
        "        dx: Expr = x - self.center.x\n",
        "        dy: Expr = y - self.center.y\n",
        "\n",
        "        if _slope is not None:\n",
        "            L = (dy - _slope*dx)**2\n",
        "            l = (_slope*dy + dx)**2\n",
        "            h = 1 + _slope**2\n",
        "            a = h*self.major**2\n",
        "            b = h*self.minor**2\n",
        "            res= l/a - L/b \n",
        "\n",
        "        else:\n",
        "            t1 = (dx/self.hradius)**2\n",
        "            t2 = (dy/self.vradius)**2\n",
        "            res = t1 - t2 \n",
        "        if not equation:\n",
        "            return res - 1\n",
        "        else:\n",
        "            return Eq(res, 1)\n",
        "    \n",
        "    def asymptote(\n",
        "        self,\n",
        "        x: Union[str, Expr, Symbol] = 'x',\n",
        "        y: Union[str, Expr, Symbol] = 'y',\n",
        "        equation: bool = False,\n",
        "        _slope: Optional[Union[Expr, Symbol]] = None\n",
        "    ) -> Union[Tuple[Equality, Equality], Tuple[Expr, Expr]]:\n",
        "        if x is None:\n",
        "            x: Union[Expr, Symbol] = _symbol('x', real=True)\n",
        "        elif isinstance(x, str):\n",
        "            x: Union[Expr, Symbol] = _symbol(x, real=True)\n",
        "        if y is None:\n",
        "            y: Union[Expr, Symbol] = _symbol('y', real=True)\n",
        "        elif isinstance(y, str):\n",
        "            y: Union[Expr, Symbol] = _symbol(y, real=True)\n",
        "        \n",
        "        b: Expr = self.minor\n",
        "        a: Expr = self.major\n",
        "        x0: Expr\n",
        "        y0: Expr\n",
        "        x0, y0 = self.center.args\n",
        "        \n",
        "        y_expr1: Expr\n",
        "        y_expr2: Expr\n",
        "        if _slope is None:\n",
        "            arg: Expr = b / a * (x - x0)\n",
        "            y_expr1 = y0 - arg\n",
        "            y_expr2 = y0 + arg\n",
        "            \n",
        "        else:\n",
        "            if not isinstance(_slope, (Expr, Symbol)):\n",
        "                _slope = S(_slope)\n",
        "            \n",
        "            k1: Expr = (b + a*_slope)/(a - b*_slope)\n",
        "            k2: Expr = (-b + a*_slope)/(a + b*_slope)\n",
        "            y_expr1 = y0 + k1*(x - x0)\n",
        "            y_expr2 = y0 + k2*(x - x0)\n",
        "        \n",
        "        return (Eq(y, y_expr1), Eq(y, y_expr2)) if equation else (y_expr1, y_expr2)\n",
        "    \n",
        "    def directrix(\n",
        "        self,\n",
        "        x: Union[str, Expr, Symbol] = 'x',\n",
        "        equation: bool = False,\n",
        "        _slope: Optional[Union[Expr, Symbol]] = None\n",
        "    ) -> Union[Tuple[Equality, Equality], Tuple[Expr, Expr]]:\n",
        "        if x is None:\n",
        "            x: Union[Expr, Symbol] = _symbol('x', real=True)\n",
        "        elif isinstance(x, str):\n",
        "            x: Union[Expr, Symbol] = _symbol(x, real=True)\n",
        "\n",
        "        a: Expr = self.major\n",
        "        c: Expr = self.focus_distance\n",
        "        div_arg: Expr = a*a/c\n",
        "        x0: Expr\n",
        "        y0: Expr\n",
        "        x0, y0 = self.center.args\n",
        "\n",
        "        if _slope is None:\n",
        "            x_expr1: Expr = x0 - div_arg\n",
        "            x_expr2: Expr = x0 + div_arg\n",
        "            return (Eq(x, x_expr1), Eq(x, x_expr2)) if equation else (x - x_expr1, x - x_expr2)\n",
        "        else:\n",
        "            if _slope == S(0):\n",
        "                raise ZeroDivisionError(_slope)\n",
        "            \n",
        "            ctg_alpha: Expr = 1 / _slope\n",
        "            y_arg: Expr = y0 - (x - x0)*ctg_alpha\n",
        "            \n",
        "            ctg_arg: Expr = sqrt(1 + ctg_alpha)\n",
        "            y_expr: Expr = div_arg * ctg_arg\n",
        "\n",
        "            y_expr1: Expr = y_arg - y_expr\n",
        "            y_expr2: Expr = y_arg + y_expr\n",
        "            y: Union[Expr, Symbol] = _symbol('y', real=True)\n",
        "            return (Eq(y, y_expr1), Eq(y, y_expr2)) if equation else (y - y_expr1, y - y_expr2)"
      ]
    },
    {
      "cell_type": "markdown",
      "metadata": {
        "id": "OcHRuZNaH1Vz"
      },
      "source": [
        "# Занятие 15\n",
        "# Алгебра\n",
        "### Задание 1.\n",
        "Построить гиперболу с центром в точке А(1, 2), полуосями 12 и 5. Вывести на экран эксцентриситет, фокусное расстояние, фокусы (с координатами), periapsis и уравнение гиперболы."
      ]
    },
    {
      "cell_type": "code",
      "execution_count": 66,
      "metadata": {
        "colab": {
          "base_uri": "https://localhost:8080/",
          "height": 129
        },
        "id": "s0mOdySVM0Jg",
        "outputId": "c1212105-4b56-4d52-fbeb-5bbb507bd471"
      },
      "outputs": [
        {
          "name": "stdout",
          "output_type": "stream",
          "text": [
            "эксцентриситет: 13/12\n",
            "фокусное расстояние: 13\n",
            "фокусы: (Point2D(-12, 2), Point2D(14, 2))\n",
            "periapsis: 1\n"
          ]
        },
        {
          "data": {
            "text/latex": [
              "$\\displaystyle \\left(\\frac{x}{12} - \\frac{1}{12}\\right)^{2} - \\left(\\frac{y}{5} - \\frac{2}{5}\\right)^{2} = 1$"
            ],
            "text/plain": [
              "Eq((x/12 - 1/12)**2 - (y/5 - 2/5)**2, 1)"
            ]
          },
          "metadata": {},
          "output_type": "display_data"
        }
      ],
      "source": [
        "Hyp1: Union[GeometrySet, Hyperbola] = Hyperbola(Point(1,2), hradius = 12, vradius = 5)\n",
        "print(f'эксцентриситет: {Hyp1.eccentricity}')\n",
        "print(f'фокусное расстояние: {Hyp1.focus_distance}')\n",
        "print(f'фокусы: {Hyp1.foci}')\n",
        "print(f'periapsis: {Hyp1.periapsis}')\n",
        "display(Hyp1.equation(equation=True))"
      ]
    },
    {
      "cell_type": "markdown",
      "metadata": {
        "id": "SaI-GJx9H1V2"
      },
      "source": [
        "### Задание 2.\n",
        "Добавить в описание класса гипербол методы \n",
        "\n",
        "asymptote(self, x='x', y='y', equation=False)\n",
        "\n",
        "directrix(self, x='x', equation=False)\n",
        "\n",
        "Для гиперболы Задания 1 вывести на экран уравнения асимптот и директрис."
      ]
    },
    {
      "cell_type": "code",
      "execution_count": 67,
      "metadata": {
        "id": "ccMgFQeyM1zb"
      },
      "outputs": [
        {
          "data": {
            "text/latex": [
              "$\\displaystyle v = \\frac{29}{12} - \\frac{5 u}{12}$"
            ],
            "text/plain": [
              "Eq(v, 29/12 - 5*u/12)"
            ]
          },
          "metadata": {},
          "output_type": "display_data"
        },
        {
          "data": {
            "text/latex": [
              "$\\displaystyle v = \\frac{5 u}{12} + \\frac{19}{12}$"
            ],
            "text/plain": [
              "Eq(v, 5*u/12 + 19/12)"
            ]
          },
          "metadata": {},
          "output_type": "display_data"
        },
        {
          "data": {
            "text/latex": [
              "$\\displaystyle u = - \\frac{131}{13}$"
            ],
            "text/plain": [
              "Eq(u, -131/13)"
            ]
          },
          "metadata": {},
          "output_type": "display_data"
        },
        {
          "data": {
            "text/latex": [
              "$\\displaystyle u = \\frac{157}{13}$"
            ],
            "text/plain": [
              "Eq(u, 157/13)"
            ]
          },
          "metadata": {},
          "output_type": "display_data"
        }
      ],
      "source": [
        "display(*Hyp1.asymptote(x='u', y='v', equation=True))\n",
        "display(*Hyp1.directrix(x='u', equation=True))"
      ]
    },
    {
      "cell_type": "markdown",
      "metadata": {
        "id": "lP57kra7H1V4"
      },
      "source": [
        "### Задание 3.\n",
        "Вывести на экран уравнение гиперболы из задания 1 с поворотом на 30 градусов против часовой стрелки относительно ее центра.\n",
        "Изобразить повернутую гиперболу с помощью plot_implicit."
      ]
    },
    {
      "cell_type": "code",
      "execution_count": 68,
      "metadata": {
        "id": "mrc4QObWM3w9"
      },
      "outputs": [
        {
          "data": {
            "text/latex": [
              "$\\displaystyle \\frac{\\left(3 x + \\sqrt{3} \\left(y - 2\\right) - 3\\right)^{2}}{1728} - \\frac{\\left(- 3 y + \\sqrt{3} \\left(x - 1\\right) + 6\\right)^{2}}{300} - 1$"
            ],
            "text/plain": [
              "(3*x + sqrt(3)*(y - 2) - 3)**2/1728 - (-3*y + sqrt(3)*(x - 1) + 6)**2/300 - 1"
            ]
          },
          "metadata": {},
          "output_type": "display_data"
        },
        {
          "data": {
            "image/png": "[encoded data removed]",
            "text/plain": [
              "<Figure size 800x800 with 1 Axes>"
            ]
          },
          "metadata": {},
          "output_type": "display_data"
        }
      ],
      "source": [
        "def degrees_to_rad(angle: Union[int, float, Basic]) -> Basic:\n",
        "    return angle * sympy.pi / 180\n",
        "\n",
        "slope = tan(degrees_to_rad(30))\n",
        "hyp_eq = simplify(Hyp1.equation(_slope=slope), equation=True)\n",
        "display(hyp_eq)\n",
        "symbs: Dict[str, Basic] = {str(s): s for s in hyp_eq.free_symbols}\n",
        "plot_implicit(\n",
        "    hyp_eq,\n",
        "    (symbs['x'], -100, 100),\n",
        "    (symbs['y'], -100, 100),\n",
        "    line_color='r',\n",
        "    aspect_ratio=(1, 1),\n",
        "    adaptive=False,\n",
        "    size=(8, 8)\n",
        ")\n",
        "None"
      ]
    },
    {
      "cell_type": "markdown",
      "metadata": {
        "id": "ylpjKXs1H1V5"
      },
      "source": [
        "## Уравнения директрис и асимптот при повороте на угол $\\alpha$\n",
        "Пусть  $a$ - горизонтальная полуось, $c$ - фокусное расстояние, $x_0$ - горизонтальная координата центра гиперболы, тогда уравнение директрис \n",
        "$$\n",
        "x = x_0 \\pm \\frac{a^2}{c}\n",
        "$$\n",
        "При повороте на угол $\\alpha$ получается уравнение\n",
        "$$\n",
        "y = y_0 -{\\rm ctg} \\alpha(x - x_0) \\pm \\frac{a^2}{c}\\sqrt{1 + {\\rm ctg} \\alpha}\n",
        "$$\n",
        "Уравнение асимптоты\n",
        "$$\n",
        "y = y_0 \\pm \\frac{b}{a}(x - x_0)\n",
        "$$\n",
        "При повороте на угол $\\alpha$ получаются уравнения\n",
        "\\begin{align*}\n",
        "y_1 = y_0 + k_1(x - x_0), \\quad \n",
        "y_2 = y_0 + k_2(x - x_0), \\\\ \n",
        "k_1 = \\frac{b + a{\\rm tg} \\alpha}{a - b{\\rm tg} \\alpha},\\quad \n",
        "k_2 = \\frac{-b + a{\\rm tg} \\alpha}{a + b{\\rm tg} \\alpha}\n",
        "\\end{align*}\n",
        "### Задание 4.\n",
        "Изобразить гиперболу Задания 3 (т.е. повернутую на угол) и ее асимптоты и директрисы на одном графике plot_implicit."
      ]
    },
    {
      "cell_type": "code",
      "execution_count": 69,
      "metadata": {
        "id": "Zhk-ocNcH1V5"
      },
      "outputs": [
        {
          "data": {
            "image/png": "[encoded data removed]",
            "text/plain": [
              "<Figure size 800x800 with 1 Axes>"
            ]
          },
          "metadata": {},
          "output_type": "display_data"
        }
      ],
      "source": [
        "asymp_eqs: Tuple[Equality, Equality] = Hyp1.asymptote(equation=True, _slope=slope)\n",
        "dir_eqs: Tuple[Equality, Equality] = Hyp1.directrix(equation=True, _slope=slope)\n",
        "equations: Tuple[Equality, ...] = asymp_eqs + dir_eqs\n",
        "\n",
        "hyp_eq = simplify(Hyp1.equation(_slope=slope), equation=True)\n",
        "symbs: Dict[str, Basic] = {str(s): s for s in hyp_eq.free_symbols}\n",
        "\n",
        "p: Plot = plot_implicit(\n",
        "    hyp_eq,\n",
        "    (symbs['x'], -100, 100),\n",
        "    (symbs['y'], -100, 100),\n",
        "    line_color='c',\n",
        "    aspect_ratio=(1, 1),\n",
        "    show=False,\n",
        "    adaptive=False,\n",
        "    size=(8, 8)\n",
        ")\n",
        "colors_iterator: Iterator[Literal['m', 'y', 'g', 'b']] = iter(('m', 'y', 'g', 'b'))\n",
        "\n",
        "for eq_i in equations:\n",
        "    p.extend(plot_implicit(\n",
        "        eq_i,\n",
        "        (symbs['x'], -100, 100),\n",
        "        (symbs['y'], -100, 100),\n",
        "        line_color=next(colors_iterator),\n",
        "        aspect_ratio=(1, 1),\n",
        "        show=False,\n",
        "        adaptive=False,\n",
        "    ))\n",
        "\n",
        "p.show()\n",
        "    "
      ]
    },
    {
      "cell_type": "markdown",
      "metadata": {
        "id": "wUi1m30QH1V5"
      },
      "source": [
        "###  Индивидуальное задание\n",
        "Определить гиперболу с центром в $(X, Y)$, полуосями $a$ и $b$.  Вывести на экран эксцентриситет, фокусное расстояние, фокусы (с координатами), periapsis, уравнение гиперболы, уравнения асимптот и директрис. \n",
        "\n",
        "Изобразить гиперболу, повернутую на $\\alpha$ градусов против часовой стрелки относительно ее центра, соответствующие асимптоты и директрисы. Вывести на экран уравнение повернутой гиперболы."
      ]
    },
    {
      "cell_type": "code",
      "execution_count": null,
      "metadata": {
        "id": "zKFUR_eVH1V6"
      },
      "outputs": [],
      "source": []
    }
  ],
  "metadata": {
    "colab": {
      "provenance": []
    },
    "kernelspec": {
      "display_name": ".venv",
      "language": "python",
      "name": "python3"
    },
    "language_info": {
      "codemirror_mode": {
        "name": "ipython",
        "version": 3
      },
      "file_extension": ".py",
      "mimetype": "text/x-python",
      "name": "python",
      "nbconvert_exporter": "python",
      "pygments_lexer": "ipython3",
      "version": "3.11.0"
    },
    "vscode": {
      "interpreter": {
        "hash": "15070b5f4c01a16be65f6048f4eea768aba9ae68ce711f49339836ef743d1529"
      }
    }
  },
  "nbformat": 4,
  "nbformat_minor": 0
}
