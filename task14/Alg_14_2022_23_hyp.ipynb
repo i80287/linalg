{
  "cells": [
    {
      "cell_type": "code",
      "execution_count": null,
      "metadata": {
        "id": "TtLnYUyf48TD"
      },
      "outputs": [],
      "source": [
        "import sympy\n",
        "from sympy import Expr, Eq, latex, plot_implicit\n",
        "from sympy.core import S, pi, sympify\n",
        "from sympy.core.logic import fuzzy_bool\n",
        "from sympy.core.numbers import Rational, oo\n",
        "from sympy.core.compatibility import ordered\n",
        "from sympy.core.symbol import Dummy, _uniquely_named_symbol, _symbol\n",
        "from sympy.simplify import simplify, trigsimp\n",
        "from sympy.functions.elementary.miscellaneous import sqrt, Max\n",
        "from sympy.functions.elementary.trigonometric import cos, sin\n",
        "from sympy.functions.special.elliptic_integrals import elliptic_e\n",
        "from sympy.geometry.exceptions import GeometryError\n",
        "from sympy.geometry.line import Ray2D, Segment2D, Line2D, LinearEntity3D\n",
        "from sympy.polys import DomainError, Poly, PolynomialError\n",
        "from sympy.polys.polyutils import _not_a_coeff, _nsort\n",
        "from sympy.solvers import solve\n",
        "from sympy.solvers.solveset import linear_coeffs\n",
        "from sympy.utilities.misc import filldedent, func_name\n",
        "from sympy.geometry.entity import GeometryEntity, GeometrySet\n",
        "from sympy.geometry.point import Point, Point2D, Point3D\n",
        "from sympy.geometry.line import Line, Segment\n",
        "from sympy.geometry.util import idiff\n",
        "from sympy.utilities.lambdify import lambdify\n",
        "import numpy as np\n",
        "import matplotlib.pyplot as plt\n",
        "from IPython.display import Latex"
      ]
    },
    {
      "cell_type": "markdown",
      "metadata": {
        "id": "CiSY_Hks48TM"
      },
      "source": [
        "# Практическое занятие 14\n",
        "# Компьютерный практикум по алгебре на Python\n",
        "## Кривые второго порядка на плоскости: гипербола\n",
        "https://ru.wikipedia.org/wiki/%D0%9F%D0%B0%D1%80%D0%B0%D0%B1%D0%BE%D0%BB%D0%B0\n",
        "https://ru.wikipedia.org/wiki/%D0%93%D0%B8%D0%BF%D0%B5%D1%80%D0%B1%D0%BE%D0%BB%D0%B0_(%D0%BC%D0%B0%D1%82%D0%B5%D0%BC%D0%B0%D1%82%D0%B8%D0%BA%D0%B0)\n",
        "\n",
        "В SymPy пока нет классов Гипербола и Парабола, создадим их прототипы сами.\n",
        "Возьмем за образец класс эллипсов\n",
        "\n",
        "https://github.com/sympy/sympy/blob/70381f282f2d9d039da860e391fe51649df2779d/sympy/geometry/ellipse.py#L38-L1478\n",
        "https://docs.sympy.org/latest/modules/geometry/ellipses.html?highlight=ellipse#sympy.geometry.ellipse.Ellipse"
      ]
    },
    {
      "cell_type": "code",
      "execution_count": null,
      "metadata": {
        "id": "8K3WB5nv48TN"
      },
      "outputs": [],
      "source": [
        "class Hyperbola(GeometrySet):\n",
        "    \"\"\"\n",
        "     Attributes\n",
        "    ==========\n",
        "    center\n",
        "    hradius\n",
        "    vradius\n",
        "    eccentricity\n",
        "    periapsis\n",
        "    focus_distance\n",
        "    foci\n",
        "    ==========\n",
        "    конструктор __new__\n",
        "    скопирован из Эллипса,\n",
        "    изменена формула для  hradius и vradius через эсцентриситет\n",
        "    \"\"\"\n",
        "    def __new__(\n",
        "        cls, center=None, hradius=None, vradius=None, eccentricity=None, **kwargs):\n",
        "        hradius = sympify(hradius)\n",
        "        vradius = sympify(vradius)\n",
        "\n",
        "        eccentricity = sympify(eccentricity)\n",
        "\n",
        "        if center is None:\n",
        "            center = Point(0, 0)\n",
        "        else:\n",
        "            center = Point(center, dim=2)\n",
        "\n",
        "        if len(center) != 2:\n",
        "            raise ValueError('The center of \"{0}\" must be a two dimensional point'.format(cls))\n",
        "\n",
        "        if len(list(filter(lambda x: x is not None, (hradius, vradius, eccentricity)))) != 2:\n",
        "            raise ValueError(filldedent('''\n",
        "                Exactly two arguments of \"hradius\", \"vradius\", and\n",
        "                \"eccentricity\" must not be None.'''))\n",
        "\n",
        "        if eccentricity is not None:\n",
        "            if hradius is None:\n",
        "                hradius = vradius / sqrt( eccentricity ** 2 - 1)\n",
        "            elif vradius is None:\n",
        "                vradius = hradius * sqrt( eccentricity ** 2 - 1)\n",
        "\n",
        "        if hradius == 0:\n",
        "            return \"Line\"\n",
        "        if vradius == 0:\n",
        "            return \"Rays\"\n",
        "        return GeometryEntity.__new__(cls, center, hradius, vradius, **kwargs)\n",
        "    \n",
        "    @property\n",
        "    def ambient_dimension(self):\n",
        "        return 2\n",
        "    \n",
        "    @property\n",
        "    def center(self):\n",
        "        return self.args[0]\n",
        "\n",
        "    @property\n",
        "    def hradius(self):\n",
        "        return self.args[1]\n",
        "    \n",
        "    @property\n",
        "    def vradius(self):\n",
        "        return self.args[2]\n",
        "    \n",
        "    @property\n",
        "    def focus_distance(self):\n",
        "        return sqrt(self.hradius ** 2 + self.vradius ** 2)\n",
        "    \n",
        "    @property\n",
        "    def eccentricity(self):\n",
        "        \"\"\"The eccentricity of the ellipse.\"\"\"\n",
        "        return self.focus_distance / self.hradius\n",
        "    @property\n",
        "    def periapsis(self):\n",
        "        \"\"\"The apoapsis of the hyperbola.\n",
        "        The smallest distance between the focus and the contour.\"\"\"\n",
        "        return self.focus_distance - self.hradius\n",
        "    \n",
        "    @property\n",
        "    def foci(self):\n",
        "        return (self.center + Point(-self.focus_distance, 0), self.center + Point(self.focus_distance, 0))\n",
        "    \n",
        "    @property\n",
        "    def major(self):\n",
        "        return self.hradius\n",
        "    \n",
        "    @property\n",
        "    def minor(self):\n",
        "        return self.vradius\n",
        "    \n",
        "    def equation(self, x='x', y='y', _slope=None, equation=False):\n",
        "        \"\"\"\n",
        "        Returns the equation of a hyperbola aligned with the x and y axes;\n",
        "        when slope is given, the equation returned corresponds to a hyperbola \n",
        "        with a major axis having that slope.\n",
        "        Parameters\n",
        "        ==========\n",
        "        x : str, optional\n",
        "            Label for the x-axis. Default value is 'x'.\n",
        "        y : str, optional\n",
        "            Label for the y-axis. Default value is 'y'.\n",
        "        _slope : Expr, optional\n",
        "                The slope of the major axis. Ignored when 'None'.\n",
        "        Returns\n",
        "        =======\n",
        "        equation : sympy expression   \"\"\"\n",
        "\n",
        "        x = _symbol(x, real=True)\n",
        "        y = _symbol(y, real=True)\n",
        "\n",
        "        dx = x - self.center.x\n",
        "        dy = y - self.center.y\n",
        "\n",
        "        if _slope is not None:\n",
        "            L = (dy - _slope * dx) ** 2\n",
        "            l = (_slope * dy + dx) ** 2\n",
        "            h = 1 + _slope ** 2\n",
        "            a = h * self.major ** 2\n",
        "            b = h * self.minor ** 2\n",
        "            res= l / a - L / b \n",
        "\n",
        "        else:\n",
        "            t1 = (dx / self.hradius) ** 2\n",
        "            t2 = (dy / self.vradius) ** 2\n",
        "            res = t1 - t2 \n",
        "        if not equation:\n",
        "            return res - 1\n",
        "        else:\n",
        "            return Eq(res, 1)       "
      ]
    },
    {
      "cell_type": "markdown",
      "metadata": {
        "id": "Rr4Kuhn448TP"
      },
      "source": [
        "### Пример 1\n",
        "Построим нашу первую гиперболу, полуоси 2 и 3."
      ]
    },
    {
      "cell_type": "code",
      "execution_count": null,
      "metadata": {
        "colab": {
          "base_uri": "https://localhost:8080/",
          "height": 38
        },
        "id": "na9kSF-Z48TQ",
        "outputId": "d1b33e49-11a2-4b3c-9dc8-4d6cfc1aaed0"
      },
      "outputs": [
        {
          "data": {
            "text/latex": [
              "$\\displaystyle Hyperbola\\left(Point2D\\left(0, 0\\right), 2, 3\\right)$"
            ],
            "text/plain": [
              "Hyperbola(Point2D(0, 0), 2, 3)"
            ]
          },
          "execution_count": 3,
          "metadata": {},
          "output_type": "execute_result"
        }
      ],
      "source": [
        "Hyp1 = Hyperbola(hradius=2, vradius=3)\n",
        "Hyp1"
      ]
    },
    {
      "cell_type": "markdown",
      "metadata": {
        "id": "DY06FFVn48TS"
      },
      "source": [
        "Теперь построим гиперболу по горизонтальной полуоси и эксцентриситету"
      ]
    },
    {
      "cell_type": "code",
      "execution_count": null,
      "metadata": {
        "colab": {
          "base_uri": "https://localhost:8080/",
          "height": 38
        },
        "id": "I_V8q37G48TS",
        "outputId": "372314dc-1613-4cfe-fe27-5e7b69ff042f"
      },
      "outputs": [
        {
          "data": {
            "text/latex": [
              "$\\displaystyle Hyperbola\\left(Point2D\\left(0, 1\\right), 8, 6\\right)$"
            ],
            "text/plain": [
              "Hyperbola(Point2D(0, 1), 8, 6)"
            ]
          },
          "execution_count": 4,
          "metadata": {},
          "output_type": "execute_result"
        }
      ],
      "source": [
        "Hyp2 = Hyperbola(Point(0, 1), hradius=8, eccentricity=S(5) / 4)\n",
        "Hyp2"
      ]
    },
    {
      "cell_type": "markdown",
      "metadata": {
        "id": "jC08J65a48TT"
      },
      "source": [
        "Заметим, что vradius автоматически корректно вычислен при построении по формуле $b=a\\sqrt{\\varepsilon^2-1}$"
      ]
    },
    {
      "cell_type": "markdown",
      "metadata": {
        "id": "R5DW3slM48TT"
      },
      "source": [
        "### Атрибуты класса Hyperbola\n",
        "**center** \n",
        "центр  точка пересечения асимптот гиперболы\n",
        "**hradius**\n",
        "горизонтальная полуось\n",
        "**vradius**\n",
        "вертикальная полуось\t\n",
        "**eccentricity**\n",
        "эксцентриситет отношение фокусного расстояния к горизонтальной оси (той, на которой расположены фокусы)\t\n",
        "**periapsis**\n",
        "перифокусное расстояние (минимальное расстояние от фокуса до точки на эллипсе)\t\n",
        "**focus_distance**\n",
        "фокусное расстояние - половина расстояния между фокусами\t\n",
        "**foci**\n",
        "фокусы \n",
        "### Пример 2.\n",
        "Выведем на экран атрибуты гиперболы Hyp1 Примера 1."
      ]
    },
    {
      "cell_type": "code",
      "execution_count": null,
      "metadata": {
        "colab": {
          "base_uri": "https://localhost:8080/",
          "height": 170
        },
        "id": "GllbG-O_48TT",
        "outputId": "200c80c1-3981-405b-be49-adebe28b997c"
      },
      "outputs": [
        {
          "data": {
            "text/latex": [
              "center = Point2D\\left(0, 0\\right)"
            ],
            "text/plain": [
              "<IPython.core.display.Latex object>"
            ]
          },
          "metadata": {},
          "output_type": "display_data"
        },
        {
          "data": {
            "text/latex": [
              "hradius = 2"
            ],
            "text/plain": [
              "<IPython.core.display.Latex object>"
            ]
          },
          "metadata": {},
          "output_type": "display_data"
        },
        {
          "data": {
            "text/latex": [
              "vradius = 3"
            ],
            "text/plain": [
              "<IPython.core.display.Latex object>"
            ]
          },
          "metadata": {},
          "output_type": "display_data"
        },
        {
          "data": {
            "text/latex": [
              "eccentricity = \\frac{\\sqrt{13}}{2}"
            ],
            "text/plain": [
              "<IPython.core.display.Latex object>"
            ]
          },
          "metadata": {},
          "output_type": "display_data"
        },
        {
          "data": {
            "text/latex": [
              "periapsis = -2 + \\sqrt{13}"
            ],
            "text/plain": [
              "<IPython.core.display.Latex object>"
            ]
          },
          "metadata": {},
          "output_type": "display_data"
        },
        {
          "data": {
            "text/latex": [
              "focus\\_distance = \\sqrt{13}"
            ],
            "text/plain": [
              "<IPython.core.display.Latex object>"
            ]
          },
          "metadata": {},
          "output_type": "display_data"
        },
        {
          "data": {
            "text/latex": [
              "foci = \\left( Point2D\\left(- \\sqrt{13}, 0\\right), \\  Point2D\\left(\\sqrt{13}, 0\\right)\\right)"
            ],
            "text/plain": [
              "<IPython.core.display.Latex object>"
            ]
          },
          "metadata": {},
          "output_type": "display_data"
        }
      ],
      "source": [
        "props = {'center': Hyp1.center, 'hradius': Hyp1.hradius,\n",
        "         'vradius': Hyp1.vradius, \n",
        "         'eccentricity': Hyp1.eccentricity, 'periapsis': Hyp1.periapsis,\n",
        "         'focus\\_distance': Hyp1.focus_distance, 'foci': Hyp1.foci}\n",
        "\n",
        "display(*[Latex(f'{key} = {latex(props[key])}') for key in props.keys()])"
      ]
    },
    {
      "cell_type": "markdown",
      "metadata": {
        "id": "eWRtXd7S48TU"
      },
      "source": [
        "### Методы класса Hyperbola \n",
        "equation(x='x', y='y', _slope=None)- уравнение гиперболы\n",
        "\n",
        "необязательный аргумент \\_slope - наклон главной оси\n",
        "### Пример 3.\n",
        "Выведем на экран уравнение гиперболы Hyp2, а также уравнение этой гиперболы, повернутой на угол с тангенсом 2."
      ]
    },
    {
      "cell_type": "code",
      "execution_count": null,
      "metadata": {
        "colab": {
          "base_uri": "https://localhost:8080/",
          "height": 61
        },
        "id": "bUkNRZbW48TU",
        "outputId": "4b56e55c-0a18-43fd-99e6-7ce42da3faf0"
      },
      "outputs": [
        {
          "data": {
            "text/latex": [
              "$\\displaystyle \\frac{x^{2}}{64} - \\left(\\frac{y}{6} - \\frac{1}{6}\\right)^{2} - 1$"
            ],
            "text/plain": [
              "x**2/64 - (y/6 - 1/6)**2 - 1"
            ]
          },
          "execution_count": 6,
          "metadata": {},
          "output_type": "execute_result"
        }
      ],
      "source": [
        "Hyp2.equation()"
      ]
    },
    {
      "cell_type": "code",
      "execution_count": null,
      "metadata": {
        "colab": {
          "base_uri": "https://localhost:8080/",
          "height": 61
        },
        "id": "Ng-GNqQG48TV",
        "outputId": "9d9d80e6-197f-40a0-cd4c-de3dc75f74b5"
      },
      "outputs": [
        {
          "data": {
            "text/latex": [
              "$\\displaystyle \\frac{x^{2}}{64} - \\left(\\frac{y}{6} - \\frac{1}{6}\\right)^{2} = 1$"
            ],
            "text/plain": [
              "Eq(x**2/64 - (y/6 - 1/6)**2, 1)"
            ]
          },
          "execution_count": 7,
          "metadata": {},
          "output_type": "execute_result"
        }
      ],
      "source": [
        "Hyp2.equation(equation=True)"
      ]
    },
    {
      "cell_type": "code",
      "execution_count": null,
      "metadata": {
        "colab": {
          "base_uri": "https://localhost:8080/",
          "height": 56
        },
        "id": "x_AwWQtU48TV",
        "outputId": "90b70ef3-1b42-4992-ce8d-10ed43589e43"
      },
      "outputs": [
        {
          "data": {
            "text/latex": [
              "$\\displaystyle - \\frac{\\left(- 2 x + y - 1\\right)^{2}}{180} + \\frac{\\left(x + 2 y - 2\\right)^{2}}{320} = 1$"
            ],
            "text/plain": [
              "Eq(-(-2*x + y - 1)**2/180 + (x + 2*y - 2)**2/320, 1)"
            ]
          },
          "execution_count": 8,
          "metadata": {},
          "output_type": "execute_result"
        }
      ],
      "source": [
        "Hyp2.equation(_slope=2, equation=True)"
      ]
    },
    {
      "cell_type": "markdown",
      "metadata": {
        "id": "F9lQFYf848TV"
      },
      "source": [
        "### Пример 4.\n",
        "Изобразим  графики обеих гипербол Примера 3, исходной и повернутой.\n",
        "Для того, чтобы изобразить эллипс на графике, нужны его переменные, извлечем их с помощью .free_symbols"
      ]
    },
    {
      "cell_type": "code",
      "execution_count": null,
      "metadata": {
        "colab": {
          "base_uri": "https://localhost:8080/",
          "height": 297
        },
        "id": "js4DopDE48TW",
        "outputId": "9fc4d3f1-36c6-4973-d021-03a4e244868c"
      },
      "outputs": [
        {
          "data": {
            "image/png": "[encoded data removed]",
            "text/plain": [
              "<Figure size 432x288 with 1 Axes>"
            ]
          },
          "metadata": {
            "needs_background": "light"
          },
          "output_type": "display_data"
        }
      ],
      "source": [
        "eq2 = Hyp2.equation(x='x', y='y')\n",
        "dict_free = {str(a): a for a in eq2.free_symbols}\n",
        "p = plot_implicit(eq2, (dict_free['x'], -20, 20), (dict_free['y'], -20, 20),\n",
        "                  line_color='r', aspect_ratio=(1, 1),\n",
        "                  show=False, adaptive=False)\n",
        "p.extend(plot_implicit(Hyp2.equation(x='x', y='y', _slope=2),\n",
        "                       (dict_free['x'], -20, 20), (dict_free['y'], -20, 20),\n",
        "                  line_color='g', aspect_ratio=(1, 1),\n",
        "                   show=False, adaptive=False))\n",
        "p.show()"
      ]
    },
    {
      "cell_type": "markdown",
      "metadata": {
        "id": "CRSpbbUs48TW"
      },
      "source": [
        "### Пример 5.\n",
        "Изобразим на графике гиперболы, полученные из Hyp2 поворотом на некоторый угол."
      ]
    },
    {
      "cell_type": "code",
      "execution_count": null,
      "metadata": {
        "colab": {
          "base_uri": "https://localhost:8080/",
          "height": 297
        },
        "id": "YyTlnDLn48TW",
        "outputId": "6c03651b-7323-4257-f471-cd11c8f3da96"
      },
      "outputs": [
        {
          "data": {
            "image/png": "[encoded data removed]",
            "text/plain": [
              "<Figure size 432x288 with 1 Axes>"
            ]
          },
          "metadata": {
            "needs_background": "light"
          },
          "output_type": "display_data"
        }
      ],
      "source": [
        "eq2 = Hyp2.equation(x='x', y='y')\n",
        "dict_free = {str(q): q for q in eq2.free_symbols}\n",
        "p = plot_implicit(eq2, (dict_free['x'], -20, 20), (dict_free['y'], -20, 20),\n",
        "                  line_color='r', aspect_ratio=(1, 1),\n",
        "                  show=False, adaptive=False)\n",
        "for i in range(1, 5):\n",
        "    p.extend(plot_implicit(Hyp2.equation(x='x', y='y',\n",
        "                                         _slope=sympy.tan(i*pi/5)),\n",
        "                           (dict_free['x'], -20, 20), (dict_free['y'], -20, 20),\n",
        "                           line_color='g', aspect_ratio=(1, 1),\n",
        "                           show=False, adaptive=False))\n",
        "p.show()"
      ]
    },
    {
      "cell_type": "markdown",
      "metadata": {
        "id": "J8BtmqjM48TX"
      },
      "source": [
        "### Пример 6.\n",
        "Изобразим график гиперболы, используем в легенде возможность вывода по столбцам:\n",
        "\n",
        "plt.legend(loc='upper left', ncol=2, mode=\"expand\")\n",
        "\n",
        "**ncol** - количество столбцов\n",
        "\n",
        "**mode=\"expand\"** - легенда растягивается по ширине графика\n",
        "\n",
        "Для автоматического формирования красивой подписи в легенде используем\n",
        "\n",
        "dir1='директриса x = latex(S(a)**2/c, mode='inline')\n",
        "\n",
        "превращение $a$ в символ с помощью $S(a)$ предотвращает округление\n",
        "\n",
        "**sympy.utilities.lambdify.lambdify**(args: Iterable, expr, modules=None, printer=None, use_imps=True, dummify=False, cse=False)\n",
        "\n",
        "lambdify преобразует выражение (expression) SymPy в функцию, предназначенную для быстрых численных (приближенных) вычислений."
      ]
    },
    {
      "cell_type": "code",
      "execution_count": null,
      "metadata": {
        "colab": {
          "base_uri": "https://localhost:8080/",
          "height": 330
        },
        "id": "mfnZDFpD5Yt3",
        "outputId": "870f533f-9fd4-42a3-b1f9-41e1cd07b9ff"
      },
      "outputs": [
        {
          "data": {
            "text/latex": [
              "y_1 = - \\frac{4 \\sqrt{x^{2} - 9}}{3}, y_2 = \\frac{4 \\sqrt{x^{2} - 9}}{3}"
            ],
            "text/plain": [
              "<IPython.core.display.Latex object>"
            ]
          },
          "metadata": {},
          "output_type": "display_data"
        },
        {
          "data": {
            "text/plain": [
              "<matplotlib.legend.Legend at 0x7effd2db71f0>"
            ]
          },
          "execution_count": 11,
          "metadata": {},
          "output_type": "execute_result"
        },
        {
          "data": {
            "image/png": "[encoded data removed]",
            "text/plain": [
              "<Figure size 432x288 with 1 Axes>"
            ]
          },
          "metadata": {
            "needs_background": "light"
          },
          "output_type": "display_data"
        }
      ],
      "source": [
        "a = 3\n",
        "b = 4\n",
        "Hyp6 = Hyperbola(hradius=a, vradius=b)\n",
        "c = Hyp6.focus_distance\n",
        "eq6 = Hyp6.equation(x='x', y='y')\n",
        "dict_free = {str(a): a for a in eq6.free_symbols}\n",
        "x = dict_free['x']\n",
        "y = dict_free['y']\n",
        "y1, y2 = solve(eq6, y)\n",
        "display(Latex(f'y_1 = {latex(y1)}, y_2 = {latex(y2)}'))\n",
        "f_y1, f_y2 = [lambdify(*list(item.free_symbols), item) for item in (y1, y2)]\n",
        "xy_max = a + float(c.evalf())\n",
        "X1 = np.linspace(a, xy_max)\n",
        "X2 = np.linspace(-xy_max, -a)\n",
        "plt.plot(X1, f_y1(X1), 'k',\n",
        "         X1, f_y2(X1), 'k',\n",
        "         X2, f_y1(X2), 'k',\n",
        "         X2, f_y2(X2), 'k')\n",
        "x = S('x')\n",
        "asympt1 = f'асимптота $y={latex(S(b) / a * x)}$'\n",
        "asympt2 = f'асимптота $y={latex(-S(b) / a * x)}$' \n",
        "plt.plot([-xy_max, xy_max], [-xy_max * b / a, xy_max * b / a],\n",
        "         'g--', label=asympt1)\n",
        "plt.plot([-xy_max, xy_max], [xy_max * b / a, -xy_max * b / a],\n",
        "         'b--', label=asympt2)\n",
        "dir1 = f'директриса $x={latex(S(a) ** 2 / c)}$'\n",
        "dir2 = f'директриса $x={latex(-S(a) ** 2 / c)}$'\n",
        "plt.axis('equal')\n",
        "plt.axvline(x=a ** 2 / c, color='r', linestyle='--', label=dir1)\n",
        "plt.axvline(x=-a ** 2 / c, color='m', linestyle='--', label=dir2)\n",
        "plt.plot([-a, -a], [-b, b], 'c--')\n",
        "plt.plot([a, a], [-b, b], 'c--')\n",
        "plt.plot([-a, a], [-b, -b], 'c--')\n",
        "plt.plot([-a, a], [b, b], 'c--')\n",
        "plt.axhline(y=0, color='k', linestyle='--') \n",
        "plt.axvline(x=0, color='k', linestyle='--')\n",
        "plt.scatter(-c, 0, color='m')\n",
        "plt.scatter(c, 0, color='m')\n",
        "plt.scatter(-a, 0, color='b')\n",
        "plt.scatter(a, 0, color='b')\n",
        "plt.annotate(r'$F_1$', xy=(-c, 0), xycoords='data', xytext=(0, +5),\n",
        "             textcoords='offset points', fontsize=16)\n",
        "plt.annotate(r'$F_2$', xy=(c, 0), xycoords='data', xytext=(0, +5),\n",
        "             textcoords='offset points', fontsize=16)\n",
        "plt.annotate(r'$A_1$', xy=(-a, 0), xycoords='data', xytext=(+5, +5),\n",
        "             textcoords='offset points', fontsize=16)\n",
        "plt.annotate(r'$A_2$', xy=(a, 0), xycoords='data', xytext=(-20, +5),\n",
        "             textcoords='offset points', fontsize=16)\n",
        "plt.annotate(r'$a$', xy=(a, 0), xycoords='data', xytext=(-40, +5),\n",
        "             textcoords='offset points', fontsize=16)\n",
        "plt.annotate(r'$b$', xy=(0, b), xycoords='data', xytext=(+1, -20),\n",
        "             textcoords='offset points', fontsize=16)\n",
        "plt.title(f'${latex(Hyp1.equation(equation=True))}$')\n",
        "plt.legend(loc='upper left', ncol=2, mode=\"expand\")"
      ]
    },
    {
      "cell_type": "markdown",
      "metadata": {
        "id": "piXnwmYo48TY"
      },
      "source": [
        "## Уравнения директрис и асимптот при повороте на угол $\\alpha$\n",
        "Пусть  $a$ - горизонтальная полуось, $c$ - фокусное расстояние, $x_0$ - горизонтальная координата центра гиперболы, тогда уравнение директрис \n",
        "$$\n",
        "x = x_0 \\pm \\frac{a^2}{c}\n",
        "$$\n",
        "При повороте на угол $\\alpha$ получается уравнение\n",
        "$$\n",
        "y = y_0 -{\\rm ctg} \\alpha(x - x_0) \\pm \\frac{a^2}{c}\\sqrt{1 + {\\rm ctg} \\alpha}\n",
        "$$\n",
        "Уравнение асимптоты\n",
        "$$\n",
        "y = y_0 \\pm \\frac{b}{a}(x - x_0)\n",
        "$$\n",
        "При повороте на угол $\\alpha$ получаются уравнения\n",
        "\\begin{align*}\n",
        "y_1 = y_0 + k_1(x - x_0), \\quad \n",
        "y_2 = y_0 + k_2(x - x_0), \\\\ \n",
        "k_1 = \\frac{b + a{\\rm tg} \\alpha}{a - b{\\rm tg} \\alpha},\\quad \n",
        "k_2 = \\frac{-b + a{\\rm tg} \\alpha}{a + b{\\rm tg} \\alpha}\n",
        "\\end{align*}"
      ]
    }
  ],
  "metadata": {
    "colab": {
      "provenance": []
    },
    "kernelspec": {
      "display_name": ".venv",
      "language": "python",
      "name": "python3"
    },
    "language_info": {
      "codemirror_mode": {
        "name": "ipython",
        "version": 3
      },
      "file_extension": ".py",
      "mimetype": "text/x-python",
      "name": "python",
      "nbconvert_exporter": "python",
      "pygments_lexer": "ipython3",
      "version": "3.11.0"
    },
    "vscode": {
      "interpreter": {
        "hash": "15070b5f4c01a16be65f6048f4eea768aba9ae68ce711f49339836ef743d1529"
      }
    }
  },
  "nbformat": 4,
  "nbformat_minor": 0
}
