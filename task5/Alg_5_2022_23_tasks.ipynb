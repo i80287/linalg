{
  "cells": [
    {
      "cell_type": "code",
      "execution_count": 2,
      "metadata": {
        "id": "49fg3dtG2vqf"
      },
      "outputs": [],
      "source": [
        "from sympy import linsolve, Matrix, S, Symbol, symbols, linear_eq_to_matrix, Eq, zeros"
      ]
    },
    {
      "cell_type": "markdown",
      "metadata": {
        "id": "4GOGKWO62vqj"
      },
      "source": [
        "# Занятие 5\n",
        "# Алгебра\n",
        "\n",
        "##  Прямые и плоскости в пространстве. Уравнения прямых и  плоскостей.\n",
        "### Задание 1.\n",
        "Определить, пересекаются ли плоскости (все сразу). Если пересекаются, найти точку пересечения.\n",
        "\n",
        "Составить СЛАУ в виде списка уравнений, решить с помощью linsolve.\n",
        "\n",
        "Проверить подстановкой координат точки пересечения в уравнения плоскостей, что найденная точка принадлежит каждой из них.\n",
        "\n",
        "$-8x+5y-2z+28=0$\n",
        "\n",
        "$-11x-10y-16z+71=0$\n",
        "\n",
        "$-7x+3y+8z-27=0$."
      ]
    },
    {
      "cell_type": "code",
      "execution_count": 15,
      "metadata": {
        "id": "MpIOpWvj2vqn"
      },
      "outputs": [
        {
          "name": "stdout",
          "output_type": "stream",
          "text": [
            "Point of intersection:\n"
          ]
        },
        {
          "data": {
            "text/latex": [
              "$\\displaystyle \\left[\\begin{matrix}1\\\\-2\\\\5\\end{matrix}\\right]$"
            ],
            "text/plain": [
              "Matrix([\n",
              "[ 1],\n",
              "[-2],\n",
              "[ 5]])"
            ]
          },
          "metadata": {},
          "output_type": "display_data"
        },
        {
          "name": "stdout",
          "output_type": "stream",
          "text": [
            "Point belongs to place\n"
          ]
        },
        {
          "data": {
            "text/latex": [
              "$\\displaystyle - 8 x + 5 y - 2 z = -28$"
            ],
            "text/plain": [
              "Eq(-8*x + 5*y - 2*z, -28)"
            ]
          },
          "metadata": {},
          "output_type": "display_data"
        },
        {
          "name": "stdout",
          "output_type": "stream",
          "text": [
            "Point belongs to place\n"
          ]
        },
        {
          "data": {
            "text/latex": [
              "$\\displaystyle - 11 x - 10 y - 16 z = -71$"
            ],
            "text/plain": [
              "Eq(-11*x - 10*y - 16*z, -71)"
            ]
          },
          "metadata": {},
          "output_type": "display_data"
        },
        {
          "name": "stdout",
          "output_type": "stream",
          "text": [
            "Point belongs to place\n"
          ]
        },
        {
          "data": {
            "text/latex": [
              "$\\displaystyle - 7 x + 3 y + 8 z = 27$"
            ],
            "text/plain": [
              "Eq(-7*x + 3*y + 8*z, 27)"
            ]
          },
          "metadata": {},
          "output_type": "display_data"
        }
      ],
      "source": [
        "x, y, z = symbols(\"x y z\")\n",
        "tupl_syms = (x, y, z)\n",
        "\n",
        "slae_1 = (\n",
        "    Eq(-8*x + 5*y - 2*z, -28),\n",
        "    Eq(-11*x - 10*y - 16*z, -71),\n",
        "    Eq(-7*x + 3*y + 8*z, 27)\n",
        ")\n",
        "\n",
        "intersect_point = Matrix(*linsolve(slae_1, x, y, z))\n",
        "print(\"Point of intersection:\")\n",
        "display(intersect_point)\n",
        "for eq in slae_1:\n",
        "    is_correct = eq.subs({\n",
        "        sym: intersect_point[i, 0] \\\n",
        "            for i, sym in enumerate(tupl_syms)\n",
        "    })\n",
        "    if is_correct:\n",
        "        print(\"Point belongs to place\")\n",
        "        display(eq)"
      ]
    },
    {
      "cell_type": "markdown",
      "metadata": {
        "id": "g9NmFR2i2vqn"
      },
      "source": [
        "### Задание 2.\n",
        "Найти точку пересечения плоскости, в которой лежат точки \n",
        "$K(4,3,0)$, $M(2,4,-2)$ и $N(-2,2,-1)$ с прямой, проходящей через точки $A(-3,5,1)$ и $B(5,2,-3)$."
      ]
    },
    {
      "cell_type": "code",
      "execution_count": 51,
      "metadata": {
        "id": "0486pLRk2vqp"
      },
      "outputs": [
        {
          "name": "stdout",
          "output_type": "stream",
          "text": [
            "Place equation\n"
          ]
        },
        {
          "data": {
            "text/latex": [
              "$\\displaystyle - 3 x + 10 y + 8 z - 18 = 0$"
            ],
            "text/plain": [
              "Eq(-3*x + 10*y + 8*z - 18, 0)"
            ]
          },
          "metadata": {},
          "output_type": "display_data"
        },
        {
          "name": "stdout",
          "output_type": "stream",
          "text": [
            "AB line equation:\n"
          ]
        },
        {
          "data": {
            "text/latex": [
              "$\\displaystyle x = 8 t + 5$"
            ],
            "text/plain": [
              "Eq(x, 8*t + 5)"
            ]
          },
          "metadata": {},
          "output_type": "display_data"
        },
        {
          "data": {
            "text/latex": [
              "$\\displaystyle y = 2 - 3 t$"
            ],
            "text/plain": [
              "Eq(y, 2 - 3*t)"
            ]
          },
          "metadata": {},
          "output_type": "display_data"
        },
        {
          "data": {
            "text/latex": [
              "$\\displaystyle z = - 4 t - 3$"
            ],
            "text/plain": [
              "Eq(z, -4*t - 3)"
            ]
          },
          "metadata": {},
          "output_type": "display_data"
        },
        {
          "data": {
            "text/latex": [
              "$\\displaystyle \\emptyset$"
            ],
            "text/plain": [
              "EmptySet"
            ]
          },
          "metadata": {},
          "output_type": "display_data"
        }
      ],
      "source": [
        "def print_latex(text: str, *args, end: str = '\\n'):\n",
        "    display(Latex(latex(text)), *args)\n",
        "    if end:\n",
        "       print(end, end=\"\")\n",
        "\n",
        "x, y, z = symbols(\"x y z\")\n",
        "syms = Matrix((x, y, z))\n",
        "k_point = Matrix((4, 3, 0))\n",
        "m_point = Matrix((2, 4, -2))\n",
        "n_point = Matrix((-2, 2, -1))\n",
        "\n",
        "place_eq = Eq(\n",
        "    Matrix(\n",
        "        [(point_coords - k_point).T \\\n",
        "            for point_coords in (syms, m_point, n_point)]\n",
        "    ).det(),\n",
        "    0\n",
        ")\n",
        "print_latex(\"Place equation:\", place_eq)\n",
        "\n",
        "t = symbols('t')\n",
        "syms = symbols(\"x y z\")\n",
        "a_point = Matrix((-3, 5, 1))\n",
        "b_point = Matrix((5, 2, -3))\n",
        "ab_delta = b_point - a_point\n",
        "ab_line_sys = [Eq(syms[i], a_point[i] + t*(ab_delta[i])) for i in range(len(syms))]\n",
        "print_latex(\"AB line equation:\", *ab_line_sys)\n",
        "\n",
        "slae_2 = ab_line_sys\n",
        "slae_2.append(place_eq)\n",
        "print_latex(\"SLAE:\", Matrix(slae_2))\n",
        "print_latex(\"Point of intersection:\", linsolve(slae_2, (*syms, t)), end=\"\")"
      ]
    },
    {
      "cell_type": "markdown",
      "metadata": {
        "id": "Td8dwQaq2vqp"
      },
      "source": [
        "### Задание 3.\n",
        "Составить параметрические уравнения прямой, являющейся линией пересечения плоскостей $𝑦+2𝑧−4=0$ и $4𝑥+3𝑦+2𝑧−4=0$. \n",
        "\n",
        "Указание: составить СЛАУ из уравнений плоскостей, воспользоваться linsolve(), заменить переменную в полученном решении на параметр t и составить СЛАУ из параметрических уравнений."
      ]
    },
    {
      "cell_type": "code",
      "execution_count": null,
      "metadata": {
        "id": "FkVOyBYI2vqq"
      },
      "outputs": [],
      "source": []
    },
    {
      "cell_type": "markdown",
      "metadata": {
        "id": "qW-zD7N52vqq"
      },
      "source": [
        "###  Задание 4.\n",
        "Прямая задана параметрическими уравнениями:\n",
        "$$\n",
        "\\left\\{\\begin{matrix}\n",
        "x=2+5t\\\\\n",
        "y=-1-2t\\\\\n",
        "z=4-3t\n",
        "\\end{matrix}\\right..\n",
        "$$\n",
        "Представить прямую в виде линии пересечения двух плоскостей, одна из которых проходит через начало координат, а вторая плоскость перпендикулярна первой плоскости. Вывести на экран уравнения плоскостей.\n",
        "\n",
        "Указание: составить параметрические уравнения прямой в виде списка правых частей уравнений, затем по образцу Примера 5 составить уравнение плоскости, проходящей через начало координат (по трем точкам). Для составления второй плоскости заметим, что вектор нормали к первой плоскости и любой вектор прямой параллельны второй плоскости, поэтому можно применить формулу 4 уравнения плоскости.\n",
        "Вектор нормали можно составить вручную, глядя на уравнение первой плоскости."
      ]
    },
    {
      "cell_type": "code",
      "execution_count": null,
      "metadata": {
        "id": "lr6JUgBP2vqr"
      },
      "outputs": [],
      "source": []
    },
    {
      "cell_type": "markdown",
      "metadata": {
        "id": "fC_Q1C_d2vqr"
      },
      "source": [
        "### Индивидуальное задание\n",
        "Даны три точки А, В и С в пространстве. Составить уравнение плоскости АВС, систему параметрических уравнений прямой АВ и прямой АМ, перпендикулярной плоскости АВС."
      ]
    },
    {
      "cell_type": "code",
      "execution_count": null,
      "metadata": {
        "id": "z_gDHdjD2vqs"
      },
      "outputs": [],
      "source": []
    }
  ],
  "metadata": {
    "colab": {
      "provenance": []
    },
    "kernelspec": {
      "display_name": "Python 3.10.6 ('.venv': venv)",
      "language": "python",
      "name": "python3"
    },
    "language_info": {
      "codemirror_mode": {
        "name": "ipython",
        "version": 3
      },
      "file_extension": ".py",
      "mimetype": "text/x-python",
      "name": "python",
      "nbconvert_exporter": "python",
      "pygments_lexer": "ipython3",
      "version": "3.10.6"
    },
    "vscode": {
      "interpreter": {
        "hash": "23a6882170137f8e6d5ec461d8c8669e78b416c90f8bfa500a7a4269aca9b23d"
      }
    }
  },
  "nbformat": 4,
  "nbformat_minor": 0
}
