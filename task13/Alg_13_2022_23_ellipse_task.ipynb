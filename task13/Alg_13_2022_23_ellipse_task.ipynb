{
  "cells": [
    {
      "cell_type": "code",
      "execution_count": 96,
      "metadata": {
        "id": "9TQ50NoSQIPp"
      },
      "outputs": [],
      "source": [
        "from typing import List, Dict, Any, Union, Iterator, LiteralString\n",
        "\n",
        "import sympy\n",
        "from sympy import AtomicExpr\n",
        "from sympy import Ellipse, Point, Line, S, Eq, latex, plot_implicit\n",
        "from sympy import symbols, simplify, Rational, solve\n",
        "from IPython.display import Latex"
      ]
    },
    {
      "cell_type": "markdown",
      "metadata": {
        "id": "lMQdka37QIPr"
      },
      "source": [
        "# Практическое занятие 14\n",
        "# Компьютерный практикум по алгебре на Python\n",
        "### Задание 1.\n",
        "Построить эллипс с центром в точке А(1, 2), полуосями 3 и 2. Вычислить и вывести на экран эксцентриситет, площадь и длину дуги полученного эллипса, центр, полуоси, periapsis, apoapsis, межфокусное расстояние и фокусы."
      ]
    },
    {
      "cell_type": "code",
      "execution_count": 97,
      "metadata": {
        "id": "U2_43E7WUZMi"
      },
      "outputs": [
        {
          "data": {
            "text/latex": [
              "$eccentricity = \\frac{\\sqrt{5}}{3}\\\\area = 6 \\pi\\\\circumference = 12 E\\left(\\frac{5}{9}\\right)\\\\center = \\operatorname{Point2D}\\left(1, 2\\right)\\\\hradius = 3\\\\vradius = 2\\\\periapsis = 3 - \\sqrt{5}\\\\apoapsis = \\sqrt{5} + 3\\\\focus\\_distance = \\sqrt{5}\\\\foci = \\left( \\operatorname{Point2D}\\left(1 - \\sqrt{5}, 2\\right), \\  \\operatorname{Point2D}\\left(1 + \\sqrt{5}, 2\\right)\\right)$"
            ],
            "text/plain": [
              "<IPython.core.display.Latex object>"
            ]
          },
          "metadata": {},
          "output_type": "display_data"
        }
      ],
      "source": [
        "ellipse = Ellipse(center=Point(1, 2), hradius=3, vradius=2)\n",
        "props: Dict[str, Any] = {\n",
        "    'eccentricity': ellipse.eccentricity,\n",
        "    'area': ellipse.area,\n",
        "    'circumference': ellipse.circumference,\n",
        "    'center': ellipse.center,\n",
        "    'hradius': ellipse.hradius,\n",
        "    'vradius': ellipse.vradius,\n",
        "    'periapsis': ellipse.periapsis,\n",
        "    'apoapsis': ellipse.apoapsis,\n",
        "    'focus\\_distance': ellipse.focus_distance,\n",
        "    'foci': ellipse.foci\n",
        "}\n",
        "display(Latex(\"$\" + r'\\\\'.join((f'{key} = {latex(props[key])}') for key in props) + \"$\"))"
      ]
    },
    {
      "cell_type": "markdown",
      "metadata": {
        "id": "psl_l7iEQIPv"
      },
      "source": [
        "### Задание 2.\n",
        "Вывести на экран **уравнение** эллипса из задания 1, повернутого на 30 градусов против часовой стрелки относительно его центра,  переменные $u$ и $v$.\n",
        "\n",
        "Изобразить на общем графике эллипс и повернутый эллипс."
      ]
    },
    {
      "cell_type": "code",
      "execution_count": 98,
      "metadata": {
        "id": "5GL53MviUaYQ"
      },
      "outputs": [
        {
          "data": {
            "image/png": "[encoded data removed]",
            "text/plain": [
              "<Figure size 700x700 with 1 Axes>"
            ]
          },
          "metadata": {},
          "output_type": "display_data"
        }
      ],
      "source": [
        "def degrees_to_rad(angle: Union[int, float, sympy.AtomicExpr]) -> sympy.AtomicExpr:\n",
        "    return angle * sympy.pi / 180\n",
        "\n",
        "eq = ellipse.equation(x='u', y='v')\n",
        "tg_alpha = sympy.tan(degrees_to_rad(30))\n",
        "eq_slope = ellipse.equation(x='u', y='v', _slope=tg_alpha)\n",
        "\n",
        "p = plot_implicit(\n",
        "    eq,\n",
        "    line_color='r',\n",
        "    aspect_ratio=(1, 1),\n",
        "    show=False,\n",
        "    adaptive=False,\n",
        "    size=(7, 7)\n",
        ")\n",
        "p.extend(plot_implicit(\n",
        "    eq_slope,\n",
        "    line_color='m',\n",
        "    aspect_ratio=(1, 1),\n",
        "    show=False,\n",
        "    adaptive=False\n",
        "))\n",
        "p.show()"
      ]
    },
    {
      "cell_type": "markdown",
      "metadata": {
        "id": "-XxIo-1_QIPw"
      },
      "source": [
        "### Задание 3.\n",
        "Найти вершины эллипса из Задания 1.\n",
        "\n",
        "Указание: вершины эллипса искать как решение системы уравнений, составленной из уравнения эллипса и уравнения прямой, проходящей через форкусы (воспользоваться Line и методом equation()); вторую пару вершин получить как решение системы из уравнения эллипса и прямой, проходящей через центр эллипса перпендикулярно прямой, проходящей через фокусы. "
      ]
    },
    {
      "cell_type": "code",
      "execution_count": 99,
      "metadata": {
        "id": "s935eM1vUbjo"
      },
      "outputs": [
        {
          "data": {
            "text/latex": [
              "$\\displaystyle \\operatorname{Point2D}\\left(-2, 2\\right)$"
            ],
            "text/plain": [
              "Point2D(-2, 2)"
            ]
          },
          "metadata": {},
          "output_type": "display_data"
        },
        {
          "data": {
            "text/latex": [
              "$\\displaystyle \\operatorname{Point2D}\\left(4, 2\\right)$"
            ],
            "text/plain": [
              "Point2D(4, 2)"
            ]
          },
          "metadata": {},
          "output_type": "display_data"
        },
        {
          "data": {
            "text/latex": [
              "$\\displaystyle \\operatorname{Point2D}\\left(1, 0\\right)$"
            ],
            "text/plain": [
              "Point2D(1, 0)"
            ]
          },
          "metadata": {},
          "output_type": "display_data"
        },
        {
          "data": {
            "text/latex": [
              "$\\displaystyle \\operatorname{Point2D}\\left(1, 4\\right)$"
            ],
            "text/plain": [
              "Point2D(1, 4)"
            ]
          },
          "metadata": {},
          "output_type": "display_data"
        }
      ],
      "source": [
        "eq1 = ellipse.equation()\n",
        "symbs: Dict[str, AtomicExpr] = {str(s): s for s in eq1.free_symbols}\n",
        "line: Line = Line(*ellipse.foci)\n",
        "eq2 = line.equation()\n",
        "roots1: List[Dict[AtomicExpr, AtomicExpr]] = solve((eq1, eq2), list(symbs.values()))\n",
        "\n",
        "eq3 = line.perpendicular_line(ellipse.center).equation()\n",
        "roots2: List[Dict[AtomicExpr, AtomicExpr]] = solve((eq1, eq3), list(symbs.values()))\n",
        "\n",
        "roots1.extend(roots2)\n",
        "points: List[Point] = [Point(x, y) for x, y in roots1]\n",
        "display(*points)"
      ]
    },
    {
      "cell_type": "markdown",
      "metadata": {
        "id": "LbEzVL4I32vR"
      },
      "source": [
        "### Задание 4*.\n",
        "Провести касательные к эллипсу из Задания 1 через его вершины.\n",
        "\n",
        "Указание: использовать equation прямых Line, plot_implicit. Для корректного изображения на графике горизонтальных прямых в plot_implicit указывать диапазоны значений и переменной $x$ и переменной $y$."
      ]
    },
    {
      "cell_type": "code",
      "execution_count": 100,
      "metadata": {
        "id": "yKiBFbS1UcjH"
      },
      "outputs": [
        {
          "data": {
            "image/png": "[encoded data removed]",
            "text/plain": [
              "<Figure size 800x800 with 1 Axes>"
            ]
          },
          "metadata": {},
          "output_type": "display_data"
        }
      ],
      "source": [
        "horiz_ellipse_axis: Line = Line(points[0], points[1])\n",
        "vert_ellipse_axis: Line = Line(points[2], points[3])\n",
        "\n",
        "iterator: Iterator[LiteralString] = iter(('m', 'y', 'g', 'b'))\n",
        "eq = ellipse.equation(x='x', y='y')\n",
        "p = plot_implicit(\n",
        "    eq,\n",
        "    (symbs['x'], -3, 5),\n",
        "    (symbs['y'], -1, 5),\n",
        "    line_color='r',\n",
        "    aspect_ratio=(1, 1),\n",
        "    show=False,\n",
        "    adaptive=False,\n",
        "    size=(8, 8)\n",
        ")\n",
        "for point in points[:2]:\n",
        "    p.extend(plot_implicit(\n",
        "        vert_ellipse_axis.parallel_line(point).equation(),\n",
        "        (symbs['x'], -3, 5),\n",
        "        (symbs['y'], -1, 5),\n",
        "        line_color=next(iterator),\n",
        "        aspect_ratio=(1, 1),\n",
        "        show=False,\n",
        "        adaptive=False,\n",
        "    ))\n",
        "for point in points[2:]:\n",
        "    p.extend(plot_implicit(\n",
        "        horiz_ellipse_axis.parallel_line(point).equation(),\n",
        "        (symbs['x'], -3, 5),\n",
        "        (symbs['y'], -1, 5),\n",
        "        line_color=next(iterator),\n",
        "        aspect_ratio=(1, 1),\n",
        "        show=False,\n",
        "        adaptive=False,\n",
        "    ))\n",
        "\n",
        "p.show()"
      ]
    },
    {
      "cell_type": "markdown",
      "metadata": {
        "id": "R7z02nJZS41X"
      },
      "source": [
        "### Задание 5**.\n",
        "Провести касательные к повернутому эллипсу из Задания 2 через его вершины."
      ]
    },
    {
      "cell_type": "code",
      "execution_count": null,
      "metadata": {
        "id": "wWZA-KKdUSwY"
      },
      "outputs": [],
      "source": []
    },
    {
      "cell_type": "markdown",
      "metadata": {
        "id": "Z558wMoUQIPx"
      },
      "source": [
        "###  Индивидуальное задание\n",
        "Эллипс с центром $A$, вертикальной полуосью $b$ и эксцентриситетом $\\varepsilon$.\n",
        "Изобразить на графике эллипс, а также эллипс, повернутый на угол $\\alpha$ градусов против часовой стрелки. \n",
        "\n",
        "Вывести на экран центр и фокусы эллипса, длины полуосей, уравнение эллипса, вершины эллипса."
      ]
    },
    {
      "cell_type": "code",
      "execution_count": null,
      "metadata": {
        "id": "v_WG4pFSUeR_"
      },
      "outputs": [],
      "source": []
    }
  ],
  "metadata": {
    "colab": {
      "provenance": []
    },
    "kernelspec": {
      "display_name": ".venv",
      "language": "python",
      "name": "python3"
    },
    "language_info": {
      "codemirror_mode": {
        "name": "ipython",
        "version": 3
      },
      "file_extension": ".py",
      "mimetype": "text/x-python",
      "name": "python",
      "nbconvert_exporter": "python",
      "pygments_lexer": "ipython3",
      "version": "3.11.0"
    },
    "vscode": {
      "interpreter": {
        "hash": "15070b5f4c01a16be65f6048f4eea768aba9ae68ce711f49339836ef743d1529"
      }
    }
  },
  "nbformat": 4,
  "nbformat_minor": 0
}
