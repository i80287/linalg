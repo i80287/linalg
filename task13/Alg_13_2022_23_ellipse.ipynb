{
  "cells": [
    {
      "cell_type": "code",
      "execution_count": 1,
      "metadata": {
        "id": "Dd3-2mHHP8eU"
      },
      "outputs": [],
      "source": [
        "import sympy\n",
        "from sympy import Ellipse, Point, S, Eq, latex, plot_implicit\n",
        "from sympy import symbols, simplify, Rational\n",
        "from IPython.display import Latex"
      ]
    },
    {
      "cell_type": "markdown",
      "metadata": {
        "id": "LOxIvPI1P8eZ"
      },
      "source": [
        "# Практическое занятие 13\n",
        "# Компьютерный практикум по алгебре на Python\n",
        "## Кривые второго порядка на плоскости: эллипс\n",
        "https://ru.wikipedia.org/wiki/%D0%AD%D0%BB%D0%BB%D0%B8%D0%BF%D1%81\n",
        "\n",
        "В Sympy в части Geometry есть класс эллипсов Ellipse, \n",
        "экземпляры класса задаются точкой - центром эллипса и горизонтальной и вертикальной полуосями или одной из осей и эксцентриситетом.\n",
        "\n",
        "По умолчанию центр эллипса находится в начале координат, так что точку - центр эллипса можно конструктору не передавать. А оси или одну из них и эксцентриситет передать обязательно.\n",
        "\n",
        "https://docs.sympy.org/latest/modules/geometry/ellipses.html\n",
        "### Пример 1\n",
        "Построим эллипс Ellipse1: центр в начале координат, полуоси 13 и 5."
      ]
    },
    {
      "cell_type": "code",
      "execution_count": 2,
      "metadata": {
        "colab": {
          "base_uri": "https://localhost:8080/",
          "height": 38
        },
        "id": "r0SV3hOXP8eb",
        "outputId": "329e0ceb-69e7-4103-bfcc-bac2cb7b8866"
      },
      "outputs": [
        {
          "data": {
            "image/svg+xml": "<svg xmlns=\"http://www.w3.org/2000/svg\"\n            xmlns:xlink=\"http://www.w3.org/1999/xlink\"\n            width=\"100.0\" height=\"100.0\" viewBox=\"-15.6000000000000 -7.60000000000000 31.2000000000000 15.2000000000000\"\n            preserveAspectRatio=\"xMinYMin meet\">\n            <defs>\n                <marker id=\"markerCircle\" markerWidth=\"8\" markerHeight=\"8\"\n                    refx=\"5\" refy=\"5\" markerUnits=\"strokeWidth\">\n                    <circle cx=\"5\" cy=\"5\" r=\"1.5\" style=\"stroke: none; fill:#000000;\"/>\n                </marker>\n                <marker id=\"markerArrow\" markerWidth=\"13\" markerHeight=\"13\" refx=\"2\" refy=\"4\"\n                       orient=\"auto\" markerUnits=\"strokeWidth\">\n                    <path d=\"M2,2 L2,6 L6,4\" style=\"fill: #000000;\" />\n                </marker>\n                <marker id=\"markerReverseArrow\" markerWidth=\"13\" markerHeight=\"13\" refx=\"6\" refy=\"4\"\n                       orient=\"auto\" markerUnits=\"strokeWidth\">\n                    <path d=\"M6,2 L6,6 L2,4\" style=\"fill: #000000;\" />\n                </marker>\n            </defs><g transform=\"matrix(1,0,0,-1,0,0)\"><ellipse fill=\"#66cc99\" stroke=\"#555555\" stroke-width=\"0.624000000000000\" opacity=\"0.6\" cx=\"0\" cy=\"0\" rx=\"13.0000000000000\" ry=\"5.00000000000000\"/></g></svg>",
            "text/latex": [
              "$\\displaystyle \\operatorname{Ellipse}\\left(\\operatorname{Point2D}\\left(0, 0\\right), 13, 5\\right)$"
            ],
            "text/plain": [
              "Ellipse(Point2D(0, 0), 13, 5)"
            ]
          },
          "execution_count": 2,
          "metadata": {},
          "output_type": "execute_result"
        }
      ],
      "source": [
        "Ellipse1 = Ellipse(hradius=13,  vradius=5)\n",
        "Ellipse1"
      ]
    },
    {
      "cell_type": "markdown",
      "metadata": {
        "id": "EpJ1fH5UP8ee"
      },
      "source": [
        "Эллипс можно задать центром, горизонтальной полуосью и эксцентриситетом"
      ]
    },
    {
      "cell_type": "code",
      "execution_count": 3,
      "metadata": {
        "colab": {
          "base_uri": "https://localhost:8080/",
          "height": 38
        },
        "id": "412pvQxdP8ef",
        "outputId": "1ab3b602-a184-4db7-9b66-7f957d1a5d2a"
      },
      "outputs": [
        {
          "data": {
            "image/svg+xml": "<svg xmlns=\"http://www.w3.org/2000/svg\"\n            xmlns:xlink=\"http://www.w3.org/1999/xlink\"\n            width=\"100.0\" height=\"100.0\" viewBox=\"-12.6000000000000 -6.60000000000000 31.2000000000000 15.2000000000000\"\n            preserveAspectRatio=\"xMinYMin meet\">\n            <defs>\n                <marker id=\"markerCircle\" markerWidth=\"8\" markerHeight=\"8\"\n                    refx=\"5\" refy=\"5\" markerUnits=\"strokeWidth\">\n                    <circle cx=\"5\" cy=\"5\" r=\"1.5\" style=\"stroke: none; fill:#000000;\"/>\n                </marker>\n                <marker id=\"markerArrow\" markerWidth=\"13\" markerHeight=\"13\" refx=\"2\" refy=\"4\"\n                       orient=\"auto\" markerUnits=\"strokeWidth\">\n                    <path d=\"M2,2 L2,6 L6,4\" style=\"fill: #000000;\" />\n                </marker>\n                <marker id=\"markerReverseArrow\" markerWidth=\"13\" markerHeight=\"13\" refx=\"6\" refy=\"4\"\n                       orient=\"auto\" markerUnits=\"strokeWidth\">\n                    <path d=\"M6,2 L6,6 L2,4\" style=\"fill: #000000;\" />\n                </marker>\n            </defs><g transform=\"matrix(1,0,0,-1,0,2.00000000000000)\"><ellipse fill=\"#66cc99\" stroke=\"#555555\" stroke-width=\"0.624000000000000\" opacity=\"0.6\" cx=\"3.00000000000000\" cy=\"1.00000000000000\" rx=\"13.0000000000000\" ry=\"5.00000000000000\"/></g></svg>",
            "text/latex": [
              "$\\displaystyle \\operatorname{Ellipse}\\left(\\operatorname{Point2D}\\left(3, 1\\right), 13, 5\\right)$"
            ],
            "text/plain": [
              "Ellipse(Point2D(3, 1), 13, 5)"
            ]
          },
          "execution_count": 3,
          "metadata": {},
          "output_type": "execute_result"
        }
      ],
      "source": [
        "Ellipse2 = Ellipse(Point(3, 1), hradius=13, eccentricity=Rational(12, 13))\n",
        "display(Ellipse2)"
      ]
    },
    {
      "cell_type": "markdown",
      "metadata": {
        "id": "eoPQlpPiP8ef"
      },
      "source": [
        "### Атрибуты класса Ellipse\n",
        "\n",
        "**center** \n",
        "центр эллипса, точка пересечения его осей\n",
        "\t\n",
        "\n",
        "**hradius**\n",
        "горизонтальная полуось\n",
        "    \n",
        "**vradius**\n",
        "вертикальная полуось\t\n",
        "\n",
        "**area**\n",
        "площадь\t\n",
        "\n",
        "**circumference**\n",
        "длина (дуги) эллипса (аналог длины окружности)\t\n",
        "$$\n",
        "l = 4a \\int_0^{\\pi/2} \\sqrt{1 - \\varepsilon^2\\cos^2 t}\\,dt = 4aE(\\varepsilon^2),\n",
        "$$\n",
        "где $a$ - большая полуось, $\\varepsilon$ - эксцентриситет, $E(\\varepsilon^2)$ - полный эллиптический интеграл\n",
        "\n",
        "**eccentricity**\n",
        "эксцентриситет отношение фокусного расстояния к горизонтальной оси (той, на которой расположены фокусы)\t\n",
        "\n",
        "**periapsis**\n",
        "перифокусное расстояние (минимальное расстояние от фокуса до точки на эллипсе)\t\n",
        "\n",
        "**apoapsis**\n",
        "апофокусное расстояние (максимальное расстояние от фокуса до точки на эллипсе)\t\n",
        "\n",
        "**focus_distance**\n",
        "фокусное расстояние - половина расстояния между фокусами\t\n",
        "\n",
        "**foci**\n",
        "фокусы \n",
        "### Пример 2.\n",
        "Выведем на экран атрибуты эллипса Ellipse2."
      ]
    },
    {
      "cell_type": "code",
      "execution_count": 4,
      "metadata": {
        "colab": {
          "base_uri": "https://localhost:8080/",
          "height": 230
        },
        "id": "QBve1LP_P8eg",
        "outputId": "cb662379-78af-4d9c-f830-c14aa120876b"
      },
      "outputs": [
        {
          "data": {
            "text/latex": [
              "$center = \\operatorname{Point2D}\\left(3, 1\\right)$"
            ],
            "text/plain": [
              "<IPython.core.display.Latex object>"
            ]
          },
          "metadata": {},
          "output_type": "display_data"
        },
        {
          "data": {
            "text/latex": [
              "$hradius = 13$"
            ],
            "text/plain": [
              "<IPython.core.display.Latex object>"
            ]
          },
          "metadata": {},
          "output_type": "display_data"
        },
        {
          "data": {
            "text/latex": [
              "$vradius = 5$"
            ],
            "text/plain": [
              "<IPython.core.display.Latex object>"
            ]
          },
          "metadata": {},
          "output_type": "display_data"
        },
        {
          "data": {
            "text/latex": [
              "$area = 65 \\pi$"
            ],
            "text/plain": [
              "<IPython.core.display.Latex object>"
            ]
          },
          "metadata": {},
          "output_type": "display_data"
        },
        {
          "data": {
            "text/latex": [
              "$circumference = 52 E\\left(\\frac{144}{169}\\right)$"
            ],
            "text/plain": [
              "<IPython.core.display.Latex object>"
            ]
          },
          "metadata": {},
          "output_type": "display_data"
        },
        {
          "data": {
            "text/latex": [
              "$eccentricity = \\frac{12}{13}$"
            ],
            "text/plain": [
              "<IPython.core.display.Latex object>"
            ]
          },
          "metadata": {},
          "output_type": "display_data"
        },
        {
          "data": {
            "text/latex": [
              "$periapsis = 1$"
            ],
            "text/plain": [
              "<IPython.core.display.Latex object>"
            ]
          },
          "metadata": {},
          "output_type": "display_data"
        },
        {
          "data": {
            "text/latex": [
              "$apoapsis = 25$"
            ],
            "text/plain": [
              "<IPython.core.display.Latex object>"
            ]
          },
          "metadata": {},
          "output_type": "display_data"
        },
        {
          "data": {
            "text/latex": [
              "$focus\\_distance = 12$"
            ],
            "text/plain": [
              "<IPython.core.display.Latex object>"
            ]
          },
          "metadata": {},
          "output_type": "display_data"
        },
        {
          "data": {
            "text/latex": [
              "$foci = \\left( \\operatorname{Point2D}\\left(-9, 1\\right), \\  \\operatorname{Point2D}\\left(15, 1\\right)\\right)$"
            ],
            "text/plain": [
              "<IPython.core.display.Latex object>"
            ]
          },
          "metadata": {},
          "output_type": "display_data"
        }
      ],
      "source": [
        "props = {'center': Ellipse2.center,\n",
        "         'hradius': Ellipse2.hradius,\n",
        "         'vradius': Ellipse2.vradius,\n",
        "         'area': Ellipse2.area,\n",
        "         'circumference': Ellipse2.circumference,\n",
        "         'eccentricity': Ellipse2.eccentricity,\n",
        "         'periapsis': Ellipse2.periapsis,\n",
        "         'apoapsis': Ellipse2.apoapsis,\n",
        "         'focus\\_distance': Ellipse2.focus_distance,\n",
        "         'foci': Ellipse2.foci}\n",
        "display(*[Latex(f'${key} = {latex(props[key])}$') for key in props])"
      ]
    },
    {
      "cell_type": "markdown",
      "metadata": {
        "id": "KoauhcabP8ei"
      },
      "source": [
        "### Методы класса Ellipse \n",
        "\n",
        "**encloses_point(p)** - является ли внутренней точкой эллипса точка p?\n",
        "\n",
        "**equation(x='x', y='y', _slope=None)**- уравнение эллипса\n",
        "\n",
        "необязательный аргумент _slope - наклон главной оси, т.е. **тангенс** угла (в радианах!) между положительным направлением оси $OX$ и прямой, проходящей через фокусы эллипса.\n",
        "### Пример 3.\n",
        "Выведем на экран, является ли  внутренней точкой эллипса точка (0, 0), (3, 6) и (20, 20)."
      ]
    },
    {
      "cell_type": "code",
      "execution_count": 18,
      "metadata": {
        "colab": {
          "base_uri": "https://localhost:8080/"
        },
        "id": "ZbvfWa3ZP8ei",
        "outputId": "7d5a5226-c02e-4ccb-cdbe-e4a389654648"
      },
      "outputs": [
        {
          "name": "stdout",
          "output_type": "stream",
          "text": [
            "Точка Point2D(0, 0) является внутренней точкой эллипса.\n",
            "Точка Point2D(3, 6) не является внутренней точкой эллипса.\n",
            "Точка Point2D(20, 20) не является внутренней точкой эллипса.\n"
          ]
        }
      ],
      "source": [
        "print(*[f'Точка {p} {\"не \" * (not Ellipse2.encloses_point(p))}\\\n",
        "является внутренней точкой \\\n",
        "эллипса.' for p in (Point(0, 0), Point(3, 6), Point(20, 20))],\n",
        "sep='\\n')"
      ]
    },
    {
      "cell_type": "markdown",
      "metadata": {
        "id": "Im1rfr29P8ej"
      },
      "source": [
        "Заметим, что граничные точки, т.е. точки на самом эллипсе, не являются внутренними!\n",
        "### Пример 4.\n",
        "Выведем на экран уравнение эллипса Ellipse2, а также уравнение этого эллипса, повернутого на угол с тангенсом 2."
      ]
    },
    {
      "cell_type": "code",
      "execution_count": 6,
      "metadata": {
        "colab": {
          "base_uri": "https://localhost:8080/",
          "height": 61
        },
        "id": "IYqIQ1_aP8ek",
        "outputId": "e102935a-41cc-4a70-c3b5-2fac1c1f4e14"
      },
      "outputs": [
        {
          "data": {
            "text/latex": [
              "$\\displaystyle \\left(\\frac{x}{13} - \\frac{3}{13}\\right)^{2} + \\left(\\frac{y}{5} - \\frac{1}{5}\\right)^{2} - 1$"
            ],
            "text/plain": [
              "(x/13 - 3/13)**2 + (y/5 - 1/5)**2 - 1"
            ]
          },
          "execution_count": 6,
          "metadata": {},
          "output_type": "execute_result"
        }
      ],
      "source": [
        "from sympy.abc import x, y\n",
        "expr2 = Ellipse2.equation(x='x', y='y')\n",
        "expr2"
      ]
    },
    {
      "cell_type": "markdown",
      "metadata": {
        "id": "FrJjj1VAutjc"
      },
      "source": [
        "Это только левая часть уравнения эллипса при равой, равной нулю. Составим уравнение:"
      ]
    },
    {
      "cell_type": "code",
      "execution_count": 7,
      "metadata": {
        "colab": {
          "base_uri": "https://localhost:8080/",
          "height": 61
        },
        "id": "qOkdF_Rkus2m",
        "outputId": "3cee2979-f631-40b5-eb50-4a8bf58ff6c8"
      },
      "outputs": [
        {
          "data": {
            "text/latex": [
              "$\\displaystyle \\left(\\frac{x}{13} - \\frac{3}{13}\\right)^{2} + \\left(\\frac{y}{5} - \\frac{1}{5}\\right)^{2} - 1 = 0$"
            ],
            "text/plain": [
              "Eq((x/13 - 3/13)**2 + (y/5 - 1/5)**2 - 1, 0)"
            ]
          },
          "execution_count": 7,
          "metadata": {},
          "output_type": "execute_result"
        }
      ],
      "source": [
        "eq2 = Eq(expr2, 0)\n",
        "eq2"
      ]
    },
    {
      "cell_type": "markdown",
      "metadata": {
        "id": "UF0jbecTvO1N"
      },
      "source": [
        "Перенесем свободный член в правую часть:"
      ]
    },
    {
      "cell_type": "code",
      "execution_count": 8,
      "metadata": {
        "colab": {
          "base_uri": "https://localhost:8080/",
          "height": 61
        },
        "id": "d-RqZnQ6vUi7",
        "outputId": "d9834c72-9386-4e40-85f0-f6ae85388db3"
      },
      "outputs": [
        {
          "data": {
            "text/latex": [
              "$\\displaystyle \\left(\\frac{x}{13} - \\frac{3}{13}\\right)^{2} + \\left(\\frac{y}{5} - \\frac{1}{5}\\right)^{2} = 1$"
            ],
            "text/plain": [
              "Eq((x/13 - 3/13)**2 + (y/5 - 1/5)**2, 1)"
            ]
          },
          "execution_count": 8,
          "metadata": {},
          "output_type": "execute_result"
        }
      ],
      "source": [
        "right_side = -expr2.as_coeff_add()[0]\n",
        "eq2_new = Eq(expr2 + right_side, right_side)\n",
        "eq2_new"
      ]
    },
    {
      "cell_type": "markdown",
      "metadata": {
        "id": "zsyNynKDP8el"
      },
      "source": [
        "Посмотрим, как изменится уравнение эллипса при повороте,\n",
        "для этого изменим наклон главной оси с 0 на 2:"
      ]
    },
    {
      "cell_type": "code",
      "execution_count": 9,
      "metadata": {
        "colab": {
          "base_uri": "https://localhost:8080/",
          "height": 56
        },
        "id": "bpCKkeYIP8em",
        "outputId": "0c498d0d-4f37-4a1a-bcd0-c7adad3da457"
      },
      "outputs": [
        {
          "data": {
            "text/latex": [
              "$\\displaystyle \\frac{\\left(- 2 x + y + 5\\right)^{2}}{125} + \\frac{\\left(x + 2 y - 5\\right)^{2}}{845} - 1$"
            ],
            "text/plain": [
              "(-2*x + y + 5)**2/125 + (x + 2*y - 5)**2/845 - 1"
            ]
          },
          "execution_count": 9,
          "metadata": {},
          "output_type": "execute_result"
        }
      ],
      "source": [
        "expr2_slope = Ellipse2.equation(_slope=2)\n",
        "expr2_slope"
      ]
    },
    {
      "cell_type": "markdown",
      "metadata": {
        "id": "d73EwrIMx9B2"
      },
      "source": [
        "Перепишем в виде уравнения:"
      ]
    },
    {
      "cell_type": "code",
      "execution_count": 10,
      "metadata": {
        "colab": {
          "base_uri": "https://localhost:8080/",
          "height": 56
        },
        "id": "thlDt9_jyAbs",
        "outputId": "762a6caf-a4de-4796-ace8-3bd256452549"
      },
      "outputs": [
        {
          "data": {
            "text/latex": [
              "$\\displaystyle \\frac{\\left(- 2 x + y + 5\\right)^{2}}{125} + \\frac{\\left(x + 2 y - 5\\right)^{2}}{845} - 1 = 0$"
            ],
            "text/plain": [
              "Eq((-2*x + y + 5)**2/125 + (x + 2*y - 5)**2/845 - 1, 0)"
            ]
          },
          "execution_count": 10,
          "metadata": {},
          "output_type": "execute_result"
        }
      ],
      "source": [
        "eq2_slope = Eq(expr2_slope, 0)\n",
        "eq2_slope"
      ]
    },
    {
      "cell_type": "markdown",
      "metadata": {
        "id": "z7QreNkQyIlE"
      },
      "source": [
        "Перенесем свободный член в правую часть:"
      ]
    },
    {
      "cell_type": "code",
      "execution_count": 11,
      "metadata": {
        "colab": {
          "base_uri": "https://localhost:8080/",
          "height": 56
        },
        "id": "fTm8sSX9yK90",
        "outputId": "216ea122-e82d-4655-e97b-02867f630358"
      },
      "outputs": [
        {
          "data": {
            "text/latex": [
              "$\\displaystyle \\frac{\\left(- 2 x + y + 5\\right)^{2}}{125} + \\frac{\\left(x + 2 y - 5\\right)^{2}}{845} = 1$"
            ],
            "text/plain": [
              "Eq((-2*x + y + 5)**2/125 + (x + 2*y - 5)**2/845, 1)"
            ]
          },
          "execution_count": 11,
          "metadata": {},
          "output_type": "execute_result"
        }
      ],
      "source": [
        "right_slope_side = -expr2_slope.as_coeff_add()[0]\n",
        "eq2_slope_new = Eq(expr2_slope + right_slope_side, right_slope_side)\n",
        "eq2_slope_new"
      ]
    },
    {
      "cell_type": "markdown",
      "metadata": {
        "id": "pR2hEHs2P8em"
      },
      "source": [
        "### Пример 5.\n",
        "Изобразим на графике эллипс, повернутый на угол с тангенсом 2.\n",
        "\n",
        "Для того, чтобы изобразить эллипс на графике, нужны его переменные, извлечем их с помощью .free_symbols"
      ]
    },
    {
      "cell_type": "code",
      "execution_count": 12,
      "metadata": {
        "colab": {
          "base_uri": "https://localhost:8080/"
        },
        "id": "p_eJevwmP8en",
        "outputId": "c46e00d9-bcfe-430c-dbe2-d1a8ac7be5e9"
      },
      "outputs": [
        {
          "data": {
            "text/plain": [
              "{x, y}"
            ]
          },
          "execution_count": 12,
          "metadata": {},
          "output_type": "execute_result"
        }
      ],
      "source": [
        "symb_free = eq2_slope.free_symbols\n",
        "symb_free"
      ]
    },
    {
      "cell_type": "markdown",
      "metadata": {
        "id": "7ix9nW_Y1I6I"
      },
      "source": [
        "Для того, чтобы задать достаточно большой диапазон значений переменных, используем словарь и списочное выражение:"
      ]
    },
    {
      "cell_type": "code",
      "execution_count": 13,
      "metadata": {
        "colab": {
          "base_uri": "https://localhost:8080/",
          "height": 314
        },
        "id": "79XcepjC1C-R",
        "outputId": "edc94055-070c-43f9-efef-ab908da3afce"
      },
      "outputs": [
        {
          "data": {
            "image/png": "[encoded data removed]",
            "text/plain": [
              "<Figure size 640x480 with 1 Axes>"
            ]
          },
          "metadata": {},
          "output_type": "display_data"
        },
        {
          "data": {
            "text/plain": [
              "<sympy.plotting.plot.Plot at 0x1ee4e98aa10>"
            ]
          },
          "execution_count": 13,
          "metadata": {},
          "output_type": "execute_result"
        }
      ],
      "source": [
        "plot_implicit(eq2_slope,\n",
        "              aspect_ratio=(1, 1),\n",
        "              adaptive=False, *[(variable, -15, 15) for variable in eq2_slope.free_symbols])"
      ]
    },
    {
      "cell_type": "markdown",
      "metadata": {
        "id": "hW3xfce4P8eo"
      },
      "source": [
        "Как видим, первая переменная оказалась не $x$, а $y$. \n",
        "\n",
        "Обеспечим доступ к символам по имени, составив словарь dict_free по множеству set_free переменных уравнения эллипса:"
      ]
    },
    {
      "cell_type": "code",
      "execution_count": 14,
      "metadata": {
        "colab": {
          "base_uri": "https://localhost:8080/"
        },
        "id": "cH3uZI3RP8eo",
        "outputId": "053b1797-1953-482b-9eb9-3a48a78608db"
      },
      "outputs": [
        {
          "data": {
            "text/plain": [
              "(x, y)"
            ]
          },
          "execution_count": 14,
          "metadata": {},
          "output_type": "execute_result"
        }
      ],
      "source": [
        "dict_free = {str(a): a for a in symb_free}\n",
        "dict_free['x'], dict_free['y']"
      ]
    },
    {
      "cell_type": "code",
      "execution_count": 15,
      "metadata": {
        "colab": {
          "base_uri": "https://localhost:8080/",
          "height": 314
        },
        "id": "syBCx3BSP8ep",
        "outputId": "79685841-8190-4d36-b6ac-be30fa19fdbc"
      },
      "outputs": [
        {
          "data": {
            "image/png": "[encoded data removed]",
            "text/plain": [
              "<Figure size 640x480 with 1 Axes>"
            ]
          },
          "metadata": {},
          "output_type": "display_data"
        },
        {
          "data": {
            "text/plain": [
              "<sympy.plotting.plot.Plot at 0x1ee4d089dd0>"
            ]
          },
          "execution_count": 15,
          "metadata": {},
          "output_type": "execute_result"
        }
      ],
      "source": [
        "plot_implicit(eq2_slope,\n",
        "              (dict_free['x'], -15, 15),\n",
        "              (dict_free['y'], -15, 15),\n",
        "              aspect_ratio=(1, 1),\n",
        "              adaptive=False)"
      ]
    },
    {
      "cell_type": "markdown",
      "metadata": {
        "id": "jxWZLd7q6eim"
      },
      "source": [
        "### Пример 6.\n",
        "На графике изобразим эллипс Ellipse6 (с центром в (2, 3), осями 13 и 5). Составим уравнение эллипса с переменными $u$ и $v$.\n",
        "\n",
        "При вызове метода equation зададим имена переменных и используем их при построении графика."
      ]
    },
    {
      "cell_type": "code",
      "execution_count": 16,
      "metadata": {
        "colab": {
          "base_uri": "https://localhost:8080/",
          "height": 228
        },
        "id": "l3Ax-EF8664m",
        "outputId": "6ae87f70-9d6a-4b7b-cb34-866a7f135910"
      },
      "outputs": [
        {
          "data": {
            "image/png": "[encoded data removed]",
            "text/plain": [
              "<Figure size 640x480 with 1 Axes>"
            ]
          },
          "metadata": {},
          "output_type": "display_data"
        },
        {
          "data": {
            "text/latex": [
              "$$\\text{Уравнение эллипса: }\\left(\\frac{u}{13} - \\frac{2}{13}\\right)^{2} + \\left(\\frac{v}{5} - \\frac{3}{5}\\right)^{2} = 1$$"
            ],
            "text/plain": [
              "<IPython.core.display.Latex object>"
            ]
          },
          "metadata": {},
          "output_type": "display_data"
        }
      ],
      "source": [
        "Ellipse6 = Ellipse(Point(2, 3), 13, 5)\n",
        "expr6 = Ellipse6.equation(x='u', y='v')\n",
        "uv = {str(a): a for a in expr6.free_symbols}\n",
        "p = plot_implicit(expr6,\n",
        "                  (uv['u'], -15, 20), (uv['v'], -5, 10),\n",
        "                  aspect_ratio=(1, 1),\n",
        "                  adaptive=False)\n",
        "right_slope_side = -expr6.as_coeff_add()[0]\n",
        "display(Latex(f'$$\\\\text{{Уравнение эллипса: }}\\\n",
        "{latex(Eq(expr6 + right_slope_side, right_slope_side))}$$'))"
      ]
    },
    {
      "cell_type": "markdown",
      "metadata": {
        "id": "_vcnvW65P8ep"
      },
      "source": [
        "### Немного о plot_implicit\n",
        "plot_implicit позволяет изобразить график одной кривой, заданной неявно с помощью уравнения.\n",
        "\n",
        "Если нужно построить на одной плоскости два и более графика неявно заданных функций, можно поступить так:\n",
        "\n",
        "вначале создаем все графики, указываем необязательный параметр show=False и запоминаем созданные с помощью plot_implicit объекты в переменные\n",
        "\n",
        "затем объединяем объекты в один с помощью метода extend\n",
        "\n",
        "### Пример 7.\n",
        "На графике изобразить эллипс Ellipse7 (с центром в (0, 0), осями 5 и 3) и его копии с наклоном 1, 2, -2, -1"
      ]
    },
    {
      "cell_type": "code",
      "execution_count": 17,
      "metadata": {
        "colab": {
          "base_uri": "https://localhost:8080/",
          "height": 297
        },
        "id": "h08NpTMY6LdH",
        "outputId": "db705056-bf9d-48f6-a672-7665f07ccc9c"
      },
      "outputs": [
        {
          "data": {
            "image/png": "[encoded data removed]",
            "text/plain": [
              "<Figure size 640x480 with 1 Axes>"
            ]
          },
          "metadata": {},
          "output_type": "display_data"
        }
      ],
      "source": [
        "Ellipse7 = Ellipse(Point(0, 0), 5, 3)\n",
        "eq6 = Ellipse6.equation(x='x', y='y')\n",
        "p = plot_implicit(Ellipse7.equation(x='x', y='y'),\n",
        "                  aspect_ratio=(1, 1),\n",
        "                  show=False,\n",
        "                  adaptive=False)\n",
        "for slope in (-2, -1, 1, 2):\n",
        "    p.extend(plot_implicit(Ellipse7.equation(x='x', y='y', _slope=slope),\n",
        "                           aspect_ratio=(1, 1),\n",
        "                           show=False,\n",
        "                           adaptive=False))\n",
        "p.show()"
      ]
    }
  ],
  "metadata": {
    "colab": {
      "provenance": []
    },
    "kernelspec": {
      "display_name": ".venv",
      "language": "python",
      "name": "python3"
    },
    "language_info": {
      "codemirror_mode": {
        "name": "ipython",
        "version": 3
      },
      "file_extension": ".py",
      "mimetype": "text/x-python",
      "name": "python",
      "nbconvert_exporter": "python",
      "pygments_lexer": "ipython3",
      "version": "3.11.0"
    },
    "vscode": {
      "interpreter": {
        "hash": "15070b5f4c01a16be65f6048f4eea768aba9ae68ce711f49339836ef743d1529"
      }
    }
  },
  "nbformat": 4,
  "nbformat_minor": 0
}
