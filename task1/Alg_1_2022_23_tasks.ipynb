{
 "cells": [
  {
   "cell_type": "markdown",
   "metadata": {
    "id": "NWxN--Ciycml"
   },
   "source": [
    "# Практическое занятие 1\n",
    "# Компьютерный практикум по алгебре на Python"
   ]
  },
  {
   "cell_type": "markdown",
   "metadata": {
    "id": "JITt7G7iycmp"
   },
   "source": [
    "https://docs.sympy.org/latest/tutorial/intro.html"
   ]
  },
  {
   "cell_type": "code",
   "execution_count": 1,
   "metadata": {
    "id": "VKvRy_UGycmq"
   },
   "outputs": [],
   "source": [
    "#Вначале для простоты будем подключать модуль sympy целиком\n",
    "from sympy import *"
   ]
  },
  {
   "cell_type": "markdown",
   "metadata": {
    "id": "x3mNO8qJycmr"
   },
   "source": [
    "## Действия с числами, числовые выражения\n",
    "Об основных типах данных Python 3.10 читайте здесь:\n",
    "https://docs.python.org/3/reference/datamodel.html#index-19\n",
    "\n",
    "Сейчас нам понадобятся типы:\n",
    "\n",
    "int - целое число (насколько большим оно может быть, зависит только от объема доступной памяти)\n",
    "\n",
    "float - вещественное число (double precision floating point numbers)\n",
    "\n",
    "### Задание 1.\n",
    "Вычислите значение выражения\n",
    "$$\n",
    "3\\left(2^{4}+6\\sin\\frac{\\pi}{4}-5\\sqrt{2}\\right)\n",
    "$$\n",
    "**Указание**: воспользоваться имеющимися в sympy функциями sin и sqrt."
   ]
  },
  {
   "cell_type": "code",
   "execution_count": 2,
   "metadata": {
    "id": "GAKObJZh3YkM"
   },
   "outputs": [
    {
     "data": {
      "text/latex": [
       "$\\displaystyle 48 - 6 \\sqrt{2}$"
      ],
      "text/plain": [
       "48 - 6*sqrt(2)"
      ]
     },
     "metadata": {},
     "output_type": "display_data"
    }
   ],
   "source": [
    "expression_1 = 3 * (2 ** 4 + 6 * sin(pi / 4) - 5 * sqrt(2))\n",
    "display(expression_1)\n",
    "\n",
    "# or we can just write 3 * (2 ** 4 + 6 * sin(pi / 4) - 5 * sqrt(2)) in one line"
   ]
  },
  {
   "cell_type": "markdown",
   "metadata": {
    "id": "G3b9I6dNycmr"
   },
   "source": [
    "## Символы, символьные выражения\n",
    "Для аналитических преобразований в sympy используется класс Symbol\n",
    "\n",
    "https://docs.sympy.org/latest/modules/core.html?highlight=symbol#module-sympy.core.symbol\n",
    "\n",
    "В этом классе есть метод Symbol для создания одного символа.\n",
    "###  Задание 2.\n",
    "Создайте символ $t$ и составьте выражение $\\frac{\\sqrt{t}+t^3}{t-1}$"
   ]
  },
  {
   "cell_type": "code",
   "execution_count": 3,
   "metadata": {
    "id": "WUQN5zY_4AYo"
   },
   "outputs": [
    {
     "data": {
      "text/latex": [
       "$\\displaystyle \\frac{\\sqrt{t} + t^{3}}{t - 1}$"
      ],
      "text/plain": [
       "(sqrt(t) + t**3)/(t - 1)"
      ]
     },
     "metadata": {},
     "output_type": "display_data"
    }
   ],
   "source": [
    "t = Symbol('t')\n",
    "expression_2 = (sqrt(t) + t ** 3) / (t - 1)\n",
    "display(expression_2)"
   ]
  },
  {
   "cell_type": "markdown",
   "metadata": {
    "id": "qMlP2YM5ycms"
   },
   "source": [
    "## Операции с символьными выражениями: simplify, expand,factor,collect\n",
    "#### simplify\n",
    "используется для упрощения выражения\n",
    "#### expand \n",
    "используется для раскрытия скобок\n",
    "#### factor \n",
    "для разложения на множители\n",
    "#### collect \n",
    "для группировки по степеням переменной\n",
    "###  Задание 3.\n",
    "Упростите выражение\n",
    "$$\n",
    "\\frac{(u+v)^2-4uv}{u-v}+2v-1\n",
    "$$"
   ]
  },
  {
   "cell_type": "code",
   "execution_count": 4,
   "metadata": {
    "id": "5n7kmIBR4CoQ"
   },
   "outputs": [
    {
     "name": "stdout",
     "output_type": "stream",
     "text": [
      "After simplifying:\n"
     ]
    },
    {
     "data": {
      "text/latex": [
       "$\\displaystyle u + v - 1$"
      ],
      "text/plain": [
       "u + v - 1"
      ]
     },
     "metadata": {},
     "output_type": "display_data"
    }
   ],
   "source": [
    "u, v = symbols(\"u v\")\n",
    "expression3 = (((u + v) ** 2 - 4 * u * v) / (u - v) + 2 * v - 1)\n",
    "\n",
    "print(\"After simplifying:\")\n",
    "display(simplify(expression3))\n"
   ]
  },
  {
   "cell_type": "markdown",
   "metadata": {
    "id": "gasezWy-ycmt"
   },
   "source": [
    "###  Задание 4.\n",
    "Раскройте скобки в выражении $(a_1+a_2+a_3)^3-(a_1-a_2)^2$"
   ]
  },
  {
   "cell_type": "code",
   "execution_count": 5,
   "metadata": {
    "id": "EhD4Wzlp4EA4"
   },
   "outputs": [
    {
     "name": "stdout",
     "output_type": "stream",
     "text": [
      "after expanding the expression:\n"
     ]
    },
    {
     "data": {
      "text/latex": [
       "$\\displaystyle a_{1}^{3} + 3 a_{1}^{2} a_{2} + 3 a_{1}^{2} a_{3} - a_{1}^{2} + 3 a_{1} a_{2}^{2} + 6 a_{1} a_{2} a_{3} + 2 a_{1} a_{2} + 3 a_{1} a_{3}^{2} + a_{2}^{3} + 3 a_{2}^{2} a_{3} - a_{2}^{2} + 3 a_{2} a_{3}^{2} + a_{3}^{3}$"
      ],
      "text/plain": [
       "a1**3 + 3*a1**2*a2 + 3*a1**2*a3 - a1**2 + 3*a1*a2**2 + 6*a1*a2*a3 + 2*a1*a2 + 3*a1*a3**2 + a2**3 + 3*a2**2*a3 - a2**2 + 3*a2*a3**2 + a3**3"
      ]
     },
     "execution_count": 5,
     "metadata": {},
     "output_type": "execute_result"
    }
   ],
   "source": [
    "a_elems = symbols(\"a1:4\")\n",
    "_sum = 0\n",
    "for i in range(3):\n",
    "    _sum += a_elems[i]\n",
    "diff = a_elems[0] - a_elems[1]\n",
    "expression_4 = _sum ** 3 - diff ** 2\n",
    "\n",
    "print(\"after expanding the expression:\")\n",
    "expand(expression_4)"
   ]
  },
  {
   "cell_type": "markdown",
   "metadata": {
    "id": "d9_rZkk7ycmt"
   },
   "source": [
    "###  Задание 5.\n",
    "Разложите на множители\n",
    "$2u^4+3u^3v-2u^2v^2-2u^2v-3uv^2+2v^3$"
   ]
  },
  {
   "cell_type": "code",
   "execution_count": 6,
   "metadata": {
    "id": "Mz8-EGSW4FNY"
   },
   "outputs": [
    {
     "name": "stdout",
     "output_type": "stream",
     "text": [
      "after factorization:\n"
     ]
    },
    {
     "data": {
      "text/latex": [
       "$\\displaystyle \\left(u + 2 v\\right) \\left(2 u - v\\right) \\left(u^{2} - v\\right)$"
      ],
      "text/plain": [
       "(u + 2*v)*(2*u - v)*(u**2 - v)"
      ]
     },
     "metadata": {},
     "output_type": "display_data"
    }
   ],
   "source": [
    "u, v = symbols(\"u v\")\n",
    "expression_5 = 2 * u ** 4 + 3 * u ** 3 * v - 2 * u ** 2 * v ** 2 \\\n",
    "    - 2 * u ** 2 * v - 3 * u * v ** 2 + 2 * v ** 3\n",
    "\n",
    "\n",
    "print(\"after factorization:\")\n",
    "display(factor(expression_5))\n"
   ]
  },
  {
   "cell_type": "markdown",
   "metadata": {
    "id": "Cnm5vka3ycmu"
   },
   "source": [
    "###  Задание 6.\n",
    "Сгруппируйте выражение из Задания 5 по степеням $u$."
   ]
  },
  {
   "cell_type": "code",
   "execution_count": 7,
   "metadata": {
    "id": "IMQbCbJu4JPB"
   },
   "outputs": [
    {
     "name": "stdout",
     "output_type": "stream",
     "text": [
      "after collecting:\n"
     ]
    },
    {
     "data": {
      "text/latex": [
       "$\\displaystyle 2 u^{4} + 3 u^{3} v + u^{2} \\left(- 2 v^{2} - 2 v\\right) - 3 u v^{2} + 2 v^{3}$"
      ],
      "text/plain": [
       "2*u**4 + 3*u**3*v + u**2*(-2*v**2 - 2*v) - 3*u*v**2 + 2*v**3"
      ]
     },
     "metadata": {},
     "output_type": "display_data"
    }
   ],
   "source": [
    "# we can only run this cell after the running task 5\n",
    "\n",
    "try:\n",
    "    print(\"after collecting:\")\n",
    "    display(collect(expression_5, u))\n",
    "except:\n",
    "    print(\"probably you did not run cell from the task 5\")"
   ]
  },
  {
   "cell_type": "markdown",
   "metadata": {
    "id": "nvztFMwyycmv"
   },
   "source": [
    "## Списки и кортежи\n",
    "Нам понадобятся два итерируемых типа\n",
    "\n",
    "#### списки list\n",
    "изменяемый тип\n",
    "#### кортежи tuple\n",
    "неизменяемый тип\n",
    "\n",
    "### Задание 7\n",
    "Создайте список $Powers$ из трех кортежей, состоящих из символов $x$, $y$ и $z$ в степени, равной номеру кортежа в списке."
   ]
  },
  {
   "cell_type": "code",
   "execution_count": 8,
   "metadata": {
    "id": "MADdnb8V4Klo"
   },
   "outputs": [
    {
     "name": "stdout",
     "output_type": "stream",
     "text": [
      "Tuples from the generated list:\n"
     ]
    },
    {
     "data": {
      "text/latex": [
       "$\\displaystyle \\left[ \\left( x, \\  y, \\  z\\right), \\  \\left( x^{2}, \\  y^{2}, \\  z^{2}\\right), \\  \\left( x^{3}, \\  y^{3}, \\  z^{3}\\right)\\right]$"
      ],
      "text/plain": [
       "⎡           ⎛ 2   2   2⎞  ⎛ 3   3   3⎞⎤\n",
       "⎣(x, y, z), ⎝x , y , z ⎠, ⎝x , y , z ⎠⎦"
      ]
     },
     "metadata": {},
     "output_type": "display_data"
    }
   ],
   "source": [
    "# according to the pep8 name of the list can't starts with capital letter (e.g. ->P<-owers)\n",
    "x, y, z = symbols(['x', 'y', 'z'])\n",
    "powers = [(x ** i, y ** i, z ** i) for i in range(1, 4)]\n",
    "\n",
    "init_printing()\n",
    "\n",
    "print(\"Tuples from the generated list:\")\n",
    "display(powers)\n"
   ]
  },
  {
   "cell_type": "markdown",
   "metadata": {
    "id": "sE10eEvqycmv"
   },
   "source": [
    "### Задание 8\n",
    "В списке Powers Задания 7 заменить $(x^2,y^2,z^2)$ на (0,0,0)."
   ]
  },
  {
   "cell_type": "code",
   "execution_count": 9,
   "metadata": {
    "id": "Mftd7x424OGR"
   },
   "outputs": [
    {
     "name": "stdout",
     "output_type": "stream",
     "text": [
      "After replacing second tuple:\n"
     ]
    },
    {
     "data": {
      "text/latex": [
       "$\\displaystyle \\left( x, \\  y, \\  z\\right)$"
      ],
      "text/plain": [
       "(x, y, z)"
      ]
     },
     "metadata": {},
     "output_type": "display_data"
    },
    {
     "data": {
      "text/latex": [
       "$\\displaystyle \\left( 0, \\  0, \\  0\\right)$"
      ],
      "text/plain": [
       "(0, 0, 0)"
      ]
     },
     "metadata": {},
     "output_type": "display_data"
    },
    {
     "data": {
      "text/latex": [
       "$\\displaystyle \\left( x^{3}, \\  y^{3}, \\  z^{3}\\right)$"
      ],
      "text/plain": [
       "⎛ 3   3   3⎞\n",
       "⎝x , y , z ⎠"
      ]
     },
     "metadata": {},
     "output_type": "display_data"
    }
   ],
   "source": [
    "# we can only run this cell only after task 7\n",
    "try:\n",
    "    powers[1] = (0, 0, 0)\n",
    "    print(\"After replacing second tuple:\")\n",
    "    display(*powers)\n",
    "except:\n",
    "    print(\"probably you did not run cell from task 7\")"
   ]
  },
  {
   "cell_type": "markdown",
   "metadata": {
    "id": "PmrUn7iVycmw"
   },
   "source": [
    "## Матрицы\n",
    "### Задание 9\n",
    "Составить матрицу  $A_{3\\times 4}$ из чисел вида $3k+1$, $k=1,2,...$:\n",
    "$$\n",
    "A=\n",
    "\\left(\n",
    "\\begin{matrix}\n",
    "4& 7& 10& 13\\\\\n",
    "16& 19& 22& 25\\\\\n",
    "28& 31& 34& 37\n",
    "\\end{matrix}\n",
    "\\right)\n",
    "$$"
   ]
  },
  {
   "cell_type": "code",
   "execution_count": 10,
   "metadata": {
    "id": "rAqyM2v-4Pdh"
   },
   "outputs": [
    {
     "name": "stdout",
     "output_type": "stream",
     "text": [
      "generated matrix:\n"
     ]
    },
    {
     "data": {
      "text/latex": [
       "$\\displaystyle \\left[\\begin{matrix}4 & 7 & 10 & 13\\\\16 & 19 & 22 & 25\\\\28 & 31 & 34 & 37\\end{matrix}\\right]$"
      ],
      "text/plain": [
       "⎡4   7   10  13⎤\n",
       "⎢              ⎥\n",
       "⎢16  19  22  25⎥\n",
       "⎢              ⎥\n",
       "⎣28  31  34  37⎦"
      ]
     },
     "metadata": {},
     "output_type": "display_data"
    }
   ],
   "source": [
    "a_elems = [[3 * k + 1 for k in range(4 * i + 1, 4 * i + 5)] for i in range(3)]\n",
    "a_matrix = Matrix(a_elems)\n",
    "print(\"generated matrix:\")\n",
    "display(a_matrix)"
   ]
  },
  {
   "cell_type": "markdown",
   "metadata": {
    "id": "lU6I_nCJycmw"
   },
   "source": [
    "### Задание 10\n",
    "В матрице А задания 9 удалить вторую строку и вставить третий столбец между первым и вторым (сам третий столбец не удалять!), должно получиться\n",
    "$$\n",
    "A=\n",
    "\\left(\n",
    "\\begin{matrix}\n",
    "4& 10& 7& 10& 13\\\\\n",
    "28& 34& 31& 34& 37\n",
    "\\end{matrix}\n",
    "\\right)\n",
    "$$"
   ]
  },
  {
   "cell_type": "code",
   "execution_count": 11,
   "metadata": {
    "id": "zZqNiJMh4TvQ"
   },
   "outputs": [
    {
     "name": "stdout",
     "output_type": "stream",
     "text": [
      "new matrix:\n"
     ]
    },
    {
     "data": {
      "text/latex": [
       "$\\displaystyle \\left[\\begin{matrix}4 & 10 & 7 & 10 & 13\\\\28 & 34 & 31 & 34 & 37\\end{matrix}\\right]$"
      ],
      "text/plain": [
       "⎡4   10  7   10  13⎤\n",
       "⎢                  ⎥\n",
       "⎣28  34  31  34  37⎦"
      ]
     },
     "metadata": {},
     "output_type": "display_data"
    }
   ],
   "source": [
    "try:\n",
    "    a_matrix.row_del(1)\n",
    "    new_matrix = a_matrix.col_insert(1, a_matrix.col(2))\n",
    "    print(\"new matrix:\")\n",
    "    display(new_matrix)\n",
    "except:\n",
    "    print(\"probably you did not run cell from the task 10\")"
   ]
  },
  {
   "cell_type": "markdown",
   "metadata": {
    "id": "bSKQcn87ycmx"
   },
   "source": [
    "### Индивидуальное задание\n",
    "Составить матрицу левой части СЛАУ, вектор-столбец переменных, вектор-столбец правой части, вектор-столбец $X_0$. Показать, что $X_0$ является решением данной СЛАУ."
   ]
  },
  {
   "cell_type": "code",
   "execution_count": 12,
   "metadata": {
    "id": "6aU100MX4WX5"
   },
   "outputs": [
    {
     "name": "stdout",
     "output_type": "stream",
     "text": [
      "X0 is a solution of A * x = b\n",
      "where\n",
      "A:\n"
     ]
    },
    {
     "data": {
      "text/latex": [
       "$\\displaystyle \\left[\\begin{matrix}-5 & 0 & -6 & 7 & -6\\\\4 & -6 & -2 & 9 & 7\\\\3 & 4 & 0 & -2 & -1\\end{matrix}\\right]$"
      ],
      "text/plain": [
       "⎡-5  0   -6  7   -6⎤\n",
       "⎢                  ⎥\n",
       "⎢4   -6  -2  9   7 ⎥\n",
       "⎢                  ⎥\n",
       "⎣3   4   0   -2  -1⎦"
      ]
     },
     "metadata": {},
     "output_type": "display_data"
    },
    {
     "name": "stdout",
     "output_type": "stream",
     "text": [
      "b:\n"
     ]
    },
    {
     "data": {
      "text/latex": [
       "$\\displaystyle \\left[\\begin{matrix}20\\\\-141\\\\19\\end{matrix}\\right]$"
      ],
      "text/plain": [
       "⎡ 20 ⎤\n",
       "⎢    ⎥\n",
       "⎢-141⎥\n",
       "⎢    ⎥\n",
       "⎣ 19 ⎦"
      ]
     },
     "metadata": {},
     "output_type": "display_data"
    },
    {
     "name": "stdout",
     "output_type": "stream",
     "text": [
      "X0:\n"
     ]
    },
    {
     "data": {
      "text/latex": [
       "$\\displaystyle \\left[\\begin{matrix}-7\\\\5\\\\-6\\\\-9\\\\-2\\end{matrix}\\right]$"
      ],
      "text/plain": [
       "⎡-7⎤\n",
       "⎢  ⎥\n",
       "⎢5 ⎥\n",
       "⎢  ⎥\n",
       "⎢-6⎥\n",
       "⎢  ⎥\n",
       "⎢-9⎥\n",
       "⎢  ⎥\n",
       "⎣-2⎦"
      ]
     },
     "metadata": {},
     "output_type": "display_data"
    }
   ],
   "source": [
    "# kormilitsyn, var. 50\n",
    "#\n",
    "#  / −5x1 − 6x3 + 7x4 − 6x5 = 20\n",
    "# {  4x1 − 6x2 − 2x3 + 9x4 + 7x5 = −141\n",
    "#  \\ 3x1 + 4x2 − 2x4 − x5 = 19\n",
    "#\n",
    "# X0 = [−7 5 −6 −9 −2]\n",
    "\n",
    "a_elems = [\n",
    "    [-5, 0, -6, 7, -6],\n",
    "    [4, -6, -2, 9, 7],\n",
    "    [3, 4, 0, -2, -1]\n",
    "]\n",
    "b_elems = [20, -141, 19]\n",
    "x0_elems = [-7, 5, -6, -9, -2]\n",
    "\n",
    "a_matrix = Matrix(a_elems)\n",
    "b_column = Matrix(b_elems)\n",
    "x_variables = symbols(\"x1:6\")\n",
    "x0_column = Matrix(x0_elems)\n",
    "\n",
    "try:\n",
    "    assert a_matrix * x0_column == b_column\n",
    "    print(\"X0 is a solution of A * x = b\")\n",
    "except:\n",
    "    print(\"X0 is not a solution of A * x = b\")\n",
    "finally:\n",
    "    print(\"where\\nA:\")\n",
    "    display(a_matrix)\n",
    "    print(\"b:\")\n",
    "    display(b_column)\n",
    "    print(\"X0:\")\n",
    "    display(x0_column)"
   ]
  }
 ],
 "metadata": {
  "colab": {
   "collapsed_sections": [],
   "provenance": []
  },
  "kernelspec": {
   "display_name": "Python 3.10.2 ('.venv': venv)",
   "language": "python",
   "name": "python3"
  },
  "language_info": {
   "codemirror_mode": {
    "name": "ipython",
    "version": 3
   },
   "file_extension": ".py",
   "mimetype": "text/x-python",
   "name": "python",
   "nbconvert_exporter": "python",
   "pygments_lexer": "ipython3",
   "version": "3.10.2"
  },
  "vscode": {
   "interpreter": {
    "hash": "15070b5f4c01a16be65f6048f4eea768aba9ae68ce711f49339836ef743d1529"
   }
  }
 },
 "nbformat": 4,
 "nbformat_minor": 1
}
