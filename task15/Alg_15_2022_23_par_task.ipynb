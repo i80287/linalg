{
  "cells": [
    {
      "cell_type": "code",
      "execution_count": 39,
      "metadata": {
        "id": "OkMZJCv7HRj8"
      },
      "outputs": [],
      "source": [
        "from typing import Optional, Union, Tuple, Dict, Iterator\n",
        "\n",
        "import sympy\n",
        "import numpy as np\n",
        "from sympy import Eq, plot_implicit, Matrix, plot, symbols, latex, simplify\n",
        "from sympy import Expr, Basic\n",
        "from sympy.core import sympify\n",
        "from sympy.core.relational import Equality\n",
        "from sympy.plotting.plot import Plot\n",
        "from sympy.geometry.point import Point, Point2D, Point3D\n",
        "from sympy.geometry.line import Line, Line2D\n",
        "from sympy.core.symbol import _symbol\n",
        "from sympy import pi as Pi\n",
        "from sympy import cos as Cos\n",
        "from sympy import sin as Sin\n",
        "from sympy.geometry.entity import GeometryEntity, GeometrySet\n",
        "import matplotlib.pyplot as plt\n",
        "from IPython.display import Latex"
      ]
    },
    {
      "cell_type": "markdown",
      "metadata": {
        "id": "JBcJB2fWHRj_"
      },
      "source": [
        "# Практическое занятие 15\n",
        "# Компьютерный практикум по алгебре на Python\n",
        "## Кривые второго порядка на плоскости: парабола"
      ]
    },
    {
      "cell_type": "markdown",
      "metadata": {
        "id": "mmi1O2YqHRkC"
      },
      "source": [
        "### Задание 1\n",
        "Определить класс parabola по образцу класса Гипербола из ЛР 14.\n",
        "\n",
        "Реализовать **атрибуты**: \n",
        "\n",
        "**парамет**р $p$\n",
        "\n",
        "**вершина** (vertex) в виде точки Point\n",
        "\n",
        "**фокус** (focus) в виде точки Point\n",
        "\n",
        "**угол angle** по умолчанию 0 для параболы с осью, параллельной OX, и ветвями, направленными вправо\n",
        "\n",
        "**ось симметрии** (axis_symmetry) в виде прямой Line\n",
        "\n",
        "**директриса** (directrix) в виде прямой Line\n",
        "\n",
        "Реализовать **методы** \n",
        "\n",
        "**equation(self)** - уравнение параболы,\n",
        "\n",
        "**dir_equation(self)** - уравнение директрисы,\n",
        "\n",
        "**ax_sym_equation(self**) - уравнение оси симметрии,\n",
        "\n",
        "**rotate(self, angle)** - поворот на угол angle против часовой стрелки, метод не изменяет параболу, а возвращает параболу с теми же p и вершиной, но угол увеличен на angle по сравнению с исходной параболой. \n",
        "\n",
        "В конструкторе экземпляра класса  \n",
        "\n",
        "__new__(cls, p, vertex=None, angle=None)\n",
        "\n",
        "p - обязательный параметр, а вид параболы по умолчанию  - парабола с осью, параллельной оси OX,\n",
        "вершина по умолчанию в начале координат."
      ]
    },
    {
      "cell_type": "code",
      "execution_count": 40,
      "metadata": {
        "id": "KQTuw-RWEPMX"
      },
      "outputs": [],
      "source": [
        "class Parabola(GeometrySet):\n",
        "    \"\"\"\n",
        "     Attributes\n",
        "    ==========\n",
        "    p\n",
        "    vertex\n",
        "    angle\n",
        "    focus\n",
        "    axis_symmetry\n",
        "    directrix\n",
        "    ==========\n",
        "    Methods\n",
        "    ==========\n",
        "    equation\n",
        "    dir_equation\n",
        "    ax_sym_equation\n",
        "    rotate\n",
        "    \"\"\"\n",
        "    def __new__(\n",
        "        cls,\n",
        "        p: Union[int, float, Expr],\n",
        "        vertex: Optional[Union[Tuple[Union[int, float, Expr], Union[int, float, Expr]], Point2D]]=None,\n",
        "        angle: Optional[Union[int, float, Expr]]=None,\n",
        "        **kwargs\n",
        "    ) -> 'Parabola':\n",
        "        if not isinstance(p, (int, float, Expr)):\n",
        "            raise NotImplementedError()\n",
        "        \n",
        "        if not isinstance(p, Expr):\n",
        "            p: Expr = sympify(p)\n",
        "        \n",
        "        if not isinstance(angle, Expr):\n",
        "            angle: Expr = \\\n",
        "                sympify(angle) \\\n",
        "                if isinstance(angle, (int, float)) else \\\n",
        "                (sympify(0) if p > 0 else Pi)\n",
        "        \n",
        "        if isinstance(vertex, tuple):\n",
        "            vertex: Point2D = Point2D(vertex[0], vertex[1])\n",
        "        elif not isinstance(vertex, Point2D):\n",
        "            vertex: Point2D = Point2D(0, 0)\n",
        "\n",
        "        angle_cos = Cos(angle)\n",
        "        angle_sin = Sin(angle)\n",
        "\n",
        "        directrix_x: Expr = vertex.x - p/2\n",
        "        if angle_sin == 0:\n",
        "            focus: Point2D = Point2D(vertex.x + p/2, vertex.y)\n",
        "            axis_symmetry: Line2D = Line2D(vertex, focus)\n",
        "            directrix: Line2D = Line2D(Point2D(directrix_x, -1), Point(directrix_x, 1))\n",
        "        else:\n",
        "            A: Matrix = Matrix([\n",
        "                [angle_cos, -angle_sin],\n",
        "                [angle_sin, angle_cos]\n",
        "            ])\n",
        "\n",
        "            A_: Matrix = A * Matrix((p/2, 0))\n",
        "            focus: Point2D = Point2D(A_[0, 0] + vertex.x, A_[1, 0] + vertex.y)\n",
        "            axis_symmetry: Line2D = \\\n",
        "                Line2D(vertex, slope=sympy.tan(angle)) \\\n",
        "                if angle_cos != 0 else \\\n",
        "                Line2D(vertex, focus)\n",
        "            directrix_matrix: Matrix = Matrix([\n",
        "                [directrix_x, directrix_x],\n",
        "                [-1, 1],            \n",
        "            ])\n",
        "\n",
        "            directrix_matrix = A * directrix_matrix\n",
        "            directrix = Line2D(\n",
        "                Point2D(directrix_matrix[0, 0], directrix_matrix[1, 0]),\n",
        "                Point2D(directrix_matrix[0, 1], directrix_matrix[1, 1])\n",
        "            )\n",
        "        \n",
        "        A1: Matrix = Matrix([\n",
        "            [angle_cos, angle_sin],\n",
        "            [-angle_sin, angle_cos]\n",
        "        ])\n",
        "\n",
        "        return GeometryEntity.__new__(cls, p, vertex, angle, focus, axis_symmetry, directrix, (A1,), *symbols('x y'), **kwargs) # type: ignore\n",
        "\n",
        "    @property\n",
        "    def p(self) -> Expr:\n",
        "        return self.args[0]\n",
        "\n",
        "    @property\n",
        "    def vertex(self) -> Point2D:\n",
        "        return self.args[1]\n",
        "\n",
        "    @property\n",
        "    def angle(self) -> Expr:\n",
        "        return self.args[2]\n",
        "\n",
        "    @property\n",
        "    def focus(self) -> Point2D:\n",
        "        return self.args[3]\n",
        "\n",
        "    @property\n",
        "    def axis_symmetry(self) -> Line2D:\n",
        "        return self.args[4]\n",
        "\n",
        "    @property\n",
        "    def directrix(self) -> Line2D:\n",
        "        return self.args[5]\n",
        "\n",
        "    @property\n",
        "    def free_symbols(self) -> Tuple[Expr, Expr]:\n",
        "        return (self.args[7], self.args[8])\n",
        "\n",
        "    @property\n",
        "    def __inversed_rotation_matrix(self) -> Matrix:\n",
        "        return self.args[6][0]\n",
        "\n",
        "    def equation(self) -> Equality:\n",
        "        x, y = self.free_symbols\n",
        "        vertex: Point2D = self.args[1]\n",
        "        x0: Expr = vertex.x\n",
        "        y0: Expr = vertex.y\n",
        "        p: Expr = self.args[0]\n",
        "\n",
        "        X: Matrix = Matrix([x - x0, y - y0])\n",
        "        X = self.__inversed_rotation_matrix * X\n",
        "        return Eq((X[1])**2, 2*p*(X[0]))\n",
        "\n",
        "    def ax_sym_equation(self) -> Equality:\n",
        "        free_symbols: Tuple[Expr, Expr] = self.free_symbols\n",
        "        eq: Expr = self.axis_symmetry.equation(*free_symbols)\n",
        "        symbs: Dict[str, Expr] = {str(x): x for x in free_symbols}\n",
        "\n",
        "        if 'y' in symbs:\n",
        "            return Eq(symbs['y'], simplify(sympy.solve(eq, symbs['y'])[0]))\n",
        "\n",
        "        return Eq(symbs['x'], simplify(sympy.solve(eq, symbs['x'])[0]))\n",
        "\n",
        "    def dir_equation(self) -> Equality:\n",
        "        eq: Expr = self.directrix.equation(*self.free_symbols)\n",
        "        symbs: Dict[str, Expr] = {str(x): x for x in eq.free_symbols}\n",
        "    \n",
        "        symbol: Expr = symbs['y' if 'y' in symbs else 'x']\n",
        "        return Eq(symbol, simplify(sympy.solve(eq, symbol)[0]))                \n",
        "\n",
        "    def rotate(self, angle: Union[int, float, Expr]) -> 'Parabola':\n",
        "        if isinstance(angle, (int, float)):\n",
        "            angle: Expr = sympify(angle)\n",
        "        elif not isinstance(angle, Expr):\n",
        "            raise NotImplementedError()\n",
        "        \n",
        "        return Parabola(self.p, self.vertex, self.angle + angle)\n"
      ]
    },
    {
      "cell_type": "code",
      "execution_count": 41,
      "metadata": {},
      "outputs": [],
      "source": [
        "from typing import overload, Union, Optional\n",
        "\n",
        "@overload\n",
        "def print_sympy_entity(text: Optional[str] = None) -> None:\n",
        "    ...\n",
        "\n",
        "@overload\n",
        "def print_sympy_entity(text: Optional[str] = None, expression: Optional[Union[str, Basic]] = None, *, raw: bool = True) -> None:\n",
        "    ...\n",
        "\n",
        "@overload\n",
        "def print_sympy_entity(text: Optional[str] = None, *expressions: Union[str, Basic], raw: bool = True) -> None:\n",
        "    ...\n",
        "\n",
        "def print_sympy_entity(*args, **kwargs) -> None:\n",
        "    text: Optional[str] = kwargs.get(\"text\", None)\n",
        "    expression: Optional[Union[str, Basic]] = kwargs.get(\"expression\", None)\n",
        "\n",
        "    if text is None and args:\n",
        "        text = args[0]\n",
        "    \n",
        "    expressions: list[str | Expr] = \\\n",
        "        [expr for expr in args[1:] if isinstance(expr, (str, Basic))] \\\n",
        "        if len(args) > 1 else []\n",
        "\n",
        "    if expression is not None:\n",
        "        expressions.append(expression)\n",
        "\n",
        "    if not expressions:\n",
        "        if text is not None:\n",
        "            display(Latex(\"$\\\\text{\" + text + \"}$\"))\n",
        "        return\n",
        "    \n",
        "    is_raw: bool = kwargs.get(\"raw\", True)\n",
        "    if len(expressions) == 1:\n",
        "        final_expr = '$' + (latex(expressions[0]) if is_raw else expressions[0]) + '$'\n",
        "    else:\n",
        "        final_expr: str = \\\n",
        "            r'$\\\\' + r'\\\\'.join(map(latex, expressions) if is_raw else expressions) + '$'\n",
        "\n",
        "    if text is not None:\n",
        "        final_expr = \"$\\\\text{\" + text + \"}$ \" + final_expr\n",
        "\n",
        "    display(Latex(final_expr))\n"
      ]
    },
    {
      "cell_type": "markdown",
      "metadata": {
        "id": "dojqIsnSHRkG"
      },
      "source": [
        "### Задание 2\n",
        "Построить параболу с $p = 3$, вершиной в (-5, 2), осью симметрии, образующей угол $\\pi/4$ с положительным направлением оси ОХ. Вывести на экран ее параметр p, вершину, угол, фокус, ось симметрии и директрису, а также уравнение параболы, оси симметрии и директрисы. \n",
        "\n",
        "Изобразить на общем графике параболу, ее ось симметрии и директрису, парабола зеленая, ось симметрии красная, директриса черная. "
      ]
    },
    {
      "cell_type": "code",
      "execution_count": 42,
      "metadata": {
        "id": "nFu1DVguEVn3"
      },
      "outputs": [
        {
          "data": {
            "text/latex": [
              "$\\text{p:}$ $3$"
            ],
            "text/plain": [
              "<IPython.core.display.Latex object>"
            ]
          },
          "metadata": {},
          "output_type": "display_data"
        },
        {
          "data": {
            "text/latex": [
              "$\\text{vertex:}$ $\\operatorname{Point2D}\\left(-5, 2\\right)$"
            ],
            "text/plain": [
              "<IPython.core.display.Latex object>"
            ]
          },
          "metadata": {},
          "output_type": "display_data"
        },
        {
          "data": {
            "text/latex": [
              "$\\text{angle:}$ $\\frac{\\pi}{4}$"
            ],
            "text/plain": [
              "<IPython.core.display.Latex object>"
            ]
          },
          "metadata": {},
          "output_type": "display_data"
        },
        {
          "data": {
            "text/latex": [
              "$\\text{focus:}$ $\\operatorname{Point2D}\\left(-5 + \\frac{3 \\sqrt{2}}{4}, \\frac{3 \\sqrt{2}}{4} + 2\\right)$"
            ],
            "text/plain": [
              "<IPython.core.display.Latex object>"
            ]
          },
          "metadata": {},
          "output_type": "display_data"
        },
        {
          "data": {
            "text/latex": [
              "$\\text{axis:}$ $\\operatorname{Line2D}\\left(\\operatorname{Point2D}\\left(-5, 2\\right), \\operatorname{Point2D}\\left(-4, 3\\right)\\right)$"
            ],
            "text/plain": [
              "<IPython.core.display.Latex object>"
            ]
          },
          "metadata": {},
          "output_type": "display_data"
        },
        {
          "data": {
            "text/latex": [
              "$\\text{directrix:}$ $\\operatorname{Line2D}\\left(\\operatorname{Point2D}\\left(- \\frac{11 \\sqrt{2}}{4}, - \\frac{15 \\sqrt{2}}{4}\\right), \\operatorname{Point2D}\\left(- \\frac{15 \\sqrt{2}}{4}, - \\frac{11 \\sqrt{2}}{4}\\right)\\right)$"
            ],
            "text/plain": [
              "<IPython.core.display.Latex object>"
            ]
          },
          "metadata": {},
          "output_type": "display_data"
        },
        {
          "data": {
            "text/latex": [
              "$\\text{parabola equation:}$ $\\left(- \\frac{\\sqrt{2} \\left(x + 5\\right)}{2} + \\frac{\\sqrt{2} \\left(y - 2\\right)}{2}\\right)^{2} = 3 \\sqrt{2} \\left(x + 5\\right) + 3 \\sqrt{2} \\left(y - 2\\right)$"
            ],
            "text/plain": [
              "<IPython.core.display.Latex object>"
            ]
          },
          "metadata": {},
          "output_type": "display_data"
        },
        {
          "data": {
            "text/latex": [
              "$\\text{axis equation:}$ $y = x + 7$"
            ],
            "text/plain": [
              "<IPython.core.display.Latex object>"
            ]
          },
          "metadata": {},
          "output_type": "display_data"
        },
        {
          "data": {
            "text/latex": [
              "$\\text{directrix equation:}$ $y = - x - \\frac{13 \\sqrt{2}}{2}$"
            ],
            "text/plain": [
              "<IPython.core.display.Latex object>"
            ]
          },
          "metadata": {},
          "output_type": "display_data"
        },
        {
          "data": {
            "image/png": "[encoded data removed]",
            "text/plain": [
              "<Figure size 640x480 with 1 Axes>"
            ]
          },
          "metadata": {},
          "output_type": "display_data"
        }
      ],
      "source": [
        "parabola: Parabola = Parabola(3, (-5, 2), Pi/4)\n",
        "print_sympy_entity(\"p:\", parabola.p)\n",
        "print_sympy_entity(\"vertex:\", parabola.vertex)\n",
        "print_sympy_entity(\"angle:\", parabola.angle)\n",
        "print_sympy_entity(\"focus:\", parabola.focus)\n",
        "axis_symmetry: Line2D = parabola.axis_symmetry\n",
        "print_sympy_entity(\"axis:\", axis_symmetry)\n",
        "directrix: Line2D = parabola.directrix\n",
        "print_sympy_entity(\"directrix:\", directrix)\n",
        "\n",
        "parabola_eq: Equality = parabola.equation()\n",
        "axis_symmetry_eq: Equality = parabola.ax_sym_equation()\n",
        "directrix_eq: Equality = parabola.dir_equation()\n",
        "\n",
        "print_sympy_entity(\"parabola equation:\", parabola_eq)\n",
        "print_sympy_entity(\"axis equation:\", axis_symmetry_eq)\n",
        "print_sympy_entity(\"directrix equation:\", directrix_eq)\n",
        "\n",
        "symbs: Dict[str, Expr] = {str(s): s for s in parabola.free_symbols}\n",
        "x: Expr = symbs['x']\n",
        "y: Expr = symbs['y']\n",
        "\n",
        "colors: Iterator[str] = iter(('g', 'r', 'k'))\n",
        "p: Plot = plot(\n",
        "    aspect_ratio=(1, 1), \n",
        "    axis_center=(0, 0),\n",
        "    xlim=(-15, 5), \n",
        "    ylim=(-5, 10),\n",
        "    xlabel='$x$',\n",
        "    ylabel='$y$',\n",
        "    show=False\n",
        ")\n",
        "p.extend(plot_implicit(\n",
        "    parabola_eq,\n",
        "    (x, -15, 5),\n",
        "    (y, -5, 10),\n",
        "    line_color=next(colors),\n",
        "    show=False,\n",
        "))\n",
        "p.extend(plot_implicit(\n",
        "    axis_symmetry_eq,\n",
        "    (x, -15, 5),\n",
        "    (y, -5, 10),\n",
        "    line_color=next(colors),\n",
        "    show=False\n",
        "))\n",
        "p.extend(plot_implicit(\n",
        "    directrix_eq,\n",
        "    (x, -15, 5),\n",
        "    (y, -5, 10),\n",
        "    line_color=next(colors),\n",
        "    show=False,\n",
        "))\n",
        "\n",
        "p.show()"
      ]
    },
    {
      "cell_type": "markdown",
      "metadata": {
        "id": "WlXyhdWhHRkH"
      },
      "source": [
        "### Индивидуальное задание\n",
        "Построить параболу из своего варианта, построить другую параболу путем поворота исходной параболы  на угол $\\alpha$ радиан. Вывести на экран вершину, угол, фокус, ось симметрии и директрису обеих парабол. \n",
        "\n",
        "Использовать уравнения повернутой параболы, ее оси симметрии и директрисы для построения графиков в одной координатной плоскости. Парабола фиолетовая, ось симметрии зеленая, директриса черная, название графика Парабола, подписи осей $x$ и $y$."
      ]
    },
    {
      "attachments": {},
      "cell_type": "markdown",
      "metadata": {},
      "source": [
        "Вариант N 50\n",
        "\n",
        "Центр $Point2D\\left(3, 0\\right)$, парабола вида $y^{2} = 2px$ с $p = 2$. Угол поворота $\\pi / 6$."
      ]
    },
    {
      "cell_type": "code",
      "execution_count": 43,
      "metadata": {
        "id": "3lGncOR9EW7e"
      },
      "outputs": [
        {
          "data": {
            "text/latex": [
              "$\\text{Данная парабола:}$"
            ],
            "text/plain": [
              "<IPython.core.display.Latex object>"
            ]
          },
          "metadata": {},
          "output_type": "display_data"
        },
        {
          "data": {
            "text/latex": [
              "$\\text{p:}$ $2$"
            ],
            "text/plain": [
              "<IPython.core.display.Latex object>"
            ]
          },
          "metadata": {},
          "output_type": "display_data"
        },
        {
          "data": {
            "text/latex": [
              "$\\text{Вершина:}$ $\\operatorname{Point2D}\\left(3, 0\\right)$"
            ],
            "text/plain": [
              "<IPython.core.display.Latex object>"
            ]
          },
          "metadata": {},
          "output_type": "display_data"
        },
        {
          "data": {
            "text/latex": [
              "$\\text{Угол поворота:}$ $0$"
            ],
            "text/plain": [
              "<IPython.core.display.Latex object>"
            ]
          },
          "metadata": {},
          "output_type": "display_data"
        },
        {
          "data": {
            "text/latex": [
              "$\\text{Фокус:}$ $\\operatorname{Point2D}\\left(4, 0\\right)$"
            ],
            "text/plain": [
              "<IPython.core.display.Latex object>"
            ]
          },
          "metadata": {},
          "output_type": "display_data"
        },
        {
          "data": {
            "text/latex": [
              "$\\text{Ось симметрии:}$ $\\operatorname{Line2D}\\left(\\operatorname{Point2D}\\left(3, 0\\right), \\operatorname{Point2D}\\left(4, 0\\right)\\right)$"
            ],
            "text/plain": [
              "<IPython.core.display.Latex object>"
            ]
          },
          "metadata": {},
          "output_type": "display_data"
        },
        {
          "data": {
            "text/latex": [
              "$\\text{Директриса:}$ $\\operatorname{Line2D}\\left(\\operatorname{Point2D}\\left(2, -1\\right), \\operatorname{Point2D}\\left(2, 1\\right)\\right)$"
            ],
            "text/plain": [
              "<IPython.core.display.Latex object>"
            ]
          },
          "metadata": {},
          "output_type": "display_data"
        },
        {
          "data": {
            "text/latex": [
              "$\\text{Повёрнутая парабола:}$"
            ],
            "text/plain": [
              "<IPython.core.display.Latex object>"
            ]
          },
          "metadata": {},
          "output_type": "display_data"
        },
        {
          "data": {
            "text/latex": [
              "$\\text{p:}$ $2$"
            ],
            "text/plain": [
              "<IPython.core.display.Latex object>"
            ]
          },
          "metadata": {},
          "output_type": "display_data"
        },
        {
          "data": {
            "text/latex": [
              "$\\text{Вершина:}$ $\\operatorname{Point2D}\\left(3, 0\\right)$"
            ],
            "text/plain": [
              "<IPython.core.display.Latex object>"
            ]
          },
          "metadata": {},
          "output_type": "display_data"
        },
        {
          "data": {
            "text/latex": [
              "$\\text{Угол поворота:}$ $\\frac{\\pi}{6}$"
            ],
            "text/plain": [
              "<IPython.core.display.Latex object>"
            ]
          },
          "metadata": {},
          "output_type": "display_data"
        },
        {
          "data": {
            "text/latex": [
              "$\\text{Фокус:}$ $\\operatorname{Point2D}\\left(\\frac{\\sqrt{3}}{2} + 3, \\frac{1}{2}\\right)$"
            ],
            "text/plain": [
              "<IPython.core.display.Latex object>"
            ]
          },
          "metadata": {},
          "output_type": "display_data"
        },
        {
          "data": {
            "text/latex": [
              "$\\text{Ось симметрии:}$ $\\operatorname{Line2D}\\left(\\operatorname{Point2D}\\left(3, 0\\right), \\operatorname{Point2D}\\left(4, \\frac{\\sqrt{3}}{3}\\right)\\right)$"
            ],
            "text/plain": [
              "<IPython.core.display.Latex object>"
            ]
          },
          "metadata": {},
          "output_type": "display_data"
        },
        {
          "data": {
            "text/latex": [
              "$\\text{Директриса:}$ $\\operatorname{Line2D}\\left(\\operatorname{Point2D}\\left(\\frac{1}{2} + \\sqrt{3}, 1 - \\frac{\\sqrt{3}}{2}\\right), \\operatorname{Point2D}\\left(- \\frac{1}{2} + \\sqrt{3}, \\frac{\\sqrt{3}}{2} + 1\\right)\\right)$"
            ],
            "text/plain": [
              "<IPython.core.display.Latex object>"
            ]
          },
          "metadata": {},
          "output_type": "display_data"
        },
        {
          "data": {
            "image/png": "[encoded data removed]",
            "text/plain": [
              "<Figure size 640x480 with 1 Axes>"
            ]
          },
          "metadata": {},
          "output_type": "display_data"
        }
      ],
      "source": [
        "def print_parabola_data(parabola: Parabola) -> None:\n",
        "    print_sympy_entity(\"p:\", parabola.p)\n",
        "    print_sympy_entity(\"Вершина:\", parabola.vertex)\n",
        "    print_sympy_entity(\"Угол поворота:\", parabola.angle)\n",
        "    print_sympy_entity(\"Фокус:\", parabola.focus)\n",
        "    axis_symmetry: Line2D = parabola.axis_symmetry\n",
        "    print_sympy_entity(\"Ось симметрии:\", axis_symmetry)\n",
        "    directrix: Line2D = parabola.directrix\n",
        "    print_sympy_entity(\"Директриса:\", directrix)\n",
        "\n",
        "p: int = 2\n",
        "vertex: Point2D = Point2D(3, 0)\n",
        "angle: Expr = Pi/6\n",
        "parabola: Parabola = Parabola(p, vertex)\n",
        "rotated_parabola: Parabola = parabola.rotate(angle)\n",
        "\n",
        "print_sympy_entity(\"Данная парабола:\")\n",
        "print_parabola_data(parabola)\n",
        "print_sympy_entity(\"Повёрнутая парабола:\")\n",
        "print_parabola_data(rotated_parabola)\n",
        "\n",
        "parabola_eq: Equality = rotated_parabola.equation()\n",
        "axis_symmetry_eq: Equality = rotated_parabola.ax_sym_equation()\n",
        "directrix_eq: Equality = rotated_parabola.dir_equation()\n",
        "\n",
        "symbs: Dict[str, Expr] = {str(s): s for s in rotated_parabola.free_symbols}\n",
        "x: Expr = symbs['x']\n",
        "y: Expr = symbs['y']\n",
        "\n",
        "X_BORDERS: Tuple[int, int] = (0, 10)\n",
        "Y_BORDERS: Tuple[int, int] = (-4, 6)\n",
        "colors: Iterator[str] = iter(('m', 'g', 'k'))\n",
        "p: Plot = plot(\n",
        "    aspect_ratio=(1, 1), \n",
        "    axis_center=(0, 0),\n",
        "    xlim=X_BORDERS, \n",
        "    ylim=Y_BORDERS,\n",
        "    title=\"Парабола\",\n",
        "    xlabel='$x$',\n",
        "    ylabel='$y$',\n",
        "    show=False\n",
        ")\n",
        "equations: Tuple[Equality, Equality, Equality] = (parabola_eq, axis_symmetry_eq, directrix_eq)\n",
        "for eq in equations:\n",
        "    p.extend(plot_implicit(\n",
        "        eq,\n",
        "        (x, *X_BORDERS),\n",
        "        (y, *Y_BORDERS),\n",
        "        line_color=next(colors),\n",
        "        show=False,\n",
        "    ))\n",
        "\n",
        "p.show()"
      ]
    }
  ],
  "metadata": {
    "colab": {
      "provenance": []
    },
    "kernelspec": {
      "display_name": ".venv",
      "language": "python",
      "name": "python3"
    },
    "language_info": {
      "codemirror_mode": {
        "name": "ipython",
        "version": 3
      },
      "file_extension": ".py",
      "mimetype": "text/x-python",
      "name": "python",
      "nbconvert_exporter": "python",
      "pygments_lexer": "ipython3",
      "version": "3.11.0"
    },
    "vscode": {
      "interpreter": {
        "hash": "15070b5f4c01a16be65f6048f4eea768aba9ae68ce711f49339836ef743d1529"
      }
    }
  },
  "nbformat": 4,
  "nbformat_minor": 0
}
