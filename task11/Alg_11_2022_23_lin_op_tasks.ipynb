{
  "cells": [
    {
      "cell_type": "code",
      "execution_count": 119,
      "metadata": {
        "id": "mTBcYEZI5OSx"
      },
      "outputs": [],
      "source": [
        "# !pip install -U matplotlib numpy sympy scipy numba"
      ]
    },
    {
      "cell_type": "code",
      "execution_count": 120,
      "metadata": {
        "id": "N4mLs7g4G85I"
      },
      "outputs": [],
      "source": [
        "from enum import Enum\n",
        "from typing import Union, Any, Dict, List, Tuple, Literal\n",
        "\n",
        "import sympy\n",
        "from sympy import Matrix, latex\n",
        "from sympy import pi as Pi\n",
        "from sympy import cos as Cos\n",
        "from sympy import sin as Sin\n",
        "from sympy.core.expr import AtomicExpr\n",
        "from sympy.core.numbers import Integer\n",
        "import matplotlib.pyplot as plt\n",
        "from IPython.core.display import Latex"
      ]
    },
    {
      "cell_type": "markdown",
      "metadata": {
        "id": "L53ZTfO2G85R"
      },
      "source": [
        "# Практическое занятие 11\n",
        "# Компьютерный практикум по алгебре на Python\n",
        "## Линейные операторы на плоскости и в пространстве\n",
        "### Задание 1.\n",
        "Написать функцию, составляющую матрицу линейного оператора поворота на alpha градусов или радиан **по** или **против часовой стрелки** на плоскости. Параметры: обязательные - угол поворота, необязательные - тип меры угла (градусы или радианы), направление поворота (по или против часовой стрелки). Значения по умолчанию - против часовой стрелки в радианах.\n",
        "\n",
        "Использовать полученную функцию для выведения на экран координат векторов, полученных поворотом вектора [1, 2] \n",
        "\n",
        "1) на 10, 20, 45 градусов **по  часовой стрелке**\n",
        "\n",
        "2) на $\\pi/3$ радиан **против часовой стрелки**."
      ]
    },
    {
      "cell_type": "code",
      "execution_count": 121,
      "metadata": {
        "colab": {
          "base_uri": "https://localhost:8080/",
          "height": 265
        },
        "id": "9h-Bi8fI-aR-",
        "outputId": "90407e20-0d28-45d5-9862-95e73cb037d8"
      },
      "outputs": [
        {
          "output_type": "display_data",
          "data": {
            "text/plain": [
              "<IPython.core.display.Latex object>"
            ],
            "text/latex": "\\text{Rotated Vector x = }2 \\sin{\\left(\\frac{\\pi}{18} \\right)} + \\cos{\\left(\\frac{\\pi}{18} \\right)}"
          },
          "metadata": {}
        },
        {
          "output_type": "display_data",
          "data": {
            "text/plain": [
              "<IPython.core.display.Latex object>"
            ],
            "text/latex": "\\text{Rotated Vector y = }- \\sin{\\left(\\frac{\\pi}{18} \\right)} + 2 \\cos{\\left(\\frac{\\pi}{18} \\right)}"
          },
          "metadata": {}
        },
        {
          "output_type": "stream",
          "name": "stdout",
          "text": [
            "\n"
          ]
        },
        {
          "output_type": "display_data",
          "data": {
            "text/plain": [
              "<IPython.core.display.Latex object>"
            ],
            "text/latex": "\\text{Rotated Vector x = }2 \\sin{\\left(\\frac{\\pi}{9} \\right)} + \\cos{\\left(\\frac{\\pi}{9} \\right)}"
          },
          "metadata": {}
        },
        {
          "output_type": "display_data",
          "data": {
            "text/plain": [
              "<IPython.core.display.Latex object>"
            ],
            "text/latex": "\\text{Rotated Vector y = }- \\sin{\\left(\\frac{\\pi}{9} \\right)} + 2 \\cos{\\left(\\frac{\\pi}{9} \\right)}"
          },
          "metadata": {}
        },
        {
          "output_type": "stream",
          "name": "stdout",
          "text": [
            "\n"
          ]
        },
        {
          "output_type": "display_data",
          "data": {
            "text/plain": [
              "<IPython.core.display.Latex object>"
            ],
            "text/latex": "\\text{Rotated Vector x = }\\frac{3 \\sqrt{2}}{2}"
          },
          "metadata": {}
        },
        {
          "output_type": "display_data",
          "data": {
            "text/plain": [
              "<IPython.core.display.Latex object>"
            ],
            "text/latex": "\\text{Rotated Vector y = }\\frac{\\sqrt{2}}{2}"
          },
          "metadata": {}
        },
        {
          "output_type": "stream",
          "name": "stdout",
          "text": [
            "\n"
          ]
        },
        {
          "output_type": "display_data",
          "data": {
            "text/plain": [
              "<IPython.core.display.Latex object>"
            ],
            "text/latex": "\\text{Rotated Vector x = }\\frac{1}{2} - \\sqrt{3}"
          },
          "metadata": {}
        },
        {
          "output_type": "display_data",
          "data": {
            "text/plain": [
              "<IPython.core.display.Latex object>"
            ],
            "text/latex": "\\text{Rotated Vector y = }\\frac{\\sqrt{3}}{2} + 1"
          },
          "metadata": {}
        },
        {
          "output_type": "stream",
          "name": "stdout",
          "text": [
            "\n"
          ]
        }
      ],
      "source": [
        "class AngleMeasure(Enum):\n",
        "    Radians = 0\n",
        "    Degrees = 1\n",
        "\n",
        "class RotationDir(Enum):\n",
        "    Clockwise = 0\n",
        "    Counterclockwise = 1\n",
        "\n",
        "\n",
        "def create_operator(\n",
        "    alpha: Union[int, float, AtomicExpr, Any],\n",
        "    angle_measure: AngleMeasure = AngleMeasure.Radians,\n",
        "    rotation_direction: RotationDir = RotationDir.Counterclockwise\n",
        ") -> Matrix:\n",
        "    assert isinstance(angle_measure, AngleMeasure)\n",
        "    assert isinstance(rotation_direction, RotationDir)\n",
        "    \n",
        "    alpha = sympy.S(alpha)\n",
        "    if angle_measure == AngleMeasure.Degrees:\n",
        "        alpha = sympy.Rational(alpha, 180) * Pi\n",
        "        \n",
        "    if rotation_direction == RotationDir.Clockwise:\n",
        "        alpha = -alpha\n",
        "\n",
        "    return Matrix([\n",
        "        [Cos(alpha), -Sin(alpha)],\n",
        "        [Sin(alpha), Cos(alpha)]\n",
        "    ])\n",
        "\n",
        "def rotate_vector(vector: Matrix, operator: Matrix) -> Matrix:\n",
        "    rotated_vec = operator * vector\n",
        "    display(Latex(f\"\\\\text{{Rotated Vector x = }}{latex(rotated_vec[0])}\"))\n",
        "    display(Latex(f\"\\\\text{{Rotated Vector y = }}{latex(rotated_vec[1])}\"))\n",
        "    print()\n",
        "    return rotated_vec\n",
        "\n",
        "if __name__ == \"__main__\":\n",
        "    vec = Matrix([1, 2])\n",
        "    e1 = Matrix([1, 0])\n",
        "    e2 = Matrix([0, 1])\n",
        "\n",
        "    for angle in (10, 20, 45):\n",
        "        A = create_operator(angle, AngleMeasure.Degrees, RotationDir.Clockwise)\n",
        "        rotate_vector(vec, A)\n",
        "\n",
        "    A = create_operator(Pi/3)\n",
        "    rotate_vector(vec, A)"
      ]
    },
    {
      "cell_type": "markdown",
      "metadata": {
        "id": "oqFUkn1SG85T"
      },
      "source": [
        "### Задание 2.\n",
        "Найти собственные числа и собственные векторы линейного оператора, заданного матрицей \n",
        "$$\n",
        "\\left(\\begin{matrix}\n",
        "-34&20&-5\\\\\n",
        "-40&56&-20\\\\\n",
        "20&-8&50\n",
        "\\end{matrix}\\right)\n",
        "$$\n",
        "Воспользоваться eigenvals и eigenvects, проверить выполнение равенства нулю характеристического многочлена $|A-\\lambda E|$ и условия $Ax=\\lambda x$.\n"
      ]
    },
    {
      "cell_type": "code",
      "execution_count": 122,
      "metadata": {
        "colab": {
          "base_uri": "https://localhost:8080/",
          "height": 264
        },
        "id": "XmRaODrYhb_i",
        "outputId": "4b34172f-9032-4ae6-e6d5-2a8c5bd83276"
      },
      "outputs": [
        {
          "output_type": "display_data",
          "data": {
            "text/plain": [
              "<IPython.core.display.Latex object>"
            ],
            "text/latex": "\\lambda = -24 \\\\ vector = \\left[\\begin{matrix}- \\frac{9}{2}\\\\-2\\\\1\\end{matrix}\\right]"
          },
          "metadata": {}
        },
        {
          "output_type": "display_data",
          "data": {
            "text/plain": [
              "<IPython.core.display.Latex object>"
            ],
            "text/latex": "\\lambda = 40 \\\\ vector = \\left[\\begin{matrix}\\frac{5}{6}\\\\\\frac{10}{3}\\\\1\\end{matrix}\\right]"
          },
          "metadata": {}
        },
        {
          "output_type": "display_data",
          "data": {
            "text/plain": [
              "<IPython.core.display.Latex object>"
            ],
            "text/latex": "\\lambda = 56 \\\\ vector = \\left[\\begin{matrix}- \\frac{1}{2}\\\\-2\\\\1\\end{matrix}\\right]"
          },
          "metadata": {}
        }
      ],
      "source": [
        "A = Matrix([\n",
        "    [-34, 20, -5],\n",
        "    [-40, 56, -20],\n",
        "    [20, -8, 50]\n",
        "])\n",
        "\n",
        "vals: Union[List, Dict] = A.eigenvals()\n",
        "res: List[Tuple[Any, Any, List]] = A.eigenvects()\n",
        "for lamb, mult, vectors in res:\n",
        "    x = vectors[0]\n",
        "    display(Latex(f\"\\\\lambda = {lamb} \\\\\\\\ vector = {latex(x)}\"))\n",
        "\n",
        "    eq_det = (A - lamb * sympy.eye(3)).det()\n",
        "    assert eq_det == 0 and A*x == lamb * x        "
      ]
    },
    {
      "cell_type": "markdown",
      "metadata": {
        "id": "4sQHp6cxG85U"
      },
      "source": [
        "### Задание 3.\n",
        "Построить матрицу оператора из задания 2 в базисе из векторов $(1,1,1)$, $(0,5,3)$ и $(1,6,0)$.\n"
      ]
    },
    {
      "cell_type": "code",
      "execution_count": 123,
      "metadata": {
        "colab": {
          "base_uri": "https://localhost:8080/",
          "height": 78
        },
        "id": "kY_F72NP-dWN",
        "outputId": "f313ce56-08a5-48ab-94a9-72d651388291"
      },
      "outputs": [
        {
          "output_type": "display_data",
          "data": {
            "text/plain": [
              "<IPython.core.display.Latex object>"
            ],
            "text/latex": "A_{new} = \\left[\\begin{matrix}-1 & 71 & 26\\\\21 & 13 & -18\\\\-18 & 14 & 60\\end{matrix}\\right]"
          },
          "metadata": {}
        }
      ],
      "source": [
        "P = Matrix([\n",
        "    [1, 0, 1],\n",
        "    [1, 5, 6],\n",
        "    [1, 3, 0]\n",
        "])\n",
        "assert P.det() != 0\n",
        "\n",
        "A_new = P**(-1) * A * P\n",
        "display(Latex(f\"A_{{new}} = {latex(A_new)}\"))"
      ]
    },
    {
      "cell_type": "markdown",
      "metadata": {
        "id": "q0SjtudQG85V"
      },
      "source": [
        "### Задание 4.\n",
        "Построить матрицу оператора из задания 2 в базисе из собственных векторов с помощью eigenvects и матрицы перехода. Сравнить диагональные элементы с собственными числами."
      ]
    },
    {
      "cell_type": "code",
      "execution_count": 124,
      "metadata": {
        "colab": {
          "base_uri": "https://localhost:8080/",
          "height": 99
        },
        "id": "YnwKWID6-erN",
        "outputId": "c270f2b6-f9cb-4514-cf2e-e6d652d12ba8"
      },
      "outputs": [
        {
          "output_type": "display_data",
          "data": {
            "text/plain": [
              "<IPython.core.display.Latex object>"
            ],
            "text/latex": "A_{new} = \\left[\\begin{matrix}-24 & 0 & 0\\\\0 & 40 & 0\\\\0 & 0 & 56\\end{matrix}\\right]"
          },
          "metadata": {}
        },
        {
          "output_type": "display_data",
          "data": {
            "text/plain": [
              "<IPython.core.display.Latex object>"
            ],
            "text/latex": "lambdas = \\mathtt{\\text{-24, 40, 56}}"
          },
          "metadata": {}
        }
      ],
      "source": [
        "res: List[Tuple[Any, Any, List]] = A.eigenvects()\n",
        "lambdas: List[Integer] = [tup[0] for tup in res]\n",
        "\n",
        "P = Matrix()\n",
        "for tup in res:\n",
        "    P = P.row_join(tup[2][0])\n",
        "assert P.det() != 0\n",
        "\n",
        "A_new = P**(-1) * A * P\n",
        "display(Latex(f\"A_{{new}} = {latex(A_new)}\"))\n",
        "display(Latex(f\"lambdas = {latex(', '.join(map(latex, lambdas)))}\"))"
      ]
    },
    {
      "cell_type": "markdown",
      "metadata": {
        "id": "eXSlGWqS9axu"
      },
      "source": [
        "# Задание 5*\n",
        "Изобразить на графике вектор [1, 2] из Задания 1 и результаты его поворота (по Заданию 1). В легенде графика для каждого вектора, кроме [1, 2] указать матрицу поворота, а для [1, 2] единичную матрицу."
      ]
    },
    {
      "cell_type": "code",
      "execution_count": 125,
      "metadata": {
        "colab": {
          "base_uri": "https://localhost:8080/",
          "height": 802
        },
        "id": "pD8Lk6Dp-SWT",
        "outputId": "47700562-1a1d-49cd-9ac2-56e460e2e16a"
      },
      "outputs": [
        {
          "output_type": "display_data",
          "data": {
            "text/plain": [
              "<IPython.core.display.Latex object>"
            ],
            "text/latex": "\\text{Rotated Vector x = }1"
          },
          "metadata": {}
        },
        {
          "output_type": "display_data",
          "data": {
            "text/plain": [
              "<IPython.core.display.Latex object>"
            ],
            "text/latex": "\\text{Rotated Vector y = }2"
          },
          "metadata": {}
        },
        {
          "output_type": "stream",
          "name": "stdout",
          "text": [
            "\n"
          ]
        },
        {
          "output_type": "display_data",
          "data": {
            "text/plain": [
              "<IPython.core.display.Latex object>"
            ],
            "text/latex": "\\text{Rotated Vector x = }2 \\sin{\\left(\\frac{\\pi}{18} \\right)} + \\cos{\\left(\\frac{\\pi}{18} \\right)}"
          },
          "metadata": {}
        },
        {
          "output_type": "display_data",
          "data": {
            "text/plain": [
              "<IPython.core.display.Latex object>"
            ],
            "text/latex": "\\text{Rotated Vector y = }- \\sin{\\left(\\frac{\\pi}{18} \\right)} + 2 \\cos{\\left(\\frac{\\pi}{18} \\right)}"
          },
          "metadata": {}
        },
        {
          "output_type": "stream",
          "name": "stdout",
          "text": [
            "\n"
          ]
        },
        {
          "output_type": "display_data",
          "data": {
            "text/plain": [
              "<IPython.core.display.Latex object>"
            ],
            "text/latex": "\\text{Rotated Vector x = }2 \\sin{\\left(\\frac{\\pi}{9} \\right)} + \\cos{\\left(\\frac{\\pi}{9} \\right)}"
          },
          "metadata": {}
        },
        {
          "output_type": "display_data",
          "data": {
            "text/plain": [
              "<IPython.core.display.Latex object>"
            ],
            "text/latex": "\\text{Rotated Vector y = }- \\sin{\\left(\\frac{\\pi}{9} \\right)} + 2 \\cos{\\left(\\frac{\\pi}{9} \\right)}"
          },
          "metadata": {}
        },
        {
          "output_type": "stream",
          "name": "stdout",
          "text": [
            "\n"
          ]
        },
        {
          "output_type": "display_data",
          "data": {
            "text/plain": [
              "<IPython.core.display.Latex object>"
            ],
            "text/latex": "\\text{Rotated Vector x = }\\frac{3 \\sqrt{2}}{2}"
          },
          "metadata": {}
        },
        {
          "output_type": "display_data",
          "data": {
            "text/plain": [
              "<IPython.core.display.Latex object>"
            ],
            "text/latex": "\\text{Rotated Vector y = }\\frac{\\sqrt{2}}{2}"
          },
          "metadata": {}
        },
        {
          "output_type": "stream",
          "name": "stdout",
          "text": [
            "\n"
          ]
        },
        {
          "output_type": "display_data",
          "data": {
            "text/plain": [
              "<IPython.core.display.Latex object>"
            ],
            "text/latex": "\\text{Rotated Vector x = }\\frac{1}{2} - \\sqrt{3}"
          },
          "metadata": {}
        },
        {
          "output_type": "display_data",
          "data": {
            "text/plain": [
              "<IPython.core.display.Latex object>"
            ],
            "text/latex": "\\text{Rotated Vector y = }\\frac{\\sqrt{3}}{2} + 1"
          },
          "metadata": {}
        },
        {
          "output_type": "stream",
          "name": "stdout",
          "text": [
            "\n"
          ]
        },
        {
          "output_type": "display_data",
          "data": {
            "text/plain": [
              "<Figure size 1296x576 with 1 Axes>"
            ],
            "image/png": "[encoded data removed]"
          },
          "metadata": {
            "needs_background": "light"
          }
        }
      ],
      "source": [
        "def config_gca():\n",
        "    gca = plt.gca()\n",
        "    plt.rcParams[\"figure.figsize\"] = [18, 8]\n",
        "    gca.set_title(\"$Rotations$ $of$ $vector$ $(1, 2)$\")\n",
        "    gca.legend(loc=\"upper right\")\n",
        "    gca.spines[\"right\"].set_color(\"none\")\n",
        "    gca.spines[\"top\"].set_color(\"none\")\n",
        "    gca.spines[\"bottom\"].set_position((\"data\", 0))\n",
        "    gca.spines[\"left\"].set_position((\"data\", 0))\n",
        "    gca.set_ylabel(\"$y$\", loc=\"top\")\n",
        "    gca.set_xlabel(\"$x$\", loc=\"right\")\n",
        "    gca.plot(1, 0, \"k>\", transform=gca.get_yaxis_transform(), clip_on=False)\n",
        "    gca.plot(0, 1, \"^k\", transform=gca.get_xaxis_transform(), clip_on=False)\n",
        "\n",
        "def plot_vector(vector: Matrix, **kwds) -> None:\n",
        "    x = vector[0]\n",
        "    y = vector[1]\n",
        "    gca = plt.gca()\n",
        "    gca.plot([0, x], [0, y], **kwds)\n",
        "    kwds.pop(\"label\", None)\n",
        "    gca.arrow(0, 0, float(x), float(y), head_width=0.05, **kwds)\n",
        "\n",
        "def to_string(m: Matrix) -> str:\n",
        "    assert isinstance(m, Matrix)\n",
        "    cell_converter = lambda s: '$' + latex(s) + '$'\n",
        "    return '\\n'.join([\"| \" + ' '.join(map(cell_converter, m[i,:])) + \" |\" for i in range(m.rows)])\n",
        "\n",
        "def from_degrees_to_rad(alpha: Union[int, float, AtomicExpr, Any]) -> Union[AtomicExpr, Any]:\n",
        "    return sympy.S(alpha) * Pi / 180.0\n",
        "\n",
        "vec = Matrix([1, 2])\n",
        "e1 = Matrix([1, 0])\n",
        "e2 = Matrix([0, 1])\n",
        "\n",
        "plot_params: Tuple[Tuple[Union[int, AtomicExpr], AngleMeasure, RotationDir, Literal['r', 'g', 'b', 'y', 'm']], ...] = (\n",
        "    (0, AngleMeasure.Radians, RotationDir.Counterclockwise, 'r'),\n",
        "    (10, AngleMeasure.Degrees, RotationDir.Clockwise, 'g'),\n",
        "    (20, AngleMeasure.Degrees, RotationDir.Clockwise, 'b'),\n",
        "    (45, AngleMeasure.Degrees, RotationDir.Clockwise, 'y'),\n",
        "    (Pi/3, AngleMeasure.Radians, RotationDir.Counterclockwise, 'm')\n",
        ")\n",
        "\n",
        "for angle, angle_measure, rotation_dir, color in plot_params:\n",
        "    A = create_operator(angle, angle_measure, rotation_dir)\n",
        "    rotated_vector = rotate_vector(vec, A)\n",
        "    \n",
        "    if isinstance(angle, (int, float)):\n",
        "        angle = from_degrees_to_rad(angle)\n",
        "    \n",
        "    plot_vector(rotated_vector, color=color, label=f\"$A = $\\n{to_string(A)}\")\n",
        "\n",
        "config_gca()"
      ]
    },
    {
      "cell_type": "markdown",
      "metadata": {
        "id": "DeW-9Q28G85W"
      },
      "source": [
        "###  Индивидуальное задание\n",
        "Найти собственные числа и собственные векторы линейного оператора. Построить матрицу оператора в заданном базисе. Построить матрицу оператора в базисе из собственных векторов.\n",
        "\n",
        "Вывести на экран матрицу оператора А, матрицу перехода к базису ($e_1$, $e_2$, $e_3$), матрицу оператора в базисе ($e_1$, $e_2$, $e_3$), матрицу перехода к базису из собственных векторов, матрицу оператора в базисе из собственных векторов.\n",
        "\n",
        "Матрица оператора A, векторы базиса $e_1$, $e_2$, $e_3$:\n",
        "$$\n",
        "A = \\left(\n",
        "\\begin{matrix}\n",
        "48 & -12 & -4\\\\\n",
        "-40 & 44 & -8\\\\\n",
        "50 & 30 & 78\n",
        "\\end{matrix}\\right),\n",
        "\\quad \n",
        "e_1 = \\left(\n",
        "\\begin{matrix}\n",
        "2\\\\ -1\\\\ 3\n",
        "\\end{matrix}\n",
        "\\right)\n",
        "\\quad \n",
        "e_2 = \n",
        "\\left(\\begin{matrix}\n",
        "2\\\\ 0\\\\ -3\n",
        "\\end{matrix}\\right)\n",
        "\\quad \n",
        "e_3 = \n",
        "\\left(\\begin{matrix}\n",
        "5\\\\ 1\\\\ -2\n",
        "\\end{matrix}\\right)\n",
        "$$"
      ]
    },
    {
      "cell_type": "markdown",
      "source": [
        "Вариант N 50\n",
        "\n",
        "$$A = \\left[\\begin{matrix}182 & 144 & -108\\\\-156 & -124 & 92\\\\96 & 78 & -54\\end{matrix}\\right],\\quad e_1 = \\left[\\begin{matrix}1\\\\-3\\\\2\\end{matrix}\\right],\\quad e_2 = \\left[\\begin{matrix}3\\\\-3\\\\1\\end{matrix}\\right],\\quad e_3 = \\left[\\begin{matrix}3\\\\1\\\\-2\\end{matrix}\\right]$$"
      ],
      "metadata": {
        "id": "rUYeMes-Lhox"
      }
    },
    {
      "cell_type": "code",
      "execution_count": 126,
      "metadata": {
        "id": "Z_OtrVQe-ihW",
        "colab": {
          "base_uri": "https://localhost:8080/",
          "height": 322
        },
        "outputId": "8d133c29-652b-4b29-bb4a-af1cba0ffefe"
      },
      "outputs": [
        {
          "output_type": "display_data",
          "data": {
            "text/plain": [
              "<IPython.core.display.Latex object>"
            ],
            "text/latex": "\\text{A = }\\left[\\begin{matrix}182 & 144 & -108\\\\-156 & -124 & 92\\\\96 & 78 & -54\\end{matrix}\\right]"
          },
          "metadata": {}
        },
        {
          "output_type": "display_data",
          "data": {
            "text/plain": [
              "<IPython.core.display.Latex object>"
            ],
            "text/latex": "\\text{Матрица перехода к базису ($e_1$, $e_2$, $e_3$)}\\left[\\begin{matrix}1 & 3 & 3\\\\-3 & -3 & 1\\\\2 & 1 & -2\\end{matrix}\\right]"
          },
          "metadata": {}
        },
        {
          "output_type": "display_data",
          "data": {
            "text/plain": [
              "<IPython.core.display.Latex object>"
            ],
            "text/latex": "\\text{Матрица A оператора в базисе ($e_1$, $e_2$, $e_3$)}\\left[\\begin{matrix}-841 & -3 & 1617\\\\562 & 4 & -1078\\\\-437 & -1 & 841\\end{matrix}\\right]"
          },
          "metadata": {}
        },
        {
          "output_type": "display_data",
          "data": {
            "text/plain": [
              "<IPython.core.display.Latex object>"
            ],
            "text/latex": "\\text{Матрица перехода к базису из собственных векторов}\\left[\\begin{matrix}\\frac{9}{5} & \\frac{5}{3} & 2\\\\- \\frac{8}{5} & - \\frac{4}{3} & - \\frac{5}{3}\\\\1 & 1 & 1\\end{matrix}\\right]"
          },
          "metadata": {}
        },
        {
          "output_type": "display_data",
          "data": {
            "text/plain": [
              "<IPython.core.display.Latex object>"
            ],
            "text/latex": "\\text{Матрица оператора A в базисе из вобственных векторов: }\\left[\\begin{matrix}-6 & 0 & 0\\\\0 & 2 & 0\\\\0 & 0 & 8\\end{matrix}\\right]"
          },
          "metadata": {}
        }
      ],
      "source": [
        "A = Matrix([\n",
        "    [182, 144, -108],\n",
        "    [-156, -124, 92],\n",
        "    [96, 78, -54]\n",
        "])\n",
        "e1 = Matrix([1, -3, 2])\n",
        "e2 = Matrix([3, -3, 1])\n",
        "e3 = Matrix([3, 1, -2])\n",
        "\n",
        "P_in_e = e1.row_join(e2).row_join(e3)\n",
        "assert P_in_e.det() != 0\n",
        "A_new_in_e = P_in_e**(-1) * A * P_in_e\n",
        "\n",
        "P_in_self_A = Matrix()\n",
        "for lamb, mult, vectors in A.eigenvects():\n",
        "    P_in_self_A = P_in_self_A.row_join(vectors[0])\n",
        "assert P_in_self_A.det() != 0\n",
        "A_new_in_self_A = P_in_self_A**(-1) * A * P_in_self_A\n",
        "\n",
        "display(Latex(f\"\\\\text{{A = }}{latex(A)}\"))\n",
        "display(Latex(f\"\\\\text{{Матрица перехода к базису ($e_1$, $e_2$, $e_3$)}}{latex(P_in_e)}\"))\n",
        "display(Latex(f\"\\\\text{{Матрица A оператора в базисе ($e_1$, $e_2$, $e_3$)}}{latex(A_new_in_e)}\"))\n",
        "display(Latex(f\"\\\\text{{Матрица перехода к базису из собственных векторов}}{latex(P_in_self_A)}\"))\n",
        "display(Latex(f\"\\\\text{{Матрица оператора A в базисе из вобственных векторов: }}{latex(A_new_in_self_A)}\"))"
      ]
    }
  ],
  "metadata": {
    "colab": {
      "provenance": []
    },
    "kernelspec": {
      "display_name": ".venv",
      "language": "python",
      "name": "python3"
    },
    "language_info": {
      "codemirror_mode": {
        "name": "ipython",
        "version": 3
      },
      "file_extension": ".py",
      "mimetype": "text/x-python",
      "name": "python",
      "nbconvert_exporter": "python",
      "pygments_lexer": "ipython3",
      "version": "3.11.0"
    },
    "vscode": {
      "interpreter": {
        "hash": "15070b5f4c01a16be65f6048f4eea768aba9ae68ce711f49339836ef743d1529"
      }
    }
  },
  "nbformat": 4,
  "nbformat_minor": 0
}