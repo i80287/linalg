{
  "cells": [
    {
      "cell_type": "code",
      "execution_count": 1,
      "metadata": {
        "id": "JkaN7ogu-Gaq"
      },
      "outputs": [],
      "source": [
        "import sympy\n",
        "import numpy as np\n",
        "from sympy import latex, Matrix, plot, solve, linsolve, symbols, eye, zeros, Point, Line\n",
        "from sympy import pi as Pi\n",
        "from sympy import cos as Cos\n",
        "from sympy import sin as Sin\n",
        "import matplotlib.pyplot as plt\n",
        "from IPython.display import Latex"
      ]
    },
    {
      "cell_type": "markdown",
      "metadata": {
        "id": "WYm6Ebe2-Ga6"
      },
      "source": [
        "# Практическое занятие 11\n",
        "# Компьютерный практикум по алгебре на Python\n",
        "## Линейные операторы на плоскости и в пространстве\n",
        "**Линейный оператор** осуществляет **линейное отображение** линейного пространства на линейное пространство:\n",
        "$$\n",
        "A:\\ Ax=y,\\quad x\\in X, y \\in Y,\n",
        "$$\n",
        "при этом\n",
        "$$\n",
        "A(a_1x'+a_2x'')=a_1Ax'+a_2Ax''=a_1y'+a_2y'',\n",
        "$$\n",
        "где $a_1$ и $a_2$ - числа, $x'$ и $x''$ - элементы линейного пространства $X$, $y'$ и $y''$ - элементы линейного пространства $Y$.\n",
        "\n",
        "$X$ и $Y$ могут быть разными или совпадать.\n",
        "\n",
        "$x'$ и $x''$ - **прообразы** при линейном отображении $A$.\n",
        "\n",
        "$y'$ и $y''$ - **образы** $x'$ и $x''$ при линейном отображении $A$.\n",
        "\n",
        "Множество образов всех векторов пространства $X$ при линейном отображении $A$ называется **образом линенйого оператора**.\n",
        "\n",
        "Ввиду линейности оператора его ***образ полностью определяется образами базисных векторов*** $(e_1,e_2,...,e_n)$ пространства $X$, поскольку любой вектор $x$ пространства $X$ можно представить в виде $x=x_1e_1+x_2e_2+...+x_ne_n$,\n",
        "откуда из линейности оператора следует  $Ax=A(x_1e_1+x_2e_2+...+x_ne_n)=x_1Ae_1+x_2Ae_2+...+x_nAe_n$.\n",
        "\n",
        "Раскладывая векторы $Ae_k$, $k=1,2,..,n$ по базису $f_1,f_2,...,f_m$ пространства $Y$, получим\n",
        "$Ae_k=a_{1k}f_1+a_{2k}f_2+...+a_{mk}f_m$, поэтому\n",
        "$$\n",
        "Ax=x_1Ae_1+...+x_nAe_n=x_1(a_{11}f_1+a_{21}f_2+...+a_{m1}f_m)+...+x_n(a_{1n}f_1+a_{2n}f_2+...+a_{mn}f_m).\n",
        "$$\n",
        "Сгруппируем слагаемые по базисным векторам $f_1,f_2,...,f_m$:\n",
        "$$\n",
        "Ax=(x_1a_{11}+...+x_na_{1n})f_1+(x_1a_{21}+...+x_na_{2n})f_2+...+(x_1a_{m1}+...+x_na_{mn})f_m\n",
        "$$\n",
        "Таким образом, координаты $y_1,y_2,...,y_m$ образа $Ax$ вектора $x$ выражаются через координаты $x_1$, $x_2$,...+$x_n$ вектора $x$ в базисе $(e_1,e_2,...,e_n)$ пространства $X$ и координаты $a_{ij}$ образов базисных векторов $f_1,f_2,...,f_m$ пространства $Y$ при линейном отображении $A$:\n",
        "$$\n",
        "y_j=x_1a_{j1}+x_2a_{j2}+...+x_na_{jn},\\quad j=1,...m,\n",
        "$$\n",
        "в матричной форме это запишется как $y=Ax$, где $A$ - матрица с элементами $a_{ij}$ - $i$-я координата $j$-го базисного вектора $e_j$, т.е. матрица $A$ состоит из векторов - столбцов образов базисных векторов.\n",
        "\n",
        "### Пример 1.\n",
        "Построим матрицу оператора А, поворачивающего вектор на угол $\\alpha$ против часовой стрелки. Такой оператор переводит вектор $(1,0)$ в вектор $(\\cos\\alpha,\\sin\\alpha)$, $(0,1)$ в $(-\\sin\\alpha,\\cos\\alpha)$, поэтому матрица $A$ имеет вид\n",
        "$$\n",
        "\\left(\\begin{matrix}\\cos\\alpha&-\\sin\\alpha\\\\ \\sin\\alpha&\\cos\\alpha\\end{matrix}\\right)\n",
        "$$"
      ]
    },
    {
      "cell_type": "code",
      "execution_count": 2,
      "metadata": {
        "colab": {
          "base_uri": "https://localhost:8080/",
          "height": 68
        },
        "id": "M0wrDpZA-Ga-",
        "outputId": "950e4f67-bb7c-4141-c897-239574f0eab9"
      },
      "outputs": [
        {
          "data": {
            "text/latex": [
              "Ae_1 = \\left[\\begin{matrix}\\frac{\\sqrt{2}}{2}\\\\\\frac{\\sqrt{2}}{2}\\end{matrix}\\right], Ae_2 = \\left[\\begin{matrix}- \\frac{\\sqrt{2}}{2}\\\\\\frac{\\sqrt{2}}{2}\\end{matrix}\\right]"
            ],
            "text/plain": [
              "<IPython.core.display.Latex object>"
            ]
          },
          "metadata": {},
          "output_type": "display_data"
        }
      ],
      "source": [
        "alpha = Pi / 4\n",
        "A = Matrix([[Cos(alpha), -Sin(alpha)], [Sin(alpha), Cos(alpha)]])\n",
        "e1 = Matrix([1, 0])\n",
        "e2 = Matrix([0, 1])\n",
        "display(Latex(f'Ae_1 = {latex(A * e1)}, Ae_2 = {latex(A * e2)}'))"
      ]
    },
    {
      "cell_type": "markdown",
      "metadata": {
        "id": "e1Z8tXQOCJFj"
      },
      "source": [
        "Для удобства опишем в виде функции изображение вектора на плоскости, цвет по умолчанию красный.\n",
        "Используем эту функцию для изображения нескольких векторов, аргументы - tuple из вектора и цвета, что позволит каждый вектор изобразить своим цветом."
      ]
    },
    {
      "cell_type": "code",
      "execution_count": 3,
      "metadata": {
        "colab": {
          "base_uri": "https://localhost:8080/",
          "height": 282
        },
        "id": "t2rtcsQR-GbB",
        "outputId": "12433c79-d736-45d6-b33b-97f30aeb2446"
      },
      "outputs": [
        {
          "data": {
            "text/plain": [
              "Text(0.25, 0.1, '$\\\\pi / 4$')"
            ]
          },
          "execution_count": 3,
          "metadata": {},
          "output_type": "execute_result"
        },
        {
          "data": {
            "image/png": "[encoded data removed]",
            "text/plain": [
              "<Figure size 432x288 with 1 Axes>"
            ]
          },
          "metadata": {
            "needs_background": "light"
          },
          "output_type": "display_data"
        }
      ],
      "source": [
        "def plotvec(vect, **kwargs):\n",
        "    x, y = [float(item) for item in vect]\n",
        "    plt.plot([0, x], [0, y], **kwargs)\n",
        "    plt.arrow(0, 0, x, y, head_width=0.05, **kwargs)\n",
        "    return None\n",
        "\n",
        "def plotvecs(*vecscolors):\n",
        "    for item in vecscolors:\n",
        "        plotvec(item[0], color=item[1])\n",
        "    return None\n",
        "\n",
        "plotvecs((e1, 'r'), (e2, 'g'), (A * e1, 'm'), (A * e2, 'y'))\n",
        "plt.axis('equal')\n",
        "plt.annotate('', xy=(-0.2, 0.2), xytext=(0.0, 0.3), \n",
        "             arrowprops=dict(arrowstyle=\"->\", connectionstyle=\"arc3\")) \n",
        "plt.annotate(latex(alpha, mode='inline'), xy=(-0.2, 0.3), fontsize=16) \n",
        "plt.annotate('', xy=(0.2, 0.2), xytext=(0.3, 0.0), \n",
        "             arrowprops=dict(arrowstyle=\"->\", connectionstyle=\"arc3\")) \n",
        "plt.annotate(latex(alpha, mode='inline'), xy=(0.25, 0.1), fontsize=16) "
      ]
    },
    {
      "cell_type": "markdown",
      "metadata": {
        "id": "lHiWv61B-GbC"
      },
      "source": [
        "Проверим, что при умножении матрицы А на произвольный вектор плоскости получается вектор, образующий угол с исходным вектором. Воспользуемся возможностями модуля Geometry:"
      ]
    },
    {
      "cell_type": "code",
      "execution_count": 4,
      "metadata": {
        "colab": {
          "base_uri": "https://localhost:8080/",
          "height": 38
        },
        "id": "TglqrVvG-GbD",
        "outputId": "39b1908d-6ab2-4b44-9d35-4a838e817de5"
      },
      "outputs": [
        {
          "data": {
            "text/latex": [
              "Угол\\ MOB\\ \\frac{\\pi}{4}"
            ],
            "text/plain": [
              "<IPython.core.display.Latex object>"
            ]
          },
          "metadata": {},
          "output_type": "display_data"
        }
      ],
      "source": [
        "from sympy.abc import x, y\n",
        "O = Point(0, 0)\n",
        "M = Point(x, y)\n",
        "X = Matrix([x, y])\n",
        "AX = A * X\n",
        "B = Point(*AX)\n",
        "OM = Line(O, M)\n",
        "OB = Line(O, B)\n",
        "display(Latex(f'Угол\\ MOB\\ {latex(OM.angle_between(OB).simplify())}'))"
      ]
    },
    {
      "cell_type": "markdown",
      "metadata": {
        "id": "OyHHWYdt-GbE"
      },
      "source": [
        "### Пример 2.\n",
        "\n",
        "Построить матрицу оператора, переводящего базисные векторы $i$, $j$ и $k$ трехмерного пространства в векторы\n",
        "$(1,2,3)$, $(-2,1,4)$ и $(2,0,5)$.\n",
        "Матрица такого оператора \n",
        "$$\n",
        "\\left(\\begin{matrix}\n",
        "1&-2&2\\\\\n",
        "2&1&0\\\\\n",
        "3&4&5\n",
        "\\end{matrix}\\right)\n",
        "$$"
      ]
    },
    {
      "cell_type": "code",
      "execution_count": 5,
      "metadata": {
        "colab": {
          "base_uri": "https://localhost:8080/",
          "height": 78
        },
        "id": "IRq4l-rb-GbF",
        "outputId": "6ea99ef6-5beb-43b8-bac5-a055a87381e0"
      },
      "outputs": [
        {
          "data": {
            "text/latex": [
              "A = \\left[\\begin{matrix}1 & -2 & 2\\\\2 & 1 & 0\\\\3 & 4 & 5\\end{matrix}\\right]"
            ],
            "text/plain": [
              "<IPython.core.display.Latex object>"
            ]
          },
          "metadata": {},
          "output_type": "display_data"
        }
      ],
      "source": [
        "A = Matrix([[1, -2, 2], [2, 1, 0], [3, 4, 5]])\n",
        "display(Latex(f'A = {latex(A)}'))"
      ]
    },
    {
      "cell_type": "markdown",
      "metadata": {
        "id": "ycej482t-GbG"
      },
      "source": [
        "Проверим, что при умножении базисных векторов на эту матрицу действительно получаются заданные векторы:"
      ]
    },
    {
      "cell_type": "code",
      "execution_count": 6,
      "metadata": {
        "colab": {
          "base_uri": "https://localhost:8080/",
          "height": 78
        },
        "id": "u-Um5gz_-GbH",
        "outputId": "2157fd3d-fb11-4b15-8df2-e416ae78fddf"
      },
      "outputs": [
        {
          "data": {
            "text/latex": [
              "A_i = \\left[\\begin{matrix}1\\\\2\\\\3\\end{matrix}\\right],\\ A_j = \\left[\\begin{matrix}-2\\\\1\\\\4\\end{matrix}\\right],\\ A_k = \\left[\\begin{matrix}2\\\\0\\\\5\\end{matrix}\\right]"
            ],
            "text/plain": [
              "<IPython.core.display.Latex object>"
            ]
          },
          "metadata": {},
          "output_type": "display_data"
        }
      ],
      "source": [
        "i = Matrix([1, 0, 0])\n",
        "j = Matrix([0, 1, 0])\n",
        "k = Matrix([0, 0, 1])\n",
        "vects_latex = [latex(A * vect) for vect in (i, j, k)]\n",
        "display(Latex('A_i = {},\\ A_j = {},\\ A_k = {}'.format(*vects_latex)))"
      ]
    },
    {
      "cell_type": "markdown",
      "metadata": {
        "id": "pR0uZrLA-GbI"
      },
      "source": [
        "Найдем вектор, в который оператор переводит вектор $$\n",
        "\\left(\\begin{matrix}\n",
        "3\\\\\n",
        "-7\\\\\n",
        "9\n",
        "\\end{matrix}\\right)\n",
        "$$"
      ]
    },
    {
      "cell_type": "code",
      "execution_count": 7,
      "metadata": {
        "colab": {
          "base_uri": "https://localhost:8080/",
          "height": 78
        },
        "id": "itpfgQrZ-GbJ",
        "outputId": "d67a552b-3848-4275-b6a1-b0e150706ad1"
      },
      "outputs": [
        {
          "data": {
            "text/latex": [
              "z = \\left[\\begin{matrix}3\\\\-7\\\\9\\end{matrix}\\right],\\ A z = \\left[\\begin{matrix}35\\\\-1\\\\26\\end{matrix}\\right]"
            ],
            "text/plain": [
              "<IPython.core.display.Latex object>"
            ]
          },
          "metadata": {},
          "output_type": "display_data"
        }
      ],
      "source": [
        "vec = Matrix([3, -7, 9])\n",
        "display(Latex(f'z = {latex(vec)},\\ A z = {latex(A * vec)}'))"
      ]
    },
    {
      "cell_type": "markdown",
      "metadata": {
        "id": "GioNLsc6-GbK"
      },
      "source": [
        "## Матрица линейного оператора в новом базисе\n",
        "Пусть в новом базисе у оператора А матрица $A_{new}$, тогда получить образ вектора $x$ можно так: зная координаты  $x$ в новом базисе, находим его координаты в старом базисе с помощью преобразования, определяемого матрицей $P$, потом к полученному вектору в старом базисе применяем оператор А, умножая вектор в старом базисе на матрицу А в старом же базисе, после чего переводим полученный образ из старого базиса в новый умножением на матрицу  $P^{-1}$.\n",
        "В итоге получается цепочка умножений $P^{-1}AP$, это произведение и есть матрица опреатора А в новом базисе, где $P$ - матрица перехода от нового базиса к старому.\n",
        "\n",
        "Тонкость такая: базисные векторы нового базиса в новом базисе будут иметь координаты $(1,0,0)$, $(0,1,0)$ и $(0,0,1)$, точно как базисные векторы срарого базиса в старом базисе, поэтому умножая вектор $v$ с координатами в новом базисе на матрицу  $P$ мы получим координаты вектора $v$ в старом базисе. Если требуется по координатам в старом базисе найти координаты в новом, нужно умножать на обратную матрицу, т.е. $P^{-1}$.\n",
        "$$\n",
        "A_{new}=P^{-1}AP\\qquad(1)\n",
        "$$\n",
        "\n",
        "### Пример 3.\n",
        "\n",
        "Найти матрицу оператора А примера 2 в базисе из векторов $(1,2,0)$, $(1,0,3)$ и $(0,1,5)$.\n",
        "\n",
        "Вначале составим матрицу перехода, она будет такой же, как матрица некоторого оператора, переводящего текущий базис $(1,0,0)$, $(0,1,0)$ и $(0,0,1)$ в новый:\n",
        "$$\n",
        "P=\\left(\\begin{matrix}\n",
        "1&1&0\\\\\n",
        "2&0&1\\\\\n",
        "0&3&5\n",
        "\\end{matrix}\\right)\n",
        "$$\n",
        "Затем найдем матрицу оператора в новом базисе по формуле (1)"
      ]
    },
    {
      "cell_type": "code",
      "execution_count": 8,
      "metadata": {
        "colab": {
          "base_uri": "https://localhost:8080/",
          "height": 78
        },
        "id": "X016b94T-GbL",
        "outputId": "7184d57b-91e5-4f35-83c1-217d1eb480ee"
      },
      "outputs": [
        {
          "data": {
            "text/latex": [
              "P = \\left[\\begin{matrix}1 & 1 & 0\\\\2 & 0 & 1\\\\0 & 3 & 5\\end{matrix}\\right], A_{new} = \\left[\\begin{matrix}0 & 1 & 0\\\\-3 & 6 & 8\\\\4 & 0 & 1\\end{matrix}\\right]"
            ],
            "text/plain": [
              "<IPython.core.display.Latex object>"
            ]
          },
          "metadata": {},
          "output_type": "display_data"
        }
      ],
      "source": [
        "P = Matrix([[1, 1, 0], [2, 0, 1], [0, 3, 5]])\n",
        "A_new = P ** (-1) * A * P\n",
        "display(Latex(f'P = {latex(P)}, A_{{new}} = {latex(A_new)}'))"
      ]
    },
    {
      "cell_type": "markdown",
      "metadata": {
        "id": "mbRZF6hl-GbM"
      },
      "source": [
        "Проследим за трансформацией новых базисных векторов $f_1$, $f_2$, $f_3$. Вначале найдем их образы при операторе А, умножая их на матрицу А в старом базисе, поскольку мы знаем координаты новых базисных векторов в старом базисе:"
      ]
    },
    {
      "cell_type": "code",
      "execution_count": 9,
      "metadata": {
        "colab": {
          "base_uri": "https://localhost:8080/",
          "height": 78
        },
        "id": "C2eJoClo-GbN",
        "outputId": "41eeb5bd-9aef-4dc4-8057-6bf65fabf2b0"
      },
      "outputs": [
        {
          "data": {
            "text/latex": [
              "Af_1 = \\left[\\begin{matrix}-3\\\\4\\\\11\\end{matrix}\\right], Af_2 = \\left[\\begin{matrix}7\\\\2\\\\18\\end{matrix}\\right], Af_3 = \\left[\\begin{matrix}8\\\\1\\\\29\\end{matrix}\\right]"
            ],
            "text/plain": [
              "<IPython.core.display.Latex object>"
            ]
          },
          "metadata": {},
          "output_type": "display_data"
        }
      ],
      "source": [
        "f1 = Matrix((1, 2, 0))\n",
        "f2 = Matrix((1, 0, 3))\n",
        "f3 = Matrix((0, 1, 5))\n",
        "vects_latex = [latex(A * vect) for vect in (f1, f2, f3)]\n",
        "display(Latex('Af_1 = {}, Af_2 = {}, Af_3 = {}'.format(*vects_latex)))"
      ]
    },
    {
      "cell_type": "markdown",
      "metadata": {
        "id": "KpgNkJN8-GbN"
      },
      "source": [
        "Мы получили координаты образов векторов нового базиса в старом базисе, теперь нужно найти координаты полученных векторов в новом базисе. Для этого нужно умножить векторы на матрицу, обратную к матрице $P$:"
      ]
    },
    {
      "cell_type": "code",
      "execution_count": 10,
      "metadata": {
        "colab": {
          "base_uri": "https://localhost:8080/",
          "height": 78
        },
        "id": "V-mDh_RJ-GbO",
        "outputId": "3cb8febe-c146-4e47-a9ae-19a29f1370f5"
      },
      "outputs": [
        {
          "data": {
            "text/latex": [
              "P^{-1}Af_1 = \\left[\\begin{matrix}0\\\\-3\\\\4\\end{matrix}\\right],\n",
              "P^{-1}Af_2 = \\left[\\begin{matrix}1\\\\6\\\\0\\end{matrix}\\right], P^{-1}Af_3 = \\left[\\begin{matrix}0\\\\8\\\\1\\end{matrix}\\right]"
            ],
            "text/plain": [
              "<IPython.core.display.Latex object>"
            ]
          },
          "metadata": {},
          "output_type": "display_data"
        }
      ],
      "source": [
        "Pinv = 'P^{-1}'\n",
        "vects_latex = [latex(P ** (-1) *A * vect) for vect in (f1, f2, f3)]\n",
        "display(Latex(\"\"\"{Pinv}Af_1 = {},\n",
        "{Pinv}Af_2 = {}, {Pinv}Af_3 = {}\"\"\".format(Pinv=Pinv, *vects_latex)))"
      ]
    },
    {
      "cell_type": "markdown",
      "metadata": {
        "id": "3DlNfvvg-GbO"
      },
      "source": [
        "## Собственные числа и собственные векторы линейного оператора.\n",
        "\n",
        "Пусть для некоторого ненулевого вектора $x$ и числа $\\lambda$ выполняется $$Ax=\\lambda x, \\quad x\\neq0,$$\n",
        "тогда $\\lambda$ - собственное число линейного оператора $A$, а $x$ - собственный вектор, соответствующий собственному числу $\\lambda$.\n",
        "\n",
        "Собственные числа не зависят от выбора базиса!\n",
        "\n",
        "Находить собственные числа можно, решая характеристическое уравнение $|A-\\lambda E|=0$, где $E$ - единичная матрица подходящей размерности. \n",
        "\n",
        "Собственные векторы получаются как решения СЛАУ $(A-\\lambda E)x=0$, где $\\lambda$ - соответствующее собственное число.\n",
        "\n",
        "В sympy есть средства вычисления собственных чисел и векторов\n",
        "\n",
        "eigenvals (словарь, ключи - собственные числа, значения - их кратности)\n",
        "\n",
        "eigenvects (список кортежей, первый элемент кортежа - собственное число, второй - его кратность, третий - список собственных векторов, соответствующих этому собственному числу)\n",
        "\n",
        "Если у оператора в трехмерном пространстве есть три собственных вектора, то в базисе из этих векторов матрица оператора диагональная, на диагонали - собственные числа оператора. \n",
        "\n",
        "### Пример 3.\n",
        "Дана матрица оператора В:\n",
        "$$\n",
        "\\left(\\begin{matrix}\n",
        "51&-8&-12\\\\\n",
        "9&33&-18\\\\\n",
        "-18&-6&66\n",
        "\\end{matrix}\\right)\n",
        "$$\n",
        "\n",
        "Найти матрицу оператора B в базисе из собственных векторов.\n",
        "\n",
        "Вначале найдем собственные векторы:"
      ]
    },
    {
      "cell_type": "code",
      "execution_count": 11,
      "metadata": {
        "colab": {
          "base_uri": "https://localhost:8080/",
          "height": 78
        },
        "id": "fHY52fYe-GbP",
        "outputId": "58c70669-5d24-4e05-b5aa-29ab7c95ab6e"
      },
      "outputs": [
        {
          "data": {
            "text/latex": [
              "\\left[ \\left( 30, \\  1, \\  \\left[ \\left[\\begin{matrix}\\frac{4}{3}\\\\2\\\\1\\end{matrix}\\right]\\right]\\right), \\  \\left( 45, \\  1, \\  \\left[ \\left[\\begin{matrix}\\frac{4}{3}\\\\- \\frac{1}{2}\\\\1\\end{matrix}\\right]\\right]\\right), \\  \\left( 75, \\  1, \\  \\left[ \\left[\\begin{matrix}- \\frac{1}{3}\\\\- \\frac{1}{2}\\\\1\\end{matrix}\\right]\\right]\\right)\\right]"
            ],
            "text/plain": [
              "<IPython.core.display.Latex object>"
            ]
          },
          "metadata": {},
          "output_type": "display_data"
        }
      ],
      "source": [
        "B = Matrix([[51, -8, -12], [9, 33, -18], [-18, -6, 66]])\n",
        "a = B.eigenvals()\n",
        "res = B.eigenvects()\n",
        "display(Latex(latex(res)))"
      ]
    },
    {
      "cell_type": "markdown",
      "metadata": {
        "id": "uYH9dwIw-GbQ"
      },
      "source": [
        "Составим матрицу перехода, она состоит из столбцов с координатами собственных векторов в старом базисе:"
      ]
    },
    {
      "cell_type": "code",
      "execution_count": 12,
      "metadata": {
        "colab": {
          "base_uri": "https://localhost:8080/",
          "height": 78
        },
        "id": "BEK2yHaE-GbR",
        "outputId": "a104f3b2-9804-4b74-db4d-a3d0a656e153"
      },
      "outputs": [
        {
          "data": {
            "text/latex": [
              "P = \\left[\\begin{matrix}\\frac{4}{3} & \\frac{4}{3} & - \\frac{1}{3}\\\\2 & - \\frac{1}{2} & - \\frac{1}{2}\\\\1 & 1 & 1\\end{matrix}\\right],\\ |P| = -25/6"
            ],
            "text/plain": [
              "<IPython.core.display.Latex object>"
            ]
          },
          "metadata": {},
          "output_type": "display_data"
        }
      ],
      "source": [
        "P = res[0][2][0].row_join(res[1][2][0]).row_join(res[2][2][0])\n",
        "display(Latex(f'P = {latex(P)},\\ |P| = {P.det()}'))"
      ]
    },
    {
      "cell_type": "markdown",
      "metadata": {
        "id": "o1lnGpZe-GbR"
      },
      "source": [
        "Найдем матрицу в базисе из собственных векторов по формуле (1) перед примером 3:"
      ]
    },
    {
      "cell_type": "code",
      "execution_count": 15,
      "metadata": {
        "colab": {
          "base_uri": "https://localhost:8080/",
          "height": 78
        },
        "id": "h7z7ftE9-GbS",
        "outputId": "d1b460c4-8fc5-4f58-a0d6-9a9995c49a3b"
      },
      "outputs": [
        {
          "data": {
            "text/latex": [
              "B_{new} = \\left[\\begin{matrix}30 & 0 & 0\\\\0 & 45 & 0\\\\0 & 0 & 75\\end{matrix}\\right]"
            ],
            "text/plain": [
              "<IPython.core.display.Latex object>"
            ]
          },
          "metadata": {},
          "output_type": "display_data"
        }
      ],
      "source": [
        "B_new = P ** (-1) * B * P\n",
        "display(Latex(f'B_{{new}} = {latex(B_new)}'))"
      ]
    },
    {
      "cell_type": "markdown",
      "metadata": {
        "id": "90-Rkcfy-GbS"
      },
      "source": [
        "Поменяем в матрице P последовательность векторов, поменяем местами второй и третий векторы:"
      ]
    },
    {
      "cell_type": "code",
      "execution_count": 23,
      "metadata": {
        "colab": {
          "base_uri": "https://localhost:8080/",
          "height": 78
        },
        "id": "U4k6Zdw0-GbT",
        "outputId": "0ae2e18d-6891-4dc3-a580-3364319638b5"
      },
      "outputs": [
        {
          "data": {
            "text/latex": [
              "P_{new} = \\left[\\begin{matrix}- \\frac{1}{3} & \\frac{4}{3} & \\frac{4}{3}\\\\- \\frac{1}{2} & 2 & - \\frac{1}{2}\\\\1 & 1 & 1\\end{matrix}\\right],\\ B_{new}^1 = \\left[\\begin{matrix}75 & 0 & 0\\\\0 & 30 & 0\\\\0 & 0 & 45\\end{matrix}\\right]"
            ],
            "text/plain": [
              "<IPython.core.display.Latex object>"
            ]
          },
          "metadata": {},
          "output_type": "display_data"
        }
      ],
      "source": [
        "P_new = P[:, 0].row_join(P[:, 2]).row_join(P[:, 1])\n",
        "B_new_1 = P_new ** (-1) * B * P_new\n",
        "display(Latex(f'P_{{new}} = {latex(P_new)},\\\n",
        "\\ B_{{new}}^1 = {latex(B_new_1)}'))"
      ]
    },
    {
      "cell_type": "markdown",
      "metadata": {
        "id": "ZJNzlTbf-GbU"
      },
      "source": [
        "Заметим, что изменилась последовательность собственных чисел на главной диагонали, причем в соответствии с изменением порядка следования собственных векторов в матрице перехода."
      ]
    },
    {
      "cell_type": "markdown",
      "metadata": {
        "id": "RPv1e23H-GbU"
      },
      "source": [
        "### Пример 4\n",
        "\n",
        "Найдем собственные числа по определению, т.е. как корни характеристического многочлена $|B-\\lambda E|=0$"
      ]
    },
    {
      "cell_type": "code",
      "execution_count": 19,
      "metadata": {
        "colab": {
          "base_uri": "https://localhost:8080/",
          "height": 38
        },
        "id": "ZRBGErC_-GbV",
        "outputId": "1359873f-30c4-4166-d529-440b913d0e17"
      },
      "outputs": [
        {
          "data": {
            "text/latex": [
              "\\lambda = 30,\\ 45,\\ 75"
            ],
            "text/plain": [
              "<IPython.core.display.Latex object>"
            ]
          },
          "metadata": {},
          "output_type": "display_data"
        }
      ],
      "source": [
        "lam = symbols('lamda')\n",
        "lambdas = solve((B - lam * eye(3)).det())\n",
        "display(Latex('\\lambda = ' + ',\\ '.join(['{}'] * len(lambdas)).format(*lambdas)))"
      ]
    },
    {
      "cell_type": "markdown",
      "metadata": {
        "id": "pQ0g__vq-GbV"
      },
      "source": [
        "Для каждого собственного числа найдем собственный вектор, решив СЛАУ $(B-\\lambda E)x=0$:"
      ]
    },
    {
      "cell_type": "code",
      "execution_count": 21,
      "metadata": {
        "colab": {
          "base_uri": "https://localhost:8080/",
          "height": 78
        },
        "id": "GhCiAJ0H-GbW",
        "outputId": "c9365f16-ac9e-47fa-e730-fd9fafad40f5"
      },
      "outputs": [
        {
          "data": {
            "text/latex": [
              "e_1 = \\left( - \\frac{k_{3}}{3}, \\  - \\frac{k_{3}}{2}, \\  k_{3}\\right), e_2 = \\left( \\frac{4 k_{3}}{3}, \\  - \\frac{k_{3}}{2}, \\  k_{3}\\right), e_3 = \\left( \\frac{4 k_{3}}{3}, \\  2 k_{3}, \\  k_{3}\\right), P = \\left[\\begin{matrix}- \\frac{1}{3} & \\frac{4}{3} & \\frac{4}{3}\\\\- \\frac{1}{2} & - \\frac{1}{2} & 2\\\\1 & 1 & 1\\end{matrix}\\right]"
            ],
            "text/plain": [
              "<IPython.core.display.Latex object>"
            ]
          },
          "metadata": {},
          "output_type": "display_data"
        }
      ],
      "source": [
        "evects = set()\n",
        "zero_vect = zeros(3, 1)\n",
        "k1, k2, k3 = symbols('k1:4')\n",
        "for lam in lambdas:\n",
        "    sol = linsolve(((B - lam * eye(3)), zero_vect), k1, k2, k3)\n",
        "    evects = sympy.Union(evects, sol)\n",
        "P = Matrix([p.subs(symb, 1) for p in evects for symb in p.free_symbols]).T\n",
        "display(Latex('e_1 = {}, e_2 = {},\\\n",
        " e_3 = {}, P = {}'.format(*[latex(item) for item in evects], latex(P))))"
      ]
    }
  ],
  "metadata": {
    "colab": {
      "provenance": []
    },
    "kernelspec": {
      "display_name": ".venv",
      "language": "python",
      "name": "python3"
    },
    "language_info": {
      "codemirror_mode": {
        "name": "ipython",
        "version": 3
      },
      "file_extension": ".py",
      "mimetype": "text/x-python",
      "name": "python",
      "nbconvert_exporter": "python",
      "pygments_lexer": "ipython3",
      "version": "3.11.0"
    },
    "vscode": {
      "interpreter": {
        "hash": "15070b5f4c01a16be65f6048f4eea768aba9ae68ce711f49339836ef743d1529"
      }
    }
  },
  "nbformat": 4,
  "nbformat_minor": 0
}
